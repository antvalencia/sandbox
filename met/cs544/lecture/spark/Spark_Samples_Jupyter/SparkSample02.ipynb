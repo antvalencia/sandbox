{
 "cells": [
  {
   "cell_type": "markdown",
   "metadata": {},
   "source": [
    "# SparkR Sample - USA Zip Codes (JSON)"
   ]
  },
  {
   "cell_type": "code",
   "execution_count": 1,
   "metadata": {
    "collapsed": false
   },
   "outputs": [
    {
     "data": {
      "text/html": [
       "'/Users/skalathur/MyApps/spark'"
      ],
      "text/latex": [
       "'/Users/skalathur/MyApps/spark'"
      ],
      "text/markdown": [
       "'/Users/skalathur/MyApps/spark'"
      ],
      "text/plain": [
       "[1] \"/Users/skalathur/MyApps/spark\""
      ]
     },
     "metadata": {},
     "output_type": "display_data"
    }
   ],
   "source": [
    "Sys.getenv(\"SPARK_HOME\")"
   ]
  },
  {
   "cell_type": "code",
   "execution_count": 2,
   "metadata": {
    "collapsed": true
   },
   "outputs": [],
   "source": [
    "if (nchar(Sys.getenv(\"SPARK_HOME\")) < 1) {\n",
    "  Sys.setenv(SPARK_HOME = \"/Users/skalathur/MyApps/spark\")\n",
    "}"
   ]
  },
  {
   "cell_type": "code",
   "execution_count": 3,
   "metadata": {
    "collapsed": true
   },
   "outputs": [],
   "source": [
    "Sys.setenv(SPARK_LOCAL_IP=\"localhost\")"
   ]
  },
  {
   "cell_type": "code",
   "execution_count": 4,
   "metadata": {
    "collapsed": false
   },
   "outputs": [
    {
     "name": "stderr",
     "output_type": "stream",
     "text": [
      "\n",
      "Attaching package: ‘SparkR’\n",
      "\n",
      "The following objects are masked from ‘package:stats’:\n",
      "\n",
      "    cov, filter, lag, na.omit, predict, sd, var, window\n",
      "\n",
      "The following objects are masked from ‘package:base’:\n",
      "\n",
      "    as.data.frame, colnames, colnames<-, drop, endsWith, intersect,\n",
      "    rank, rbind, sample, startsWith, subset, summary, transform, union\n",
      "\n"
     ]
    }
   ],
   "source": [
    "library(SparkR, lib.loc = c(file.path(Sys.getenv(\"SPARK_HOME\"), \"R\", \"lib\")))"
   ]
  },
  {
   "cell_type": "code",
   "execution_count": 5,
   "metadata": {
    "collapsed": false
   },
   "outputs": [
    {
     "name": "stderr",
     "output_type": "stream",
     "text": [
      "Spark package found in SPARK_HOME: /Users/skalathur/MyApps/spark\n"
     ]
    },
    {
     "name": "stdout",
     "output_type": "stream",
     "text": [
      "Launching java with spark-submit command /Users/skalathur/MyApps/spark/bin/spark-submit   --driver-memory \"2g\" sparkr-shell /var/folders/s3/hy6_p79n3w1fw802t6ps40qr0000gp/T//RtmpU1hhYU/backend_port14428531fffa5 \n"
     ]
    },
    {
     "data": {
      "text/plain": [
       "Java ref type org.apache.spark.sql.SparkSession id 1 "
      ]
     },
     "metadata": {},
     "output_type": "display_data"
    }
   ],
   "source": [
    "sparkR.session(master = \"local[*]\", sparkConfig = list(spark.driver.memory = \"2g\"))"
   ]
  },
  {
   "cell_type": "code",
   "execution_count": 6,
   "metadata": {
    "collapsed": true
   },
   "outputs": [],
   "source": [
    "inputFile <- \"/temp/datasets/usa_zipcodes.json\""
   ]
  },
  {
   "cell_type": "code",
   "execution_count": 7,
   "metadata": {
    "collapsed": false
   },
   "outputs": [
    {
     "data": {
      "text/plain": [
       "SparkDataFrame[_id:string, city:string, loc:array<double>, pop:bigint, state:string]"
      ]
     },
     "metadata": {},
     "output_type": "display_data"
    }
   ],
   "source": [
    "usaZipCodes <- read.df(inputFile, source = \"json\", \n",
    "                         inferSchema='true')\n",
    "\n",
    "usaZipCodes"
   ]
  },
  {
   "cell_type": "code",
   "execution_count": 8,
   "metadata": {
    "collapsed": false
   },
   "outputs": [
    {
     "name": "stdout",
     "output_type": "stream",
     "text": [
      "root\n",
      " |-- _id: string (nullable = true)\n",
      " |-- city: string (nullable = true)\n",
      " |-- loc: array (nullable = true)\n",
      " |    |-- element: double (containsNull = true)\n",
      " |-- pop: long (nullable = true)\n",
      " |-- state: string (nullable = true)\n"
     ]
    }
   ],
   "source": [
    "printSchema(usaZipCodes)"
   ]
  },
  {
   "cell_type": "code",
   "execution_count": 9,
   "metadata": {
    "collapsed": false
   },
   "outputs": [
    {
     "data": {
      "text/html": [
       "29467"
      ],
      "text/latex": [
       "29467"
      ],
      "text/markdown": [
       "29467"
      ],
      "text/plain": [
       "[1] 29467"
      ]
     },
     "metadata": {},
     "output_type": "display_data"
    }
   ],
   "source": [
    "count(usaZipCodes)"
   ]
  },
  {
   "cell_type": "code",
   "execution_count": 10,
   "metadata": {
    "collapsed": false
   },
   "outputs": [
    {
     "data": {
      "text/html": [
       "<table>\n",
       "<thead><tr><th scope=col>_id</th><th scope=col>city</th><th scope=col>loc</th><th scope=col>pop</th><th scope=col>state</th></tr></thead>\n",
       "<tbody>\n",
       "\t<tr><td>01001              </td><td>AGAWAM             </td><td>-72.62274, 42.07021</td><td>15338              </td><td>MA                 </td></tr>\n",
       "\t<tr><td>01002              </td><td>CUSHMAN            </td><td>-72.51565, 42.37702</td><td>36963              </td><td>MA                 </td></tr>\n",
       "\t<tr><td>01005              </td><td>BARRE              </td><td>-72.10835, 42.40970</td><td> 4546              </td><td>MA                 </td></tr>\n",
       "\t<tr><td>01007              </td><td>BELCHERTOWN        </td><td>-72.41095, 42.27510</td><td>10579              </td><td>MA                 </td></tr>\n",
       "\t<tr><td>01008              </td><td>BLANDFORD          </td><td>-72.93611, 42.18295</td><td> 1240              </td><td>MA                 </td></tr>\n",
       "\t<tr><td>01010              </td><td>BRIMFIELD          </td><td>-72.18846, 42.11654</td><td> 3706              </td><td>MA                 </td></tr>\n",
       "</tbody>\n",
       "</table>\n"
      ],
      "text/latex": [
       "\\begin{tabular}{r|lllll}\n",
       " \\_id & city & loc & pop & state\\\\\n",
       "\\hline\n",
       "\t 01001               & AGAWAM              & -72.62274, 42.07021 & 15338               & MA                 \\\\\n",
       "\t 01002               & CUSHMAN             & -72.51565, 42.37702 & 36963               & MA                 \\\\\n",
       "\t 01005               & BARRE               & -72.10835, 42.40970 &  4546               & MA                 \\\\\n",
       "\t 01007               & BELCHERTOWN         & -72.41095, 42.27510 & 10579               & MA                 \\\\\n",
       "\t 01008               & BLANDFORD           & -72.93611, 42.18295 &  1240               & MA                 \\\\\n",
       "\t 01010               & BRIMFIELD           & -72.18846, 42.11654 &  3706               & MA                 \\\\\n",
       "\\end{tabular}\n"
      ],
      "text/plain": [
       "  _id   city        loc                 pop   state\n",
       "1 01001 AGAWAM      -72.62274, 42.07021 15338 MA   \n",
       "2 01002 CUSHMAN     -72.51565, 42.37702 36963 MA   \n",
       "3 01005 BARRE       -72.10835, 42.40970  4546 MA   \n",
       "4 01007 BELCHERTOWN -72.41095, 42.27510 10579 MA   \n",
       "5 01008 BLANDFORD   -72.93611, 42.18295  1240 MA   \n",
       "6 01010 BRIMFIELD   -72.18846, 42.11654  3706 MA   "
      ]
     },
     "metadata": {},
     "output_type": "display_data"
    }
   ],
   "source": [
    "head(usaZipCodes)"
   ]
  },
  {
   "cell_type": "code",
   "execution_count": 11,
   "metadata": {
    "collapsed": false
   },
   "outputs": [
    {
     "data": {
      "text/html": [
       "<table>\n",
       "<thead><tr><th scope=col>_id</th><th scope=col>city</th><th scope=col>loc</th><th scope=col>pop</th><th scope=col>state</th></tr></thead>\n",
       "<tbody>\n",
       "\t<tr><td>01338              </td><td>BUCKLAND           </td><td>-72.76412, 42.61517</td><td>16                 </td><td>MA                 </td></tr>\n",
       "\t<tr><td>01350              </td><td>MONROE             </td><td>-72.96016, 42.72389</td><td>97                 </td><td>MA                 </td></tr>\n",
       "\t<tr><td>02163              </td><td>CAMBRIDGE          </td><td>-71.14188, 42.36400</td><td> 0                 </td><td>MA                 </td></tr>\n",
       "\t<tr><td>02713              </td><td>CUTTYHUNK          </td><td>-70.87854, 41.44360</td><td>98                 </td><td>MA                 </td></tr>\n",
       "\t<tr><td>02815              </td><td>CLAYVILLE          </td><td>-71.67059, 41.77776</td><td>45                 </td><td>RI                 </td></tr>\n",
       "\t<tr><td>03232              </td><td>EAST HEBRON        </td><td>-71.76791, 43.69697</td><td>47                 </td><td>NH                 </td></tr>\n",
       "\t<tr><td>03291              </td><td>WEST NOTTINGHAM    </td><td>-71.11101, 43.13397</td><td>27                 </td><td>NH                 </td></tr>\n",
       "\t<tr><td>03817              </td><td>CHOCORUA           </td><td>-71.24072, 43.89085</td><td>70                 </td><td>NH                 </td></tr>\n",
       "\t<tr><td>03838              </td><td>GLEN               </td><td>-71.19246, 44.10178</td><td>84                 </td><td>NH                 </td></tr>\n",
       "\t<tr><td>04013              </td><td>BUSTINS ISLAND     </td><td>-70.04225, 43.79602</td><td> 0                 </td><td>ME                 </td></tr>\n",
       "\t<tr><td>04019              </td><td>CLIFF ISLAND       </td><td>-70.10710, 43.69555</td><td>87                 </td><td>ME                 </td></tr>\n",
       "\t<tr><td>04109              </td><td>CUSHING ISLAND     </td><td>-70.20220, 43.67497</td><td>28                 </td><td>ME                 </td></tr>\n",
       "\t<tr><td>04235              </td><td>FRYE               </td><td>-70.56532, 44.59948</td><td>28                 </td><td>ME                 </td></tr>\n",
       "\t<tr><td>04278              </td><td>RUMFORD CENTER     </td><td>-70.70006, 44.59233</td><td>92                 </td><td>ME                 </td></tr>\n",
       "\t<tr><td>04279              </td><td>RUMFORD POINT      </td><td>-70.70028, 44.55710</td><td>36                 </td><td>ME                 </td></tr>\n",
       "\t<tr><td>04442              </td><td>GREENVILLE JUNCT   </td><td>-69.63753, 45.48839</td><td>99                 </td><td>ME                 </td></tr>\n",
       "\t<tr><td>04563              </td><td>CUSHING            </td><td>-69.27206, 43.98674</td><td>12                 </td><td>ME                 </td></tr>\n",
       "\t<tr><td>04567              </td><td>SMALL POINT        </td><td>-69.84116, 43.73172</td><td>66                 </td><td>ME                 </td></tr>\n",
       "\t<tr><td>04570              </td><td>SQUIRREL ISLAND    </td><td>-69.63097, 43.80903</td><td> 3                 </td><td>ME                 </td></tr>\n",
       "\t<tr><td>04645              </td><td>ISLE AU HAUT       </td><td>-68.62060, 44.05606</td><td>46                 </td><td>ME                 </td></tr>\n",
       "\t<tr><td>04673              </td><td>SARGENTVILLE       </td><td>-68.70522, 44.33450</td><td>43                 </td><td>ME                 </td></tr>\n",
       "\t<tr><td>04678              </td><td>SOUTH GOULDSBORO   </td><td>-68.03041, 44.47163</td><td>58                 </td><td>ME                 </td></tr>\n",
       "\t<tr><td>04737              </td><td>CLAYTON LAKE       </td><td>-69.62645, 46.62980</td><td>54                 </td><td>ME                 </td></tr>\n",
       "\t<tr><td>04764              </td><td>OXBOW              </td><td>-68.52179, 46.40196</td><td>76                 </td><td>ME                 </td></tr>\n",
       "\t<tr><td>04852              </td><td>MONHEGAN           </td><td>-69.31643, 43.76422</td><td>88                 </td><td>ME                 </td></tr>\n",
       "\t<tr><td>04985              </td><td>WEST FORKS         </td><td>-69.98406, 45.38390</td><td>86                 </td><td>ME                 </td></tr>\n",
       "\t<tr><td>05073              </td><td>TAFTSVILLE         </td><td>-72.46733, 43.62982</td><td>35                 </td><td>VT                 </td></tr>\n",
       "\t<tr><td>05405              </td><td>UNIV OF VERMONT    </td><td>-73.20020, 44.47773</td><td> 0                 </td><td>VT                 </td></tr>\n",
       "\t<tr><td>05447              </td><td>EAST BERKSHIRE     </td><td>-72.70656, 44.92980</td><td>94                 </td><td>VT                 </td></tr>\n",
       "\t<tr><td>05748              </td><td>HANCOCK            </td><td>-72.91329, 43.91253</td><td>98                 </td><td>VT                 </td></tr>\n",
       "\t<tr><td>⋮</td><td>⋮</td><td>⋮</td><td>⋮</td><td>⋮</td></tr>\n",
       "\t<tr><td>99147               </td><td>LINCOLN             </td><td>-118.48101, 47.78204</td><td>31                  </td><td>WA                  </td></tr>\n",
       "\t<tr><td>99345               </td><td>PATERSON            </td><td>-119.75587, 45.99114</td><td>94                  </td><td>WA                  </td></tr>\n",
       "\t<tr><td>99402               </td><td>ASOTIN              </td><td>-117.00155, 46.13432</td><td>89                  </td><td>WA                  </td></tr>\n",
       "\t<tr><td>99563               </td><td>CHEVAK              </td><td>-164.77646, 61.58398</td><td> 0                  </td><td>AK                  </td></tr>\n",
       "\t<tr><td>99569               </td><td>CLARKS POINT        </td><td>-158.45124, 58.84921</td><td>68                  </td><td>AK                  </td></tr>\n",
       "\t<tr><td>99574               </td><td>CHENEGA BAY         </td><td>-147.94332, 60.10256</td><td>96                  </td><td>AK                  </td></tr>\n",
       "\t<tr><td>99575               </td><td>CROOKED CREEK       </td><td>-158.00248, 61.81807</td><td> 1                  </td><td>AK                  </td></tr>\n",
       "\t<tr><td>99580               </td><td>EKWOK               </td><td>-157.47821, 59.36279</td><td>77                  </td><td>AK                  </td></tr>\n",
       "\t<tr><td>99581             </td><td>EMMONAK           </td><td>-164.1313, 62.8274</td><td> 0                </td><td>AK                </td></tr>\n",
       "\t<tr><td>99583               </td><td>FALSE PASS          </td><td>-163.43685, 54.84103</td><td>68                  </td><td>AK                  </td></tr>\n",
       "\t<tr><td>99590               </td><td>GRAYLING            </td><td>-159.40491, 63.37201</td><td> 0                  </td><td>AK                  </td></tr>\n",
       "\t<tr><td>99633             </td><td>NAKNEK            </td><td>-156.7054, 58.8857</td><td> 0                </td><td>AK                </td></tr>\n",
       "\t<tr><td>99638               </td><td>NIKOLSKI            </td><td>-168.78843, 52.98834</td><td>42                  </td><td>AK                  </td></tr>\n",
       "\t<tr><td>99647               </td><td>PEDRO BAY           </td><td>-153.82186, 59.92238</td><td>59                  </td><td>AK                  </td></tr>\n",
       "\t<tr><td>99649               </td><td>PILOT POINT         </td><td>-157.44927, 57.59519</td><td>63                  </td><td>AK                  </td></tr>\n",
       "\t<tr><td>99651               </td><td>PLATINUM            </td><td>-162.04320, 58.63364</td><td> 4                  </td><td>AK                  </td></tr>\n",
       "\t<tr><td>99653               </td><td>PORT ALSWORTH       </td><td>-154.43380, 60.63642</td><td> 7                  </td><td>AK                  </td></tr>\n",
       "\t<tr><td>99657             </td><td>RUSSIAN MISSION   </td><td>-161.5584, 61.5913</td><td> 0                </td><td>AK                </td></tr>\n",
       "\t<tr><td>99668               </td><td>SLEETMUTE           </td><td>-157.11828, 61.63455</td><td> 0                  </td><td>AK                  </td></tr>\n",
       "\t<tr><td>99683               </td><td>TRAPPER CREEK       </td><td>-150.28446, 61.44136</td><td>20                  </td><td>AK                  </td></tr>\n",
       "\t<tr><td>99692               </td><td>DUTCH HARBOR        </td><td>-167.51066, 53.36276</td><td> 3                  </td><td>AK                  </td></tr>\n",
       "\t<tr><td>99733               </td><td>CIRCLE              </td><td>-144.08262, 65.82454</td><td>73                  </td><td>AK                  </td></tr>\n",
       "\t<tr><td>99745               </td><td>HUGHES              </td><td>-154.26443, 66.03825</td><td>64                  </td><td>AK                  </td></tr>\n",
       "\t<tr><td>99755               </td><td>DENALI NATIONAL     </td><td>-149.53953, 63.51608</td><td>27                  </td><td>AK                  </td></tr>\n",
       "\t<tr><td>99757               </td><td>LAKE MINCHUMINA     </td><td>-152.43008, 63.90388</td><td>32                  </td><td>AK                  </td></tr>\n",
       "\t<tr><td>99767               </td><td>RAMPART             </td><td>-150.01120, 65.38363</td><td>68                  </td><td>AK                  </td></tr>\n",
       "\t<tr><td>99770               </td><td>SELAWIK             </td><td>-158.53429, 65.71354</td><td> 0                  </td><td>AK                  </td></tr>\n",
       "\t<tr><td>99773               </td><td>SHUNGNAK            </td><td>-157.61350, 66.95814</td><td> 0                  </td><td>AK                  </td></tr>\n",
       "\t<tr><td>99786               </td><td>AMBLER              </td><td>-156.45565, 67.46951</td><td> 8                  </td><td>AK                  </td></tr>\n",
       "\t<tr><td>99788             </td><td>CHALKYITSIK       </td><td>-143.6381, 66.7190</td><td>99                </td><td>AK                </td></tr>\n",
       "</tbody>\n",
       "</table>\n"
      ],
      "text/latex": [
       "\\begin{tabular}{r|lllll}\n",
       " \\_id & city & loc & pop & state\\\\\n",
       "\\hline\n",
       "\t 01338               & BUCKLAND            & -72.76412, 42.61517 & 16                  & MA                 \\\\\n",
       "\t 01350               & MONROE              & -72.96016, 42.72389 & 97                  & MA                 \\\\\n",
       "\t 02163               & CAMBRIDGE           & -71.14188, 42.36400 &  0                  & MA                 \\\\\n",
       "\t 02713               & CUTTYHUNK           & -70.87854, 41.44360 & 98                  & MA                 \\\\\n",
       "\t 02815               & CLAYVILLE           & -71.67059, 41.77776 & 45                  & RI                 \\\\\n",
       "\t 03232               & EAST HEBRON         & -71.76791, 43.69697 & 47                  & NH                 \\\\\n",
       "\t 03291               & WEST NOTTINGHAM     & -71.11101, 43.13397 & 27                  & NH                 \\\\\n",
       "\t 03817               & CHOCORUA            & -71.24072, 43.89085 & 70                  & NH                 \\\\\n",
       "\t 03838               & GLEN                & -71.19246, 44.10178 & 84                  & NH                 \\\\\n",
       "\t 04013               & BUSTINS ISLAND      & -70.04225, 43.79602 &  0                  & ME                 \\\\\n",
       "\t 04019               & CLIFF ISLAND        & -70.10710, 43.69555 & 87                  & ME                 \\\\\n",
       "\t 04109               & CUSHING ISLAND      & -70.20220, 43.67497 & 28                  & ME                 \\\\\n",
       "\t 04235               & FRYE                & -70.56532, 44.59948 & 28                  & ME                 \\\\\n",
       "\t 04278               & RUMFORD CENTER      & -70.70006, 44.59233 & 92                  & ME                 \\\\\n",
       "\t 04279               & RUMFORD POINT       & -70.70028, 44.55710 & 36                  & ME                 \\\\\n",
       "\t 04442               & GREENVILLE JUNCT    & -69.63753, 45.48839 & 99                  & ME                 \\\\\n",
       "\t 04563               & CUSHING             & -69.27206, 43.98674 & 12                  & ME                 \\\\\n",
       "\t 04567               & SMALL POINT         & -69.84116, 43.73172 & 66                  & ME                 \\\\\n",
       "\t 04570               & SQUIRREL ISLAND     & -69.63097, 43.80903 &  3                  & ME                 \\\\\n",
       "\t 04645               & ISLE AU HAUT        & -68.62060, 44.05606 & 46                  & ME                 \\\\\n",
       "\t 04673               & SARGENTVILLE        & -68.70522, 44.33450 & 43                  & ME                 \\\\\n",
       "\t 04678               & SOUTH GOULDSBORO    & -68.03041, 44.47163 & 58                  & ME                 \\\\\n",
       "\t 04737               & CLAYTON LAKE        & -69.62645, 46.62980 & 54                  & ME                 \\\\\n",
       "\t 04764               & OXBOW               & -68.52179, 46.40196 & 76                  & ME                 \\\\\n",
       "\t 04852               & MONHEGAN            & -69.31643, 43.76422 & 88                  & ME                 \\\\\n",
       "\t 04985               & WEST FORKS          & -69.98406, 45.38390 & 86                  & ME                 \\\\\n",
       "\t 05073               & TAFTSVILLE          & -72.46733, 43.62982 & 35                  & VT                 \\\\\n",
       "\t 05405               & UNIV OF VERMONT     & -73.20020, 44.47773 &  0                  & VT                 \\\\\n",
       "\t 05447               & EAST BERKSHIRE      & -72.70656, 44.92980 & 94                  & VT                 \\\\\n",
       "\t 05748               & HANCOCK             & -72.91329, 43.91253 & 98                  & VT                 \\\\\n",
       "\t ⋮ & ⋮ & ⋮ & ⋮ & ⋮\\\\\n",
       "\t 99147                & LINCOLN              & -118.48101, 47.78204 & 31                   & WA                  \\\\\n",
       "\t 99345                & PATERSON             & -119.75587, 45.99114 & 94                   & WA                  \\\\\n",
       "\t 99402                & ASOTIN               & -117.00155, 46.13432 & 89                   & WA                  \\\\\n",
       "\t 99563                & CHEVAK               & -164.77646, 61.58398 &  0                   & AK                  \\\\\n",
       "\t 99569                & CLARKS POINT         & -158.45124, 58.84921 & 68                   & AK                  \\\\\n",
       "\t 99574                & CHENEGA BAY          & -147.94332, 60.10256 & 96                   & AK                  \\\\\n",
       "\t 99575                & CROOKED CREEK        & -158.00248, 61.81807 &  1                   & AK                  \\\\\n",
       "\t 99580                & EKWOK                & -157.47821, 59.36279 & 77                   & AK                  \\\\\n",
       "\t 99581              & EMMONAK            & -164.1313, 62.8274 &  0                 & AK                \\\\\n",
       "\t 99583                & FALSE PASS           & -163.43685, 54.84103 & 68                   & AK                  \\\\\n",
       "\t 99590                & GRAYLING             & -159.40491, 63.37201 &  0                   & AK                  \\\\\n",
       "\t 99633              & NAKNEK             & -156.7054, 58.8857 &  0                 & AK                \\\\\n",
       "\t 99638                & NIKOLSKI             & -168.78843, 52.98834 & 42                   & AK                  \\\\\n",
       "\t 99647                & PEDRO BAY            & -153.82186, 59.92238 & 59                   & AK                  \\\\\n",
       "\t 99649                & PILOT POINT          & -157.44927, 57.59519 & 63                   & AK                  \\\\\n",
       "\t 99651                & PLATINUM             & -162.04320, 58.63364 &  4                   & AK                  \\\\\n",
       "\t 99653                & PORT ALSWORTH        & -154.43380, 60.63642 &  7                   & AK                  \\\\\n",
       "\t 99657              & RUSSIAN MISSION    & -161.5584, 61.5913 &  0                 & AK                \\\\\n",
       "\t 99668                & SLEETMUTE            & -157.11828, 61.63455 &  0                   & AK                  \\\\\n",
       "\t 99683                & TRAPPER CREEK        & -150.28446, 61.44136 & 20                   & AK                  \\\\\n",
       "\t 99692                & DUTCH HARBOR         & -167.51066, 53.36276 &  3                   & AK                  \\\\\n",
       "\t 99733                & CIRCLE               & -144.08262, 65.82454 & 73                   & AK                  \\\\\n",
       "\t 99745                & HUGHES               & -154.26443, 66.03825 & 64                   & AK                  \\\\\n",
       "\t 99755                & DENALI NATIONAL      & -149.53953, 63.51608 & 27                   & AK                  \\\\\n",
       "\t 99757                & LAKE MINCHUMINA      & -152.43008, 63.90388 & 32                   & AK                  \\\\\n",
       "\t 99767                & RAMPART              & -150.01120, 65.38363 & 68                   & AK                  \\\\\n",
       "\t 99770                & SELAWIK              & -158.53429, 65.71354 &  0                   & AK                  \\\\\n",
       "\t 99773                & SHUNGNAK             & -157.61350, 66.95814 &  0                   & AK                  \\\\\n",
       "\t 99786                & AMBLER               & -156.45565, 67.46951 &  8                   & AK                  \\\\\n",
       "\t 99788              & CHALKYITSIK        & -143.6381, 66.7190 & 99                 & AK                \\\\\n",
       "\\end{tabular}\n"
      ],
      "text/plain": [
       "    _id   city             loc                  pop state\n",
       "1   01338 BUCKLAND         -72.76412, 42.61517  16  MA   \n",
       "2   01350 MONROE           -72.96016, 42.72389  97  MA   \n",
       "3   02163 CAMBRIDGE        -71.14188, 42.36400   0  MA   \n",
       "4   02713 CUTTYHUNK        -70.87854, 41.44360  98  MA   \n",
       "5   02815 CLAYVILLE        -71.67059, 41.77776  45  RI   \n",
       "6   03232 EAST HEBRON      -71.76791, 43.69697  47  NH   \n",
       "7   03291 WEST NOTTINGHAM  -71.11101, 43.13397  27  NH   \n",
       "8   03817 CHOCORUA         -71.24072, 43.89085  70  NH   \n",
       "9   03838 GLEN             -71.19246, 44.10178  84  NH   \n",
       "10  04013 BUSTINS ISLAND   -70.04225, 43.79602   0  ME   \n",
       "11  04019 CLIFF ISLAND     -70.10710, 43.69555  87  ME   \n",
       "12  04109 CUSHING ISLAND   -70.20220, 43.67497  28  ME   \n",
       "13  04235 FRYE             -70.56532, 44.59948  28  ME   \n",
       "14  04278 RUMFORD CENTER   -70.70006, 44.59233  92  ME   \n",
       "15  04279 RUMFORD POINT    -70.70028, 44.55710  36  ME   \n",
       "16  04442 GREENVILLE JUNCT -69.63753, 45.48839  99  ME   \n",
       "17  04563 CUSHING          -69.27206, 43.98674  12  ME   \n",
       "18  04567 SMALL POINT      -69.84116, 43.73172  66  ME   \n",
       "19  04570 SQUIRREL ISLAND  -69.63097, 43.80903   3  ME   \n",
       "20  04645 ISLE AU HAUT     -68.62060, 44.05606  46  ME   \n",
       "21  04673 SARGENTVILLE     -68.70522, 44.33450  43  ME   \n",
       "22  04678 SOUTH GOULDSBORO -68.03041, 44.47163  58  ME   \n",
       "23  04737 CLAYTON LAKE     -69.62645, 46.62980  54  ME   \n",
       "24  04764 OXBOW            -68.52179, 46.40196  76  ME   \n",
       "25  04852 MONHEGAN         -69.31643, 43.76422  88  ME   \n",
       "26  04985 WEST FORKS       -69.98406, 45.38390  86  ME   \n",
       "27  05073 TAFTSVILLE       -72.46733, 43.62982  35  VT   \n",
       "28  05405 UNIV OF VERMONT  -73.20020, 44.47773   0  VT   \n",
       "29  05447 EAST BERKSHIRE   -72.70656, 44.92980  94  VT   \n",
       "30  05748 HANCOCK          -72.91329, 43.91253  98  VT   \n",
       "⋮   ⋮     ⋮                ⋮                    ⋮   ⋮    \n",
       "691 99147 LINCOLN          -118.48101, 47.78204 31  WA   \n",
       "692 99345 PATERSON         -119.75587, 45.99114 94  WA   \n",
       "693 99402 ASOTIN           -117.00155, 46.13432 89  WA   \n",
       "694 99563 CHEVAK           -164.77646, 61.58398  0  AK   \n",
       "695 99569 CLARKS POINT     -158.45124, 58.84921 68  AK   \n",
       "696 99574 CHENEGA BAY      -147.94332, 60.10256 96  AK   \n",
       "697 99575 CROOKED CREEK    -158.00248, 61.81807  1  AK   \n",
       "698 99580 EKWOK            -157.47821, 59.36279 77  AK   \n",
       "699 99581 EMMONAK          -164.1313, 62.8274    0  AK   \n",
       "700 99583 FALSE PASS       -163.43685, 54.84103 68  AK   \n",
       "701 99590 GRAYLING         -159.40491, 63.37201  0  AK   \n",
       "702 99633 NAKNEK           -156.7054, 58.8857    0  AK   \n",
       "703 99638 NIKOLSKI         -168.78843, 52.98834 42  AK   \n",
       "704 99647 PEDRO BAY        -153.82186, 59.92238 59  AK   \n",
       "705 99649 PILOT POINT      -157.44927, 57.59519 63  AK   \n",
       "706 99651 PLATINUM         -162.04320, 58.63364  4  AK   \n",
       "707 99653 PORT ALSWORTH    -154.43380, 60.63642  7  AK   \n",
       "708 99657 RUSSIAN MISSION  -161.5584, 61.5913    0  AK   \n",
       "709 99668 SLEETMUTE        -157.11828, 61.63455  0  AK   \n",
       "710 99683 TRAPPER CREEK    -150.28446, 61.44136 20  AK   \n",
       "711 99692 DUTCH HARBOR     -167.51066, 53.36276  3  AK   \n",
       "712 99733 CIRCLE           -144.08262, 65.82454 73  AK   \n",
       "713 99745 HUGHES           -154.26443, 66.03825 64  AK   \n",
       "714 99755 DENALI NATIONAL  -149.53953, 63.51608 27  AK   \n",
       "715 99757 LAKE MINCHUMINA  -152.43008, 63.90388 32  AK   \n",
       "716 99767 RAMPART          -150.01120, 65.38363 68  AK   \n",
       "717 99770 SELAWIK          -158.53429, 65.71354  0  AK   \n",
       "718 99773 SHUNGNAK         -157.61350, 66.95814  0  AK   \n",
       "719 99786 AMBLER           -156.45565, 67.46951  8  AK   \n",
       "720 99788 CHALKYITSIK      -143.6381, 66.7190   99  AK   "
      ]
     },
     "metadata": {},
     "output_type": "display_data"
    }
   ],
   "source": [
    "collect(subset(usaZipCodes, usaZipCodes$pop <= 100))"
   ]
  },
  {
   "cell_type": "code",
   "execution_count": 12,
   "metadata": {
    "collapsed": false
   },
   "outputs": [
    {
     "data": {
      "text/plain": [
       "SparkDataFrame[_id:string, city:string, loc:array<double>, pop:bigint, state:string]"
      ]
     },
     "metadata": {},
     "output_type": "display_data"
    }
   ],
   "source": [
    "# Keep only the zip codes with population > 100\n",
    "\n",
    "usaZipCodes <- subset(usaZipCodes, usaZipCodes$pop > 100)\n",
    "usaZipCodes"
   ]
  },
  {
   "cell_type": "code",
   "execution_count": 13,
   "metadata": {
    "collapsed": false
   },
   "outputs": [
    {
     "data": {
      "text/plain": [
       "SparkDataFrame[MaxPop:bigint, MinPop:bigint]"
      ]
     },
     "metadata": {},
     "output_type": "display_data"
    }
   ],
   "source": [
    "maxAndMin <- summarize(usaZipCodes, MaxPop = max(usaZipCodes$pop),\n",
    "                       MinPop = min(usaZipCodes$pop))\n",
    "maxAndMin"
   ]
  },
  {
   "cell_type": "code",
   "execution_count": 14,
   "metadata": {
    "collapsed": false
   },
   "outputs": [
    {
     "data": {
      "text/html": [
       "<table>\n",
       "<thead><tr><th scope=col>MaxPop</th><th scope=col>MinPop</th></tr></thead>\n",
       "<tbody>\n",
       "\t<tr><td>112047</td><td>101   </td></tr>\n",
       "</tbody>\n",
       "</table>\n"
      ],
      "text/latex": [
       "\\begin{tabular}{r|ll}\n",
       " MaxPop & MinPop\\\\\n",
       "\\hline\n",
       "\t 112047 & 101   \\\\\n",
       "\\end{tabular}\n"
      ],
      "text/plain": [
       "  MaxPop MinPop\n",
       "1 112047 101   "
      ]
     },
     "metadata": {},
     "output_type": "display_data"
    }
   ],
   "source": [
    "localDf <- collect(maxAndMin)\n",
    "localDf"
   ]
  },
  {
   "cell_type": "markdown",
   "metadata": {},
   "source": [
    "## Number of zip codes in each state"
   ]
  },
  {
   "cell_type": "code",
   "execution_count": 15,
   "metadata": {
    "collapsed": false
   },
   "outputs": [
    {
     "data": {
      "text/plain": [
       "SparkDataFrame[state:string, Count:bigint]"
      ]
     },
     "metadata": {},
     "output_type": "display_data"
    }
   ],
   "source": [
    "zipCodesByState <-  summarize(groupBy(usaZipCodes, usaZipCodes$state), \n",
    "                              Count = n(usaZipCodes$state))\n",
    "\n",
    "zipCodesByState"
   ]
  },
  {
   "cell_type": "code",
   "execution_count": 16,
   "metadata": {
    "collapsed": false
   },
   "outputs": [
    {
     "data": {
      "text/html": [
       "51"
      ],
      "text/latex": [
       "51"
      ],
      "text/markdown": [
       "51"
      ],
      "text/plain": [
       "[1] 51"
      ]
     },
     "metadata": {},
     "output_type": "display_data"
    }
   ],
   "source": [
    "count(zipCodesByState)"
   ]
  },
  {
   "cell_type": "code",
   "execution_count": 17,
   "metadata": {
    "collapsed": false
   },
   "outputs": [
    {
     "data": {
      "text/html": [
       "<table>\n",
       "<thead><tr><th scope=col>state</th><th scope=col>Count</th></tr></thead>\n",
       "<tbody>\n",
       "\t<tr><td>SC  </td><td> 347</td></tr>\n",
       "\t<tr><td>AZ  </td><td> 260</td></tr>\n",
       "\t<tr><td>LA  </td><td> 457</td></tr>\n",
       "\t<tr><td>MN  </td><td> 877</td></tr>\n",
       "\t<tr><td>NJ  </td><td> 535</td></tr>\n",
       "\t<tr><td>DC  </td><td>  22</td></tr>\n",
       "\t<tr><td>OR  </td><td> 363</td></tr>\n",
       "\t<tr><td>VA  </td><td> 802</td></tr>\n",
       "\t<tr><td>RI  </td><td>  69</td></tr>\n",
       "\t<tr><td>KY  </td><td> 791</td></tr>\n",
       "\t<tr><td>WY  </td><td> 123</td></tr>\n",
       "\t<tr><td>NH  </td><td> 214</td></tr>\n",
       "\t<tr><td>MI  </td><td> 869</td></tr>\n",
       "\t<tr><td>NV  </td><td>  96</td></tr>\n",
       "\t<tr><td>WI  </td><td> 706</td></tr>\n",
       "\t<tr><td>ID  </td><td> 225</td></tr>\n",
       "\t<tr><td>CA  </td><td>1475</td></tr>\n",
       "\t<tr><td>CT  </td><td> 260</td></tr>\n",
       "\t<tr><td>NE  </td><td> 572</td></tr>\n",
       "\t<tr><td>MT  </td><td> 290</td></tr>\n",
       "\t<tr><td>NC  </td><td> 698</td></tr>\n",
       "\t<tr><td>VT  </td><td> 238</td></tr>\n",
       "\t<tr><td>MD  </td><td> 415</td></tr>\n",
       "\t<tr><td>DE  </td><td>  53</td></tr>\n",
       "\t<tr><td>MO  </td><td> 989</td></tr>\n",
       "\t<tr><td>IL  </td><td>1232</td></tr>\n",
       "\t<tr><td>ME  </td><td> 395</td></tr>\n",
       "\t<tr><td>ND  </td><td> 376</td></tr>\n",
       "\t<tr><td>WA  </td><td> 474</td></tr>\n",
       "\t<tr><td>MS  </td><td> 359</td></tr>\n",
       "\t<tr><td>AL  </td><td> 564</td></tr>\n",
       "\t<tr><td>IN  </td><td> 675</td></tr>\n",
       "\t<tr><td>OH  </td><td>1007</td></tr>\n",
       "\t<tr><td>TN  </td><td> 575</td></tr>\n",
       "\t<tr><td>IA  </td><td> 914</td></tr>\n",
       "\t<tr><td>NM  </td><td> 231</td></tr>\n",
       "\t<tr><td>PA  </td><td>1434</td></tr>\n",
       "\t<tr><td>SD  </td><td> 362</td></tr>\n",
       "\t<tr><td>NY  </td><td>1546</td></tr>\n",
       "\t<tr><td>TX  </td><td>1628</td></tr>\n",
       "\t<tr><td>WV  </td><td> 618</td></tr>\n",
       "\t<tr><td>GA  </td><td> 631</td></tr>\n",
       "\t<tr><td>MA  </td><td> 470</td></tr>\n",
       "\t<tr><td>KS  </td><td> 707</td></tr>\n",
       "\t<tr><td>FL  </td><td> 820</td></tr>\n",
       "\t<tr><td>CO  </td><td> 397</td></tr>\n",
       "\t<tr><td>AK  </td><td> 169</td></tr>\n",
       "\t<tr><td>AR  </td><td> 569</td></tr>\n",
       "\t<tr><td>OK  </td><td> 576</td></tr>\n",
       "\t<tr><td>UT  </td><td> 194</td></tr>\n",
       "\t<tr><td>HI  </td><td>  78</td></tr>\n",
       "</tbody>\n",
       "</table>\n"
      ],
      "text/latex": [
       "\\begin{tabular}{r|ll}\n",
       " state & Count\\\\\n",
       "\\hline\n",
       "\t SC   &  347\\\\\n",
       "\t AZ   &  260\\\\\n",
       "\t LA   &  457\\\\\n",
       "\t MN   &  877\\\\\n",
       "\t NJ   &  535\\\\\n",
       "\t DC   &   22\\\\\n",
       "\t OR   &  363\\\\\n",
       "\t VA   &  802\\\\\n",
       "\t RI   &   69\\\\\n",
       "\t KY   &  791\\\\\n",
       "\t WY   &  123\\\\\n",
       "\t NH   &  214\\\\\n",
       "\t MI   &  869\\\\\n",
       "\t NV   &   96\\\\\n",
       "\t WI   &  706\\\\\n",
       "\t ID   &  225\\\\\n",
       "\t CA   & 1475\\\\\n",
       "\t CT   &  260\\\\\n",
       "\t NE   &  572\\\\\n",
       "\t MT   &  290\\\\\n",
       "\t NC   &  698\\\\\n",
       "\t VT   &  238\\\\\n",
       "\t MD   &  415\\\\\n",
       "\t DE   &   53\\\\\n",
       "\t MO   &  989\\\\\n",
       "\t IL   & 1232\\\\\n",
       "\t ME   &  395\\\\\n",
       "\t ND   &  376\\\\\n",
       "\t WA   &  474\\\\\n",
       "\t MS   &  359\\\\\n",
       "\t AL   &  564\\\\\n",
       "\t IN   &  675\\\\\n",
       "\t OH   & 1007\\\\\n",
       "\t TN   &  575\\\\\n",
       "\t IA   &  914\\\\\n",
       "\t NM   &  231\\\\\n",
       "\t PA   & 1434\\\\\n",
       "\t SD   &  362\\\\\n",
       "\t NY   & 1546\\\\\n",
       "\t TX   & 1628\\\\\n",
       "\t WV   &  618\\\\\n",
       "\t GA   &  631\\\\\n",
       "\t MA   &  470\\\\\n",
       "\t KS   &  707\\\\\n",
       "\t FL   &  820\\\\\n",
       "\t CO   &  397\\\\\n",
       "\t AK   &  169\\\\\n",
       "\t AR   &  569\\\\\n",
       "\t OK   &  576\\\\\n",
       "\t UT   &  194\\\\\n",
       "\t HI   &   78\\\\\n",
       "\\end{tabular}\n"
      ],
      "text/plain": [
       "   state Count\n",
       "1  SC     347 \n",
       "2  AZ     260 \n",
       "3  LA     457 \n",
       "4  MN     877 \n",
       "5  NJ     535 \n",
       "6  DC      22 \n",
       "7  OR     363 \n",
       "8  VA     802 \n",
       "9  RI      69 \n",
       "10 KY     791 \n",
       "11 WY     123 \n",
       "12 NH     214 \n",
       "13 MI     869 \n",
       "14 NV      96 \n",
       "15 WI     706 \n",
       "16 ID     225 \n",
       "17 CA    1475 \n",
       "18 CT     260 \n",
       "19 NE     572 \n",
       "20 MT     290 \n",
       "21 NC     698 \n",
       "22 VT     238 \n",
       "23 MD     415 \n",
       "24 DE      53 \n",
       "25 MO     989 \n",
       "26 IL    1232 \n",
       "27 ME     395 \n",
       "28 ND     376 \n",
       "29 WA     474 \n",
       "30 MS     359 \n",
       "31 AL     564 \n",
       "32 IN     675 \n",
       "33 OH    1007 \n",
       "34 TN     575 \n",
       "35 IA     914 \n",
       "36 NM     231 \n",
       "37 PA    1434 \n",
       "38 SD     362 \n",
       "39 NY    1546 \n",
       "40 TX    1628 \n",
       "41 WV     618 \n",
       "42 GA     631 \n",
       "43 MA     470 \n",
       "44 KS     707 \n",
       "45 FL     820 \n",
       "46 CO     397 \n",
       "47 AK     169 \n",
       "48 AR     569 \n",
       "49 OK     576 \n",
       "50 UT     194 \n",
       "51 HI      78 "
      ]
     },
     "metadata": {},
     "output_type": "display_data"
    }
   ],
   "source": [
    "collect(zipCodesByState)"
   ]
  },
  {
   "cell_type": "code",
   "execution_count": 18,
   "metadata": {
    "collapsed": false
   },
   "outputs": [
    {
     "data": {
      "text/html": [
       "<table>\n",
       "<thead><tr><th scope=col>state</th><th scope=col>Count</th></tr></thead>\n",
       "<tbody>\n",
       "\t<tr><td>AK  </td><td> 169</td></tr>\n",
       "\t<tr><td>AL  </td><td> 564</td></tr>\n",
       "\t<tr><td>AR  </td><td> 569</td></tr>\n",
       "\t<tr><td>AZ  </td><td> 260</td></tr>\n",
       "\t<tr><td>CA  </td><td>1475</td></tr>\n",
       "\t<tr><td>CO  </td><td> 397</td></tr>\n",
       "\t<tr><td>CT  </td><td> 260</td></tr>\n",
       "\t<tr><td>DC  </td><td>  22</td></tr>\n",
       "\t<tr><td>DE  </td><td>  53</td></tr>\n",
       "\t<tr><td>FL  </td><td> 820</td></tr>\n",
       "\t<tr><td>GA  </td><td> 631</td></tr>\n",
       "\t<tr><td>HI  </td><td>  78</td></tr>\n",
       "\t<tr><td>IA  </td><td> 914</td></tr>\n",
       "\t<tr><td>ID  </td><td> 225</td></tr>\n",
       "\t<tr><td>IL  </td><td>1232</td></tr>\n",
       "\t<tr><td>IN  </td><td> 675</td></tr>\n",
       "\t<tr><td>KS  </td><td> 707</td></tr>\n",
       "\t<tr><td>KY  </td><td> 791</td></tr>\n",
       "\t<tr><td>LA  </td><td> 457</td></tr>\n",
       "\t<tr><td>MA  </td><td> 470</td></tr>\n",
       "\t<tr><td>MD  </td><td> 415</td></tr>\n",
       "\t<tr><td>ME  </td><td> 395</td></tr>\n",
       "\t<tr><td>MI  </td><td> 869</td></tr>\n",
       "\t<tr><td>MN  </td><td> 877</td></tr>\n",
       "\t<tr><td>MO  </td><td> 989</td></tr>\n",
       "\t<tr><td>MS  </td><td> 359</td></tr>\n",
       "\t<tr><td>MT  </td><td> 290</td></tr>\n",
       "\t<tr><td>NC  </td><td> 698</td></tr>\n",
       "\t<tr><td>ND  </td><td> 376</td></tr>\n",
       "\t<tr><td>NE  </td><td> 572</td></tr>\n",
       "\t<tr><td>NH  </td><td> 214</td></tr>\n",
       "\t<tr><td>NJ  </td><td> 535</td></tr>\n",
       "\t<tr><td>NM  </td><td> 231</td></tr>\n",
       "\t<tr><td>NV  </td><td>  96</td></tr>\n",
       "\t<tr><td>NY  </td><td>1546</td></tr>\n",
       "\t<tr><td>OH  </td><td>1007</td></tr>\n",
       "\t<tr><td>OK  </td><td> 576</td></tr>\n",
       "\t<tr><td>OR  </td><td> 363</td></tr>\n",
       "\t<tr><td>PA  </td><td>1434</td></tr>\n",
       "\t<tr><td>RI  </td><td>  69</td></tr>\n",
       "\t<tr><td>SC  </td><td> 347</td></tr>\n",
       "\t<tr><td>SD  </td><td> 362</td></tr>\n",
       "\t<tr><td>TN  </td><td> 575</td></tr>\n",
       "\t<tr><td>TX  </td><td>1628</td></tr>\n",
       "\t<tr><td>UT  </td><td> 194</td></tr>\n",
       "\t<tr><td>VA  </td><td> 802</td></tr>\n",
       "\t<tr><td>VT  </td><td> 238</td></tr>\n",
       "\t<tr><td>WA  </td><td> 474</td></tr>\n",
       "\t<tr><td>WI  </td><td> 706</td></tr>\n",
       "\t<tr><td>WV  </td><td> 618</td></tr>\n",
       "\t<tr><td>WY  </td><td> 123</td></tr>\n",
       "</tbody>\n",
       "</table>\n"
      ],
      "text/latex": [
       "\\begin{tabular}{r|ll}\n",
       " state & Count\\\\\n",
       "\\hline\n",
       "\t AK   &  169\\\\\n",
       "\t AL   &  564\\\\\n",
       "\t AR   &  569\\\\\n",
       "\t AZ   &  260\\\\\n",
       "\t CA   & 1475\\\\\n",
       "\t CO   &  397\\\\\n",
       "\t CT   &  260\\\\\n",
       "\t DC   &   22\\\\\n",
       "\t DE   &   53\\\\\n",
       "\t FL   &  820\\\\\n",
       "\t GA   &  631\\\\\n",
       "\t HI   &   78\\\\\n",
       "\t IA   &  914\\\\\n",
       "\t ID   &  225\\\\\n",
       "\t IL   & 1232\\\\\n",
       "\t IN   &  675\\\\\n",
       "\t KS   &  707\\\\\n",
       "\t KY   &  791\\\\\n",
       "\t LA   &  457\\\\\n",
       "\t MA   &  470\\\\\n",
       "\t MD   &  415\\\\\n",
       "\t ME   &  395\\\\\n",
       "\t MI   &  869\\\\\n",
       "\t MN   &  877\\\\\n",
       "\t MO   &  989\\\\\n",
       "\t MS   &  359\\\\\n",
       "\t MT   &  290\\\\\n",
       "\t NC   &  698\\\\\n",
       "\t ND   &  376\\\\\n",
       "\t NE   &  572\\\\\n",
       "\t NH   &  214\\\\\n",
       "\t NJ   &  535\\\\\n",
       "\t NM   &  231\\\\\n",
       "\t NV   &   96\\\\\n",
       "\t NY   & 1546\\\\\n",
       "\t OH   & 1007\\\\\n",
       "\t OK   &  576\\\\\n",
       "\t OR   &  363\\\\\n",
       "\t PA   & 1434\\\\\n",
       "\t RI   &   69\\\\\n",
       "\t SC   &  347\\\\\n",
       "\t SD   &  362\\\\\n",
       "\t TN   &  575\\\\\n",
       "\t TX   & 1628\\\\\n",
       "\t UT   &  194\\\\\n",
       "\t VA   &  802\\\\\n",
       "\t VT   &  238\\\\\n",
       "\t WA   &  474\\\\\n",
       "\t WI   &  706\\\\\n",
       "\t WV   &  618\\\\\n",
       "\t WY   &  123\\\\\n",
       "\\end{tabular}\n"
      ],
      "text/plain": [
       "   state Count\n",
       "1  AK     169 \n",
       "2  AL     564 \n",
       "3  AR     569 \n",
       "4  AZ     260 \n",
       "5  CA    1475 \n",
       "6  CO     397 \n",
       "7  CT     260 \n",
       "8  DC      22 \n",
       "9  DE      53 \n",
       "10 FL     820 \n",
       "11 GA     631 \n",
       "12 HI      78 \n",
       "13 IA     914 \n",
       "14 ID     225 \n",
       "15 IL    1232 \n",
       "16 IN     675 \n",
       "17 KS     707 \n",
       "18 KY     791 \n",
       "19 LA     457 \n",
       "20 MA     470 \n",
       "21 MD     415 \n",
       "22 ME     395 \n",
       "23 MI     869 \n",
       "24 MN     877 \n",
       "25 MO     989 \n",
       "26 MS     359 \n",
       "27 MT     290 \n",
       "28 NC     698 \n",
       "29 ND     376 \n",
       "30 NE     572 \n",
       "31 NH     214 \n",
       "32 NJ     535 \n",
       "33 NM     231 \n",
       "34 NV      96 \n",
       "35 NY    1546 \n",
       "36 OH    1007 \n",
       "37 OK     576 \n",
       "38 OR     363 \n",
       "39 PA    1434 \n",
       "40 RI      69 \n",
       "41 SC     347 \n",
       "42 SD     362 \n",
       "43 TN     575 \n",
       "44 TX    1628 \n",
       "45 UT     194 \n",
       "46 VA     802 \n",
       "47 VT     238 \n",
       "48 WA     474 \n",
       "49 WI     706 \n",
       "50 WV     618 \n",
       "51 WY     123 "
      ]
     },
     "metadata": {},
     "output_type": "display_data"
    }
   ],
   "source": [
    "collect(arrange(zipCodesByState, zipCodesByState$state))"
   ]
  },
  {
   "cell_type": "code",
   "execution_count": 19,
   "metadata": {
    "collapsed": false
   },
   "outputs": [
    {
     "data": {
      "text/html": [
       "<table>\n",
       "<thead><tr><th scope=col>state</th><th scope=col>Count</th></tr></thead>\n",
       "<tbody>\n",
       "\t<tr><td>TX  </td><td>1628</td></tr>\n",
       "\t<tr><td>NY  </td><td>1546</td></tr>\n",
       "\t<tr><td>CA  </td><td>1475</td></tr>\n",
       "\t<tr><td>PA  </td><td>1434</td></tr>\n",
       "\t<tr><td>IL  </td><td>1232</td></tr>\n",
       "\t<tr><td>OH  </td><td>1007</td></tr>\n",
       "\t<tr><td>MO  </td><td> 989</td></tr>\n",
       "\t<tr><td>IA  </td><td> 914</td></tr>\n",
       "\t<tr><td>MN  </td><td> 877</td></tr>\n",
       "\t<tr><td>MI  </td><td> 869</td></tr>\n",
       "\t<tr><td>FL  </td><td> 820</td></tr>\n",
       "\t<tr><td>VA  </td><td> 802</td></tr>\n",
       "\t<tr><td>KY  </td><td> 791</td></tr>\n",
       "\t<tr><td>KS  </td><td> 707</td></tr>\n",
       "\t<tr><td>WI  </td><td> 706</td></tr>\n",
       "\t<tr><td>NC  </td><td> 698</td></tr>\n",
       "\t<tr><td>IN  </td><td> 675</td></tr>\n",
       "\t<tr><td>GA  </td><td> 631</td></tr>\n",
       "\t<tr><td>WV  </td><td> 618</td></tr>\n",
       "\t<tr><td>OK  </td><td> 576</td></tr>\n",
       "\t<tr><td>TN  </td><td> 575</td></tr>\n",
       "\t<tr><td>NE  </td><td> 572</td></tr>\n",
       "\t<tr><td>AR  </td><td> 569</td></tr>\n",
       "\t<tr><td>AL  </td><td> 564</td></tr>\n",
       "\t<tr><td>NJ  </td><td> 535</td></tr>\n",
       "\t<tr><td>WA  </td><td> 474</td></tr>\n",
       "\t<tr><td>MA  </td><td> 470</td></tr>\n",
       "\t<tr><td>LA  </td><td> 457</td></tr>\n",
       "\t<tr><td>MD  </td><td> 415</td></tr>\n",
       "\t<tr><td>CO  </td><td> 397</td></tr>\n",
       "\t<tr><td>ME  </td><td> 395</td></tr>\n",
       "\t<tr><td>ND  </td><td> 376</td></tr>\n",
       "\t<tr><td>OR  </td><td> 363</td></tr>\n",
       "\t<tr><td>SD  </td><td> 362</td></tr>\n",
       "\t<tr><td>MS  </td><td> 359</td></tr>\n",
       "\t<tr><td>SC  </td><td> 347</td></tr>\n",
       "\t<tr><td>MT  </td><td> 290</td></tr>\n",
       "\t<tr><td>AZ  </td><td> 260</td></tr>\n",
       "\t<tr><td>CT  </td><td> 260</td></tr>\n",
       "\t<tr><td>VT  </td><td> 238</td></tr>\n",
       "\t<tr><td>NM  </td><td> 231</td></tr>\n",
       "\t<tr><td>ID  </td><td> 225</td></tr>\n",
       "\t<tr><td>NH  </td><td> 214</td></tr>\n",
       "\t<tr><td>UT  </td><td> 194</td></tr>\n",
       "\t<tr><td>AK  </td><td> 169</td></tr>\n",
       "\t<tr><td>WY  </td><td> 123</td></tr>\n",
       "\t<tr><td>NV  </td><td>  96</td></tr>\n",
       "\t<tr><td>HI  </td><td>  78</td></tr>\n",
       "\t<tr><td>RI  </td><td>  69</td></tr>\n",
       "\t<tr><td>DE  </td><td>  53</td></tr>\n",
       "\t<tr><td>DC  </td><td>  22</td></tr>\n",
       "</tbody>\n",
       "</table>\n"
      ],
      "text/latex": [
       "\\begin{tabular}{r|ll}\n",
       " state & Count\\\\\n",
       "\\hline\n",
       "\t TX   & 1628\\\\\n",
       "\t NY   & 1546\\\\\n",
       "\t CA   & 1475\\\\\n",
       "\t PA   & 1434\\\\\n",
       "\t IL   & 1232\\\\\n",
       "\t OH   & 1007\\\\\n",
       "\t MO   &  989\\\\\n",
       "\t IA   &  914\\\\\n",
       "\t MN   &  877\\\\\n",
       "\t MI   &  869\\\\\n",
       "\t FL   &  820\\\\\n",
       "\t VA   &  802\\\\\n",
       "\t KY   &  791\\\\\n",
       "\t KS   &  707\\\\\n",
       "\t WI   &  706\\\\\n",
       "\t NC   &  698\\\\\n",
       "\t IN   &  675\\\\\n",
       "\t GA   &  631\\\\\n",
       "\t WV   &  618\\\\\n",
       "\t OK   &  576\\\\\n",
       "\t TN   &  575\\\\\n",
       "\t NE   &  572\\\\\n",
       "\t AR   &  569\\\\\n",
       "\t AL   &  564\\\\\n",
       "\t NJ   &  535\\\\\n",
       "\t WA   &  474\\\\\n",
       "\t MA   &  470\\\\\n",
       "\t LA   &  457\\\\\n",
       "\t MD   &  415\\\\\n",
       "\t CO   &  397\\\\\n",
       "\t ME   &  395\\\\\n",
       "\t ND   &  376\\\\\n",
       "\t OR   &  363\\\\\n",
       "\t SD   &  362\\\\\n",
       "\t MS   &  359\\\\\n",
       "\t SC   &  347\\\\\n",
       "\t MT   &  290\\\\\n",
       "\t AZ   &  260\\\\\n",
       "\t CT   &  260\\\\\n",
       "\t VT   &  238\\\\\n",
       "\t NM   &  231\\\\\n",
       "\t ID   &  225\\\\\n",
       "\t NH   &  214\\\\\n",
       "\t UT   &  194\\\\\n",
       "\t AK   &  169\\\\\n",
       "\t WY   &  123\\\\\n",
       "\t NV   &   96\\\\\n",
       "\t HI   &   78\\\\\n",
       "\t RI   &   69\\\\\n",
       "\t DE   &   53\\\\\n",
       "\t DC   &   22\\\\\n",
       "\\end{tabular}\n"
      ],
      "text/plain": [
       "   state Count\n",
       "1  TX    1628 \n",
       "2  NY    1546 \n",
       "3  CA    1475 \n",
       "4  PA    1434 \n",
       "5  IL    1232 \n",
       "6  OH    1007 \n",
       "7  MO     989 \n",
       "8  IA     914 \n",
       "9  MN     877 \n",
       "10 MI     869 \n",
       "11 FL     820 \n",
       "12 VA     802 \n",
       "13 KY     791 \n",
       "14 KS     707 \n",
       "15 WI     706 \n",
       "16 NC     698 \n",
       "17 IN     675 \n",
       "18 GA     631 \n",
       "19 WV     618 \n",
       "20 OK     576 \n",
       "21 TN     575 \n",
       "22 NE     572 \n",
       "23 AR     569 \n",
       "24 AL     564 \n",
       "25 NJ     535 \n",
       "26 WA     474 \n",
       "27 MA     470 \n",
       "28 LA     457 \n",
       "29 MD     415 \n",
       "30 CO     397 \n",
       "31 ME     395 \n",
       "32 ND     376 \n",
       "33 OR     363 \n",
       "34 SD     362 \n",
       "35 MS     359 \n",
       "36 SC     347 \n",
       "37 MT     290 \n",
       "38 AZ     260 \n",
       "39 CT     260 \n",
       "40 VT     238 \n",
       "41 NM     231 \n",
       "42 ID     225 \n",
       "43 NH     214 \n",
       "44 UT     194 \n",
       "45 AK     169 \n",
       "46 WY     123 \n",
       "47 NV      96 \n",
       "48 HI      78 \n",
       "49 RI      69 \n",
       "50 DE      53 \n",
       "51 DC      22 "
      ]
     },
     "metadata": {},
     "output_type": "display_data"
    }
   ],
   "source": [
    "collect(arrange(zipCodesByState, desc(zipCodesByState$Count)))"
   ]
  },
  {
   "cell_type": "markdown",
   "metadata": {},
   "source": [
    "## 10 Most populous zip codes"
   ]
  },
  {
   "cell_type": "code",
   "execution_count": 20,
   "metadata": {
    "collapsed": false
   },
   "outputs": [
    {
     "data": {
      "text/plain": [
       "SparkDataFrame[_id:string, city:string, loc:array<double>, pop:bigint, state:string]"
      ]
     },
     "metadata": {},
     "output_type": "display_data"
    }
   ],
   "source": [
    "arrange(usaZipCodes, desc(usaZipCodes$pop))"
   ]
  },
  {
   "cell_type": "code",
   "execution_count": 21,
   "metadata": {
    "collapsed": false
   },
   "outputs": [
    {
     "data": {
      "text/html": [
       "<table>\n",
       "<thead><tr><th scope=col>_id</th><th scope=col>city</th><th scope=col>loc</th><th scope=col>pop</th><th scope=col>state</th></tr></thead>\n",
       "<tbody>\n",
       "\t<tr><td>60623              </td><td>CHICAGO            </td><td>-87.71570, 41.84902</td><td>112047             </td><td>IL                 </td></tr>\n",
       "\t<tr><td>11226              </td><td>BROOKLYN           </td><td>-73.95699, 40.64669</td><td>111396             </td><td>NY                 </td></tr>\n",
       "\t<tr><td>10021              </td><td>NEW YORK           </td><td>-73.95880, 40.76848</td><td>106564             </td><td>NY                 </td></tr>\n",
       "\t<tr><td>10025              </td><td>NEW YORK           </td><td>-73.96831, 40.79747</td><td>100027             </td><td>NY                 </td></tr>\n",
       "\t<tr><td>90201               </td><td>BELL GARDENS        </td><td>-118.17205, 33.96918</td><td> 99568              </td><td>CA                  </td></tr>\n",
       "\t<tr><td>60617              </td><td>CHICAGO            </td><td>-87.55601, 41.72574</td><td> 98612             </td><td>IL                 </td></tr>\n",
       "\t<tr><td>90011               </td><td>LOS ANGELES         </td><td>-118.25819, 34.00786</td><td> 96074              </td><td>CA                  </td></tr>\n",
       "\t<tr><td>60647              </td><td>CHICAGO            </td><td>-87.70432, 41.92090</td><td> 95971             </td><td>IL                 </td></tr>\n",
       "\t<tr><td>60628              </td><td>CHICAGO            </td><td>-87.62428, 41.69344</td><td> 94317             </td><td>IL                 </td></tr>\n",
       "\t<tr><td>90650               </td><td>NORWALK             </td><td>-118.08177, 33.90564</td><td> 94188              </td><td>CA                  </td></tr>\n",
       "</tbody>\n",
       "</table>\n"
      ],
      "text/latex": [
       "\\begin{tabular}{r|lllll}\n",
       " \\_id & city & loc & pop & state\\\\\n",
       "\\hline\n",
       "\t 60623               & CHICAGO             & -87.71570, 41.84902 & 112047              & IL                 \\\\\n",
       "\t 11226               & BROOKLYN            & -73.95699, 40.64669 & 111396              & NY                 \\\\\n",
       "\t 10021               & NEW YORK            & -73.95880, 40.76848 & 106564              & NY                 \\\\\n",
       "\t 10025               & NEW YORK            & -73.96831, 40.79747 & 100027              & NY                 \\\\\n",
       "\t 90201                & BELL GARDENS         & -118.17205, 33.96918 &  99568               & CA                  \\\\\n",
       "\t 60617               & CHICAGO             & -87.55601, 41.72574 &  98612              & IL                 \\\\\n",
       "\t 90011                & LOS ANGELES          & -118.25819, 34.00786 &  96074               & CA                  \\\\\n",
       "\t 60647               & CHICAGO             & -87.70432, 41.92090 &  95971              & IL                 \\\\\n",
       "\t 60628               & CHICAGO             & -87.62428, 41.69344 &  94317              & IL                 \\\\\n",
       "\t 90650                & NORWALK              & -118.08177, 33.90564 &  94188               & CA                  \\\\\n",
       "\\end{tabular}\n"
      ],
      "text/plain": [
       "   _id   city         loc                  pop    state\n",
       "1  60623 CHICAGO      -87.71570, 41.84902  112047 IL   \n",
       "2  11226 BROOKLYN     -73.95699, 40.64669  111396 NY   \n",
       "3  10021 NEW YORK     -73.95880, 40.76848  106564 NY   \n",
       "4  10025 NEW YORK     -73.96831, 40.79747  100027 NY   \n",
       "5  90201 BELL GARDENS -118.17205, 33.96918  99568 CA   \n",
       "6  60617 CHICAGO      -87.55601, 41.72574   98612 IL   \n",
       "7  90011 LOS ANGELES  -118.25819, 34.00786  96074 CA   \n",
       "8  60647 CHICAGO      -87.70432, 41.92090   95971 IL   \n",
       "9  60628 CHICAGO      -87.62428, 41.69344   94317 IL   \n",
       "10 90650 NORWALK      -118.08177, 33.90564  94188 CA   "
      ]
     },
     "metadata": {},
     "output_type": "display_data"
    }
   ],
   "source": [
    "head(arrange(usaZipCodes, desc(usaZipCodes$pop)), n = 10)"
   ]
  },
  {
   "cell_type": "markdown",
   "metadata": {},
   "source": [
    "## Most populous states"
   ]
  },
  {
   "cell_type": "code",
   "execution_count": 22,
   "metadata": {
    "collapsed": false
   },
   "outputs": [
    {
     "data": {
      "text/plain": [
       "SparkDataFrame[state:string, TotalPop:bigint]"
      ]
     },
     "metadata": {},
     "output_type": "display_data"
    }
   ],
   "source": [
    "popByState <-  summarize(groupBy(usaZipCodes, usaZipCodes$state), \n",
    "                              TotalPop = sum(usaZipCodes$pop))\n",
    "\n",
    "popByState"
   ]
  },
  {
   "cell_type": "code",
   "execution_count": 23,
   "metadata": {
    "collapsed": false
   },
   "outputs": [
    {
     "data": {
      "text/html": [
       "51"
      ],
      "text/latex": [
       "51"
      ],
      "text/markdown": [
       "51"
      ],
      "text/plain": [
       "[1] 51"
      ]
     },
     "metadata": {},
     "output_type": "display_data"
    }
   ],
   "source": [
    "count(popByState)"
   ]
  },
  {
   "cell_type": "code",
   "execution_count": 24,
   "metadata": {
    "collapsed": false
   },
   "outputs": [
    {
     "data": {
      "text/html": [
       "<table>\n",
       "<thead><tr><th scope=col>state</th><th scope=col>TotalPop</th></tr></thead>\n",
       "<tbody>\n",
       "\t<tr><td>SC      </td><td> 3486578</td></tr>\n",
       "\t<tr><td>AZ      </td><td> 3664722</td></tr>\n",
       "\t<tr><td>LA      </td><td> 4219523</td></tr>\n",
       "\t<tr><td>MN      </td><td> 4374503</td></tr>\n",
       "\t<tr><td>NJ      </td><td> 7729991</td></tr>\n",
       "\t<tr><td>DC      </td><td>  606868</td></tr>\n",
       "\t<tr><td>OR      </td><td> 2841361</td></tr>\n",
       "\t<tr><td>VA      </td><td> 6186121</td></tr>\n",
       "\t<tr><td>RI      </td><td> 1003419</td></tr>\n",
       "\t<tr><td>KY      </td><td> 3683669</td></tr>\n",
       "\t<tr><td>WY      </td><td>  452722</td></tr>\n",
       "\t<tr><td>NH      </td><td> 1109024</td></tr>\n",
       "\t<tr><td>MI      </td><td> 9295060</td></tr>\n",
       "\t<tr><td>NV      </td><td> 1201366</td></tr>\n",
       "\t<tr><td>WI      </td><td> 4891317</td></tr>\n",
       "\t<tr><td>ID      </td><td> 1005753</td></tr>\n",
       "\t<tr><td>CA      </td><td>29758155</td></tr>\n",
       "\t<tr><td>CT      </td><td> 3286943</td></tr>\n",
       "\t<tr><td>NE      </td><td> 1578207</td></tr>\n",
       "\t<tr><td>MT      </td><td>  797589</td></tr>\n",
       "\t<tr><td>NC      </td><td> 6628251</td></tr>\n",
       "\t<tr><td>VT      </td><td>  562524</td></tr>\n",
       "\t<tr><td>MD      </td><td> 4781093</td></tr>\n",
       "\t<tr><td>DE      </td><td>  666168</td></tr>\n",
       "\t<tr><td>MO      </td><td> 5113794</td></tr>\n",
       "\t<tr><td>IL      </td><td>11430349</td></tr>\n",
       "\t<tr><td>ME      </td><td> 1227026</td></tr>\n",
       "\t<tr><td>ND      </td><td>  637322</td></tr>\n",
       "\t<tr><td>WA      </td><td> 4866199</td></tr>\n",
       "\t<tr><td>MS      </td><td> 2572971</td></tr>\n",
       "\t<tr><td>AL      </td><td> 4040533</td></tr>\n",
       "\t<tr><td>IN      </td><td> 5544061</td></tr>\n",
       "\t<tr><td>OH      </td><td>10847077</td></tr>\n",
       "\t<tr><td>TN      </td><td> 4876062</td></tr>\n",
       "\t<tr><td>IA      </td><td> 2776234</td></tr>\n",
       "\t<tr><td>NM      </td><td> 1513103</td></tr>\n",
       "\t<tr><td>PA      </td><td>11880512</td></tr>\n",
       "\t<tr><td>SD      </td><td>  694574</td></tr>\n",
       "\t<tr><td>NY      </td><td>17988283</td></tr>\n",
       "\t<tr><td>TX      </td><td>16984340</td></tr>\n",
       "\t<tr><td>WV      </td><td> 1791298</td></tr>\n",
       "\t<tr><td>GA      </td><td> 6478100</td></tr>\n",
       "\t<tr><td>MA      </td><td> 6016214</td></tr>\n",
       "\t<tr><td>KS      </td><td> 2476552</td></tr>\n",
       "\t<tr><td>FL      </td><td>12937753</td></tr>\n",
       "\t<tr><td>CO      </td><td> 3293351</td></tr>\n",
       "\t<tr><td>AK      </td><td>  549164</td></tr>\n",
       "\t<tr><td>AR      </td><td> 2350382</td></tr>\n",
       "\t<tr><td>OK      </td><td> 3144943</td></tr>\n",
       "\t<tr><td>UT      </td><td> 1722387</td></tr>\n",
       "\t<tr><td>HI      </td><td> 1108138</td></tr>\n",
       "</tbody>\n",
       "</table>\n"
      ],
      "text/latex": [
       "\\begin{tabular}{r|ll}\n",
       " state & TotalPop\\\\\n",
       "\\hline\n",
       "\t SC       &  3486578\\\\\n",
       "\t AZ       &  3664722\\\\\n",
       "\t LA       &  4219523\\\\\n",
       "\t MN       &  4374503\\\\\n",
       "\t NJ       &  7729991\\\\\n",
       "\t DC       &   606868\\\\\n",
       "\t OR       &  2841361\\\\\n",
       "\t VA       &  6186121\\\\\n",
       "\t RI       &  1003419\\\\\n",
       "\t KY       &  3683669\\\\\n",
       "\t WY       &   452722\\\\\n",
       "\t NH       &  1109024\\\\\n",
       "\t MI       &  9295060\\\\\n",
       "\t NV       &  1201366\\\\\n",
       "\t WI       &  4891317\\\\\n",
       "\t ID       &  1005753\\\\\n",
       "\t CA       & 29758155\\\\\n",
       "\t CT       &  3286943\\\\\n",
       "\t NE       &  1578207\\\\\n",
       "\t MT       &   797589\\\\\n",
       "\t NC       &  6628251\\\\\n",
       "\t VT       &   562524\\\\\n",
       "\t MD       &  4781093\\\\\n",
       "\t DE       &   666168\\\\\n",
       "\t MO       &  5113794\\\\\n",
       "\t IL       & 11430349\\\\\n",
       "\t ME       &  1227026\\\\\n",
       "\t ND       &   637322\\\\\n",
       "\t WA       &  4866199\\\\\n",
       "\t MS       &  2572971\\\\\n",
       "\t AL       &  4040533\\\\\n",
       "\t IN       &  5544061\\\\\n",
       "\t OH       & 10847077\\\\\n",
       "\t TN       &  4876062\\\\\n",
       "\t IA       &  2776234\\\\\n",
       "\t NM       &  1513103\\\\\n",
       "\t PA       & 11880512\\\\\n",
       "\t SD       &   694574\\\\\n",
       "\t NY       & 17988283\\\\\n",
       "\t TX       & 16984340\\\\\n",
       "\t WV       &  1791298\\\\\n",
       "\t GA       &  6478100\\\\\n",
       "\t MA       &  6016214\\\\\n",
       "\t KS       &  2476552\\\\\n",
       "\t FL       & 12937753\\\\\n",
       "\t CO       &  3293351\\\\\n",
       "\t AK       &   549164\\\\\n",
       "\t AR       &  2350382\\\\\n",
       "\t OK       &  3144943\\\\\n",
       "\t UT       &  1722387\\\\\n",
       "\t HI       &  1108138\\\\\n",
       "\\end{tabular}\n"
      ],
      "text/plain": [
       "   state TotalPop\n",
       "1  SC     3486578\n",
       "2  AZ     3664722\n",
       "3  LA     4219523\n",
       "4  MN     4374503\n",
       "5  NJ     7729991\n",
       "6  DC      606868\n",
       "7  OR     2841361\n",
       "8  VA     6186121\n",
       "9  RI     1003419\n",
       "10 KY     3683669\n",
       "11 WY      452722\n",
       "12 NH     1109024\n",
       "13 MI     9295060\n",
       "14 NV     1201366\n",
       "15 WI     4891317\n",
       "16 ID     1005753\n",
       "17 CA    29758155\n",
       "18 CT     3286943\n",
       "19 NE     1578207\n",
       "20 MT      797589\n",
       "21 NC     6628251\n",
       "22 VT      562524\n",
       "23 MD     4781093\n",
       "24 DE      666168\n",
       "25 MO     5113794\n",
       "26 IL    11430349\n",
       "27 ME     1227026\n",
       "28 ND      637322\n",
       "29 WA     4866199\n",
       "30 MS     2572971\n",
       "31 AL     4040533\n",
       "32 IN     5544061\n",
       "33 OH    10847077\n",
       "34 TN     4876062\n",
       "35 IA     2776234\n",
       "36 NM     1513103\n",
       "37 PA    11880512\n",
       "38 SD      694574\n",
       "39 NY    17988283\n",
       "40 TX    16984340\n",
       "41 WV     1791298\n",
       "42 GA     6478100\n",
       "43 MA     6016214\n",
       "44 KS     2476552\n",
       "45 FL    12937753\n",
       "46 CO     3293351\n",
       "47 AK      549164\n",
       "48 AR     2350382\n",
       "49 OK     3144943\n",
       "50 UT     1722387\n",
       "51 HI     1108138"
      ]
     },
     "metadata": {},
     "output_type": "display_data"
    }
   ],
   "source": [
    "collect(popByState)"
   ]
  },
  {
   "cell_type": "code",
   "execution_count": 25,
   "metadata": {
    "collapsed": false
   },
   "outputs": [
    {
     "data": {
      "text/html": [
       "<table>\n",
       "<thead><tr><th scope=col>state</th><th scope=col>TotalPop</th></tr></thead>\n",
       "<tbody>\n",
       "\t<tr><td>CA      </td><td>29758155</td></tr>\n",
       "\t<tr><td>NY      </td><td>17988283</td></tr>\n",
       "\t<tr><td>TX      </td><td>16984340</td></tr>\n",
       "\t<tr><td>FL      </td><td>12937753</td></tr>\n",
       "\t<tr><td>PA      </td><td>11880512</td></tr>\n",
       "\t<tr><td>IL      </td><td>11430349</td></tr>\n",
       "</tbody>\n",
       "</table>\n"
      ],
      "text/latex": [
       "\\begin{tabular}{r|ll}\n",
       " state & TotalPop\\\\\n",
       "\\hline\n",
       "\t CA       & 29758155\\\\\n",
       "\t NY       & 17988283\\\\\n",
       "\t TX       & 16984340\\\\\n",
       "\t FL       & 12937753\\\\\n",
       "\t PA       & 11880512\\\\\n",
       "\t IL       & 11430349\\\\\n",
       "\\end{tabular}\n"
      ],
      "text/plain": [
       "  state TotalPop\n",
       "1 CA    29758155\n",
       "2 NY    17988283\n",
       "3 TX    16984340\n",
       "4 FL    12937753\n",
       "5 PA    11880512\n",
       "6 IL    11430349"
      ]
     },
     "metadata": {},
     "output_type": "display_data"
    }
   ],
   "source": [
    "head(arrange(popByState, desc(popByState$TotalPop)))"
   ]
  },
  {
   "cell_type": "code",
   "execution_count": 26,
   "metadata": {
    "collapsed": true
   },
   "outputs": [],
   "source": [
    "# Stop the SparkSession now\n",
    "sparkR.session.stop()"
   ]
  }
 ],
 "metadata": {
  "anaconda-cloud": {},
  "kernelspec": {
   "display_name": "R",
   "language": "R",
   "name": "ir"
  },
  "language_info": {
   "codemirror_mode": "r",
   "file_extension": ".r",
   "mimetype": "text/x-r-source",
   "name": "R",
   "pygments_lexer": "r",
   "version": "3.4.0"
  }
 },
 "nbformat": 4,
 "nbformat_minor": 1
}
