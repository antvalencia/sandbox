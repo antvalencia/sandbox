{
 "cells": [
  {
   "cell_type": "markdown",
   "metadata": {},
   "source": [
    "# SparkSQL R Sample - USA Daily Temperatures"
   ]
  },
  {
   "cell_type": "code",
   "execution_count": 1,
   "metadata": {
    "collapsed": false
   },
   "outputs": [
    {
     "data": {
      "text/html": [
       "'/Users/skalathur/MyApps/spark'"
      ],
      "text/latex": [
       "'/Users/skalathur/MyApps/spark'"
      ],
      "text/markdown": [
       "'/Users/skalathur/MyApps/spark'"
      ],
      "text/plain": [
       "[1] \"/Users/skalathur/MyApps/spark\""
      ]
     },
     "metadata": {},
     "output_type": "display_data"
    }
   ],
   "source": [
    "Sys.getenv(\"SPARK_HOME\")"
   ]
  },
  {
   "cell_type": "code",
   "execution_count": 2,
   "metadata": {
    "collapsed": true
   },
   "outputs": [],
   "source": [
    "# Set the correct value for SPARK_HOME if not set in your environment\n",
    "if (nchar(Sys.getenv(\"SPARK_HOME\")) < 1) {\n",
    "  Sys.setenv(SPARK_HOME = \"/Users/skalathur/MyApps/spark\")\n",
    "}"
   ]
  },
  {
   "cell_type": "code",
   "execution_count": 3,
   "metadata": {
    "collapsed": true
   },
   "outputs": [],
   "source": [
    "Sys.setenv(SPARK_LOCAL_IP=\"localhost\")"
   ]
  },
  {
   "cell_type": "code",
   "execution_count": 4,
   "metadata": {
    "collapsed": false
   },
   "outputs": [
    {
     "name": "stderr",
     "output_type": "stream",
     "text": [
      "\n",
      "Attaching package: ‘SparkR’\n",
      "\n",
      "The following objects are masked from ‘package:stats’:\n",
      "\n",
      "    cov, filter, lag, na.omit, predict, sd, var, window\n",
      "\n",
      "The following objects are masked from ‘package:base’:\n",
      "\n",
      "    as.data.frame, colnames, colnames<-, drop, endsWith, intersect,\n",
      "    rank, rbind, sample, startsWith, subset, summary, transform, union\n",
      "\n"
     ]
    }
   ],
   "source": [
    "# load the SparkR library (wait until it loads)\n",
    "library(SparkR, lib.loc = c(file.path(Sys.getenv(\"SPARK_HOME\"), \"R\", \"lib\")))"
   ]
  },
  {
   "cell_type": "code",
   "execution_count": 5,
   "metadata": {
    "collapsed": false
   },
   "outputs": [
    {
     "name": "stderr",
     "output_type": "stream",
     "text": [
      "Spark package found in SPARK_HOME: /Users/skalathur/MyApps/spark\n"
     ]
    },
    {
     "name": "stdout",
     "output_type": "stream",
     "text": [
      "Launching java with spark-submit command /Users/skalathur/MyApps/spark/bin/spark-submit   --driver-memory \"2g\" sparkr-shell /var/folders/s3/hy6_p79n3w1fw802t6ps40qr0000gp/T//Rtmp7jfYHO/backend_portb3e27079c9f \n"
     ]
    },
    {
     "data": {
      "text/plain": [
       "Java ref type org.apache.spark.sql.SparkSession id 1 "
      ]
     },
     "metadata": {},
     "output_type": "display_data"
    }
   ],
   "source": [
    "# Start the Spark Session, wait until it starts\n",
    "sparkR.session(master = \"local[*]\", sparkConfig = list(spark.driver.memory = \"2g\"))"
   ]
  },
  {
   "cell_type": "code",
   "execution_count": 6,
   "metadata": {
    "collapsed": true
   },
   "outputs": [],
   "source": [
    "inputFile <- \"/temp/datasets/usa_daily_avg_temps.csv\""
   ]
  },
  {
   "cell_type": "code",
   "execution_count": 7,
   "metadata": {
    "collapsed": false
   },
   "outputs": [
    {
     "data": {
      "text/plain": [
       "SparkDataFrame[state:string, city:string, month:int, day:int, year:int, avgtemp:double]"
      ]
     },
     "metadata": {},
     "output_type": "display_data"
    }
   ],
   "source": [
    "# Read the csv file as a SparkDataFrame\n",
    "usaDailyTemps <- read.df(inputFile, source = \"csv\", \n",
    "                         header='true', \n",
    "                         inferSchema='true')\n",
    "\n",
    "usaDailyTemps"
   ]
  },
  {
   "cell_type": "code",
   "execution_count": 8,
   "metadata": {
    "collapsed": false
   },
   "outputs": [
    {
     "name": "stdout",
     "output_type": "stream",
     "text": [
      "root\n",
      " |-- state: string (nullable = true)\n",
      " |-- city: string (nullable = true)\n",
      " |-- month: integer (nullable = true)\n",
      " |-- day: integer (nullable = true)\n",
      " |-- year: integer (nullable = true)\n",
      " |-- avgtemp: double (nullable = true)\n"
     ]
    }
   ],
   "source": [
    "printSchema(usaDailyTemps)"
   ]
  },
  {
   "cell_type": "code",
   "execution_count": 9,
   "metadata": {
    "collapsed": false
   },
   "outputs": [
    {
     "data": {
      "text/html": [
       "1174605"
      ],
      "text/latex": [
       "1174605"
      ],
      "text/markdown": [
       "1174605"
      ],
      "text/plain": [
       "[1] 1174605"
      ]
     },
     "metadata": {},
     "output_type": "display_data"
    }
   ],
   "source": [
    "count(usaDailyTemps)"
   ]
  },
  {
   "cell_type": "code",
   "execution_count": 10,
   "metadata": {
    "collapsed": false
   },
   "outputs": [
    {
     "data": {
      "text/html": [
       "<table>\n",
       "<thead><tr><th scope=col>state</th><th scope=col>city</th><th scope=col>month</th><th scope=col>day</th><th scope=col>year</th><th scope=col>avgtemp</th></tr></thead>\n",
       "<tbody>\n",
       "\t<tr><td>Alabama   </td><td>Birmingham</td><td>1         </td><td>1         </td><td>1995      </td><td>50.7      </td></tr>\n",
       "\t<tr><td>Alabama   </td><td>Birmingham</td><td>1         </td><td>1         </td><td>1996      </td><td>56.8      </td></tr>\n",
       "\t<tr><td>Alabama   </td><td>Birmingham</td><td>1         </td><td>1         </td><td>1997      </td><td>60.9      </td></tr>\n",
       "\t<tr><td>Alabama   </td><td>Birmingham</td><td>1         </td><td>1         </td><td>1998      </td><td>35.6      </td></tr>\n",
       "\t<tr><td>Alabama   </td><td>Birmingham</td><td>1         </td><td>1         </td><td>1999      </td><td>41.0      </td></tr>\n",
       "\t<tr><td>Alabama   </td><td>Birmingham</td><td>1         </td><td>1         </td><td>2000      </td><td>59.0      </td></tr>\n",
       "</tbody>\n",
       "</table>\n"
      ],
      "text/latex": [
       "\\begin{tabular}{r|llllll}\n",
       " state & city & month & day & year & avgtemp\\\\\n",
       "\\hline\n",
       "\t Alabama    & Birmingham & 1          & 1          & 1995       & 50.7      \\\\\n",
       "\t Alabama    & Birmingham & 1          & 1          & 1996       & 56.8      \\\\\n",
       "\t Alabama    & Birmingham & 1          & 1          & 1997       & 60.9      \\\\\n",
       "\t Alabama    & Birmingham & 1          & 1          & 1998       & 35.6      \\\\\n",
       "\t Alabama    & Birmingham & 1          & 1          & 1999       & 41.0      \\\\\n",
       "\t Alabama    & Birmingham & 1          & 1          & 2000       & 59.0      \\\\\n",
       "\\end{tabular}\n"
      ],
      "text/plain": [
       "  state   city       month day year avgtemp\n",
       "1 Alabama Birmingham 1     1   1995 50.7   \n",
       "2 Alabama Birmingham 1     1   1996 56.8   \n",
       "3 Alabama Birmingham 1     1   1997 60.9   \n",
       "4 Alabama Birmingham 1     1   1998 35.6   \n",
       "5 Alabama Birmingham 1     1   1999 41.0   \n",
       "6 Alabama Birmingham 1     1   2000 59.0   "
      ]
     },
     "metadata": {},
     "output_type": "display_data"
    }
   ],
   "source": [
    "head(usaDailyTemps)"
   ]
  },
  {
   "cell_type": "code",
   "execution_count": 11,
   "metadata": {
    "collapsed": false
   },
   "outputs": [
    {
     "data": {
      "text/plain": [
       "SparkDataFrame[state:string, city:string, month:int, day:int, year:int, avgtemp:double]"
      ]
     },
     "metadata": {},
     "output_type": "display_data"
    }
   ],
   "source": [
    "persist(usaDailyTemps, \"MEMORY_AND_DISK\")"
   ]
  },
  {
   "cell_type": "code",
   "execution_count": 12,
   "metadata": {
    "collapsed": true
   },
   "outputs": [],
   "source": [
    "# Register the DataFrame as a SQL table.\n",
    "createOrReplaceTempView(usaDailyTemps, \"usaDailyTempsTable\")"
   ]
  },
  {
   "cell_type": "markdown",
   "metadata": {},
   "source": [
    "### Aggregate to find the maximum of avgtemp"
   ]
  },
  {
   "cell_type": "code",
   "execution_count": 13,
   "metadata": {
    "collapsed": false
   },
   "outputs": [
    {
     "data": {
      "text/html": [
       "'SELECT max(avgtemp) FROM usaDailyTempsTable'"
      ],
      "text/latex": [
       "'SELECT max(avgtemp) FROM usaDailyTempsTable'"
      ],
      "text/markdown": [
       "'SELECT max(avgtemp) FROM usaDailyTempsTable'"
      ],
      "text/plain": [
       "[1] \"SELECT max(avgtemp) FROM usaDailyTempsTable\""
      ]
     },
     "metadata": {},
     "output_type": "display_data"
    }
   ],
   "source": [
    "query <- \"SELECT max(avgtemp) FROM usaDailyTempsTable\"\n",
    "query"
   ]
  },
  {
   "cell_type": "code",
   "execution_count": 14,
   "metadata": {
    "collapsed": false
   },
   "outputs": [
    {
     "data": {
      "text/plain": [
       "SparkDataFrame[max(avgtemp):double]"
      ]
     },
     "metadata": {},
     "output_type": "display_data"
    }
   ],
   "source": [
    "maxAvgTemp <- sql(query)\n",
    "maxAvgTemp"
   ]
  },
  {
   "cell_type": "code",
   "execution_count": 15,
   "metadata": {
    "collapsed": false
   },
   "outputs": [
    {
     "data": {
      "text/html": [
       "1"
      ],
      "text/latex": [
       "1"
      ],
      "text/markdown": [
       "1"
      ],
      "text/plain": [
       "[1] 1"
      ]
     },
     "metadata": {},
     "output_type": "display_data"
    }
   ],
   "source": [
    "count(maxAvgTemp)"
   ]
  },
  {
   "cell_type": "code",
   "execution_count": 16,
   "metadata": {
    "collapsed": false
   },
   "outputs": [
    {
     "data": {
      "text/html": [
       "<table>\n",
       "<thead><tr><th scope=col>max(avgtemp)</th></tr></thead>\n",
       "<tbody>\n",
       "\t<tr><td>107.5</td></tr>\n",
       "</tbody>\n",
       "</table>\n"
      ],
      "text/latex": [
       "\\begin{tabular}{r|l}\n",
       " max(avgtemp)\\\\\n",
       "\\hline\n",
       "\t 107.5\\\\\n",
       "\\end{tabular}\n"
      ],
      "text/plain": [
       "  max(avgtemp)\n",
       "1 107.5       "
      ]
     },
     "metadata": {},
     "output_type": "display_data"
    }
   ],
   "source": [
    "# collect to local data frame\n",
    "collect(maxAvgTemp)"
   ]
  },
  {
   "cell_type": "code",
   "execution_count": 17,
   "metadata": {
    "collapsed": false
   },
   "outputs": [
    {
     "data": {
      "text/plain": [
       "SparkDataFrame[MaxValue:double]"
      ]
     },
     "metadata": {},
     "output_type": "display_data"
    }
   ],
   "source": [
    "# Provide the appropriate column name (MaxValue)\n",
    "\n",
    "query <- \"SELECT max(avgtemp) AS MaxValue FROM usaDailyTempsTable\"\n",
    "\n",
    "maxAvgTemp <- sql(query)\n",
    "maxAvgTemp"
   ]
  },
  {
   "cell_type": "code",
   "execution_count": 18,
   "metadata": {
    "collapsed": false
   },
   "outputs": [
    {
     "data": {
      "text/html": [
       "<table>\n",
       "<thead><tr><th scope=col>MaxValue</th></tr></thead>\n",
       "<tbody>\n",
       "\t<tr><td>107.5</td></tr>\n",
       "</tbody>\n",
       "</table>\n"
      ],
      "text/latex": [
       "\\begin{tabular}{r|l}\n",
       " MaxValue\\\\\n",
       "\\hline\n",
       "\t 107.5\\\\\n",
       "\\end{tabular}\n"
      ],
      "text/plain": [
       "  MaxValue\n",
       "1 107.5   "
      ]
     },
     "metadata": {},
     "output_type": "display_data"
    }
   ],
   "source": [
    "localDf <- collect(maxAvgTemp)\n",
    "localDf"
   ]
  },
  {
   "cell_type": "code",
   "execution_count": 19,
   "metadata": {
    "collapsed": false
   },
   "outputs": [
    {
     "data": {
      "text/html": [
       "<span style=white-space:pre-wrap>'SELECT * from usaDailyTempsTable WHERE avgtemp =  107.5'</span>"
      ],
      "text/latex": [
       "'SELECT * from usaDailyTempsTable WHERE avgtemp =  107.5'"
      ],
      "text/markdown": [
       "<span style=white-space:pre-wrap>'SELECT * from usaDailyTempsTable WHERE avgtemp =  107.5'</span>"
      ],
      "text/plain": [
       "[1] \"SELECT * from usaDailyTempsTable WHERE avgtemp =  107.5\""
      ]
     },
     "metadata": {},
     "output_type": "display_data"
    }
   ],
   "source": [
    "# Filter the SparkDataFrame to find the rows with the max value\n",
    "\n",
    "query <- paste(\"SELECT * from usaDailyTempsTable WHERE avgtemp = \", \n",
    "               localDf[1, 'MaxValue'])\n",
    "query"
   ]
  },
  {
   "cell_type": "code",
   "execution_count": 20,
   "metadata": {
    "collapsed": false
   },
   "outputs": [
    {
     "data": {
      "text/plain": [
       "SparkDataFrame[state:string, city:string, month:int, day:int, year:int, avgtemp:double]"
      ]
     },
     "metadata": {},
     "output_type": "display_data"
    }
   ],
   "source": [
    "maxData <- sql(query)\n",
    "maxData"
   ]
  },
  {
   "cell_type": "code",
   "execution_count": 21,
   "metadata": {
    "collapsed": false
   },
   "outputs": [
    {
     "data": {
      "text/html": [
       "<table>\n",
       "<thead><tr><th scope=col>state</th><th scope=col>city</th><th scope=col>month</th><th scope=col>day</th><th scope=col>year</th><th scope=col>avgtemp</th></tr></thead>\n",
       "<tbody>\n",
       "\t<tr><td>Arizona</td><td>Yuma   </td><td>7      </td><td>22     </td><td>2006   </td><td>107.5  </td></tr>\n",
       "</tbody>\n",
       "</table>\n"
      ],
      "text/latex": [
       "\\begin{tabular}{r|llllll}\n",
       " state & city & month & day & year & avgtemp\\\\\n",
       "\\hline\n",
       "\t Arizona & Yuma    & 7       & 22      & 2006    & 107.5  \\\\\n",
       "\\end{tabular}\n"
      ],
      "text/plain": [
       "  state   city month day year avgtemp\n",
       "1 Arizona Yuma 7     22  2006 107.5  "
      ]
     },
     "metadata": {},
     "output_type": "display_data"
    }
   ],
   "source": [
    "# collect to local data frame\n",
    "collect(maxData)"
   ]
  },
  {
   "cell_type": "markdown",
   "metadata": {
    "collapsed": true
   },
   "source": [
    "### Aggregate to find the maximum of avgtemp grouping by Year"
   ]
  },
  {
   "cell_type": "code",
   "execution_count": 22,
   "metadata": {
    "collapsed": false
   },
   "outputs": [
    {
     "data": {
      "text/html": [
       "<span style=white-space:pre-wrap>'SELECT year, max(avgtemp) AS MaxValue FROM usaDailyTempsTable \n",
       "             GROUP BY year'</span>"
      ],
      "text/latex": [
       "'SELECT year, max(avgtemp) AS MaxValue FROM usaDailyTempsTable \n",
       "             GROUP BY year'"
      ],
      "text/markdown": [
       "<span style=white-space:pre-wrap>'SELECT year, max(avgtemp) AS MaxValue FROM usaDailyTempsTable \n",
       "             GROUP BY year'</span>"
      ],
      "text/plain": [
       "[1] \"SELECT year, max(avgtemp) AS MaxValue FROM usaDailyTempsTable \\n             GROUP BY year\""
      ]
     },
     "metadata": {},
     "output_type": "display_data"
    }
   ],
   "source": [
    "query <- \"SELECT year, max(avgtemp) AS MaxValue FROM usaDailyTempsTable \n",
    "             GROUP BY year\"\n",
    "query"
   ]
  },
  {
   "cell_type": "code",
   "execution_count": 23,
   "metadata": {
    "collapsed": false
   },
   "outputs": [
    {
     "data": {
      "text/plain": [
       "SparkDataFrame[year:int, MaxValue:double]"
      ]
     },
     "metadata": {},
     "output_type": "display_data"
    }
   ],
   "source": [
    "maxTempByYear <- sql(query)\n",
    "maxTempByYear"
   ]
  },
  {
   "cell_type": "code",
   "execution_count": 24,
   "metadata": {
    "collapsed": false
   },
   "outputs": [
    {
     "data": {
      "text/html": [
       "21"
      ],
      "text/latex": [
       "21"
      ],
      "text/markdown": [
       "21"
      ],
      "text/plain": [
       "[1] 21"
      ]
     },
     "metadata": {},
     "output_type": "display_data"
    }
   ],
   "source": [
    "count(maxTempByYear)"
   ]
  },
  {
   "cell_type": "code",
   "execution_count": 25,
   "metadata": {
    "collapsed": false
   },
   "outputs": [
    {
     "data": {
      "text/html": [
       "<table>\n",
       "<thead><tr><th scope=col>year</th><th scope=col>MaxValue</th></tr></thead>\n",
       "<tbody>\n",
       "\t<tr><td>2003 </td><td>105.8</td></tr>\n",
       "\t<tr><td>2007 </td><td>104.4</td></tr>\n",
       "\t<tr><td>2015 </td><td>105.1</td></tr>\n",
       "\t<tr><td>2006 </td><td>107.5</td></tr>\n",
       "\t<tr><td>2013 </td><td>104.9</td></tr>\n",
       "\t<tr><td>1997 </td><td>100.6</td></tr>\n",
       "\t<tr><td>2014 </td><td>103.8</td></tr>\n",
       "\t<tr><td>2004 </td><td>101.0</td></tr>\n",
       "\t<tr><td>1996 </td><td>104.3</td></tr>\n",
       "\t<tr><td>1998 </td><td>103.0</td></tr>\n",
       "\t<tr><td>2012 </td><td>103.4</td></tr>\n",
       "\t<tr><td>2009 </td><td>103.3</td></tr>\n",
       "\t<tr><td>1995 </td><td>104.3</td></tr>\n",
       "\t<tr><td>2001 </td><td>104.4</td></tr>\n",
       "\t<tr><td>2005 </td><td>105.5</td></tr>\n",
       "\t<tr><td>2000 </td><td>101.6</td></tr>\n",
       "\t<tr><td>2010 </td><td>103.4</td></tr>\n",
       "\t<tr><td>2011 </td><td>103.1</td></tr>\n",
       "\t<tr><td>2008 </td><td>102.9</td></tr>\n",
       "\t<tr><td>1999 </td><td>100.1</td></tr>\n",
       "\t<tr><td>2002 </td><td>102.6</td></tr>\n",
       "</tbody>\n",
       "</table>\n"
      ],
      "text/latex": [
       "\\begin{tabular}{r|ll}\n",
       " year & MaxValue\\\\\n",
       "\\hline\n",
       "\t 2003  & 105.8\\\\\n",
       "\t 2007  & 104.4\\\\\n",
       "\t 2015  & 105.1\\\\\n",
       "\t 2006  & 107.5\\\\\n",
       "\t 2013  & 104.9\\\\\n",
       "\t 1997  & 100.6\\\\\n",
       "\t 2014  & 103.8\\\\\n",
       "\t 2004  & 101.0\\\\\n",
       "\t 1996  & 104.3\\\\\n",
       "\t 1998  & 103.0\\\\\n",
       "\t 2012  & 103.4\\\\\n",
       "\t 2009  & 103.3\\\\\n",
       "\t 1995  & 104.3\\\\\n",
       "\t 2001  & 104.4\\\\\n",
       "\t 2005  & 105.5\\\\\n",
       "\t 2000  & 101.6\\\\\n",
       "\t 2010  & 103.4\\\\\n",
       "\t 2011  & 103.1\\\\\n",
       "\t 2008  & 102.9\\\\\n",
       "\t 1999  & 100.1\\\\\n",
       "\t 2002  & 102.6\\\\\n",
       "\\end{tabular}\n"
      ],
      "text/plain": [
       "   year MaxValue\n",
       "1  2003 105.8   \n",
       "2  2007 104.4   \n",
       "3  2015 105.1   \n",
       "4  2006 107.5   \n",
       "5  2013 104.9   \n",
       "6  1997 100.6   \n",
       "7  2014 103.8   \n",
       "8  2004 101.0   \n",
       "9  1996 104.3   \n",
       "10 1998 103.0   \n",
       "11 2012 103.4   \n",
       "12 2009 103.3   \n",
       "13 1995 104.3   \n",
       "14 2001 104.4   \n",
       "15 2005 105.5   \n",
       "16 2000 101.6   \n",
       "17 2010 103.4   \n",
       "18 2011 103.1   \n",
       "19 2008 102.9   \n",
       "20 1999 100.1   \n",
       "21 2002 102.6   "
      ]
     },
     "metadata": {},
     "output_type": "display_data"
    }
   ],
   "source": [
    "collect(maxTempByYear)"
   ]
  },
  {
   "cell_type": "code",
   "execution_count": 26,
   "metadata": {
    "collapsed": false
   },
   "outputs": [
    {
     "data": {
      "text/html": [
       "<span style=white-space:pre-wrap>'SELECT year, max(avgtemp) AS MaxValue FROM usaDailyTempsTable \n",
       "               GROUP BY year ORDER BY year'</span>"
      ],
      "text/latex": [
       "'SELECT year, max(avgtemp) AS MaxValue FROM usaDailyTempsTable \n",
       "               GROUP BY year ORDER BY year'"
      ],
      "text/markdown": [
       "<span style=white-space:pre-wrap>'SELECT year, max(avgtemp) AS MaxValue FROM usaDailyTempsTable \n",
       "               GROUP BY year ORDER BY year'</span>"
      ],
      "text/plain": [
       "[1] \"SELECT year, max(avgtemp) AS MaxValue FROM usaDailyTempsTable \\n               GROUP BY year ORDER BY year\""
      ]
     },
     "metadata": {},
     "output_type": "display_data"
    }
   ],
   "source": [
    "query <- \"SELECT year, max(avgtemp) AS MaxValue FROM usaDailyTempsTable \n",
    "               GROUP BY year ORDER BY year\"\n",
    "query\n"
   ]
  },
  {
   "cell_type": "code",
   "execution_count": 27,
   "metadata": {
    "collapsed": false
   },
   "outputs": [
    {
     "data": {
      "text/plain": [
       "SparkDataFrame[year:int, MaxValue:double]"
      ]
     },
     "metadata": {},
     "output_type": "display_data"
    }
   ],
   "source": [
    "maxTempByYear <- sql(query)\n",
    "maxTempByYear"
   ]
  },
  {
   "cell_type": "code",
   "execution_count": 28,
   "metadata": {
    "collapsed": false
   },
   "outputs": [
    {
     "data": {
      "text/html": [
       "21"
      ],
      "text/latex": [
       "21"
      ],
      "text/markdown": [
       "21"
      ],
      "text/plain": [
       "[1] 21"
      ]
     },
     "metadata": {},
     "output_type": "display_data"
    },
    {
     "data": {
      "text/html": [
       "<table>\n",
       "<thead><tr><th scope=col>year</th><th scope=col>MaxValue</th></tr></thead>\n",
       "<tbody>\n",
       "\t<tr><td>1995 </td><td>104.3</td></tr>\n",
       "\t<tr><td>1996 </td><td>104.3</td></tr>\n",
       "\t<tr><td>1997 </td><td>100.6</td></tr>\n",
       "\t<tr><td>1998 </td><td>103.0</td></tr>\n",
       "\t<tr><td>1999 </td><td>100.1</td></tr>\n",
       "\t<tr><td>2000 </td><td>101.6</td></tr>\n",
       "\t<tr><td>2001 </td><td>104.4</td></tr>\n",
       "\t<tr><td>2002 </td><td>102.6</td></tr>\n",
       "\t<tr><td>2003 </td><td>105.8</td></tr>\n",
       "\t<tr><td>2004 </td><td>101.0</td></tr>\n",
       "\t<tr><td>2005 </td><td>105.5</td></tr>\n",
       "\t<tr><td>2006 </td><td>107.5</td></tr>\n",
       "\t<tr><td>2007 </td><td>104.4</td></tr>\n",
       "\t<tr><td>2008 </td><td>102.9</td></tr>\n",
       "\t<tr><td>2009 </td><td>103.3</td></tr>\n",
       "\t<tr><td>2010 </td><td>103.4</td></tr>\n",
       "\t<tr><td>2011 </td><td>103.1</td></tr>\n",
       "\t<tr><td>2012 </td><td>103.4</td></tr>\n",
       "\t<tr><td>2013 </td><td>104.9</td></tr>\n",
       "\t<tr><td>2014 </td><td>103.8</td></tr>\n",
       "\t<tr><td>2015 </td><td>105.1</td></tr>\n",
       "</tbody>\n",
       "</table>\n"
      ],
      "text/latex": [
       "\\begin{tabular}{r|ll}\n",
       " year & MaxValue\\\\\n",
       "\\hline\n",
       "\t 1995  & 104.3\\\\\n",
       "\t 1996  & 104.3\\\\\n",
       "\t 1997  & 100.6\\\\\n",
       "\t 1998  & 103.0\\\\\n",
       "\t 1999  & 100.1\\\\\n",
       "\t 2000  & 101.6\\\\\n",
       "\t 2001  & 104.4\\\\\n",
       "\t 2002  & 102.6\\\\\n",
       "\t 2003  & 105.8\\\\\n",
       "\t 2004  & 101.0\\\\\n",
       "\t 2005  & 105.5\\\\\n",
       "\t 2006  & 107.5\\\\\n",
       "\t 2007  & 104.4\\\\\n",
       "\t 2008  & 102.9\\\\\n",
       "\t 2009  & 103.3\\\\\n",
       "\t 2010  & 103.4\\\\\n",
       "\t 2011  & 103.1\\\\\n",
       "\t 2012  & 103.4\\\\\n",
       "\t 2013  & 104.9\\\\\n",
       "\t 2014  & 103.8\\\\\n",
       "\t 2015  & 105.1\\\\\n",
       "\\end{tabular}\n"
      ],
      "text/plain": [
       "   year MaxValue\n",
       "1  1995 104.3   \n",
       "2  1996 104.3   \n",
       "3  1997 100.6   \n",
       "4  1998 103.0   \n",
       "5  1999 100.1   \n",
       "6  2000 101.6   \n",
       "7  2001 104.4   \n",
       "8  2002 102.6   \n",
       "9  2003 105.8   \n",
       "10 2004 101.0   \n",
       "11 2005 105.5   \n",
       "12 2006 107.5   \n",
       "13 2007 104.4   \n",
       "14 2008 102.9   \n",
       "15 2009 103.3   \n",
       "16 2010 103.4   \n",
       "17 2011 103.1   \n",
       "18 2012 103.4   \n",
       "19 2013 104.9   \n",
       "20 2014 103.8   \n",
       "21 2015 105.1   "
      ]
     },
     "metadata": {},
     "output_type": "display_data"
    }
   ],
   "source": [
    "count(maxTempByYear)\n",
    "collect(maxTempByYear)"
   ]
  },
  {
   "cell_type": "markdown",
   "metadata": {
    "collapsed": true
   },
   "source": [
    "### Aggregate to find the maximum of avgtemp grouping by State"
   ]
  },
  {
   "cell_type": "code",
   "execution_count": 29,
   "metadata": {
    "collapsed": false
   },
   "outputs": [
    {
     "data": {
      "text/html": [
       "<span style=white-space:pre-wrap>'SELECT state, max(avgtemp) AS MaxValue FROM usaDailyTempsTable \n",
       "               GROUP BY state ORDER BY state'</span>"
      ],
      "text/latex": [
       "'SELECT state, max(avgtemp) AS MaxValue FROM usaDailyTempsTable \n",
       "               GROUP BY state ORDER BY state'"
      ],
      "text/markdown": [
       "<span style=white-space:pre-wrap>'SELECT state, max(avgtemp) AS MaxValue FROM usaDailyTempsTable \n",
       "               GROUP BY state ORDER BY state'</span>"
      ],
      "text/plain": [
       "[1] \"SELECT state, max(avgtemp) AS MaxValue FROM usaDailyTempsTable \\n               GROUP BY state ORDER BY state\""
      ]
     },
     "metadata": {},
     "output_type": "display_data"
    }
   ],
   "source": [
    "query <- \"SELECT state, max(avgtemp) AS MaxValue FROM usaDailyTempsTable \n",
    "               GROUP BY state ORDER BY state\"\n",
    "query"
   ]
  },
  {
   "cell_type": "code",
   "execution_count": 30,
   "metadata": {
    "collapsed": false
   },
   "outputs": [
    {
     "data": {
      "text/plain": [
       "SparkDataFrame[state:string, MaxValue:double]"
      ]
     },
     "metadata": {},
     "output_type": "display_data"
    }
   ],
   "source": [
    "maxTempByState <- sql(query)\n",
    "maxTempByState"
   ]
  },
  {
   "cell_type": "code",
   "execution_count": 31,
   "metadata": {
    "collapsed": false
   },
   "outputs": [
    {
     "data": {
      "text/html": [
       "50"
      ],
      "text/latex": [
       "50"
      ],
      "text/markdown": [
       "50"
      ],
      "text/plain": [
       "[1] 50"
      ]
     },
     "metadata": {},
     "output_type": "display_data"
    }
   ],
   "source": [
    "count(maxTempByState)"
   ]
  },
  {
   "cell_type": "code",
   "execution_count": 32,
   "metadata": {
    "collapsed": false
   },
   "outputs": [
    {
     "data": {
      "text/html": [
       "<table>\n",
       "<thead><tr><th scope=col>state</th><th scope=col>MaxValue</th></tr></thead>\n",
       "<tbody>\n",
       "\t<tr><td>Alabama       </td><td> 91.5         </td></tr>\n",
       "\t<tr><td>Alaska        </td><td> 79.5         </td></tr>\n",
       "\t<tr><td>Arizona       </td><td>107.5         </td></tr>\n",
       "\t<tr><td>Arkansas      </td><td>100.7         </td></tr>\n",
       "\t<tr><td>California    </td><td>102.6         </td></tr>\n",
       "\t<tr><td>Colorado      </td><td> 94.7         </td></tr>\n",
       "\t<tr><td>Connecticut   </td><td> 89.8         </td></tr>\n",
       "\t<tr><td>Delaware      </td><td> 89.7         </td></tr>\n",
       "\t<tr><td>Florida       </td><td> 92.8         </td></tr>\n",
       "\t<tr><td>Georgia       </td><td> 97.7         </td></tr>\n",
       "\t<tr><td>Hawaii        </td><td> 87.2         </td></tr>\n",
       "\t<tr><td>Idaho         </td><td> 94.2         </td></tr>\n",
       "\t<tr><td>Illinois      </td><td> 92.3         </td></tr>\n",
       "\t<tr><td>Indiana       </td><td> 94.0         </td></tr>\n",
       "\t<tr><td>Iowa          </td><td> 93.0         </td></tr>\n",
       "\t<tr><td>Kansas        </td><td> 96.1         </td></tr>\n",
       "\t<tr><td>Kentucky      </td><td> 93.2         </td></tr>\n",
       "\t<tr><td>Louisiana     </td><td> 95.4         </td></tr>\n",
       "\t<tr><td>Maine         </td><td> 89.1         </td></tr>\n",
       "\t<tr><td>Maryland      </td><td> 92.8         </td></tr>\n",
       "\t<tr><td>Massachusetts </td><td> 90.7         </td></tr>\n",
       "\t<tr><td>Michigan      </td><td> 89.4         </td></tr>\n",
       "\t<tr><td>Minnesota     </td><td> 92.0         </td></tr>\n",
       "\t<tr><td>Mississippi   </td><td> 92.8         </td></tr>\n",
       "\t<tr><td>Missouri      </td><td> 96.3         </td></tr>\n",
       "\t<tr><td>Montana       </td><td>100.1         </td></tr>\n",
       "\t<tr><td>Nebraska      </td><td> 93.2         </td></tr>\n",
       "\t<tr><td>Nevada        </td><td>105.5         </td></tr>\n",
       "\t<tr><td>New Hampshire </td><td> 88.0         </td></tr>\n",
       "\t<tr><td>New Jersey    </td><td> 95.6         </td></tr>\n",
       "\t<tr><td>New Mexico    </td><td> 89.4         </td></tr>\n",
       "\t<tr><td>New York      </td><td> 93.7         </td></tr>\n",
       "\t<tr><td>North Carolina</td><td> 91.0         </td></tr>\n",
       "\t<tr><td>North Dakota  </td><td> 91.7         </td></tr>\n",
       "\t<tr><td>Ohio          </td><td> 91.2         </td></tr>\n",
       "\t<tr><td>Oklahoma      </td><td>100.4         </td></tr>\n",
       "\t<tr><td>Oregon        </td><td> 97.3         </td></tr>\n",
       "\t<tr><td>Pennsylvania  </td><td> 92.9         </td></tr>\n",
       "\t<tr><td>Rhode Island  </td><td> 89.2         </td></tr>\n",
       "\t<tr><td>South Carolina</td><td> 92.8         </td></tr>\n",
       "\t<tr><td>South Dakota  </td><td> 94.3         </td></tr>\n",
       "\t<tr><td>Tennessee     </td><td> 94.1         </td></tr>\n",
       "\t<tr><td>Texas         </td><td> 98.5         </td></tr>\n",
       "\t<tr><td>Utah          </td><td> 92.2         </td></tr>\n",
       "\t<tr><td>Vermont       </td><td> 87.4         </td></tr>\n",
       "\t<tr><td>Virginia      </td><td> 93.5         </td></tr>\n",
       "\t<tr><td>Washington    </td><td> 97.7         </td></tr>\n",
       "\t<tr><td>West Virginia </td><td> 92.5         </td></tr>\n",
       "\t<tr><td>Wisconsin     </td><td> 92.2         </td></tr>\n",
       "\t<tr><td>Wyoming       </td><td> 87.1         </td></tr>\n",
       "</tbody>\n",
       "</table>\n"
      ],
      "text/latex": [
       "\\begin{tabular}{r|ll}\n",
       " state & MaxValue\\\\\n",
       "\\hline\n",
       "\t Alabama        &  91.5         \\\\\n",
       "\t Alaska         &  79.5         \\\\\n",
       "\t Arizona        & 107.5         \\\\\n",
       "\t Arkansas       & 100.7         \\\\\n",
       "\t California     & 102.6         \\\\\n",
       "\t Colorado       &  94.7         \\\\\n",
       "\t Connecticut    &  89.8         \\\\\n",
       "\t Delaware       &  89.7         \\\\\n",
       "\t Florida        &  92.8         \\\\\n",
       "\t Georgia        &  97.7         \\\\\n",
       "\t Hawaii         &  87.2         \\\\\n",
       "\t Idaho          &  94.2         \\\\\n",
       "\t Illinois       &  92.3         \\\\\n",
       "\t Indiana        &  94.0         \\\\\n",
       "\t Iowa           &  93.0         \\\\\n",
       "\t Kansas         &  96.1         \\\\\n",
       "\t Kentucky       &  93.2         \\\\\n",
       "\t Louisiana      &  95.4         \\\\\n",
       "\t Maine          &  89.1         \\\\\n",
       "\t Maryland       &  92.8         \\\\\n",
       "\t Massachusetts  &  90.7         \\\\\n",
       "\t Michigan       &  89.4         \\\\\n",
       "\t Minnesota      &  92.0         \\\\\n",
       "\t Mississippi    &  92.8         \\\\\n",
       "\t Missouri       &  96.3         \\\\\n",
       "\t Montana        & 100.1         \\\\\n",
       "\t Nebraska       &  93.2         \\\\\n",
       "\t Nevada         & 105.5         \\\\\n",
       "\t New Hampshire  &  88.0         \\\\\n",
       "\t New Jersey     &  95.6         \\\\\n",
       "\t New Mexico     &  89.4         \\\\\n",
       "\t New York       &  93.7         \\\\\n",
       "\t North Carolina &  91.0         \\\\\n",
       "\t North Dakota   &  91.7         \\\\\n",
       "\t Ohio           &  91.2         \\\\\n",
       "\t Oklahoma       & 100.4         \\\\\n",
       "\t Oregon         &  97.3         \\\\\n",
       "\t Pennsylvania   &  92.9         \\\\\n",
       "\t Rhode Island   &  89.2         \\\\\n",
       "\t South Carolina &  92.8         \\\\\n",
       "\t South Dakota   &  94.3         \\\\\n",
       "\t Tennessee      &  94.1         \\\\\n",
       "\t Texas          &  98.5         \\\\\n",
       "\t Utah           &  92.2         \\\\\n",
       "\t Vermont        &  87.4         \\\\\n",
       "\t Virginia       &  93.5         \\\\\n",
       "\t Washington     &  97.7         \\\\\n",
       "\t West Virginia  &  92.5         \\\\\n",
       "\t Wisconsin      &  92.2         \\\\\n",
       "\t Wyoming        &  87.1         \\\\\n",
       "\\end{tabular}\n"
      ],
      "text/plain": [
       "   state          MaxValue\n",
       "1  Alabama         91.5   \n",
       "2  Alaska          79.5   \n",
       "3  Arizona        107.5   \n",
       "4  Arkansas       100.7   \n",
       "5  California     102.6   \n",
       "6  Colorado        94.7   \n",
       "7  Connecticut     89.8   \n",
       "8  Delaware        89.7   \n",
       "9  Florida         92.8   \n",
       "10 Georgia         97.7   \n",
       "11 Hawaii          87.2   \n",
       "12 Idaho           94.2   \n",
       "13 Illinois        92.3   \n",
       "14 Indiana         94.0   \n",
       "15 Iowa            93.0   \n",
       "16 Kansas          96.1   \n",
       "17 Kentucky        93.2   \n",
       "18 Louisiana       95.4   \n",
       "19 Maine           89.1   \n",
       "20 Maryland        92.8   \n",
       "21 Massachusetts   90.7   \n",
       "22 Michigan        89.4   \n",
       "23 Minnesota       92.0   \n",
       "24 Mississippi     92.8   \n",
       "25 Missouri        96.3   \n",
       "26 Montana        100.1   \n",
       "27 Nebraska        93.2   \n",
       "28 Nevada         105.5   \n",
       "29 New Hampshire   88.0   \n",
       "30 New Jersey      95.6   \n",
       "31 New Mexico      89.4   \n",
       "32 New York        93.7   \n",
       "33 North Carolina  91.0   \n",
       "34 North Dakota    91.7   \n",
       "35 Ohio            91.2   \n",
       "36 Oklahoma       100.4   \n",
       "37 Oregon          97.3   \n",
       "38 Pennsylvania    92.9   \n",
       "39 Rhode Island    89.2   \n",
       "40 South Carolina  92.8   \n",
       "41 South Dakota    94.3   \n",
       "42 Tennessee       94.1   \n",
       "43 Texas           98.5   \n",
       "44 Utah            92.2   \n",
       "45 Vermont         87.4   \n",
       "46 Virginia        93.5   \n",
       "47 Washington      97.7   \n",
       "48 West Virginia   92.5   \n",
       "49 Wisconsin       92.2   \n",
       "50 Wyoming         87.1   "
      ]
     },
     "metadata": {},
     "output_type": "display_data"
    }
   ],
   "source": [
    "collect(maxTempByState)"
   ]
  },
  {
   "cell_type": "markdown",
   "metadata": {
    "collapsed": true
   },
   "source": [
    "### Aggregate to find the number of entries grouping by State"
   ]
  },
  {
   "cell_type": "code",
   "execution_count": null,
   "metadata": {
    "collapsed": false
   },
   "outputs": [],
   "source": [
    "query <- \"SELECT state, count(*) AS count FROM usaDailyTempsTable \n",
    "            GROUP BY state ORDER BY count DESC\"\n",
    "query"
   ]
  },
  {
   "cell_type": "code",
   "execution_count": null,
   "metadata": {
    "collapsed": false
   },
   "outputs": [],
   "source": [
    "stateCounts <- sql(query)\n",
    "stateCounts"
   ]
  },
  {
   "cell_type": "code",
   "execution_count": null,
   "metadata": {
    "collapsed": false
   },
   "outputs": [],
   "source": [
    "collect(stateCounts)"
   ]
  },
  {
   "cell_type": "markdown",
   "metadata": {
    "collapsed": true
   },
   "source": [
    "### Aggregate to find the number of entries grouping by State and City"
   ]
  },
  {
   "cell_type": "code",
   "execution_count": null,
   "metadata": {
    "collapsed": false
   },
   "outputs": [],
   "source": [
    "query <- \"SELECT state, city, count(*) AS count FROM usaDailyTempsTable \n",
    "            GROUP BY state, city ORDER BY state, city\"\n",
    "query"
   ]
  },
  {
   "cell_type": "code",
   "execution_count": null,
   "metadata": {
    "collapsed": false
   },
   "outputs": [],
   "source": [
    "stateCityCounts <- sql(query)\n",
    "stateCityCounts"
   ]
  },
  {
   "cell_type": "code",
   "execution_count": null,
   "metadata": {
    "collapsed": false
   },
   "outputs": [],
   "source": [
    "collect(stateCityCounts)"
   ]
  },
  {
   "cell_type": "markdown",
   "metadata": {
    "collapsed": true
   },
   "source": [
    "### Number of cities for each state in the dataset"
   ]
  },
  {
   "cell_type": "code",
   "execution_count": null,
   "metadata": {
    "collapsed": true
   },
   "outputs": [],
   "source": [
    "# Register the DataFrame as a SQL table.\n",
    "\n",
    "createOrReplaceTempView(stateCityCounts, \"stateCityCountsTable\")"
   ]
  },
  {
   "cell_type": "code",
   "execution_count": null,
   "metadata": {
    "collapsed": false
   },
   "outputs": [],
   "source": [
    "query <- \"SELECT state, count(*) AS count FROM stateCityCountsTable \n",
    "             GROUP BY state ORDER BY state\"\n",
    "query"
   ]
  },
  {
   "cell_type": "code",
   "execution_count": null,
   "metadata": {
    "collapsed": false
   },
   "outputs": [],
   "source": [
    "collect(sql(query))"
   ]
  },
  {
   "cell_type": "markdown",
   "metadata": {
    "collapsed": true
   },
   "source": [
    "### Create a subset SparkDataFrame for Boston"
   ]
  },
  {
   "cell_type": "code",
   "execution_count": 33,
   "metadata": {
    "collapsed": false
   },
   "outputs": [
    {
     "data": {
      "text/html": [
       "'SELECT * FROM usaDailyTempsTable WHERE city == \\'Boston''"
      ],
      "text/latex": [
       "'SELECT * FROM usaDailyTempsTable WHERE city == \\textbackslash{}'Boston''"
      ],
      "text/markdown": [
       "'SELECT * FROM usaDailyTempsTable WHERE city == \\'Boston''"
      ],
      "text/plain": [
       "[1] \"SELECT * FROM usaDailyTempsTable WHERE city == 'Boston'\""
      ]
     },
     "metadata": {},
     "output_type": "display_data"
    }
   ],
   "source": [
    "query <- \"SELECT * FROM usaDailyTempsTable WHERE city == 'Boston'\"\n",
    "query"
   ]
  },
  {
   "cell_type": "code",
   "execution_count": 34,
   "metadata": {
    "collapsed": false
   },
   "outputs": [
    {
     "data": {
      "text/plain": [
       "SparkDataFrame[state:string, city:string, month:int, day:int, year:int, avgtemp:double]"
      ]
     },
     "metadata": {},
     "output_type": "display_data"
    }
   ],
   "source": [
    "bostonDailyTemps <- sql(query)\n",
    "\n",
    "bostonDailyTemps"
   ]
  },
  {
   "cell_type": "code",
   "execution_count": 35,
   "metadata": {
    "collapsed": false
   },
   "outputs": [
    {
     "data": {
      "text/html": [
       "7624"
      ],
      "text/latex": [
       "7624"
      ],
      "text/markdown": [
       "7624"
      ],
      "text/plain": [
       "[1] 7624"
      ]
     },
     "metadata": {},
     "output_type": "display_data"
    }
   ],
   "source": [
    "count(bostonDailyTemps)"
   ]
  },
  {
   "cell_type": "code",
   "execution_count": 36,
   "metadata": {
    "collapsed": true
   },
   "outputs": [],
   "source": [
    "# Register the DataFrame as a SQL table.\n",
    "\n",
    "createOrReplaceTempView(bostonDailyTemps, \"bostonDailyTempsTable\")"
   ]
  },
  {
   "cell_type": "markdown",
   "metadata": {},
   "source": [
    "#### Boston Average Temperatures By Year"
   ]
  },
  {
   "cell_type": "code",
   "execution_count": 37,
   "metadata": {
    "collapsed": false
   },
   "outputs": [
    {
     "data": {
      "text/html": [
       "<span style=white-space:pre-wrap>'SELECT year, avg(avgtemp) AS Average FROM bostonDailyTempsTable\n",
       "           GROUP BY year ORDER BY year'</span>"
      ],
      "text/latex": [
       "'SELECT year, avg(avgtemp) AS Average FROM bostonDailyTempsTable\n",
       "           GROUP BY year ORDER BY year'"
      ],
      "text/markdown": [
       "<span style=white-space:pre-wrap>'SELECT year, avg(avgtemp) AS Average FROM bostonDailyTempsTable\n",
       "           GROUP BY year ORDER BY year'</span>"
      ],
      "text/plain": [
       "[1] \"SELECT year, avg(avgtemp) AS Average FROM bostonDailyTempsTable\\n           GROUP BY year ORDER BY year\""
      ]
     },
     "metadata": {},
     "output_type": "display_data"
    }
   ],
   "source": [
    "query <- \"SELECT year, avg(avgtemp) AS Average FROM bostonDailyTempsTable\n",
    "           GROUP BY year ORDER BY year\"\n",
    "query"
   ]
  },
  {
   "cell_type": "code",
   "execution_count": 38,
   "metadata": {
    "collapsed": false
   },
   "outputs": [
    {
     "data": {
      "text/plain": [
       "SparkDataFrame[year:int, Average:double]"
      ]
     },
     "metadata": {},
     "output_type": "display_data"
    }
   ],
   "source": [
    "bostonAvgTempsByYear <- sql(query)\n",
    "bostonAvgTempsByYear"
   ]
  },
  {
   "cell_type": "code",
   "execution_count": 39,
   "metadata": {
    "collapsed": false
   },
   "outputs": [
    {
     "data": {
      "text/html": [
       "<table>\n",
       "<thead><tr><th scope=col>year</th><th scope=col>Average</th></tr></thead>\n",
       "<tbody>\n",
       "\t<tr><td>1995    </td><td>51.32027</td></tr>\n",
       "\t<tr><td>1996    </td><td>47.71749</td></tr>\n",
       "\t<tr><td>1997    </td><td>50.83863</td></tr>\n",
       "\t<tr><td>1998    </td><td>51.51562</td></tr>\n",
       "\t<tr><td>1999    </td><td>52.33945</td></tr>\n",
       "\t<tr><td>2000    </td><td>50.36148</td></tr>\n",
       "\t<tr><td>2001    </td><td>52.42822</td></tr>\n",
       "\t<tr><td>2002    </td><td>50.41205</td></tr>\n",
       "\t<tr><td>2003    </td><td>49.73014</td></tr>\n",
       "\t<tr><td>2004    </td><td>50.52514</td></tr>\n",
       "\t<tr><td>2005    </td><td>50.97726</td></tr>\n",
       "\t<tr><td>2006    </td><td>53.02055</td></tr>\n",
       "\t<tr><td>2007    </td><td>51.12219</td></tr>\n",
       "\t<tr><td>2008    </td><td>50.95355</td></tr>\n",
       "\t<tr><td>2009    </td><td>50.32247</td></tr>\n",
       "\t<tr><td>2010    </td><td>53.47205</td></tr>\n",
       "\t<tr><td>2011    </td><td>53.22384</td></tr>\n",
       "\t<tr><td>2012    </td><td>53.86749</td></tr>\n",
       "\t<tr><td>2013    </td><td>51.69753</td></tr>\n",
       "\t<tr><td>2014    </td><td>50.95452</td></tr>\n",
       "\t<tr><td>2015    </td><td>52.46959</td></tr>\n",
       "</tbody>\n",
       "</table>\n"
      ],
      "text/latex": [
       "\\begin{tabular}{r|ll}\n",
       " year & Average\\\\\n",
       "\\hline\n",
       "\t 1995     & 51.32027\\\\\n",
       "\t 1996     & 47.71749\\\\\n",
       "\t 1997     & 50.83863\\\\\n",
       "\t 1998     & 51.51562\\\\\n",
       "\t 1999     & 52.33945\\\\\n",
       "\t 2000     & 50.36148\\\\\n",
       "\t 2001     & 52.42822\\\\\n",
       "\t 2002     & 50.41205\\\\\n",
       "\t 2003     & 49.73014\\\\\n",
       "\t 2004     & 50.52514\\\\\n",
       "\t 2005     & 50.97726\\\\\n",
       "\t 2006     & 53.02055\\\\\n",
       "\t 2007     & 51.12219\\\\\n",
       "\t 2008     & 50.95355\\\\\n",
       "\t 2009     & 50.32247\\\\\n",
       "\t 2010     & 53.47205\\\\\n",
       "\t 2011     & 53.22384\\\\\n",
       "\t 2012     & 53.86749\\\\\n",
       "\t 2013     & 51.69753\\\\\n",
       "\t 2014     & 50.95452\\\\\n",
       "\t 2015     & 52.46959\\\\\n",
       "\\end{tabular}\n"
      ],
      "text/plain": [
       "   year Average \n",
       "1  1995 51.32027\n",
       "2  1996 47.71749\n",
       "3  1997 50.83863\n",
       "4  1998 51.51562\n",
       "5  1999 52.33945\n",
       "6  2000 50.36148\n",
       "7  2001 52.42822\n",
       "8  2002 50.41205\n",
       "9  2003 49.73014\n",
       "10 2004 50.52514\n",
       "11 2005 50.97726\n",
       "12 2006 53.02055\n",
       "13 2007 51.12219\n",
       "14 2008 50.95355\n",
       "15 2009 50.32247\n",
       "16 2010 53.47205\n",
       "17 2011 53.22384\n",
       "18 2012 53.86749\n",
       "19 2013 51.69753\n",
       "20 2014 50.95452\n",
       "21 2015 52.46959"
      ]
     },
     "metadata": {},
     "output_type": "display_data"
    }
   ],
   "source": [
    "collect(bostonAvgTempsByYear)"
   ]
  },
  {
   "cell_type": "markdown",
   "metadata": {},
   "source": [
    "#### Boston Average Temperatures By Year"
   ]
  },
  {
   "cell_type": "code",
   "execution_count": 40,
   "metadata": {
    "collapsed": false
   },
   "outputs": [
    {
     "data": {
      "text/html": [
       "<span style=white-space:pre-wrap>'SELECT month, avg(avgtemp) AS Average FROM bostonDailyTempsTable \n",
       "             GROUP BY month ORDER BY month'</span>"
      ],
      "text/latex": [
       "'SELECT month, avg(avgtemp) AS Average FROM bostonDailyTempsTable \n",
       "             GROUP BY month ORDER BY month'"
      ],
      "text/markdown": [
       "<span style=white-space:pre-wrap>'SELECT month, avg(avgtemp) AS Average FROM bostonDailyTempsTable \n",
       "             GROUP BY month ORDER BY month'</span>"
      ],
      "text/plain": [
       "[1] \"SELECT month, avg(avgtemp) AS Average FROM bostonDailyTempsTable \\n             GROUP BY month ORDER BY month\""
      ]
     },
     "metadata": {},
     "output_type": "display_data"
    }
   ],
   "source": [
    "query <- \"SELECT month, avg(avgtemp) AS Average FROM bostonDailyTempsTable \n",
    "             GROUP BY month ORDER BY month\"\n",
    "query"
   ]
  },
  {
   "cell_type": "code",
   "execution_count": 41,
   "metadata": {
    "collapsed": false
   },
   "outputs": [
    {
     "data": {
      "text/plain": [
       "SparkDataFrame[month:int, Average:double]"
      ]
     },
     "metadata": {},
     "output_type": "display_data"
    }
   ],
   "source": [
    "bostonAvgTempsByMonth <- sql(query)\n",
    "bostonAvgTempsByMonth"
   ]
  },
  {
   "cell_type": "code",
   "execution_count": 42,
   "metadata": {
    "collapsed": false
   },
   "outputs": [
    {
     "data": {
      "text/html": [
       "<table>\n",
       "<thead><tr><th scope=col>month</th><th scope=col>Average</th></tr></thead>\n",
       "<tbody>\n",
       "\t<tr><td> 1      </td><td>29.76667</td></tr>\n",
       "\t<tr><td> 2      </td><td>31.47032</td></tr>\n",
       "\t<tr><td> 3      </td><td>37.57604</td></tr>\n",
       "\t<tr><td> 4      </td><td>47.08413</td></tr>\n",
       "\t<tr><td> 5      </td><td>57.57803</td></tr>\n",
       "\t<tr><td> 6      </td><td>66.10714</td></tr>\n",
       "\t<tr><td> 7      </td><td>73.55038</td></tr>\n",
       "\t<tr><td> 8      </td><td>71.68909</td></tr>\n",
       "\t<tr><td> 9      </td><td>65.05762</td></tr>\n",
       "\t<tr><td>10      </td><td>54.73456</td></tr>\n",
       "\t<tr><td>11      </td><td>44.89366</td></tr>\n",
       "\t<tr><td>12      </td><td>34.99742</td></tr>\n",
       "</tbody>\n",
       "</table>\n"
      ],
      "text/latex": [
       "\\begin{tabular}{r|ll}\n",
       " month & Average\\\\\n",
       "\\hline\n",
       "\t  1       & 29.76667\\\\\n",
       "\t  2       & 31.47032\\\\\n",
       "\t  3       & 37.57604\\\\\n",
       "\t  4       & 47.08413\\\\\n",
       "\t  5       & 57.57803\\\\\n",
       "\t  6       & 66.10714\\\\\n",
       "\t  7       & 73.55038\\\\\n",
       "\t  8       & 71.68909\\\\\n",
       "\t  9       & 65.05762\\\\\n",
       "\t 10       & 54.73456\\\\\n",
       "\t 11       & 44.89366\\\\\n",
       "\t 12       & 34.99742\\\\\n",
       "\\end{tabular}\n"
      ],
      "text/plain": [
       "   month Average \n",
       "1   1    29.76667\n",
       "2   2    31.47032\n",
       "3   3    37.57604\n",
       "4   4    47.08413\n",
       "5   5    57.57803\n",
       "6   6    66.10714\n",
       "7   7    73.55038\n",
       "8   8    71.68909\n",
       "9   9    65.05762\n",
       "10 10    54.73456\n",
       "11 11    44.89366\n",
       "12 12    34.99742"
      ]
     },
     "metadata": {},
     "output_type": "display_data"
    }
   ],
   "source": [
    "collect(bostonAvgTempsByMonth)"
   ]
  },
  {
   "cell_type": "markdown",
   "metadata": {},
   "source": [
    "#### Boston Average Temperatures By Year and Month"
   ]
  },
  {
   "cell_type": "code",
   "execution_count": 43,
   "metadata": {
    "collapsed": false
   },
   "outputs": [
    {
     "data": {
      "text/html": [
       "<span style=white-space:pre-wrap>'SELECT year, month, avg(avgtemp) AS Average FROM bostonDailyTempsTable \n",
       "             GROUP BY year, month ORDER BY year, month'</span>"
      ],
      "text/latex": [
       "'SELECT year, month, avg(avgtemp) AS Average FROM bostonDailyTempsTable \n",
       "             GROUP BY year, month ORDER BY year, month'"
      ],
      "text/markdown": [
       "<span style=white-space:pre-wrap>'SELECT year, month, avg(avgtemp) AS Average FROM bostonDailyTempsTable \n",
       "             GROUP BY year, month ORDER BY year, month'</span>"
      ],
      "text/plain": [
       "[1] \"SELECT year, month, avg(avgtemp) AS Average FROM bostonDailyTempsTable \\n             GROUP BY year, month ORDER BY year, month\""
      ]
     },
     "metadata": {},
     "output_type": "display_data"
    }
   ],
   "source": [
    "query <- \"SELECT year, month, avg(avgtemp) AS Average FROM bostonDailyTempsTable \n",
    "             GROUP BY year, month ORDER BY year, month\"\n",
    "query"
   ]
  },
  {
   "cell_type": "code",
   "execution_count": 44,
   "metadata": {
    "collapsed": false
   },
   "outputs": [
    {
     "data": {
      "text/plain": [
       "SparkDataFrame[year:int, month:int, Average:double]"
      ]
     },
     "metadata": {},
     "output_type": "display_data"
    }
   ],
   "source": [
    "bostonAvgTempsByYearAndMonth <- sql(query)\n",
    "bostonAvgTempsByYearAndMonth"
   ]
  },
  {
   "cell_type": "code",
   "execution_count": 45,
   "metadata": {
    "collapsed": false
   },
   "outputs": [
    {
     "data": {
      "text/html": [
       "<table>\n",
       "<thead><tr><th scope=col>year</th><th scope=col>month</th><th scope=col>Average</th></tr></thead>\n",
       "<tbody>\n",
       "\t<tr><td>1995    </td><td> 1      </td><td>34.51935</td></tr>\n",
       "\t<tr><td>1995    </td><td> 2      </td><td>28.57500</td></tr>\n",
       "\t<tr><td>1995    </td><td> 3      </td><td>38.03871</td></tr>\n",
       "\t<tr><td>1995    </td><td> 4      </td><td>45.42000</td></tr>\n",
       "\t<tr><td>1995    </td><td> 5      </td><td>56.69677</td></tr>\n",
       "\t<tr><td>1995    </td><td> 6      </td><td>68.47667</td></tr>\n",
       "\t<tr><td>1995    </td><td> 7      </td><td>75.57419</td></tr>\n",
       "\t<tr><td>1995    </td><td> 8      </td><td>72.52581</td></tr>\n",
       "\t<tr><td>1995    </td><td> 9      </td><td>62.93667</td></tr>\n",
       "\t<tr><td>1995    </td><td>10      </td><td>58.07742</td></tr>\n",
       "\t<tr><td>1995    </td><td>11      </td><td>42.20333</td></tr>\n",
       "\t<tr><td>1995    </td><td>12      </td><td>31.04194</td></tr>\n",
       "\t<tr><td>1996    </td><td> 1      </td><td>30.04516</td></tr>\n",
       "\t<tr><td>1996    </td><td> 2      </td><td>30.71034</td></tr>\n",
       "\t<tr><td>1996    </td><td> 3      </td><td>26.99355</td></tr>\n",
       "\t<tr><td>1996    </td><td> 4      </td><td>27.20000</td></tr>\n",
       "\t<tr><td>1996    </td><td> 5      </td><td>51.57419</td></tr>\n",
       "\t<tr><td>1996    </td><td> 6      </td><td>66.72667</td></tr>\n",
       "\t<tr><td>1996    </td><td> 7      </td><td>71.46452</td></tr>\n",
       "\t<tr><td>1996    </td><td> 8      </td><td>70.37419</td></tr>\n",
       "\t<tr><td>1996    </td><td> 9      </td><td>63.72667</td></tr>\n",
       "\t<tr><td>1996    </td><td>10      </td><td>53.51613</td></tr>\n",
       "\t<tr><td>1996    </td><td>11      </td><td>40.15000</td></tr>\n",
       "\t<tr><td>1996    </td><td>12      </td><td>39.25484</td></tr>\n",
       "\t<tr><td>1997    </td><td> 1      </td><td>29.02258</td></tr>\n",
       "\t<tr><td>1997    </td><td> 2      </td><td>36.32500</td></tr>\n",
       "\t<tr><td>1997    </td><td> 3      </td><td>36.59032</td></tr>\n",
       "\t<tr><td>1997    </td><td> 4      </td><td>45.82333</td></tr>\n",
       "\t<tr><td>1997    </td><td> 5      </td><td>55.48710</td></tr>\n",
       "\t<tr><td>1997    </td><td> 6      </td><td>67.87333</td></tr>\n",
       "\t<tr><td>⋮</td><td>⋮</td><td>⋮</td></tr>\n",
       "\t<tr><td>2013    </td><td> 6      </td><td>68.80000</td></tr>\n",
       "\t<tr><td>2013    </td><td> 7      </td><td>76.05161</td></tr>\n",
       "\t<tr><td>2013    </td><td> 8      </td><td>71.67419</td></tr>\n",
       "\t<tr><td>2013    </td><td> 9      </td><td>64.59667</td></tr>\n",
       "\t<tr><td>2013    </td><td>10      </td><td>56.28065</td></tr>\n",
       "\t<tr><td>2013    </td><td>11      </td><td>42.61000</td></tr>\n",
       "\t<tr><td>2013    </td><td>12      </td><td>33.29355</td></tr>\n",
       "\t<tr><td>2014    </td><td> 1      </td><td>26.78710</td></tr>\n",
       "\t<tr><td>2014    </td><td> 2      </td><td>29.05714</td></tr>\n",
       "\t<tr><td>2014    </td><td> 3      </td><td>33.06129</td></tr>\n",
       "\t<tr><td>2014    </td><td> 4      </td><td>47.81000</td></tr>\n",
       "\t<tr><td>2014    </td><td> 5      </td><td>58.10645</td></tr>\n",
       "\t<tr><td>2014    </td><td> 6      </td><td>68.11333</td></tr>\n",
       "\t<tr><td>2014    </td><td> 7      </td><td>73.54516</td></tr>\n",
       "\t<tr><td>2014    </td><td> 8      </td><td>70.27097</td></tr>\n",
       "\t<tr><td>2014    </td><td> 9      </td><td>65.94000</td></tr>\n",
       "\t<tr><td>2014    </td><td>10      </td><td>56.24194</td></tr>\n",
       "\t<tr><td>2014    </td><td>11      </td><td>42.64333</td></tr>\n",
       "\t<tr><td>2014    </td><td>12      </td><td>38.42581</td></tr>\n",
       "\t<tr><td>2015    </td><td> 1      </td><td>26.41613</td></tr>\n",
       "\t<tr><td>2015    </td><td> 2      </td><td>19.50357</td></tr>\n",
       "\t<tr><td>2015    </td><td> 3      </td><td>32.83871</td></tr>\n",
       "\t<tr><td>2015    </td><td> 4      </td><td>47.81667</td></tr>\n",
       "\t<tr><td>2015    </td><td> 5      </td><td>61.81935</td></tr>\n",
       "\t<tr><td>2015    </td><td> 6      </td><td>63.80333</td></tr>\n",
       "\t<tr><td>2015    </td><td> 7      </td><td>73.16129</td></tr>\n",
       "\t<tr><td>2015    </td><td> 8      </td><td>73.84516</td></tr>\n",
       "\t<tr><td>2015    </td><td> 9      </td><td>68.78333</td></tr>\n",
       "\t<tr><td>2015    </td><td>10      </td><td>53.93548</td></tr>\n",
       "\t<tr><td>2015    </td><td>11      </td><td>53.14000</td></tr>\n",
       "</tbody>\n",
       "</table>\n"
      ],
      "text/latex": [
       "\\begin{tabular}{r|lll}\n",
       " year & month & Average\\\\\n",
       "\\hline\n",
       "\t 1995     &  1       & 34.51935\\\\\n",
       "\t 1995     &  2       & 28.57500\\\\\n",
       "\t 1995     &  3       & 38.03871\\\\\n",
       "\t 1995     &  4       & 45.42000\\\\\n",
       "\t 1995     &  5       & 56.69677\\\\\n",
       "\t 1995     &  6       & 68.47667\\\\\n",
       "\t 1995     &  7       & 75.57419\\\\\n",
       "\t 1995     &  8       & 72.52581\\\\\n",
       "\t 1995     &  9       & 62.93667\\\\\n",
       "\t 1995     & 10       & 58.07742\\\\\n",
       "\t 1995     & 11       & 42.20333\\\\\n",
       "\t 1995     & 12       & 31.04194\\\\\n",
       "\t 1996     &  1       & 30.04516\\\\\n",
       "\t 1996     &  2       & 30.71034\\\\\n",
       "\t 1996     &  3       & 26.99355\\\\\n",
       "\t 1996     &  4       & 27.20000\\\\\n",
       "\t 1996     &  5       & 51.57419\\\\\n",
       "\t 1996     &  6       & 66.72667\\\\\n",
       "\t 1996     &  7       & 71.46452\\\\\n",
       "\t 1996     &  8       & 70.37419\\\\\n",
       "\t 1996     &  9       & 63.72667\\\\\n",
       "\t 1996     & 10       & 53.51613\\\\\n",
       "\t 1996     & 11       & 40.15000\\\\\n",
       "\t 1996     & 12       & 39.25484\\\\\n",
       "\t 1997     &  1       & 29.02258\\\\\n",
       "\t 1997     &  2       & 36.32500\\\\\n",
       "\t 1997     &  3       & 36.59032\\\\\n",
       "\t 1997     &  4       & 45.82333\\\\\n",
       "\t 1997     &  5       & 55.48710\\\\\n",
       "\t 1997     &  6       & 67.87333\\\\\n",
       "\t ⋮ & ⋮ & ⋮\\\\\n",
       "\t 2013     &  6       & 68.80000\\\\\n",
       "\t 2013     &  7       & 76.05161\\\\\n",
       "\t 2013     &  8       & 71.67419\\\\\n",
       "\t 2013     &  9       & 64.59667\\\\\n",
       "\t 2013     & 10       & 56.28065\\\\\n",
       "\t 2013     & 11       & 42.61000\\\\\n",
       "\t 2013     & 12       & 33.29355\\\\\n",
       "\t 2014     &  1       & 26.78710\\\\\n",
       "\t 2014     &  2       & 29.05714\\\\\n",
       "\t 2014     &  3       & 33.06129\\\\\n",
       "\t 2014     &  4       & 47.81000\\\\\n",
       "\t 2014     &  5       & 58.10645\\\\\n",
       "\t 2014     &  6       & 68.11333\\\\\n",
       "\t 2014     &  7       & 73.54516\\\\\n",
       "\t 2014     &  8       & 70.27097\\\\\n",
       "\t 2014     &  9       & 65.94000\\\\\n",
       "\t 2014     & 10       & 56.24194\\\\\n",
       "\t 2014     & 11       & 42.64333\\\\\n",
       "\t 2014     & 12       & 38.42581\\\\\n",
       "\t 2015     &  1       & 26.41613\\\\\n",
       "\t 2015     &  2       & 19.50357\\\\\n",
       "\t 2015     &  3       & 32.83871\\\\\n",
       "\t 2015     &  4       & 47.81667\\\\\n",
       "\t 2015     &  5       & 61.81935\\\\\n",
       "\t 2015     &  6       & 63.80333\\\\\n",
       "\t 2015     &  7       & 73.16129\\\\\n",
       "\t 2015     &  8       & 73.84516\\\\\n",
       "\t 2015     &  9       & 68.78333\\\\\n",
       "\t 2015     & 10       & 53.93548\\\\\n",
       "\t 2015     & 11       & 53.14000\\\\\n",
       "\\end{tabular}\n"
      ],
      "text/plain": [
       "    year month Average \n",
       "1   1995  1    34.51935\n",
       "2   1995  2    28.57500\n",
       "3   1995  3    38.03871\n",
       "4   1995  4    45.42000\n",
       "5   1995  5    56.69677\n",
       "6   1995  6    68.47667\n",
       "7   1995  7    75.57419\n",
       "8   1995  8    72.52581\n",
       "9   1995  9    62.93667\n",
       "10  1995 10    58.07742\n",
       "11  1995 11    42.20333\n",
       "12  1995 12    31.04194\n",
       "13  1996  1    30.04516\n",
       "14  1996  2    30.71034\n",
       "15  1996  3    26.99355\n",
       "16  1996  4    27.20000\n",
       "17  1996  5    51.57419\n",
       "18  1996  6    66.72667\n",
       "19  1996  7    71.46452\n",
       "20  1996  8    70.37419\n",
       "21  1996  9    63.72667\n",
       "22  1996 10    53.51613\n",
       "23  1996 11    40.15000\n",
       "24  1996 12    39.25484\n",
       "25  1997  1    29.02258\n",
       "26  1997  2    36.32500\n",
       "27  1997  3    36.59032\n",
       "28  1997  4    45.82333\n",
       "29  1997  5    55.48710\n",
       "30  1997  6    67.87333\n",
       "⋮   ⋮    ⋮     ⋮       \n",
       "222 2013  6    68.80000\n",
       "223 2013  7    76.05161\n",
       "224 2013  8    71.67419\n",
       "225 2013  9    64.59667\n",
       "226 2013 10    56.28065\n",
       "227 2013 11    42.61000\n",
       "228 2013 12    33.29355\n",
       "229 2014  1    26.78710\n",
       "230 2014  2    29.05714\n",
       "231 2014  3    33.06129\n",
       "232 2014  4    47.81000\n",
       "233 2014  5    58.10645\n",
       "234 2014  6    68.11333\n",
       "235 2014  7    73.54516\n",
       "236 2014  8    70.27097\n",
       "237 2014  9    65.94000\n",
       "238 2014 10    56.24194\n",
       "239 2014 11    42.64333\n",
       "240 2014 12    38.42581\n",
       "241 2015  1    26.41613\n",
       "242 2015  2    19.50357\n",
       "243 2015  3    32.83871\n",
       "244 2015  4    47.81667\n",
       "245 2015  5    61.81935\n",
       "246 2015  6    63.80333\n",
       "247 2015  7    73.16129\n",
       "248 2015  8    73.84516\n",
       "249 2015  9    68.78333\n",
       "250 2015 10    53.93548\n",
       "251 2015 11    53.14000"
      ]
     },
     "metadata": {},
     "output_type": "display_data"
    }
   ],
   "source": [
    "collect(bostonAvgTempsByYearAndMonth)"
   ]
  },
  {
   "cell_type": "markdown",
   "metadata": {},
   "source": [
    "#### Boston years in data"
   ]
  },
  {
   "cell_type": "code",
   "execution_count": null,
   "metadata": {
    "collapsed": false
   },
   "outputs": [],
   "source": [
    "query <- \"SELECT distinct(year) FROM bostonDailyTempsTable ORDER BY year\"\n",
    "query"
   ]
  },
  {
   "cell_type": "code",
   "execution_count": null,
   "metadata": {
    "collapsed": false
   },
   "outputs": [],
   "source": [
    "yearsDF <- collect(sql(query))\n",
    "yearsDF"
   ]
  },
  {
   "cell_type": "code",
   "execution_count": null,
   "metadata": {
    "collapsed": false
   },
   "outputs": [],
   "source": [
    "# Stop the SparkSession now\n",
    "sparkR.session.stop()"
   ]
  }
 ],
 "metadata": {
  "anaconda-cloud": {},
  "kernelspec": {
   "display_name": "R",
   "language": "R",
   "name": "ir"
  },
  "language_info": {
   "codemirror_mode": "r",
   "file_extension": ".r",
   "mimetype": "text/x-r-source",
   "name": "R",
   "pygments_lexer": "r",
   "version": "3.3.1"
  }
 },
 "nbformat": 4,
 "nbformat_minor": 1
}
