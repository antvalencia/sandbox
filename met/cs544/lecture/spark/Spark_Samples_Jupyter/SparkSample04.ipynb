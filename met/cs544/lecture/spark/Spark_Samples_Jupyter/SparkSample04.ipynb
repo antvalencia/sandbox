{
 "cells": [
  {
   "cell_type": "markdown",
   "metadata": {},
   "source": [
    "# SparkSQL R Sample - USA Zip Codes (JSON)"
   ]
  },
  {
   "cell_type": "code",
   "execution_count": 1,
   "metadata": {
    "collapsed": false
   },
   "outputs": [
    {
     "data": {
      "text/html": [
       "'/Users/skalathur/MyApps/spark'"
      ],
      "text/latex": [
       "'/Users/skalathur/MyApps/spark'"
      ],
      "text/markdown": [
       "'/Users/skalathur/MyApps/spark'"
      ],
      "text/plain": [
       "[1] \"/Users/skalathur/MyApps/spark\""
      ]
     },
     "metadata": {},
     "output_type": "display_data"
    }
   ],
   "source": [
    "Sys.getenv(\"SPARK_HOME\")"
   ]
  },
  {
   "cell_type": "code",
   "execution_count": 2,
   "metadata": {
    "collapsed": true
   },
   "outputs": [],
   "source": [
    "if (nchar(Sys.getenv(\"SPARK_HOME\")) < 1) {\n",
    "  Sys.setenv(SPARK_HOME = \"/Users/skalathur/MyApps/spark\")\n",
    "}"
   ]
  },
  {
   "cell_type": "code",
   "execution_count": 3,
   "metadata": {
    "collapsed": true
   },
   "outputs": [],
   "source": [
    "Sys.setenv(SPARK_LOCAL_IP=\"localhost\")"
   ]
  },
  {
   "cell_type": "code",
   "execution_count": 4,
   "metadata": {
    "collapsed": false
   },
   "outputs": [
    {
     "name": "stderr",
     "output_type": "stream",
     "text": [
      "\n",
      "Attaching package: ‘SparkR’\n",
      "\n",
      "The following objects are masked from ‘package:stats’:\n",
      "\n",
      "    cov, filter, lag, na.omit, predict, sd, var, window\n",
      "\n",
      "The following objects are masked from ‘package:base’:\n",
      "\n",
      "    as.data.frame, colnames, colnames<-, drop, endsWith, intersect,\n",
      "    rank, rbind, sample, startsWith, subset, summary, transform, union\n",
      "\n"
     ]
    }
   ],
   "source": [
    "library(SparkR, lib.loc = c(file.path(Sys.getenv(\"SPARK_HOME\"), \"R\", \"lib\")))"
   ]
  },
  {
   "cell_type": "code",
   "execution_count": 5,
   "metadata": {
    "collapsed": false
   },
   "outputs": [
    {
     "name": "stderr",
     "output_type": "stream",
     "text": [
      "Spark package found in SPARK_HOME: /Users/skalathur/MyApps/spark\n"
     ]
    },
    {
     "name": "stdout",
     "output_type": "stream",
     "text": [
      "Launching java with spark-submit command /Users/skalathur/MyApps/spark/bin/spark-submit   --driver-memory \"2g\" sparkr-shell /var/folders/s3/hy6_p79n3w1fw802t6ps40qr0000gp/T//RtmpTrgpVP/backend_portdf5a58a4b339 \n"
     ]
    },
    {
     "data": {
      "text/plain": [
       "Java ref type org.apache.spark.sql.SparkSession id 1 "
      ]
     },
     "metadata": {},
     "output_type": "display_data"
    }
   ],
   "source": [
    "sparkR.session(master = \"local[*]\", sparkConfig = list(spark.driver.memory = \"2g\"))"
   ]
  },
  {
   "cell_type": "code",
   "execution_count": 6,
   "metadata": {
    "collapsed": true
   },
   "outputs": [],
   "source": [
    "inputFile <- \"/temp/datasets/usa_zipcodes.json\""
   ]
  },
  {
   "cell_type": "code",
   "execution_count": 7,
   "metadata": {
    "collapsed": false
   },
   "outputs": [
    {
     "data": {
      "text/plain": [
       "SparkDataFrame[_id:string, city:string, loc:array<double>, pop:bigint, state:string]"
      ]
     },
     "metadata": {},
     "output_type": "display_data"
    }
   ],
   "source": [
    "usaZipCodes <- read.df(inputFile, source = \"json\", \n",
    "                         inferSchema='true')\n",
    "\n",
    "usaZipCodes"
   ]
  },
  {
   "cell_type": "code",
   "execution_count": 8,
   "metadata": {
    "collapsed": false
   },
   "outputs": [
    {
     "name": "stdout",
     "output_type": "stream",
     "text": [
      "root\n",
      " |-- _id: string (nullable = true)\n",
      " |-- city: string (nullable = true)\n",
      " |-- loc: array (nullable = true)\n",
      " |    |-- element: double (containsNull = true)\n",
      " |-- pop: long (nullable = true)\n",
      " |-- state: string (nullable = true)\n"
     ]
    }
   ],
   "source": [
    "printSchema(usaZipCodes)"
   ]
  },
  {
   "cell_type": "code",
   "execution_count": 9,
   "metadata": {
    "collapsed": false
   },
   "outputs": [
    {
     "data": {
      "text/html": [
       "29467"
      ],
      "text/latex": [
       "29467"
      ],
      "text/markdown": [
       "29467"
      ],
      "text/plain": [
       "[1] 29467"
      ]
     },
     "metadata": {},
     "output_type": "display_data"
    }
   ],
   "source": [
    "count(usaZipCodes)"
   ]
  },
  {
   "cell_type": "code",
   "execution_count": 10,
   "metadata": {
    "collapsed": false
   },
   "outputs": [
    {
     "data": {
      "text/html": [
       "<table>\n",
       "<thead><tr><th scope=col>_id</th><th scope=col>city</th><th scope=col>loc</th><th scope=col>pop</th><th scope=col>state</th></tr></thead>\n",
       "<tbody>\n",
       "\t<tr><td>01001              </td><td>AGAWAM             </td><td>-72.62274, 42.07021</td><td>15338              </td><td>MA                 </td></tr>\n",
       "\t<tr><td>01002              </td><td>CUSHMAN            </td><td>-72.51565, 42.37702</td><td>36963              </td><td>MA                 </td></tr>\n",
       "\t<tr><td>01005              </td><td>BARRE              </td><td>-72.10835, 42.40970</td><td> 4546              </td><td>MA                 </td></tr>\n",
       "\t<tr><td>01007              </td><td>BELCHERTOWN        </td><td>-72.41095, 42.27510</td><td>10579              </td><td>MA                 </td></tr>\n",
       "\t<tr><td>01008              </td><td>BLANDFORD          </td><td>-72.93611, 42.18295</td><td> 1240              </td><td>MA                 </td></tr>\n",
       "\t<tr><td>01010              </td><td>BRIMFIELD          </td><td>-72.18846, 42.11654</td><td> 3706              </td><td>MA                 </td></tr>\n",
       "</tbody>\n",
       "</table>\n"
      ],
      "text/latex": [
       "\\begin{tabular}{r|lllll}\n",
       " \\_id & city & loc & pop & state\\\\\n",
       "\\hline\n",
       "\t 01001               & AGAWAM              & -72.62274, 42.07021 & 15338               & MA                 \\\\\n",
       "\t 01002               & CUSHMAN             & -72.51565, 42.37702 & 36963               & MA                 \\\\\n",
       "\t 01005               & BARRE               & -72.10835, 42.40970 &  4546               & MA                 \\\\\n",
       "\t 01007               & BELCHERTOWN         & -72.41095, 42.27510 & 10579               & MA                 \\\\\n",
       "\t 01008               & BLANDFORD           & -72.93611, 42.18295 &  1240               & MA                 \\\\\n",
       "\t 01010               & BRIMFIELD           & -72.18846, 42.11654 &  3706               & MA                 \\\\\n",
       "\\end{tabular}\n"
      ],
      "text/plain": [
       "  _id   city        loc                 pop   state\n",
       "1 01001 AGAWAM      -72.62274, 42.07021 15338 MA   \n",
       "2 01002 CUSHMAN     -72.51565, 42.37702 36963 MA   \n",
       "3 01005 BARRE       -72.10835, 42.40970  4546 MA   \n",
       "4 01007 BELCHERTOWN -72.41095, 42.27510 10579 MA   \n",
       "5 01008 BLANDFORD   -72.93611, 42.18295  1240 MA   \n",
       "6 01010 BRIMFIELD   -72.18846, 42.11654  3706 MA   "
      ]
     },
     "metadata": {},
     "output_type": "display_data"
    }
   ],
   "source": [
    "head(usaZipCodes)"
   ]
  },
  {
   "cell_type": "code",
   "execution_count": 11,
   "metadata": {
    "collapsed": false
   },
   "outputs": [
    {
     "data": {
      "text/plain": [
       "SparkDataFrame[_id:string, city:string, loc:array<double>, pop:bigint, state:string]"
      ]
     },
     "metadata": {},
     "output_type": "display_data"
    }
   ],
   "source": [
    "persist(usaZipCodes, \"MEMORY_AND_DISK\")"
   ]
  },
  {
   "cell_type": "code",
   "execution_count": 12,
   "metadata": {
    "collapsed": true
   },
   "outputs": [],
   "source": [
    "createOrReplaceTempView(usaZipCodes, \"usaZipCodesTable\")"
   ]
  },
  {
   "cell_type": "code",
   "execution_count": 13,
   "metadata": {
    "collapsed": false
   },
   "outputs": [
    {
     "data": {
      "text/html": [
       "'SELECT * FROM usaZipCodesTable WHERE pop &gt; 100'"
      ],
      "text/latex": [
       "'SELECT * FROM usaZipCodesTable WHERE pop > 100'"
      ],
      "text/markdown": [
       "'SELECT * FROM usaZipCodesTable WHERE pop &gt; 100'"
      ],
      "text/plain": [
       "[1] \"SELECT * FROM usaZipCodesTable WHERE pop > 100\""
      ]
     },
     "metadata": {},
     "output_type": "display_data"
    }
   ],
   "source": [
    "# Keep only the zip codes with population > 100\n",
    "\n",
    "query <- \"SELECT * FROM usaZipCodesTable WHERE pop > 100\"\n",
    "query"
   ]
  },
  {
   "cell_type": "code",
   "execution_count": 14,
   "metadata": {
    "collapsed": false
   },
   "outputs": [
    {
     "data": {
      "text/plain": [
       "SparkDataFrame[_id:string, city:string, loc:array<double>, pop:bigint, state:string]"
      ]
     },
     "metadata": {},
     "output_type": "display_data"
    }
   ],
   "source": [
    "usaZipCodes <- sql(query)\n",
    "usaZipCodes"
   ]
  },
  {
   "cell_type": "code",
   "execution_count": 15,
   "metadata": {
    "collapsed": true
   },
   "outputs": [],
   "source": [
    "createOrReplaceTempView(usaZipCodes, \"usaZipCodesTable\")"
   ]
  },
  {
   "cell_type": "code",
   "execution_count": 16,
   "metadata": {
    "collapsed": false
   },
   "outputs": [
    {
     "data": {
      "text/html": [
       "'SELECT max(pop) as MaxPop, min(pop) as MinPop from usaZipCodesTable'"
      ],
      "text/latex": [
       "'SELECT max(pop) as MaxPop, min(pop) as MinPop from usaZipCodesTable'"
      ],
      "text/markdown": [
       "'SELECT max(pop) as MaxPop, min(pop) as MinPop from usaZipCodesTable'"
      ],
      "text/plain": [
       "[1] \"SELECT max(pop) as MaxPop, min(pop) as MinPop from usaZipCodesTable\""
      ]
     },
     "metadata": {},
     "output_type": "display_data"
    }
   ],
   "source": [
    "query <- \"SELECT max(pop) as MaxPop, min(pop) as MinPop from usaZipCodesTable\"\n",
    "query"
   ]
  },
  {
   "cell_type": "code",
   "execution_count": 17,
   "metadata": {
    "collapsed": false
   },
   "outputs": [
    {
     "data": {
      "text/plain": [
       "SparkDataFrame[MaxPop:bigint, MinPop:bigint]"
      ]
     },
     "metadata": {},
     "output_type": "display_data"
    }
   ],
   "source": [
    "maxAndMin <- sql(query)\n",
    "maxAndMin"
   ]
  },
  {
   "cell_type": "code",
   "execution_count": 18,
   "metadata": {
    "collapsed": false
   },
   "outputs": [
    {
     "data": {
      "text/html": [
       "<table>\n",
       "<thead><tr><th scope=col>MaxPop</th><th scope=col>MinPop</th></tr></thead>\n",
       "<tbody>\n",
       "\t<tr><td>112047</td><td>101   </td></tr>\n",
       "</tbody>\n",
       "</table>\n"
      ],
      "text/latex": [
       "\\begin{tabular}{r|ll}\n",
       " MaxPop & MinPop\\\\\n",
       "\\hline\n",
       "\t 112047 & 101   \\\\\n",
       "\\end{tabular}\n"
      ],
      "text/plain": [
       "  MaxPop MinPop\n",
       "1 112047 101   "
      ]
     },
     "metadata": {},
     "output_type": "display_data"
    }
   ],
   "source": [
    "localDf <- collect(maxAndMin)\n",
    "localDf"
   ]
  },
  {
   "cell_type": "markdown",
   "metadata": {},
   "source": [
    "## Number of zip codes in each state"
   ]
  },
  {
   "cell_type": "code",
   "execution_count": 19,
   "metadata": {
    "collapsed": false
   },
   "outputs": [
    {
     "data": {
      "text/html": [
       "'SELECT state, count(*) as Count FROM usaZipCodesTable GROUP BY state'"
      ],
      "text/latex": [
       "'SELECT state, count(*) as Count FROM usaZipCodesTable GROUP BY state'"
      ],
      "text/markdown": [
       "'SELECT state, count(*) as Count FROM usaZipCodesTable GROUP BY state'"
      ],
      "text/plain": [
       "[1] \"SELECT state, count(*) as Count FROM usaZipCodesTable GROUP BY state\""
      ]
     },
     "metadata": {},
     "output_type": "display_data"
    }
   ],
   "source": [
    "query <- \"SELECT state, count(*) as Count FROM usaZipCodesTable GROUP BY state\"\n",
    "query"
   ]
  },
  {
   "cell_type": "code",
   "execution_count": 20,
   "metadata": {
    "collapsed": false
   },
   "outputs": [
    {
     "data": {
      "text/plain": [
       "SparkDataFrame[state:string, Count:bigint]"
      ]
     },
     "metadata": {},
     "output_type": "display_data"
    }
   ],
   "source": [
    "zipCodesByState <- sql(query)\n",
    "zipCodesByState"
   ]
  },
  {
   "cell_type": "code",
   "execution_count": 21,
   "metadata": {
    "collapsed": false
   },
   "outputs": [
    {
     "data": {
      "text/html": [
       "51"
      ],
      "text/latex": [
       "51"
      ],
      "text/markdown": [
       "51"
      ],
      "text/plain": [
       "[1] 51"
      ]
     },
     "metadata": {},
     "output_type": "display_data"
    }
   ],
   "source": [
    "count(zipCodesByState)"
   ]
  },
  {
   "cell_type": "code",
   "execution_count": 22,
   "metadata": {
    "collapsed": false
   },
   "outputs": [
    {
     "data": {
      "text/html": [
       "<table>\n",
       "<thead><tr><th scope=col>state</th><th scope=col>Count</th></tr></thead>\n",
       "<tbody>\n",
       "\t<tr><td>SC  </td><td> 347</td></tr>\n",
       "\t<tr><td>AZ  </td><td> 260</td></tr>\n",
       "\t<tr><td>LA  </td><td> 457</td></tr>\n",
       "\t<tr><td>MN  </td><td> 877</td></tr>\n",
       "\t<tr><td>NJ  </td><td> 535</td></tr>\n",
       "\t<tr><td>DC  </td><td>  22</td></tr>\n",
       "\t<tr><td>OR  </td><td> 363</td></tr>\n",
       "\t<tr><td>VA  </td><td> 802</td></tr>\n",
       "\t<tr><td>RI  </td><td>  69</td></tr>\n",
       "\t<tr><td>KY  </td><td> 791</td></tr>\n",
       "\t<tr><td>WY  </td><td> 123</td></tr>\n",
       "\t<tr><td>NH  </td><td> 214</td></tr>\n",
       "\t<tr><td>MI  </td><td> 869</td></tr>\n",
       "\t<tr><td>NV  </td><td>  96</td></tr>\n",
       "\t<tr><td>WI  </td><td> 706</td></tr>\n",
       "\t<tr><td>ID  </td><td> 225</td></tr>\n",
       "\t<tr><td>CA  </td><td>1475</td></tr>\n",
       "\t<tr><td>CT  </td><td> 260</td></tr>\n",
       "\t<tr><td>NE  </td><td> 572</td></tr>\n",
       "\t<tr><td>MT  </td><td> 290</td></tr>\n",
       "\t<tr><td>NC  </td><td> 698</td></tr>\n",
       "\t<tr><td>VT  </td><td> 238</td></tr>\n",
       "\t<tr><td>MD  </td><td> 415</td></tr>\n",
       "\t<tr><td>DE  </td><td>  53</td></tr>\n",
       "\t<tr><td>MO  </td><td> 989</td></tr>\n",
       "\t<tr><td>IL  </td><td>1232</td></tr>\n",
       "\t<tr><td>ME  </td><td> 395</td></tr>\n",
       "\t<tr><td>ND  </td><td> 376</td></tr>\n",
       "\t<tr><td>WA  </td><td> 474</td></tr>\n",
       "\t<tr><td>MS  </td><td> 359</td></tr>\n",
       "\t<tr><td>AL  </td><td> 564</td></tr>\n",
       "\t<tr><td>IN  </td><td> 675</td></tr>\n",
       "\t<tr><td>OH  </td><td>1007</td></tr>\n",
       "\t<tr><td>TN  </td><td> 575</td></tr>\n",
       "\t<tr><td>IA  </td><td> 914</td></tr>\n",
       "\t<tr><td>NM  </td><td> 231</td></tr>\n",
       "\t<tr><td>PA  </td><td>1434</td></tr>\n",
       "\t<tr><td>SD  </td><td> 362</td></tr>\n",
       "\t<tr><td>NY  </td><td>1546</td></tr>\n",
       "\t<tr><td>TX  </td><td>1628</td></tr>\n",
       "\t<tr><td>WV  </td><td> 618</td></tr>\n",
       "\t<tr><td>GA  </td><td> 631</td></tr>\n",
       "\t<tr><td>MA  </td><td> 470</td></tr>\n",
       "\t<tr><td>KS  </td><td> 707</td></tr>\n",
       "\t<tr><td>FL  </td><td> 820</td></tr>\n",
       "\t<tr><td>CO  </td><td> 397</td></tr>\n",
       "\t<tr><td>AK  </td><td> 169</td></tr>\n",
       "\t<tr><td>AR  </td><td> 569</td></tr>\n",
       "\t<tr><td>OK  </td><td> 576</td></tr>\n",
       "\t<tr><td>UT  </td><td> 194</td></tr>\n",
       "\t<tr><td>HI  </td><td>  78</td></tr>\n",
       "</tbody>\n",
       "</table>\n"
      ],
      "text/latex": [
       "\\begin{tabular}{r|ll}\n",
       " state & Count\\\\\n",
       "\\hline\n",
       "\t SC   &  347\\\\\n",
       "\t AZ   &  260\\\\\n",
       "\t LA   &  457\\\\\n",
       "\t MN   &  877\\\\\n",
       "\t NJ   &  535\\\\\n",
       "\t DC   &   22\\\\\n",
       "\t OR   &  363\\\\\n",
       "\t VA   &  802\\\\\n",
       "\t RI   &   69\\\\\n",
       "\t KY   &  791\\\\\n",
       "\t WY   &  123\\\\\n",
       "\t NH   &  214\\\\\n",
       "\t MI   &  869\\\\\n",
       "\t NV   &   96\\\\\n",
       "\t WI   &  706\\\\\n",
       "\t ID   &  225\\\\\n",
       "\t CA   & 1475\\\\\n",
       "\t CT   &  260\\\\\n",
       "\t NE   &  572\\\\\n",
       "\t MT   &  290\\\\\n",
       "\t NC   &  698\\\\\n",
       "\t VT   &  238\\\\\n",
       "\t MD   &  415\\\\\n",
       "\t DE   &   53\\\\\n",
       "\t MO   &  989\\\\\n",
       "\t IL   & 1232\\\\\n",
       "\t ME   &  395\\\\\n",
       "\t ND   &  376\\\\\n",
       "\t WA   &  474\\\\\n",
       "\t MS   &  359\\\\\n",
       "\t AL   &  564\\\\\n",
       "\t IN   &  675\\\\\n",
       "\t OH   & 1007\\\\\n",
       "\t TN   &  575\\\\\n",
       "\t IA   &  914\\\\\n",
       "\t NM   &  231\\\\\n",
       "\t PA   & 1434\\\\\n",
       "\t SD   &  362\\\\\n",
       "\t NY   & 1546\\\\\n",
       "\t TX   & 1628\\\\\n",
       "\t WV   &  618\\\\\n",
       "\t GA   &  631\\\\\n",
       "\t MA   &  470\\\\\n",
       "\t KS   &  707\\\\\n",
       "\t FL   &  820\\\\\n",
       "\t CO   &  397\\\\\n",
       "\t AK   &  169\\\\\n",
       "\t AR   &  569\\\\\n",
       "\t OK   &  576\\\\\n",
       "\t UT   &  194\\\\\n",
       "\t HI   &   78\\\\\n",
       "\\end{tabular}\n"
      ],
      "text/plain": [
       "   state Count\n",
       "1  SC     347 \n",
       "2  AZ     260 \n",
       "3  LA     457 \n",
       "4  MN     877 \n",
       "5  NJ     535 \n",
       "6  DC      22 \n",
       "7  OR     363 \n",
       "8  VA     802 \n",
       "9  RI      69 \n",
       "10 KY     791 \n",
       "11 WY     123 \n",
       "12 NH     214 \n",
       "13 MI     869 \n",
       "14 NV      96 \n",
       "15 WI     706 \n",
       "16 ID     225 \n",
       "17 CA    1475 \n",
       "18 CT     260 \n",
       "19 NE     572 \n",
       "20 MT     290 \n",
       "21 NC     698 \n",
       "22 VT     238 \n",
       "23 MD     415 \n",
       "24 DE      53 \n",
       "25 MO     989 \n",
       "26 IL    1232 \n",
       "27 ME     395 \n",
       "28 ND     376 \n",
       "29 WA     474 \n",
       "30 MS     359 \n",
       "31 AL     564 \n",
       "32 IN     675 \n",
       "33 OH    1007 \n",
       "34 TN     575 \n",
       "35 IA     914 \n",
       "36 NM     231 \n",
       "37 PA    1434 \n",
       "38 SD     362 \n",
       "39 NY    1546 \n",
       "40 TX    1628 \n",
       "41 WV     618 \n",
       "42 GA     631 \n",
       "43 MA     470 \n",
       "44 KS     707 \n",
       "45 FL     820 \n",
       "46 CO     397 \n",
       "47 AK     169 \n",
       "48 AR     569 \n",
       "49 OK     576 \n",
       "50 UT     194 \n",
       "51 HI      78 "
      ]
     },
     "metadata": {},
     "output_type": "display_data"
    }
   ],
   "source": [
    "collect(zipCodesByState)"
   ]
  },
  {
   "cell_type": "code",
   "execution_count": 23,
   "metadata": {
    "collapsed": false
   },
   "outputs": [
    {
     "data": {
      "text/html": [
       "<span style=white-space:pre-wrap>'SELECT state, count(*) as Count FROM usaZipCodesTable \n",
       "            GROUP BY state ORDER BY state'</span>"
      ],
      "text/latex": [
       "'SELECT state, count(*) as Count FROM usaZipCodesTable \n",
       "            GROUP BY state ORDER BY state'"
      ],
      "text/markdown": [
       "<span style=white-space:pre-wrap>'SELECT state, count(*) as Count FROM usaZipCodesTable \n",
       "            GROUP BY state ORDER BY state'</span>"
      ],
      "text/plain": [
       "[1] \"SELECT state, count(*) as Count FROM usaZipCodesTable \\n            GROUP BY state ORDER BY state\""
      ]
     },
     "metadata": {},
     "output_type": "display_data"
    }
   ],
   "source": [
    "query <- \"SELECT state, count(*) as Count FROM usaZipCodesTable \n",
    "            GROUP BY state ORDER BY state\"\n",
    "query"
   ]
  },
  {
   "cell_type": "code",
   "execution_count": 24,
   "metadata": {
    "collapsed": false
   },
   "outputs": [
    {
     "data": {
      "text/html": [
       "<table>\n",
       "<thead><tr><th scope=col>state</th><th scope=col>Count</th></tr></thead>\n",
       "<tbody>\n",
       "\t<tr><td>AK  </td><td> 169</td></tr>\n",
       "\t<tr><td>AL  </td><td> 564</td></tr>\n",
       "\t<tr><td>AR  </td><td> 569</td></tr>\n",
       "\t<tr><td>AZ  </td><td> 260</td></tr>\n",
       "\t<tr><td>CA  </td><td>1475</td></tr>\n",
       "\t<tr><td>CO  </td><td> 397</td></tr>\n",
       "\t<tr><td>CT  </td><td> 260</td></tr>\n",
       "\t<tr><td>DC  </td><td>  22</td></tr>\n",
       "\t<tr><td>DE  </td><td>  53</td></tr>\n",
       "\t<tr><td>FL  </td><td> 820</td></tr>\n",
       "\t<tr><td>GA  </td><td> 631</td></tr>\n",
       "\t<tr><td>HI  </td><td>  78</td></tr>\n",
       "\t<tr><td>IA  </td><td> 914</td></tr>\n",
       "\t<tr><td>ID  </td><td> 225</td></tr>\n",
       "\t<tr><td>IL  </td><td>1232</td></tr>\n",
       "\t<tr><td>IN  </td><td> 675</td></tr>\n",
       "\t<tr><td>KS  </td><td> 707</td></tr>\n",
       "\t<tr><td>KY  </td><td> 791</td></tr>\n",
       "\t<tr><td>LA  </td><td> 457</td></tr>\n",
       "\t<tr><td>MA  </td><td> 470</td></tr>\n",
       "\t<tr><td>MD  </td><td> 415</td></tr>\n",
       "\t<tr><td>ME  </td><td> 395</td></tr>\n",
       "\t<tr><td>MI  </td><td> 869</td></tr>\n",
       "\t<tr><td>MN  </td><td> 877</td></tr>\n",
       "\t<tr><td>MO  </td><td> 989</td></tr>\n",
       "\t<tr><td>MS  </td><td> 359</td></tr>\n",
       "\t<tr><td>MT  </td><td> 290</td></tr>\n",
       "\t<tr><td>NC  </td><td> 698</td></tr>\n",
       "\t<tr><td>ND  </td><td> 376</td></tr>\n",
       "\t<tr><td>NE  </td><td> 572</td></tr>\n",
       "\t<tr><td>NH  </td><td> 214</td></tr>\n",
       "\t<tr><td>NJ  </td><td> 535</td></tr>\n",
       "\t<tr><td>NM  </td><td> 231</td></tr>\n",
       "\t<tr><td>NV  </td><td>  96</td></tr>\n",
       "\t<tr><td>NY  </td><td>1546</td></tr>\n",
       "\t<tr><td>OH  </td><td>1007</td></tr>\n",
       "\t<tr><td>OK  </td><td> 576</td></tr>\n",
       "\t<tr><td>OR  </td><td> 363</td></tr>\n",
       "\t<tr><td>PA  </td><td>1434</td></tr>\n",
       "\t<tr><td>RI  </td><td>  69</td></tr>\n",
       "\t<tr><td>SC  </td><td> 347</td></tr>\n",
       "\t<tr><td>SD  </td><td> 362</td></tr>\n",
       "\t<tr><td>TN  </td><td> 575</td></tr>\n",
       "\t<tr><td>TX  </td><td>1628</td></tr>\n",
       "\t<tr><td>UT  </td><td> 194</td></tr>\n",
       "\t<tr><td>VA  </td><td> 802</td></tr>\n",
       "\t<tr><td>VT  </td><td> 238</td></tr>\n",
       "\t<tr><td>WA  </td><td> 474</td></tr>\n",
       "\t<tr><td>WI  </td><td> 706</td></tr>\n",
       "\t<tr><td>WV  </td><td> 618</td></tr>\n",
       "\t<tr><td>WY  </td><td> 123</td></tr>\n",
       "</tbody>\n",
       "</table>\n"
      ],
      "text/latex": [
       "\\begin{tabular}{r|ll}\n",
       " state & Count\\\\\n",
       "\\hline\n",
       "\t AK   &  169\\\\\n",
       "\t AL   &  564\\\\\n",
       "\t AR   &  569\\\\\n",
       "\t AZ   &  260\\\\\n",
       "\t CA   & 1475\\\\\n",
       "\t CO   &  397\\\\\n",
       "\t CT   &  260\\\\\n",
       "\t DC   &   22\\\\\n",
       "\t DE   &   53\\\\\n",
       "\t FL   &  820\\\\\n",
       "\t GA   &  631\\\\\n",
       "\t HI   &   78\\\\\n",
       "\t IA   &  914\\\\\n",
       "\t ID   &  225\\\\\n",
       "\t IL   & 1232\\\\\n",
       "\t IN   &  675\\\\\n",
       "\t KS   &  707\\\\\n",
       "\t KY   &  791\\\\\n",
       "\t LA   &  457\\\\\n",
       "\t MA   &  470\\\\\n",
       "\t MD   &  415\\\\\n",
       "\t ME   &  395\\\\\n",
       "\t MI   &  869\\\\\n",
       "\t MN   &  877\\\\\n",
       "\t MO   &  989\\\\\n",
       "\t MS   &  359\\\\\n",
       "\t MT   &  290\\\\\n",
       "\t NC   &  698\\\\\n",
       "\t ND   &  376\\\\\n",
       "\t NE   &  572\\\\\n",
       "\t NH   &  214\\\\\n",
       "\t NJ   &  535\\\\\n",
       "\t NM   &  231\\\\\n",
       "\t NV   &   96\\\\\n",
       "\t NY   & 1546\\\\\n",
       "\t OH   & 1007\\\\\n",
       "\t OK   &  576\\\\\n",
       "\t OR   &  363\\\\\n",
       "\t PA   & 1434\\\\\n",
       "\t RI   &   69\\\\\n",
       "\t SC   &  347\\\\\n",
       "\t SD   &  362\\\\\n",
       "\t TN   &  575\\\\\n",
       "\t TX   & 1628\\\\\n",
       "\t UT   &  194\\\\\n",
       "\t VA   &  802\\\\\n",
       "\t VT   &  238\\\\\n",
       "\t WA   &  474\\\\\n",
       "\t WI   &  706\\\\\n",
       "\t WV   &  618\\\\\n",
       "\t WY   &  123\\\\\n",
       "\\end{tabular}\n"
      ],
      "text/plain": [
       "   state Count\n",
       "1  AK     169 \n",
       "2  AL     564 \n",
       "3  AR     569 \n",
       "4  AZ     260 \n",
       "5  CA    1475 \n",
       "6  CO     397 \n",
       "7  CT     260 \n",
       "8  DC      22 \n",
       "9  DE      53 \n",
       "10 FL     820 \n",
       "11 GA     631 \n",
       "12 HI      78 \n",
       "13 IA     914 \n",
       "14 ID     225 \n",
       "15 IL    1232 \n",
       "16 IN     675 \n",
       "17 KS     707 \n",
       "18 KY     791 \n",
       "19 LA     457 \n",
       "20 MA     470 \n",
       "21 MD     415 \n",
       "22 ME     395 \n",
       "23 MI     869 \n",
       "24 MN     877 \n",
       "25 MO     989 \n",
       "26 MS     359 \n",
       "27 MT     290 \n",
       "28 NC     698 \n",
       "29 ND     376 \n",
       "30 NE     572 \n",
       "31 NH     214 \n",
       "32 NJ     535 \n",
       "33 NM     231 \n",
       "34 NV      96 \n",
       "35 NY    1546 \n",
       "36 OH    1007 \n",
       "37 OK     576 \n",
       "38 OR     363 \n",
       "39 PA    1434 \n",
       "40 RI      69 \n",
       "41 SC     347 \n",
       "42 SD     362 \n",
       "43 TN     575 \n",
       "44 TX    1628 \n",
       "45 UT     194 \n",
       "46 VA     802 \n",
       "47 VT     238 \n",
       "48 WA     474 \n",
       "49 WI     706 \n",
       "50 WV     618 \n",
       "51 WY     123 "
      ]
     },
     "metadata": {},
     "output_type": "display_data"
    }
   ],
   "source": [
    "collect(sql(query))"
   ]
  },
  {
   "cell_type": "markdown",
   "metadata": {},
   "source": [
    "## 10 Most populous zip codes"
   ]
  },
  {
   "cell_type": "code",
   "execution_count": 25,
   "metadata": {
    "collapsed": false
   },
   "outputs": [
    {
     "data": {
      "text/html": [
       "<table>\n",
       "<thead><tr><th scope=col>_id</th><th scope=col>city</th><th scope=col>loc</th><th scope=col>pop</th><th scope=col>state</th></tr></thead>\n",
       "<tbody>\n",
       "\t<tr><td>60623              </td><td>CHICAGO            </td><td>-87.71570, 41.84902</td><td>112047             </td><td>IL                 </td></tr>\n",
       "\t<tr><td>11226              </td><td>BROOKLYN           </td><td>-73.95699, 40.64669</td><td>111396             </td><td>NY                 </td></tr>\n",
       "\t<tr><td>10021              </td><td>NEW YORK           </td><td>-73.95880, 40.76848</td><td>106564             </td><td>NY                 </td></tr>\n",
       "\t<tr><td>10025              </td><td>NEW YORK           </td><td>-73.96831, 40.79747</td><td>100027             </td><td>NY                 </td></tr>\n",
       "\t<tr><td>90201               </td><td>BELL GARDENS        </td><td>-118.17205, 33.96918</td><td> 99568              </td><td>CA                  </td></tr>\n",
       "\t<tr><td>60617              </td><td>CHICAGO            </td><td>-87.55601, 41.72574</td><td> 98612             </td><td>IL                 </td></tr>\n",
       "\t<tr><td>90011               </td><td>LOS ANGELES         </td><td>-118.25819, 34.00786</td><td> 96074              </td><td>CA                  </td></tr>\n",
       "\t<tr><td>60647              </td><td>CHICAGO            </td><td>-87.70432, 41.92090</td><td> 95971             </td><td>IL                 </td></tr>\n",
       "\t<tr><td>60628              </td><td>CHICAGO            </td><td>-87.62428, 41.69344</td><td> 94317             </td><td>IL                 </td></tr>\n",
       "\t<tr><td>90650               </td><td>NORWALK             </td><td>-118.08177, 33.90564</td><td> 94188              </td><td>CA                  </td></tr>\n",
       "</tbody>\n",
       "</table>\n"
      ],
      "text/latex": [
       "\\begin{tabular}{r|lllll}\n",
       " \\_id & city & loc & pop & state\\\\\n",
       "\\hline\n",
       "\t 60623               & CHICAGO             & -87.71570, 41.84902 & 112047              & IL                 \\\\\n",
       "\t 11226               & BROOKLYN            & -73.95699, 40.64669 & 111396              & NY                 \\\\\n",
       "\t 10021               & NEW YORK            & -73.95880, 40.76848 & 106564              & NY                 \\\\\n",
       "\t 10025               & NEW YORK            & -73.96831, 40.79747 & 100027              & NY                 \\\\\n",
       "\t 90201                & BELL GARDENS         & -118.17205, 33.96918 &  99568               & CA                  \\\\\n",
       "\t 60617               & CHICAGO             & -87.55601, 41.72574 &  98612              & IL                 \\\\\n",
       "\t 90011                & LOS ANGELES          & -118.25819, 34.00786 &  96074               & CA                  \\\\\n",
       "\t 60647               & CHICAGO             & -87.70432, 41.92090 &  95971              & IL                 \\\\\n",
       "\t 60628               & CHICAGO             & -87.62428, 41.69344 &  94317              & IL                 \\\\\n",
       "\t 90650                & NORWALK              & -118.08177, 33.90564 &  94188               & CA                  \\\\\n",
       "\\end{tabular}\n"
      ],
      "text/plain": [
       "   _id   city         loc                  pop    state\n",
       "1  60623 CHICAGO      -87.71570, 41.84902  112047 IL   \n",
       "2  11226 BROOKLYN     -73.95699, 40.64669  111396 NY   \n",
       "3  10021 NEW YORK     -73.95880, 40.76848  106564 NY   \n",
       "4  10025 NEW YORK     -73.96831, 40.79747  100027 NY   \n",
       "5  90201 BELL GARDENS -118.17205, 33.96918  99568 CA   \n",
       "6  60617 CHICAGO      -87.55601, 41.72574   98612 IL   \n",
       "7  90011 LOS ANGELES  -118.25819, 34.00786  96074 CA   \n",
       "8  60647 CHICAGO      -87.70432, 41.92090   95971 IL   \n",
       "9  60628 CHICAGO      -87.62428, 41.69344   94317 IL   \n",
       "10 90650 NORWALK      -118.08177, 33.90564  94188 CA   "
      ]
     },
     "metadata": {},
     "output_type": "display_data"
    }
   ],
   "source": [
    "collect(sql(\"SELECT * FROM usaZipCodesTable ORDER BY pop DESC LIMIT 10\"))"
   ]
  },
  {
   "cell_type": "markdown",
   "metadata": {},
   "source": [
    "## Most populous states"
   ]
  },
  {
   "cell_type": "code",
   "execution_count": 26,
   "metadata": {
    "collapsed": false
   },
   "outputs": [
    {
     "data": {
      "text/html": [
       "<span style=white-space:pre-wrap>'SELECT state, sum(pop) as TotalPop FROM usaZipCodesTable \n",
       "                GROUP BY state ORDER BY TotalPop DESC'</span>"
      ],
      "text/latex": [
       "'SELECT state, sum(pop) as TotalPop FROM usaZipCodesTable \n",
       "                GROUP BY state ORDER BY TotalPop DESC'"
      ],
      "text/markdown": [
       "<span style=white-space:pre-wrap>'SELECT state, sum(pop) as TotalPop FROM usaZipCodesTable \n",
       "                GROUP BY state ORDER BY TotalPop DESC'</span>"
      ],
      "text/plain": [
       "[1] \"SELECT state, sum(pop) as TotalPop FROM usaZipCodesTable \\n                GROUP BY state ORDER BY TotalPop DESC\""
      ]
     },
     "metadata": {},
     "output_type": "display_data"
    }
   ],
   "source": [
    "query <- \"SELECT state, sum(pop) as TotalPop FROM usaZipCodesTable \n",
    "                GROUP BY state ORDER BY TotalPop DESC\"\n",
    "query"
   ]
  },
  {
   "cell_type": "code",
   "execution_count": 27,
   "metadata": {
    "collapsed": false
   },
   "outputs": [
    {
     "data": {
      "text/plain": [
       "SparkDataFrame[state:string, TotalPop:bigint]"
      ]
     },
     "metadata": {},
     "output_type": "display_data"
    }
   ],
   "source": [
    "popByState <-  sql(query)\n",
    "popByState"
   ]
  },
  {
   "cell_type": "code",
   "execution_count": 28,
   "metadata": {
    "collapsed": false
   },
   "outputs": [
    {
     "data": {
      "text/html": [
       "51"
      ],
      "text/latex": [
       "51"
      ],
      "text/markdown": [
       "51"
      ],
      "text/plain": [
       "[1] 51"
      ]
     },
     "metadata": {},
     "output_type": "display_data"
    }
   ],
   "source": [
    "count(popByState)"
   ]
  },
  {
   "cell_type": "code",
   "execution_count": 29,
   "metadata": {
    "collapsed": false
   },
   "outputs": [
    {
     "data": {
      "text/html": [
       "<table>\n",
       "<thead><tr><th scope=col>state</th><th scope=col>TotalPop</th></tr></thead>\n",
       "<tbody>\n",
       "\t<tr><td>CA      </td><td>29758155</td></tr>\n",
       "\t<tr><td>NY      </td><td>17988283</td></tr>\n",
       "\t<tr><td>TX      </td><td>16984340</td></tr>\n",
       "\t<tr><td>FL      </td><td>12937753</td></tr>\n",
       "\t<tr><td>PA      </td><td>11880512</td></tr>\n",
       "\t<tr><td>IL      </td><td>11430349</td></tr>\n",
       "\t<tr><td>OH      </td><td>10847077</td></tr>\n",
       "\t<tr><td>MI      </td><td> 9295060</td></tr>\n",
       "\t<tr><td>NJ      </td><td> 7729991</td></tr>\n",
       "\t<tr><td>NC      </td><td> 6628251</td></tr>\n",
       "\t<tr><td>GA      </td><td> 6478100</td></tr>\n",
       "\t<tr><td>VA      </td><td> 6186121</td></tr>\n",
       "\t<tr><td>MA      </td><td> 6016214</td></tr>\n",
       "\t<tr><td>IN      </td><td> 5544061</td></tr>\n",
       "\t<tr><td>MO      </td><td> 5113794</td></tr>\n",
       "\t<tr><td>WI      </td><td> 4891317</td></tr>\n",
       "\t<tr><td>TN      </td><td> 4876062</td></tr>\n",
       "\t<tr><td>WA      </td><td> 4866199</td></tr>\n",
       "\t<tr><td>MD      </td><td> 4781093</td></tr>\n",
       "\t<tr><td>MN      </td><td> 4374503</td></tr>\n",
       "\t<tr><td>LA      </td><td> 4219523</td></tr>\n",
       "\t<tr><td>AL      </td><td> 4040533</td></tr>\n",
       "\t<tr><td>KY      </td><td> 3683669</td></tr>\n",
       "\t<tr><td>AZ      </td><td> 3664722</td></tr>\n",
       "\t<tr><td>SC      </td><td> 3486578</td></tr>\n",
       "\t<tr><td>CO      </td><td> 3293351</td></tr>\n",
       "\t<tr><td>CT      </td><td> 3286943</td></tr>\n",
       "\t<tr><td>OK      </td><td> 3144943</td></tr>\n",
       "\t<tr><td>OR      </td><td> 2841361</td></tr>\n",
       "\t<tr><td>IA      </td><td> 2776234</td></tr>\n",
       "\t<tr><td>MS      </td><td> 2572971</td></tr>\n",
       "\t<tr><td>KS      </td><td> 2476552</td></tr>\n",
       "\t<tr><td>AR      </td><td> 2350382</td></tr>\n",
       "\t<tr><td>WV      </td><td> 1791298</td></tr>\n",
       "\t<tr><td>UT      </td><td> 1722387</td></tr>\n",
       "\t<tr><td>NE      </td><td> 1578207</td></tr>\n",
       "\t<tr><td>NM      </td><td> 1513103</td></tr>\n",
       "\t<tr><td>ME      </td><td> 1227026</td></tr>\n",
       "\t<tr><td>NV      </td><td> 1201366</td></tr>\n",
       "\t<tr><td>NH      </td><td> 1109024</td></tr>\n",
       "\t<tr><td>HI      </td><td> 1108138</td></tr>\n",
       "\t<tr><td>ID      </td><td> 1005753</td></tr>\n",
       "\t<tr><td>RI      </td><td> 1003419</td></tr>\n",
       "\t<tr><td>MT      </td><td>  797589</td></tr>\n",
       "\t<tr><td>SD      </td><td>  694574</td></tr>\n",
       "\t<tr><td>DE      </td><td>  666168</td></tr>\n",
       "\t<tr><td>ND      </td><td>  637322</td></tr>\n",
       "\t<tr><td>DC      </td><td>  606868</td></tr>\n",
       "\t<tr><td>VT      </td><td>  562524</td></tr>\n",
       "\t<tr><td>AK      </td><td>  549164</td></tr>\n",
       "\t<tr><td>WY      </td><td>  452722</td></tr>\n",
       "</tbody>\n",
       "</table>\n"
      ],
      "text/latex": [
       "\\begin{tabular}{r|ll}\n",
       " state & TotalPop\\\\\n",
       "\\hline\n",
       "\t CA       & 29758155\\\\\n",
       "\t NY       & 17988283\\\\\n",
       "\t TX       & 16984340\\\\\n",
       "\t FL       & 12937753\\\\\n",
       "\t PA       & 11880512\\\\\n",
       "\t IL       & 11430349\\\\\n",
       "\t OH       & 10847077\\\\\n",
       "\t MI       &  9295060\\\\\n",
       "\t NJ       &  7729991\\\\\n",
       "\t NC       &  6628251\\\\\n",
       "\t GA       &  6478100\\\\\n",
       "\t VA       &  6186121\\\\\n",
       "\t MA       &  6016214\\\\\n",
       "\t IN       &  5544061\\\\\n",
       "\t MO       &  5113794\\\\\n",
       "\t WI       &  4891317\\\\\n",
       "\t TN       &  4876062\\\\\n",
       "\t WA       &  4866199\\\\\n",
       "\t MD       &  4781093\\\\\n",
       "\t MN       &  4374503\\\\\n",
       "\t LA       &  4219523\\\\\n",
       "\t AL       &  4040533\\\\\n",
       "\t KY       &  3683669\\\\\n",
       "\t AZ       &  3664722\\\\\n",
       "\t SC       &  3486578\\\\\n",
       "\t CO       &  3293351\\\\\n",
       "\t CT       &  3286943\\\\\n",
       "\t OK       &  3144943\\\\\n",
       "\t OR       &  2841361\\\\\n",
       "\t IA       &  2776234\\\\\n",
       "\t MS       &  2572971\\\\\n",
       "\t KS       &  2476552\\\\\n",
       "\t AR       &  2350382\\\\\n",
       "\t WV       &  1791298\\\\\n",
       "\t UT       &  1722387\\\\\n",
       "\t NE       &  1578207\\\\\n",
       "\t NM       &  1513103\\\\\n",
       "\t ME       &  1227026\\\\\n",
       "\t NV       &  1201366\\\\\n",
       "\t NH       &  1109024\\\\\n",
       "\t HI       &  1108138\\\\\n",
       "\t ID       &  1005753\\\\\n",
       "\t RI       &  1003419\\\\\n",
       "\t MT       &   797589\\\\\n",
       "\t SD       &   694574\\\\\n",
       "\t DE       &   666168\\\\\n",
       "\t ND       &   637322\\\\\n",
       "\t DC       &   606868\\\\\n",
       "\t VT       &   562524\\\\\n",
       "\t AK       &   549164\\\\\n",
       "\t WY       &   452722\\\\\n",
       "\\end{tabular}\n"
      ],
      "text/plain": [
       "   state TotalPop\n",
       "1  CA    29758155\n",
       "2  NY    17988283\n",
       "3  TX    16984340\n",
       "4  FL    12937753\n",
       "5  PA    11880512\n",
       "6  IL    11430349\n",
       "7  OH    10847077\n",
       "8  MI     9295060\n",
       "9  NJ     7729991\n",
       "10 NC     6628251\n",
       "11 GA     6478100\n",
       "12 VA     6186121\n",
       "13 MA     6016214\n",
       "14 IN     5544061\n",
       "15 MO     5113794\n",
       "16 WI     4891317\n",
       "17 TN     4876062\n",
       "18 WA     4866199\n",
       "19 MD     4781093\n",
       "20 MN     4374503\n",
       "21 LA     4219523\n",
       "22 AL     4040533\n",
       "23 KY     3683669\n",
       "24 AZ     3664722\n",
       "25 SC     3486578\n",
       "26 CO     3293351\n",
       "27 CT     3286943\n",
       "28 OK     3144943\n",
       "29 OR     2841361\n",
       "30 IA     2776234\n",
       "31 MS     2572971\n",
       "32 KS     2476552\n",
       "33 AR     2350382\n",
       "34 WV     1791298\n",
       "35 UT     1722387\n",
       "36 NE     1578207\n",
       "37 NM     1513103\n",
       "38 ME     1227026\n",
       "39 NV     1201366\n",
       "40 NH     1109024\n",
       "41 HI     1108138\n",
       "42 ID     1005753\n",
       "43 RI     1003419\n",
       "44 MT      797589\n",
       "45 SD      694574\n",
       "46 DE      666168\n",
       "47 ND      637322\n",
       "48 DC      606868\n",
       "49 VT      562524\n",
       "50 AK      549164\n",
       "51 WY      452722"
      ]
     },
     "metadata": {},
     "output_type": "display_data"
    }
   ],
   "source": [
    "collect(popByState)"
   ]
  },
  {
   "cell_type": "code",
   "execution_count": 30,
   "metadata": {
    "collapsed": true
   },
   "outputs": [],
   "source": [
    "# Stop the SparkSession now\n",
    "sparkR.session.stop()"
   ]
  },
  {
   "cell_type": "code",
   "execution_count": null,
   "metadata": {
    "collapsed": true
   },
   "outputs": [],
   "source": []
  }
 ],
 "metadata": {
  "anaconda-cloud": {},
  "kernelspec": {
   "display_name": "R",
   "language": "R",
   "name": "ir"
  },
  "language_info": {
   "codemirror_mode": "r",
   "file_extension": ".r",
   "mimetype": "text/x-r-source",
   "name": "R",
   "pygments_lexer": "r",
   "version": "3.3.1"
  }
 },
 "nbformat": 4,
 "nbformat_minor": 1
}
