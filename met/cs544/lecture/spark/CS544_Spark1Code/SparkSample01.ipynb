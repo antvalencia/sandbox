{
 "cells": [
  {
   "cell_type": "markdown",
   "metadata": {},
   "source": [
    "# SparkR Sample - USA Daily Temperatures"
   ]
  },
  {
   "cell_type": "code",
   "execution_count": 1,
   "metadata": {
    "collapsed": false
   },
   "outputs": [
    {
     "data": {
      "text/html": [
       "'/Users/skalathur/MyApps/spark'"
      ],
      "text/latex": [
       "'/Users/skalathur/MyApps/spark'"
      ],
      "text/markdown": [
       "'/Users/skalathur/MyApps/spark'"
      ],
      "text/plain": [
       "[1] \"/Users/skalathur/MyApps/spark\""
      ]
     },
     "metadata": {},
     "output_type": "display_data"
    }
   ],
   "source": [
    "Sys.getenv(\"SPARK_HOME\")"
   ]
  },
  {
   "cell_type": "code",
   "execution_count": 2,
   "metadata": {
    "collapsed": true
   },
   "outputs": [],
   "source": [
    "# Set the correct value for SPARK_HOME if not set in your environment\n",
    "if (nchar(Sys.getenv(\"SPARK_HOME\")) < 1) {\n",
    "  Sys.setenv(SPARK_HOME = \"/Users/skalathur/MyApps/spark\")\n",
    "}"
   ]
  },
  {
   "cell_type": "code",
   "execution_count": 3,
   "metadata": {
    "collapsed": true
   },
   "outputs": [],
   "source": [
    "Sys.setenv(SPARK_LOCAL_IP=\"localhost\")"
   ]
  },
  {
   "cell_type": "code",
   "execution_count": 4,
   "metadata": {
    "collapsed": false
   },
   "outputs": [
    {
     "name": "stderr",
     "output_type": "stream",
     "text": [
      "\n",
      "Attaching package: ‘SparkR’\n",
      "\n",
      "The following objects are masked from ‘package:stats’:\n",
      "\n",
      "    cov, filter, lag, na.omit, predict, sd, var, window\n",
      "\n",
      "The following objects are masked from ‘package:base’:\n",
      "\n",
      "    as.data.frame, colnames, colnames<-, drop, endsWith, intersect,\n",
      "    rank, rbind, sample, startsWith, subset, summary, transform, union\n",
      "\n"
     ]
    }
   ],
   "source": [
    "# load the SparkR library (wait until it loads)\n",
    "library(SparkR, lib.loc = c(file.path(Sys.getenv(\"SPARK_HOME\"), \"R\", \"lib\")))"
   ]
  },
  {
   "cell_type": "code",
   "execution_count": 5,
   "metadata": {
    "collapsed": false
   },
   "outputs": [
    {
     "name": "stderr",
     "output_type": "stream",
     "text": [
      "Spark package found in SPARK_HOME: /Users/skalathur/MyApps/spark\n"
     ]
    },
    {
     "name": "stdout",
     "output_type": "stream",
     "text": [
      "Launching java with spark-submit command /Users/skalathur/MyApps/spark/bin/spark-submit   --driver-memory \"2g\" sparkr-shell /var/folders/s3/hy6_p79n3w1fw802t6ps40qr0000gp/T//Rtmpi1F4En/backend_port143353f517b08 \n"
     ]
    },
    {
     "data": {
      "text/plain": [
       "Java ref type org.apache.spark.sql.SparkSession id 1 "
      ]
     },
     "metadata": {},
     "output_type": "display_data"
    }
   ],
   "source": [
    "# Start the Spark Session, wait until it starts\n",
    "sparkR.session(master = \"local[*]\", sparkConfig = list(spark.driver.memory = \"2g\"))"
   ]
  },
  {
   "cell_type": "code",
   "execution_count": 6,
   "metadata": {
    "collapsed": true
   },
   "outputs": [],
   "source": [
    "inputFile <- \"/temp/datasets/usa_daily_avg_temps.csv\""
   ]
  },
  {
   "cell_type": "code",
   "execution_count": 7,
   "metadata": {
    "collapsed": false
   },
   "outputs": [
    {
     "data": {
      "text/plain": [
       "SparkDataFrame[state:string, city:string, month:int, day:int, year:int, avgtemp:double]"
      ]
     },
     "metadata": {},
     "output_type": "display_data"
    }
   ],
   "source": [
    "# Read the csv file as a SparkDataFrame\n",
    "usaDailyTemps <- read.df(inputFile, source = \"csv\", \n",
    "                         header='true', \n",
    "                         inferSchema='true')\n",
    "\n",
    "usaDailyTemps"
   ]
  },
  {
   "cell_type": "code",
   "execution_count": 8,
   "metadata": {
    "collapsed": false
   },
   "outputs": [
    {
     "name": "stdout",
     "output_type": "stream",
     "text": [
      "root\n",
      " |-- state: string (nullable = true)\n",
      " |-- city: string (nullable = true)\n",
      " |-- month: integer (nullable = true)\n",
      " |-- day: integer (nullable = true)\n",
      " |-- year: integer (nullable = true)\n",
      " |-- avgtemp: double (nullable = true)\n"
     ]
    }
   ],
   "source": [
    "printSchema(usaDailyTemps)"
   ]
  },
  {
   "cell_type": "code",
   "execution_count": 9,
   "metadata": {
    "collapsed": false
   },
   "outputs": [
    {
     "data": {
      "text/html": [
       "1174605"
      ],
      "text/latex": [
       "1174605"
      ],
      "text/markdown": [
       "1174605"
      ],
      "text/plain": [
       "[1] 1174605"
      ]
     },
     "metadata": {},
     "output_type": "display_data"
    }
   ],
   "source": [
    "count(usaDailyTemps)"
   ]
  },
  {
   "cell_type": "code",
   "execution_count": 10,
   "metadata": {
    "collapsed": false
   },
   "outputs": [
    {
     "data": {
      "text/html": [
       "<table>\n",
       "<thead><tr><th scope=col>state</th><th scope=col>city</th><th scope=col>month</th><th scope=col>day</th><th scope=col>year</th><th scope=col>avgtemp</th></tr></thead>\n",
       "<tbody>\n",
       "\t<tr><td>Alabama   </td><td>Birmingham</td><td>1         </td><td>1         </td><td>1995      </td><td>50.7      </td></tr>\n",
       "\t<tr><td>Alabama   </td><td>Birmingham</td><td>1         </td><td>1         </td><td>1996      </td><td>56.8      </td></tr>\n",
       "\t<tr><td>Alabama   </td><td>Birmingham</td><td>1         </td><td>1         </td><td>1997      </td><td>60.9      </td></tr>\n",
       "\t<tr><td>Alabama   </td><td>Birmingham</td><td>1         </td><td>1         </td><td>1998      </td><td>35.6      </td></tr>\n",
       "\t<tr><td>Alabama   </td><td>Birmingham</td><td>1         </td><td>1         </td><td>1999      </td><td>41.0      </td></tr>\n",
       "\t<tr><td>Alabama   </td><td>Birmingham</td><td>1         </td><td>1         </td><td>2000      </td><td>59.0      </td></tr>\n",
       "</tbody>\n",
       "</table>\n"
      ],
      "text/latex": [
       "\\begin{tabular}{r|llllll}\n",
       " state & city & month & day & year & avgtemp\\\\\n",
       "\\hline\n",
       "\t Alabama    & Birmingham & 1          & 1          & 1995       & 50.7      \\\\\n",
       "\t Alabama    & Birmingham & 1          & 1          & 1996       & 56.8      \\\\\n",
       "\t Alabama    & Birmingham & 1          & 1          & 1997       & 60.9      \\\\\n",
       "\t Alabama    & Birmingham & 1          & 1          & 1998       & 35.6      \\\\\n",
       "\t Alabama    & Birmingham & 1          & 1          & 1999       & 41.0      \\\\\n",
       "\t Alabama    & Birmingham & 1          & 1          & 2000       & 59.0      \\\\\n",
       "\\end{tabular}\n"
      ],
      "text/plain": [
       "  state   city       month day year avgtemp\n",
       "1 Alabama Birmingham 1     1   1995 50.7   \n",
       "2 Alabama Birmingham 1     1   1996 56.8   \n",
       "3 Alabama Birmingham 1     1   1997 60.9   \n",
       "4 Alabama Birmingham 1     1   1998 35.6   \n",
       "5 Alabama Birmingham 1     1   1999 41.0   \n",
       "6 Alabama Birmingham 1     1   2000 59.0   "
      ]
     },
     "metadata": {},
     "output_type": "display_data"
    }
   ],
   "source": [
    "head(usaDailyTemps)"
   ]
  },
  {
   "cell_type": "markdown",
   "metadata": {},
   "source": [
    "### Aggregate to find the maximum of avgtemp"
   ]
  },
  {
   "cell_type": "code",
   "execution_count": 11,
   "metadata": {
    "collapsed": false
   },
   "outputs": [
    {
     "data": {
      "text/plain": [
       "SparkDataFrame[max(avgtemp):double]"
      ]
     },
     "metadata": {},
     "output_type": "display_data"
    }
   ],
   "source": [
    "maxAvgTemp <- summarize(usaDailyTemps, max(usaDailyTemps$avgtemp))\n",
    "maxAvgTemp"
   ]
  },
  {
   "cell_type": "code",
   "execution_count": 12,
   "metadata": {
    "collapsed": false
   },
   "outputs": [
    {
     "data": {
      "text/html": [
       "1"
      ],
      "text/latex": [
       "1"
      ],
      "text/markdown": [
       "1"
      ],
      "text/plain": [
       "[1] 1"
      ]
     },
     "metadata": {},
     "output_type": "display_data"
    }
   ],
   "source": [
    "count(maxAvgTemp)"
   ]
  },
  {
   "cell_type": "code",
   "execution_count": 13,
   "metadata": {
    "collapsed": false
   },
   "outputs": [
    {
     "data": {
      "text/html": [
       "<table>\n",
       "<thead><tr><th scope=col>max(avgtemp)</th></tr></thead>\n",
       "<tbody>\n",
       "\t<tr><td>107.5</td></tr>\n",
       "</tbody>\n",
       "</table>\n"
      ],
      "text/latex": [
       "\\begin{tabular}{r|l}\n",
       " max(avgtemp)\\\\\n",
       "\\hline\n",
       "\t 107.5\\\\\n",
       "\\end{tabular}\n"
      ],
      "text/plain": [
       "  max(avgtemp)\n",
       "1 107.5       "
      ]
     },
     "metadata": {},
     "output_type": "display_data"
    }
   ],
   "source": [
    "# collect to local data frame\n",
    "collect(maxAvgTemp)"
   ]
  },
  {
   "cell_type": "code",
   "execution_count": 14,
   "metadata": {
    "collapsed": false
   },
   "outputs": [
    {
     "data": {
      "text/plain": [
       "SparkDataFrame[MaxValue:double]"
      ]
     },
     "metadata": {},
     "output_type": "display_data"
    }
   ],
   "source": [
    "# Provide the appropriate column name (MaxValue)\n",
    "maxAvgTemp <- summarize(usaDailyTemps, MaxValue = max(usaDailyTemps$avgtemp))\n",
    "maxAvgTemp"
   ]
  },
  {
   "cell_type": "code",
   "execution_count": 15,
   "metadata": {
    "collapsed": false
   },
   "outputs": [
    {
     "data": {
      "text/html": [
       "<table>\n",
       "<thead><tr><th scope=col>MaxValue</th></tr></thead>\n",
       "<tbody>\n",
       "\t<tr><td>107.5</td></tr>\n",
       "</tbody>\n",
       "</table>\n"
      ],
      "text/latex": [
       "\\begin{tabular}{r|l}\n",
       " MaxValue\\\\\n",
       "\\hline\n",
       "\t 107.5\\\\\n",
       "\\end{tabular}\n"
      ],
      "text/plain": [
       "  MaxValue\n",
       "1 107.5   "
      ]
     },
     "metadata": {},
     "output_type": "display_data"
    }
   ],
   "source": [
    "localDf <- collect(maxAvgTemp)\n",
    "localDf"
   ]
  },
  {
   "cell_type": "code",
   "execution_count": 16,
   "metadata": {
    "collapsed": false
   },
   "outputs": [
    {
     "data": {
      "text/plain": [
       "SparkDataFrame[state:string, city:string, month:int, day:int, year:int, avgtemp:double]"
      ]
     },
     "metadata": {},
     "output_type": "display_data"
    }
   ],
   "source": [
    "# Filter the SparkDataFrame to find the rows with the max value\n",
    "maxData <- filter(usaDailyTemps, usaDailyTemps$avgtemp == localDf[1, 'MaxValue'])\n",
    "maxData"
   ]
  },
  {
   "cell_type": "code",
   "execution_count": 17,
   "metadata": {
    "collapsed": false
   },
   "outputs": [
    {
     "data": {
      "text/html": [
       "<table>\n",
       "<thead><tr><th scope=col>state</th><th scope=col>city</th><th scope=col>month</th><th scope=col>day</th><th scope=col>year</th><th scope=col>avgtemp</th></tr></thead>\n",
       "<tbody>\n",
       "\t<tr><td>Arizona</td><td>Yuma   </td><td>7      </td><td>22     </td><td>2006   </td><td>107.5  </td></tr>\n",
       "</tbody>\n",
       "</table>\n"
      ],
      "text/latex": [
       "\\begin{tabular}{r|llllll}\n",
       " state & city & month & day & year & avgtemp\\\\\n",
       "\\hline\n",
       "\t Arizona & Yuma    & 7       & 22      & 2006    & 107.5  \\\\\n",
       "\\end{tabular}\n"
      ],
      "text/plain": [
       "  state   city month day year avgtemp\n",
       "1 Arizona Yuma 7     22  2006 107.5  "
      ]
     },
     "metadata": {},
     "output_type": "display_data"
    }
   ],
   "source": [
    "# collect to local data frame\n",
    "collect(maxData)"
   ]
  },
  {
   "cell_type": "markdown",
   "metadata": {
    "collapsed": true
   },
   "source": [
    "### Aggregate to find the maximum of avgtemp grouping by Year"
   ]
  },
  {
   "cell_type": "code",
   "execution_count": 18,
   "metadata": {
    "collapsed": false
   },
   "outputs": [
    {
     "data": {
      "text/plain": [
       "SparkDataFrame[Year:int, MaxValue:double]"
      ]
     },
     "metadata": {},
     "output_type": "display_data"
    }
   ],
   "source": [
    "maxTempByYear <- summarize(groupBy(usaDailyTemps, usaDailyTemps$Year), \n",
    "                           MaxValue = max(usaDailyTemps$avgtemp))\n",
    "maxTempByYear"
   ]
  },
  {
   "cell_type": "code",
   "execution_count": 19,
   "metadata": {
    "collapsed": false
   },
   "outputs": [
    {
     "data": {
      "text/html": [
       "21"
      ],
      "text/latex": [
       "21"
      ],
      "text/markdown": [
       "21"
      ],
      "text/plain": [
       "[1] 21"
      ]
     },
     "metadata": {},
     "output_type": "display_data"
    }
   ],
   "source": [
    "count(maxTempByYear)"
   ]
  },
  {
   "cell_type": "code",
   "execution_count": 20,
   "metadata": {
    "collapsed": false
   },
   "outputs": [
    {
     "data": {
      "text/html": [
       "<table>\n",
       "<thead><tr><th scope=col>Year</th><th scope=col>MaxValue</th></tr></thead>\n",
       "<tbody>\n",
       "\t<tr><td>2003 </td><td>105.8</td></tr>\n",
       "\t<tr><td>2007 </td><td>104.4</td></tr>\n",
       "\t<tr><td>2015 </td><td>105.1</td></tr>\n",
       "\t<tr><td>2006 </td><td>107.5</td></tr>\n",
       "\t<tr><td>2013 </td><td>104.9</td></tr>\n",
       "\t<tr><td>1997 </td><td>100.6</td></tr>\n",
       "\t<tr><td>2014 </td><td>103.8</td></tr>\n",
       "\t<tr><td>2004 </td><td>101.0</td></tr>\n",
       "\t<tr><td>1996 </td><td>104.3</td></tr>\n",
       "\t<tr><td>1998 </td><td>103.0</td></tr>\n",
       "\t<tr><td>2012 </td><td>103.4</td></tr>\n",
       "\t<tr><td>2009 </td><td>103.3</td></tr>\n",
       "\t<tr><td>1995 </td><td>104.3</td></tr>\n",
       "\t<tr><td>2001 </td><td>104.4</td></tr>\n",
       "\t<tr><td>2005 </td><td>105.5</td></tr>\n",
       "\t<tr><td>2000 </td><td>101.6</td></tr>\n",
       "\t<tr><td>2010 </td><td>103.4</td></tr>\n",
       "\t<tr><td>2011 </td><td>103.1</td></tr>\n",
       "\t<tr><td>2008 </td><td>102.9</td></tr>\n",
       "\t<tr><td>1999 </td><td>100.1</td></tr>\n",
       "\t<tr><td>2002 </td><td>102.6</td></tr>\n",
       "</tbody>\n",
       "</table>\n"
      ],
      "text/latex": [
       "\\begin{tabular}{r|ll}\n",
       " Year & MaxValue\\\\\n",
       "\\hline\n",
       "\t 2003  & 105.8\\\\\n",
       "\t 2007  & 104.4\\\\\n",
       "\t 2015  & 105.1\\\\\n",
       "\t 2006  & 107.5\\\\\n",
       "\t 2013  & 104.9\\\\\n",
       "\t 1997  & 100.6\\\\\n",
       "\t 2014  & 103.8\\\\\n",
       "\t 2004  & 101.0\\\\\n",
       "\t 1996  & 104.3\\\\\n",
       "\t 1998  & 103.0\\\\\n",
       "\t 2012  & 103.4\\\\\n",
       "\t 2009  & 103.3\\\\\n",
       "\t 1995  & 104.3\\\\\n",
       "\t 2001  & 104.4\\\\\n",
       "\t 2005  & 105.5\\\\\n",
       "\t 2000  & 101.6\\\\\n",
       "\t 2010  & 103.4\\\\\n",
       "\t 2011  & 103.1\\\\\n",
       "\t 2008  & 102.9\\\\\n",
       "\t 1999  & 100.1\\\\\n",
       "\t 2002  & 102.6\\\\\n",
       "\\end{tabular}\n"
      ],
      "text/plain": [
       "   Year MaxValue\n",
       "1  2003 105.8   \n",
       "2  2007 104.4   \n",
       "3  2015 105.1   \n",
       "4  2006 107.5   \n",
       "5  2013 104.9   \n",
       "6  1997 100.6   \n",
       "7  2014 103.8   \n",
       "8  2004 101.0   \n",
       "9  1996 104.3   \n",
       "10 1998 103.0   \n",
       "11 2012 103.4   \n",
       "12 2009 103.3   \n",
       "13 1995 104.3   \n",
       "14 2001 104.4   \n",
       "15 2005 105.5   \n",
       "16 2000 101.6   \n",
       "17 2010 103.4   \n",
       "18 2011 103.1   \n",
       "19 2008 102.9   \n",
       "20 1999 100.1   \n",
       "21 2002 102.6   "
      ]
     },
     "metadata": {},
     "output_type": "display_data"
    }
   ],
   "source": [
    "collect(maxTempByYear)"
   ]
  },
  {
   "cell_type": "code",
   "execution_count": 21,
   "metadata": {
    "collapsed": false
   },
   "outputs": [
    {
     "data": {
      "text/plain": [
       "SparkDataFrame[Year:int, MaxValue:double]"
      ]
     },
     "metadata": {},
     "output_type": "display_data"
    }
   ],
   "source": [
    "arrange(maxTempByYear, maxTempByYear$Year)"
   ]
  },
  {
   "cell_type": "code",
   "execution_count": 22,
   "metadata": {
    "collapsed": false
   },
   "outputs": [
    {
     "data": {
      "text/html": [
       "<table>\n",
       "<thead><tr><th scope=col>Year</th><th scope=col>MaxValue</th></tr></thead>\n",
       "<tbody>\n",
       "\t<tr><td>1995 </td><td>104.3</td></tr>\n",
       "\t<tr><td>1996 </td><td>104.3</td></tr>\n",
       "\t<tr><td>1997 </td><td>100.6</td></tr>\n",
       "\t<tr><td>1998 </td><td>103.0</td></tr>\n",
       "\t<tr><td>1999 </td><td>100.1</td></tr>\n",
       "\t<tr><td>2000 </td><td>101.6</td></tr>\n",
       "\t<tr><td>2001 </td><td>104.4</td></tr>\n",
       "\t<tr><td>2002 </td><td>102.6</td></tr>\n",
       "\t<tr><td>2003 </td><td>105.8</td></tr>\n",
       "\t<tr><td>2004 </td><td>101.0</td></tr>\n",
       "\t<tr><td>2005 </td><td>105.5</td></tr>\n",
       "\t<tr><td>2006 </td><td>107.5</td></tr>\n",
       "\t<tr><td>2007 </td><td>104.4</td></tr>\n",
       "\t<tr><td>2008 </td><td>102.9</td></tr>\n",
       "\t<tr><td>2009 </td><td>103.3</td></tr>\n",
       "\t<tr><td>2010 </td><td>103.4</td></tr>\n",
       "\t<tr><td>2011 </td><td>103.1</td></tr>\n",
       "\t<tr><td>2012 </td><td>103.4</td></tr>\n",
       "\t<tr><td>2013 </td><td>104.9</td></tr>\n",
       "\t<tr><td>2014 </td><td>103.8</td></tr>\n",
       "\t<tr><td>2015 </td><td>105.1</td></tr>\n",
       "</tbody>\n",
       "</table>\n"
      ],
      "text/latex": [
       "\\begin{tabular}{r|ll}\n",
       " Year & MaxValue\\\\\n",
       "\\hline\n",
       "\t 1995  & 104.3\\\\\n",
       "\t 1996  & 104.3\\\\\n",
       "\t 1997  & 100.6\\\\\n",
       "\t 1998  & 103.0\\\\\n",
       "\t 1999  & 100.1\\\\\n",
       "\t 2000  & 101.6\\\\\n",
       "\t 2001  & 104.4\\\\\n",
       "\t 2002  & 102.6\\\\\n",
       "\t 2003  & 105.8\\\\\n",
       "\t 2004  & 101.0\\\\\n",
       "\t 2005  & 105.5\\\\\n",
       "\t 2006  & 107.5\\\\\n",
       "\t 2007  & 104.4\\\\\n",
       "\t 2008  & 102.9\\\\\n",
       "\t 2009  & 103.3\\\\\n",
       "\t 2010  & 103.4\\\\\n",
       "\t 2011  & 103.1\\\\\n",
       "\t 2012  & 103.4\\\\\n",
       "\t 2013  & 104.9\\\\\n",
       "\t 2014  & 103.8\\\\\n",
       "\t 2015  & 105.1\\\\\n",
       "\\end{tabular}\n"
      ],
      "text/plain": [
       "   Year MaxValue\n",
       "1  1995 104.3   \n",
       "2  1996 104.3   \n",
       "3  1997 100.6   \n",
       "4  1998 103.0   \n",
       "5  1999 100.1   \n",
       "6  2000 101.6   \n",
       "7  2001 104.4   \n",
       "8  2002 102.6   \n",
       "9  2003 105.8   \n",
       "10 2004 101.0   \n",
       "11 2005 105.5   \n",
       "12 2006 107.5   \n",
       "13 2007 104.4   \n",
       "14 2008 102.9   \n",
       "15 2009 103.3   \n",
       "16 2010 103.4   \n",
       "17 2011 103.1   \n",
       "18 2012 103.4   \n",
       "19 2013 104.9   \n",
       "20 2014 103.8   \n",
       "21 2015 105.1   "
      ]
     },
     "metadata": {},
     "output_type": "display_data"
    }
   ],
   "source": [
    "collect(arrange(maxTempByYear, maxTempByYear$Year))"
   ]
  },
  {
   "cell_type": "markdown",
   "metadata": {
    "collapsed": true
   },
   "source": [
    "### Aggregate to find the maximum of avgtemp grouping by State"
   ]
  },
  {
   "cell_type": "code",
   "execution_count": 23,
   "metadata": {
    "collapsed": false
   },
   "outputs": [
    {
     "data": {
      "text/plain": [
       "SparkDataFrame[State:string, MaxValue:double]"
      ]
     },
     "metadata": {},
     "output_type": "display_data"
    }
   ],
   "source": [
    "maxTempByState <- summarize(groupBy(usaDailyTemps, usaDailyTemps$State), \n",
    "                           MaxValue = max(usaDailyTemps$avgtemp))\n",
    "maxTempByState"
   ]
  },
  {
   "cell_type": "code",
   "execution_count": 24,
   "metadata": {
    "collapsed": false
   },
   "outputs": [
    {
     "data": {
      "text/html": [
       "50"
      ],
      "text/latex": [
       "50"
      ],
      "text/markdown": [
       "50"
      ],
      "text/plain": [
       "[1] 50"
      ]
     },
     "metadata": {},
     "output_type": "display_data"
    }
   ],
   "source": [
    "count(maxTempByState)"
   ]
  },
  {
   "cell_type": "code",
   "execution_count": 25,
   "metadata": {
    "collapsed": false
   },
   "outputs": [
    {
     "data": {
      "text/html": [
       "<table>\n",
       "<thead><tr><th scope=col>State</th><th scope=col>MaxValue</th></tr></thead>\n",
       "<tbody>\n",
       "\t<tr><td>Utah          </td><td> 92.2         </td></tr>\n",
       "\t<tr><td>Hawaii        </td><td> 87.2         </td></tr>\n",
       "\t<tr><td>Minnesota     </td><td> 92.0         </td></tr>\n",
       "\t<tr><td>Ohio          </td><td> 91.2         </td></tr>\n",
       "\t<tr><td>Arkansas      </td><td>100.7         </td></tr>\n",
       "\t<tr><td>Oregon        </td><td> 97.3         </td></tr>\n",
       "\t<tr><td>Texas         </td><td> 98.5         </td></tr>\n",
       "\t<tr><td>North Dakota  </td><td> 91.7         </td></tr>\n",
       "\t<tr><td>Pennsylvania  </td><td> 92.9         </td></tr>\n",
       "\t<tr><td>Connecticut   </td><td> 89.8         </td></tr>\n",
       "\t<tr><td>Nebraska      </td><td> 93.2         </td></tr>\n",
       "\t<tr><td>Vermont       </td><td> 87.4         </td></tr>\n",
       "\t<tr><td>Nevada        </td><td>105.5         </td></tr>\n",
       "\t<tr><td>Washington    </td><td> 97.7         </td></tr>\n",
       "\t<tr><td>Illinois      </td><td> 92.3         </td></tr>\n",
       "\t<tr><td>Oklahoma      </td><td>100.4         </td></tr>\n",
       "\t<tr><td>Delaware      </td><td> 89.7         </td></tr>\n",
       "\t<tr><td>Alaska        </td><td> 79.5         </td></tr>\n",
       "\t<tr><td>New Mexico    </td><td> 89.4         </td></tr>\n",
       "\t<tr><td>West Virginia </td><td> 92.5         </td></tr>\n",
       "\t<tr><td>Missouri      </td><td> 96.3         </td></tr>\n",
       "\t<tr><td>Rhode Island  </td><td> 89.2         </td></tr>\n",
       "\t<tr><td>Georgia       </td><td> 97.7         </td></tr>\n",
       "\t<tr><td>Montana       </td><td>100.1         </td></tr>\n",
       "\t<tr><td>Michigan      </td><td> 89.4         </td></tr>\n",
       "\t<tr><td>Virginia      </td><td> 93.5         </td></tr>\n",
       "\t<tr><td>North Carolina</td><td> 91.0         </td></tr>\n",
       "\t<tr><td>Wyoming       </td><td> 87.1         </td></tr>\n",
       "\t<tr><td>Kansas        </td><td> 96.1         </td></tr>\n",
       "\t<tr><td>New Jersey    </td><td> 95.6         </td></tr>\n",
       "\t<tr><td>Maryland      </td><td> 92.8         </td></tr>\n",
       "\t<tr><td>Alabama       </td><td> 91.5         </td></tr>\n",
       "\t<tr><td>Arizona       </td><td>107.5         </td></tr>\n",
       "\t<tr><td>Iowa          </td><td> 93.0         </td></tr>\n",
       "\t<tr><td>Massachusetts </td><td> 90.7         </td></tr>\n",
       "\t<tr><td>Kentucky      </td><td> 93.2         </td></tr>\n",
       "\t<tr><td>Louisiana     </td><td> 95.4         </td></tr>\n",
       "\t<tr><td>Mississippi   </td><td> 92.8         </td></tr>\n",
       "\t<tr><td>New Hampshire </td><td> 88.0         </td></tr>\n",
       "\t<tr><td>Tennessee     </td><td> 94.1         </td></tr>\n",
       "\t<tr><td>Florida       </td><td> 92.8         </td></tr>\n",
       "\t<tr><td>Indiana       </td><td> 94.0         </td></tr>\n",
       "\t<tr><td>Idaho         </td><td> 94.2         </td></tr>\n",
       "\t<tr><td>South Carolina</td><td> 92.8         </td></tr>\n",
       "\t<tr><td>South Dakota  </td><td> 94.3         </td></tr>\n",
       "\t<tr><td>California    </td><td>102.6         </td></tr>\n",
       "\t<tr><td>New York      </td><td> 93.7         </td></tr>\n",
       "\t<tr><td>Wisconsin     </td><td> 92.2         </td></tr>\n",
       "\t<tr><td>Colorado      </td><td> 94.7         </td></tr>\n",
       "\t<tr><td>Maine         </td><td> 89.1         </td></tr>\n",
       "</tbody>\n",
       "</table>\n"
      ],
      "text/latex": [
       "\\begin{tabular}{r|ll}\n",
       " State & MaxValue\\\\\n",
       "\\hline\n",
       "\t Utah           &  92.2         \\\\\n",
       "\t Hawaii         &  87.2         \\\\\n",
       "\t Minnesota      &  92.0         \\\\\n",
       "\t Ohio           &  91.2         \\\\\n",
       "\t Arkansas       & 100.7         \\\\\n",
       "\t Oregon         &  97.3         \\\\\n",
       "\t Texas          &  98.5         \\\\\n",
       "\t North Dakota   &  91.7         \\\\\n",
       "\t Pennsylvania   &  92.9         \\\\\n",
       "\t Connecticut    &  89.8         \\\\\n",
       "\t Nebraska       &  93.2         \\\\\n",
       "\t Vermont        &  87.4         \\\\\n",
       "\t Nevada         & 105.5         \\\\\n",
       "\t Washington     &  97.7         \\\\\n",
       "\t Illinois       &  92.3         \\\\\n",
       "\t Oklahoma       & 100.4         \\\\\n",
       "\t Delaware       &  89.7         \\\\\n",
       "\t Alaska         &  79.5         \\\\\n",
       "\t New Mexico     &  89.4         \\\\\n",
       "\t West Virginia  &  92.5         \\\\\n",
       "\t Missouri       &  96.3         \\\\\n",
       "\t Rhode Island   &  89.2         \\\\\n",
       "\t Georgia        &  97.7         \\\\\n",
       "\t Montana        & 100.1         \\\\\n",
       "\t Michigan       &  89.4         \\\\\n",
       "\t Virginia       &  93.5         \\\\\n",
       "\t North Carolina &  91.0         \\\\\n",
       "\t Wyoming        &  87.1         \\\\\n",
       "\t Kansas         &  96.1         \\\\\n",
       "\t New Jersey     &  95.6         \\\\\n",
       "\t Maryland       &  92.8         \\\\\n",
       "\t Alabama        &  91.5         \\\\\n",
       "\t Arizona        & 107.5         \\\\\n",
       "\t Iowa           &  93.0         \\\\\n",
       "\t Massachusetts  &  90.7         \\\\\n",
       "\t Kentucky       &  93.2         \\\\\n",
       "\t Louisiana      &  95.4         \\\\\n",
       "\t Mississippi    &  92.8         \\\\\n",
       "\t New Hampshire  &  88.0         \\\\\n",
       "\t Tennessee      &  94.1         \\\\\n",
       "\t Florida        &  92.8         \\\\\n",
       "\t Indiana        &  94.0         \\\\\n",
       "\t Idaho          &  94.2         \\\\\n",
       "\t South Carolina &  92.8         \\\\\n",
       "\t South Dakota   &  94.3         \\\\\n",
       "\t California     & 102.6         \\\\\n",
       "\t New York       &  93.7         \\\\\n",
       "\t Wisconsin      &  92.2         \\\\\n",
       "\t Colorado       &  94.7         \\\\\n",
       "\t Maine          &  89.1         \\\\\n",
       "\\end{tabular}\n"
      ],
      "text/plain": [
       "   State          MaxValue\n",
       "1  Utah            92.2   \n",
       "2  Hawaii          87.2   \n",
       "3  Minnesota       92.0   \n",
       "4  Ohio            91.2   \n",
       "5  Arkansas       100.7   \n",
       "6  Oregon          97.3   \n",
       "7  Texas           98.5   \n",
       "8  North Dakota    91.7   \n",
       "9  Pennsylvania    92.9   \n",
       "10 Connecticut     89.8   \n",
       "11 Nebraska        93.2   \n",
       "12 Vermont         87.4   \n",
       "13 Nevada         105.5   \n",
       "14 Washington      97.7   \n",
       "15 Illinois        92.3   \n",
       "16 Oklahoma       100.4   \n",
       "17 Delaware        89.7   \n",
       "18 Alaska          79.5   \n",
       "19 New Mexico      89.4   \n",
       "20 West Virginia   92.5   \n",
       "21 Missouri        96.3   \n",
       "22 Rhode Island    89.2   \n",
       "23 Georgia         97.7   \n",
       "24 Montana        100.1   \n",
       "25 Michigan        89.4   \n",
       "26 Virginia        93.5   \n",
       "27 North Carolina  91.0   \n",
       "28 Wyoming         87.1   \n",
       "29 Kansas          96.1   \n",
       "30 New Jersey      95.6   \n",
       "31 Maryland        92.8   \n",
       "32 Alabama         91.5   \n",
       "33 Arizona        107.5   \n",
       "34 Iowa            93.0   \n",
       "35 Massachusetts   90.7   \n",
       "36 Kentucky        93.2   \n",
       "37 Louisiana       95.4   \n",
       "38 Mississippi     92.8   \n",
       "39 New Hampshire   88.0   \n",
       "40 Tennessee       94.1   \n",
       "41 Florida         92.8   \n",
       "42 Indiana         94.0   \n",
       "43 Idaho           94.2   \n",
       "44 South Carolina  92.8   \n",
       "45 South Dakota    94.3   \n",
       "46 California     102.6   \n",
       "47 New York        93.7   \n",
       "48 Wisconsin       92.2   \n",
       "49 Colorado        94.7   \n",
       "50 Maine           89.1   "
      ]
     },
     "metadata": {},
     "output_type": "display_data"
    }
   ],
   "source": [
    "collect(maxTempByState)"
   ]
  },
  {
   "cell_type": "code",
   "execution_count": 26,
   "metadata": {
    "collapsed": false
   },
   "outputs": [
    {
     "data": {
      "text/plain": [
       "SparkDataFrame[State:string, MaxValue:double]"
      ]
     },
     "metadata": {},
     "output_type": "display_data"
    }
   ],
   "source": [
    "arrange(maxTempByState, maxTempByState$State)"
   ]
  },
  {
   "cell_type": "code",
   "execution_count": 27,
   "metadata": {
    "collapsed": false
   },
   "outputs": [
    {
     "data": {
      "text/html": [
       "<table>\n",
       "<thead><tr><th scope=col>State</th><th scope=col>MaxValue</th></tr></thead>\n",
       "<tbody>\n",
       "\t<tr><td>Alabama       </td><td> 91.5         </td></tr>\n",
       "\t<tr><td>Alaska        </td><td> 79.5         </td></tr>\n",
       "\t<tr><td>Arizona       </td><td>107.5         </td></tr>\n",
       "\t<tr><td>Arkansas      </td><td>100.7         </td></tr>\n",
       "\t<tr><td>California    </td><td>102.6         </td></tr>\n",
       "\t<tr><td>Colorado      </td><td> 94.7         </td></tr>\n",
       "\t<tr><td>Connecticut   </td><td> 89.8         </td></tr>\n",
       "\t<tr><td>Delaware      </td><td> 89.7         </td></tr>\n",
       "\t<tr><td>Florida       </td><td> 92.8         </td></tr>\n",
       "\t<tr><td>Georgia       </td><td> 97.7         </td></tr>\n",
       "\t<tr><td>Hawaii        </td><td> 87.2         </td></tr>\n",
       "\t<tr><td>Idaho         </td><td> 94.2         </td></tr>\n",
       "\t<tr><td>Illinois      </td><td> 92.3         </td></tr>\n",
       "\t<tr><td>Indiana       </td><td> 94.0         </td></tr>\n",
       "\t<tr><td>Iowa          </td><td> 93.0         </td></tr>\n",
       "\t<tr><td>Kansas        </td><td> 96.1         </td></tr>\n",
       "\t<tr><td>Kentucky      </td><td> 93.2         </td></tr>\n",
       "\t<tr><td>Louisiana     </td><td> 95.4         </td></tr>\n",
       "\t<tr><td>Maine         </td><td> 89.1         </td></tr>\n",
       "\t<tr><td>Maryland      </td><td> 92.8         </td></tr>\n",
       "\t<tr><td>Massachusetts </td><td> 90.7         </td></tr>\n",
       "\t<tr><td>Michigan      </td><td> 89.4         </td></tr>\n",
       "\t<tr><td>Minnesota     </td><td> 92.0         </td></tr>\n",
       "\t<tr><td>Mississippi   </td><td> 92.8         </td></tr>\n",
       "\t<tr><td>Missouri      </td><td> 96.3         </td></tr>\n",
       "\t<tr><td>Montana       </td><td>100.1         </td></tr>\n",
       "\t<tr><td>Nebraska      </td><td> 93.2         </td></tr>\n",
       "\t<tr><td>Nevada        </td><td>105.5         </td></tr>\n",
       "\t<tr><td>New Hampshire </td><td> 88.0         </td></tr>\n",
       "\t<tr><td>New Jersey    </td><td> 95.6         </td></tr>\n",
       "\t<tr><td>New Mexico    </td><td> 89.4         </td></tr>\n",
       "\t<tr><td>New York      </td><td> 93.7         </td></tr>\n",
       "\t<tr><td>North Carolina</td><td> 91.0         </td></tr>\n",
       "\t<tr><td>North Dakota  </td><td> 91.7         </td></tr>\n",
       "\t<tr><td>Ohio          </td><td> 91.2         </td></tr>\n",
       "\t<tr><td>Oklahoma      </td><td>100.4         </td></tr>\n",
       "\t<tr><td>Oregon        </td><td> 97.3         </td></tr>\n",
       "\t<tr><td>Pennsylvania  </td><td> 92.9         </td></tr>\n",
       "\t<tr><td>Rhode Island  </td><td> 89.2         </td></tr>\n",
       "\t<tr><td>South Carolina</td><td> 92.8         </td></tr>\n",
       "\t<tr><td>South Dakota  </td><td> 94.3         </td></tr>\n",
       "\t<tr><td>Tennessee     </td><td> 94.1         </td></tr>\n",
       "\t<tr><td>Texas         </td><td> 98.5         </td></tr>\n",
       "\t<tr><td>Utah          </td><td> 92.2         </td></tr>\n",
       "\t<tr><td>Vermont       </td><td> 87.4         </td></tr>\n",
       "\t<tr><td>Virginia      </td><td> 93.5         </td></tr>\n",
       "\t<tr><td>Washington    </td><td> 97.7         </td></tr>\n",
       "\t<tr><td>West Virginia </td><td> 92.5         </td></tr>\n",
       "\t<tr><td>Wisconsin     </td><td> 92.2         </td></tr>\n",
       "\t<tr><td>Wyoming       </td><td> 87.1         </td></tr>\n",
       "</tbody>\n",
       "</table>\n"
      ],
      "text/latex": [
       "\\begin{tabular}{r|ll}\n",
       " State & MaxValue\\\\\n",
       "\\hline\n",
       "\t Alabama        &  91.5         \\\\\n",
       "\t Alaska         &  79.5         \\\\\n",
       "\t Arizona        & 107.5         \\\\\n",
       "\t Arkansas       & 100.7         \\\\\n",
       "\t California     & 102.6         \\\\\n",
       "\t Colorado       &  94.7         \\\\\n",
       "\t Connecticut    &  89.8         \\\\\n",
       "\t Delaware       &  89.7         \\\\\n",
       "\t Florida        &  92.8         \\\\\n",
       "\t Georgia        &  97.7         \\\\\n",
       "\t Hawaii         &  87.2         \\\\\n",
       "\t Idaho          &  94.2         \\\\\n",
       "\t Illinois       &  92.3         \\\\\n",
       "\t Indiana        &  94.0         \\\\\n",
       "\t Iowa           &  93.0         \\\\\n",
       "\t Kansas         &  96.1         \\\\\n",
       "\t Kentucky       &  93.2         \\\\\n",
       "\t Louisiana      &  95.4         \\\\\n",
       "\t Maine          &  89.1         \\\\\n",
       "\t Maryland       &  92.8         \\\\\n",
       "\t Massachusetts  &  90.7         \\\\\n",
       "\t Michigan       &  89.4         \\\\\n",
       "\t Minnesota      &  92.0         \\\\\n",
       "\t Mississippi    &  92.8         \\\\\n",
       "\t Missouri       &  96.3         \\\\\n",
       "\t Montana        & 100.1         \\\\\n",
       "\t Nebraska       &  93.2         \\\\\n",
       "\t Nevada         & 105.5         \\\\\n",
       "\t New Hampshire  &  88.0         \\\\\n",
       "\t New Jersey     &  95.6         \\\\\n",
       "\t New Mexico     &  89.4         \\\\\n",
       "\t New York       &  93.7         \\\\\n",
       "\t North Carolina &  91.0         \\\\\n",
       "\t North Dakota   &  91.7         \\\\\n",
       "\t Ohio           &  91.2         \\\\\n",
       "\t Oklahoma       & 100.4         \\\\\n",
       "\t Oregon         &  97.3         \\\\\n",
       "\t Pennsylvania   &  92.9         \\\\\n",
       "\t Rhode Island   &  89.2         \\\\\n",
       "\t South Carolina &  92.8         \\\\\n",
       "\t South Dakota   &  94.3         \\\\\n",
       "\t Tennessee      &  94.1         \\\\\n",
       "\t Texas          &  98.5         \\\\\n",
       "\t Utah           &  92.2         \\\\\n",
       "\t Vermont        &  87.4         \\\\\n",
       "\t Virginia       &  93.5         \\\\\n",
       "\t Washington     &  97.7         \\\\\n",
       "\t West Virginia  &  92.5         \\\\\n",
       "\t Wisconsin      &  92.2         \\\\\n",
       "\t Wyoming        &  87.1         \\\\\n",
       "\\end{tabular}\n"
      ],
      "text/plain": [
       "   State          MaxValue\n",
       "1  Alabama         91.5   \n",
       "2  Alaska          79.5   \n",
       "3  Arizona        107.5   \n",
       "4  Arkansas       100.7   \n",
       "5  California     102.6   \n",
       "6  Colorado        94.7   \n",
       "7  Connecticut     89.8   \n",
       "8  Delaware        89.7   \n",
       "9  Florida         92.8   \n",
       "10 Georgia         97.7   \n",
       "11 Hawaii          87.2   \n",
       "12 Idaho           94.2   \n",
       "13 Illinois        92.3   \n",
       "14 Indiana         94.0   \n",
       "15 Iowa            93.0   \n",
       "16 Kansas          96.1   \n",
       "17 Kentucky        93.2   \n",
       "18 Louisiana       95.4   \n",
       "19 Maine           89.1   \n",
       "20 Maryland        92.8   \n",
       "21 Massachusetts   90.7   \n",
       "22 Michigan        89.4   \n",
       "23 Minnesota       92.0   \n",
       "24 Mississippi     92.8   \n",
       "25 Missouri        96.3   \n",
       "26 Montana        100.1   \n",
       "27 Nebraska        93.2   \n",
       "28 Nevada         105.5   \n",
       "29 New Hampshire   88.0   \n",
       "30 New Jersey      95.6   \n",
       "31 New Mexico      89.4   \n",
       "32 New York        93.7   \n",
       "33 North Carolina  91.0   \n",
       "34 North Dakota    91.7   \n",
       "35 Ohio            91.2   \n",
       "36 Oklahoma       100.4   \n",
       "37 Oregon          97.3   \n",
       "38 Pennsylvania    92.9   \n",
       "39 Rhode Island    89.2   \n",
       "40 South Carolina  92.8   \n",
       "41 South Dakota    94.3   \n",
       "42 Tennessee       94.1   \n",
       "43 Texas           98.5   \n",
       "44 Utah            92.2   \n",
       "45 Vermont         87.4   \n",
       "46 Virginia        93.5   \n",
       "47 Washington      97.7   \n",
       "48 West Virginia   92.5   \n",
       "49 Wisconsin       92.2   \n",
       "50 Wyoming         87.1   "
      ]
     },
     "metadata": {},
     "output_type": "display_data"
    }
   ],
   "source": [
    "collect(arrange(maxTempByState, maxTempByState$State))"
   ]
  },
  {
   "cell_type": "markdown",
   "metadata": {
    "collapsed": true
   },
   "source": [
    "### Aggregate to find the number of entries grouping by State"
   ]
  },
  {
   "cell_type": "code",
   "execution_count": 28,
   "metadata": {
    "collapsed": false
   },
   "outputs": [
    {
     "data": {
      "text/plain": [
       "SparkDataFrame[state:string, count:bigint]"
      ]
     },
     "metadata": {},
     "output_type": "display_data"
    }
   ],
   "source": [
    "stateCounts <- summarize(groupBy(usaDailyTemps, usaDailyTemps$state), \n",
    "                         count = n(usaDailyTemps$state))\n",
    "stateCounts"
   ]
  },
  {
   "cell_type": "code",
   "execution_count": 29,
   "metadata": {
    "collapsed": false
   },
   "outputs": [
    {
     "data": {
      "text/html": [
       "<table>\n",
       "<thead><tr><th scope=col>state</th><th scope=col>count</th></tr></thead>\n",
       "<tbody>\n",
       "\t<tr><td>Texas         </td><td>106736        </td></tr>\n",
       "\t<tr><td>Ohio          </td><td> 53368        </td></tr>\n",
       "\t<tr><td>Florida       </td><td> 51495        </td></tr>\n",
       "\t<tr><td>Pennsylvania  </td><td> 43871        </td></tr>\n",
       "\t<tr><td>Michigan      </td><td> 38120        </td></tr>\n",
       "\t<tr><td>California    </td><td> 38120        </td></tr>\n",
       "\t<tr><td>New York      </td><td> 38120        </td></tr>\n",
       "\t<tr><td>Oregon        </td><td> 30496        </td></tr>\n",
       "\t<tr><td>Illinois      </td><td> 30496        </td></tr>\n",
       "\t<tr><td>Georgia       </td><td> 30496        </td></tr>\n",
       "\t<tr><td>North Carolina</td><td> 30496        </td></tr>\n",
       "\t<tr><td>Alabama       </td><td> 30496        </td></tr>\n",
       "\t<tr><td>Tennessee     </td><td> 30496        </td></tr>\n",
       "\t<tr><td>Indiana       </td><td> 30496        </td></tr>\n",
       "\t<tr><td>Colorado      </td><td> 30496        </td></tr>\n",
       "\t<tr><td>Louisiana     </td><td> 28670        </td></tr>\n",
       "\t<tr><td>Arizona       </td><td> 23202        </td></tr>\n",
       "\t<tr><td>Nebraska      </td><td> 22872        </td></tr>\n",
       "\t<tr><td>Washington    </td><td> 22872        </td></tr>\n",
       "\t<tr><td>Alaska        </td><td> 22872        </td></tr>\n",
       "\t<tr><td>Missouri      </td><td> 22872        </td></tr>\n",
       "\t<tr><td>Montana       </td><td> 22872        </td></tr>\n",
       "\t<tr><td>Virginia      </td><td> 22872        </td></tr>\n",
       "\t<tr><td>Kansas        </td><td> 22872        </td></tr>\n",
       "\t<tr><td>Kentucky      </td><td> 22872        </td></tr>\n",
       "\t<tr><td>Wisconsin     </td><td> 22872        </td></tr>\n",
       "\t<tr><td>Minnesota     </td><td> 15248        </td></tr>\n",
       "\t<tr><td>Arkansas      </td><td> 15248        </td></tr>\n",
       "\t<tr><td>North Dakota  </td><td> 15248        </td></tr>\n",
       "\t<tr><td>Connecticut   </td><td> 15248        </td></tr>\n",
       "\t<tr><td>Nevada        </td><td> 15248        </td></tr>\n",
       "\t<tr><td>Oklahoma      </td><td> 15248        </td></tr>\n",
       "\t<tr><td>West Virginia </td><td> 15248        </td></tr>\n",
       "\t<tr><td>Wyoming       </td><td> 15248        </td></tr>\n",
       "\t<tr><td>New Jersey    </td><td> 15248        </td></tr>\n",
       "\t<tr><td>Maryland      </td><td> 15248        </td></tr>\n",
       "\t<tr><td>Iowa          </td><td> 15248        </td></tr>\n",
       "\t<tr><td>Mississippi   </td><td> 15248        </td></tr>\n",
       "\t<tr><td>Idaho         </td><td> 15248        </td></tr>\n",
       "\t<tr><td>South Carolina</td><td> 15248        </td></tr>\n",
       "\t<tr><td>South Dakota  </td><td> 15248        </td></tr>\n",
       "\t<tr><td>Maine         </td><td> 15248        </td></tr>\n",
       "\t<tr><td>Utah          </td><td>  7624        </td></tr>\n",
       "\t<tr><td>Hawaii        </td><td>  7624        </td></tr>\n",
       "\t<tr><td>Vermont       </td><td>  7624        </td></tr>\n",
       "\t<tr><td>New Mexico    </td><td>  7624        </td></tr>\n",
       "\t<tr><td>Rhode Island  </td><td>  7624        </td></tr>\n",
       "\t<tr><td>Massachusetts </td><td>  7624        </td></tr>\n",
       "\t<tr><td>New Hampshire </td><td>  7624        </td></tr>\n",
       "\t<tr><td>Delaware      </td><td>  5751        </td></tr>\n",
       "</tbody>\n",
       "</table>\n"
      ],
      "text/latex": [
       "\\begin{tabular}{r|ll}\n",
       " state & count\\\\\n",
       "\\hline\n",
       "\t Texas          & 106736        \\\\\n",
       "\t Ohio           &  53368        \\\\\n",
       "\t Florida        &  51495        \\\\\n",
       "\t Pennsylvania   &  43871        \\\\\n",
       "\t Michigan       &  38120        \\\\\n",
       "\t California     &  38120        \\\\\n",
       "\t New York       &  38120        \\\\\n",
       "\t Oregon         &  30496        \\\\\n",
       "\t Illinois       &  30496        \\\\\n",
       "\t Georgia        &  30496        \\\\\n",
       "\t North Carolina &  30496        \\\\\n",
       "\t Alabama        &  30496        \\\\\n",
       "\t Tennessee      &  30496        \\\\\n",
       "\t Indiana        &  30496        \\\\\n",
       "\t Colorado       &  30496        \\\\\n",
       "\t Louisiana      &  28670        \\\\\n",
       "\t Arizona        &  23202        \\\\\n",
       "\t Nebraska       &  22872        \\\\\n",
       "\t Washington     &  22872        \\\\\n",
       "\t Alaska         &  22872        \\\\\n",
       "\t Missouri       &  22872        \\\\\n",
       "\t Montana        &  22872        \\\\\n",
       "\t Virginia       &  22872        \\\\\n",
       "\t Kansas         &  22872        \\\\\n",
       "\t Kentucky       &  22872        \\\\\n",
       "\t Wisconsin      &  22872        \\\\\n",
       "\t Minnesota      &  15248        \\\\\n",
       "\t Arkansas       &  15248        \\\\\n",
       "\t North Dakota   &  15248        \\\\\n",
       "\t Connecticut    &  15248        \\\\\n",
       "\t Nevada         &  15248        \\\\\n",
       "\t Oklahoma       &  15248        \\\\\n",
       "\t West Virginia  &  15248        \\\\\n",
       "\t Wyoming        &  15248        \\\\\n",
       "\t New Jersey     &  15248        \\\\\n",
       "\t Maryland       &  15248        \\\\\n",
       "\t Iowa           &  15248        \\\\\n",
       "\t Mississippi    &  15248        \\\\\n",
       "\t Idaho          &  15248        \\\\\n",
       "\t South Carolina &  15248        \\\\\n",
       "\t South Dakota   &  15248        \\\\\n",
       "\t Maine          &  15248        \\\\\n",
       "\t Utah           &   7624        \\\\\n",
       "\t Hawaii         &   7624        \\\\\n",
       "\t Vermont        &   7624        \\\\\n",
       "\t New Mexico     &   7624        \\\\\n",
       "\t Rhode Island   &   7624        \\\\\n",
       "\t Massachusetts  &   7624        \\\\\n",
       "\t New Hampshire  &   7624        \\\\\n",
       "\t Delaware       &   5751        \\\\\n",
       "\\end{tabular}\n"
      ],
      "text/plain": [
       "   state          count \n",
       "1  Texas          106736\n",
       "2  Ohio            53368\n",
       "3  Florida         51495\n",
       "4  Pennsylvania    43871\n",
       "5  Michigan        38120\n",
       "6  California      38120\n",
       "7  New York        38120\n",
       "8  Oregon          30496\n",
       "9  Illinois        30496\n",
       "10 Georgia         30496\n",
       "11 North Carolina  30496\n",
       "12 Alabama         30496\n",
       "13 Tennessee       30496\n",
       "14 Indiana         30496\n",
       "15 Colorado        30496\n",
       "16 Louisiana       28670\n",
       "17 Arizona         23202\n",
       "18 Nebraska        22872\n",
       "19 Washington      22872\n",
       "20 Alaska          22872\n",
       "21 Missouri        22872\n",
       "22 Montana         22872\n",
       "23 Virginia        22872\n",
       "24 Kansas          22872\n",
       "25 Kentucky        22872\n",
       "26 Wisconsin       22872\n",
       "27 Minnesota       15248\n",
       "28 Arkansas        15248\n",
       "29 North Dakota    15248\n",
       "30 Connecticut     15248\n",
       "31 Nevada          15248\n",
       "32 Oklahoma        15248\n",
       "33 West Virginia   15248\n",
       "34 Wyoming         15248\n",
       "35 New Jersey      15248\n",
       "36 Maryland        15248\n",
       "37 Iowa            15248\n",
       "38 Mississippi     15248\n",
       "39 Idaho           15248\n",
       "40 South Carolina  15248\n",
       "41 South Dakota    15248\n",
       "42 Maine           15248\n",
       "43 Utah             7624\n",
       "44 Hawaii           7624\n",
       "45 Vermont          7624\n",
       "46 New Mexico       7624\n",
       "47 Rhode Island     7624\n",
       "48 Massachusetts    7624\n",
       "49 New Hampshire    7624\n",
       "50 Delaware         5751"
      ]
     },
     "metadata": {},
     "output_type": "display_data"
    }
   ],
   "source": [
    "collect(arrange(stateCounts, desc(stateCounts$count)))"
   ]
  },
  {
   "cell_type": "code",
   "execution_count": null,
   "metadata": {
    "collapsed": true
   },
   "outputs": [],
   "source": [
    "### Aggregate to find the number of entries grouping by State and City"
   ]
  },
  {
   "cell_type": "code",
   "execution_count": 30,
   "metadata": {
    "collapsed": false
   },
   "outputs": [
    {
     "data": {
      "text/plain": [
       "SparkDataFrame[state:string, city:string, count:bigint]"
      ]
     },
     "metadata": {},
     "output_type": "display_data"
    }
   ],
   "source": [
    "stateCityCounts <- summarize(groupBy(usaDailyTemps, usaDailyTemps$state, usaDailyTemps$city), \n",
    "                             count = n(usaDailyTemps$state))\n",
    "stateCityCounts"
   ]
  },
  {
   "cell_type": "code",
   "execution_count": 31,
   "metadata": {
    "collapsed": false
   },
   "outputs": [
    {
     "data": {
      "text/html": [
       "<table>\n",
       "<thead><tr><th scope=col>state</th><th scope=col>city</th><th scope=col>count</th></tr></thead>\n",
       "<tbody>\n",
       "\t<tr><td>Alabama             </td><td>Huntsville          </td><td>7624                </td></tr>\n",
       "\t<tr><td>Alabama             </td><td>Birmingham          </td><td>7624                </td></tr>\n",
       "\t<tr><td>Alabama             </td><td>Montgomery          </td><td>7624                </td></tr>\n",
       "\t<tr><td>Alabama             </td><td>Mobile              </td><td>7624                </td></tr>\n",
       "\t<tr><td>Alaska              </td><td>Fairbanks           </td><td>7624                </td></tr>\n",
       "\t<tr><td>Alaska              </td><td>Anchorage           </td><td>7624                </td></tr>\n",
       "\t<tr><td>Alaska              </td><td>Juneau              </td><td>7624                </td></tr>\n",
       "\t<tr><td>Arizona             </td><td>Tucson              </td><td>7624                </td></tr>\n",
       "\t<tr><td>Arizona             </td><td>Phoenix             </td><td>7624                </td></tr>\n",
       "\t<tr><td>Arizona             </td><td>Yuma                </td><td>4380                </td></tr>\n",
       "\t<tr><td>Arizona             </td><td>Flagstaff           </td><td>3574                </td></tr>\n",
       "\t<tr><td>Arkansas            </td><td>Fort Smith          </td><td>7624                </td></tr>\n",
       "\t<tr><td>Arkansas            </td><td>Little Rock         </td><td>7624                </td></tr>\n",
       "\t<tr><td>California          </td><td>San Francisco       </td><td>7624                </td></tr>\n",
       "\t<tr><td>California          </td><td>Fresno              </td><td>7624                </td></tr>\n",
       "\t<tr><td>California          </td><td>San Diego           </td><td>7624                </td></tr>\n",
       "\t<tr><td>California          </td><td>Los Angeles         </td><td>7624                </td></tr>\n",
       "\t<tr><td>California          </td><td>Sacramento          </td><td>7624                </td></tr>\n",
       "\t<tr><td>Colorado            </td><td>Pueblo              </td><td>7624                </td></tr>\n",
       "\t<tr><td>Colorado            </td><td>Colorado Springs    </td><td>7624                </td></tr>\n",
       "\t<tr><td>Colorado            </td><td>Denver              </td><td>7624                </td></tr>\n",
       "\t<tr><td>Colorado            </td><td>Grand Junction      </td><td>7624                </td></tr>\n",
       "\t<tr><td>Connecticut         </td><td>Hartford Springfield</td><td>7624                </td></tr>\n",
       "\t<tr><td>Connecticut         </td><td>Bridgeport          </td><td>7624                </td></tr>\n",
       "\t<tr><td>Delaware            </td><td>Wilmington          </td><td>5751                </td></tr>\n",
       "\t<tr><td>Florida             </td><td>Tallahassee         </td><td>7624                </td></tr>\n",
       "\t<tr><td>Florida             </td><td>Orlando             </td><td>7624                </td></tr>\n",
       "\t<tr><td>Florida             </td><td>Daytona Beach       </td><td>5751                </td></tr>\n",
       "\t<tr><td>Florida             </td><td>Jacksonville        </td><td>7624                </td></tr>\n",
       "\t<tr><td>Florida             </td><td>Miami Beach         </td><td>7624                </td></tr>\n",
       "\t<tr><td>⋮</td><td>⋮</td><td>⋮</td></tr>\n",
       "\t<tr><td>Tennessee      </td><td>Knoxville      </td><td>7624           </td></tr>\n",
       "\t<tr><td>Texas          </td><td>San Antonio    </td><td>7624           </td></tr>\n",
       "\t<tr><td>Texas          </td><td>Wichita Falls  </td><td>7624           </td></tr>\n",
       "\t<tr><td>Texas          </td><td>Abilene        </td><td>7624           </td></tr>\n",
       "\t<tr><td>Texas          </td><td>Dallas Ft Worth</td><td>7624           </td></tr>\n",
       "\t<tr><td>Texas          </td><td>Waco           </td><td>7624           </td></tr>\n",
       "\t<tr><td>Texas          </td><td>Lubbock        </td><td>7624           </td></tr>\n",
       "\t<tr><td>Texas          </td><td>Corpus Christi </td><td>7624           </td></tr>\n",
       "\t<tr><td>Texas          </td><td>Midland Odessa </td><td>7624           </td></tr>\n",
       "\t<tr><td>Texas          </td><td>Brownsville    </td><td>7624           </td></tr>\n",
       "\t<tr><td>Texas          </td><td>San Angelo     </td><td>7624           </td></tr>\n",
       "\t<tr><td>Texas          </td><td>El Paso        </td><td>7624           </td></tr>\n",
       "\t<tr><td>Texas          </td><td>Amarillo       </td><td>7624           </td></tr>\n",
       "\t<tr><td>Texas          </td><td>Austin         </td><td>7624           </td></tr>\n",
       "\t<tr><td>Texas          </td><td>Houston        </td><td>7624           </td></tr>\n",
       "\t<tr><td>Utah           </td><td>Salt Lake City </td><td>7624           </td></tr>\n",
       "\t<tr><td>Vermont        </td><td>Burlington     </td><td>7624           </td></tr>\n",
       "\t<tr><td>Virginia       </td><td>Roanoke        </td><td>7624           </td></tr>\n",
       "\t<tr><td>Virginia       </td><td>Norfolk        </td><td>7624           </td></tr>\n",
       "\t<tr><td>Virginia       </td><td>Richmond       </td><td>7624           </td></tr>\n",
       "\t<tr><td>Washington     </td><td>Spokane        </td><td>7624           </td></tr>\n",
       "\t<tr><td>Washington     </td><td>Seattle        </td><td>7624           </td></tr>\n",
       "\t<tr><td>Washington     </td><td>Yakima         </td><td>7624           </td></tr>\n",
       "\t<tr><td>West Virginia  </td><td>Charleston     </td><td>7624           </td></tr>\n",
       "\t<tr><td>West Virginia  </td><td>Elkins         </td><td>7624           </td></tr>\n",
       "\t<tr><td>Wisconsin      </td><td>Madison        </td><td>7624           </td></tr>\n",
       "\t<tr><td>Wisconsin      </td><td>Milwaukee      </td><td>7624           </td></tr>\n",
       "\t<tr><td>Wisconsin      </td><td>Green Bay      </td><td>7624           </td></tr>\n",
       "\t<tr><td>Wyoming        </td><td>Cheyenne       </td><td>7624           </td></tr>\n",
       "\t<tr><td>Wyoming        </td><td>Casper         </td><td>7624           </td></tr>\n",
       "</tbody>\n",
       "</table>\n"
      ],
      "text/latex": [
       "\\begin{tabular}{r|lll}\n",
       " state & city & count\\\\\n",
       "\\hline\n",
       "\t Alabama              & Huntsville           & 7624                \\\\\n",
       "\t Alabama              & Birmingham           & 7624                \\\\\n",
       "\t Alabama              & Montgomery           & 7624                \\\\\n",
       "\t Alabama              & Mobile               & 7624                \\\\\n",
       "\t Alaska               & Fairbanks            & 7624                \\\\\n",
       "\t Alaska               & Anchorage            & 7624                \\\\\n",
       "\t Alaska               & Juneau               & 7624                \\\\\n",
       "\t Arizona              & Tucson               & 7624                \\\\\n",
       "\t Arizona              & Phoenix              & 7624                \\\\\n",
       "\t Arizona              & Yuma                 & 4380                \\\\\n",
       "\t Arizona              & Flagstaff            & 3574                \\\\\n",
       "\t Arkansas             & Fort Smith           & 7624                \\\\\n",
       "\t Arkansas             & Little Rock          & 7624                \\\\\n",
       "\t California           & San Francisco        & 7624                \\\\\n",
       "\t California           & Fresno               & 7624                \\\\\n",
       "\t California           & San Diego            & 7624                \\\\\n",
       "\t California           & Los Angeles          & 7624                \\\\\n",
       "\t California           & Sacramento           & 7624                \\\\\n",
       "\t Colorado             & Pueblo               & 7624                \\\\\n",
       "\t Colorado             & Colorado Springs     & 7624                \\\\\n",
       "\t Colorado             & Denver               & 7624                \\\\\n",
       "\t Colorado             & Grand Junction       & 7624                \\\\\n",
       "\t Connecticut          & Hartford Springfield & 7624                \\\\\n",
       "\t Connecticut          & Bridgeport           & 7624                \\\\\n",
       "\t Delaware             & Wilmington           & 5751                \\\\\n",
       "\t Florida              & Tallahassee          & 7624                \\\\\n",
       "\t Florida              & Orlando              & 7624                \\\\\n",
       "\t Florida              & Daytona Beach        & 5751                \\\\\n",
       "\t Florida              & Jacksonville         & 7624                \\\\\n",
       "\t Florida              & Miami Beach          & 7624                \\\\\n",
       "\t ⋮ & ⋮ & ⋮\\\\\n",
       "\t Tennessee       & Knoxville       & 7624           \\\\\n",
       "\t Texas           & San Antonio     & 7624           \\\\\n",
       "\t Texas           & Wichita Falls   & 7624           \\\\\n",
       "\t Texas           & Abilene         & 7624           \\\\\n",
       "\t Texas           & Dallas Ft Worth & 7624           \\\\\n",
       "\t Texas           & Waco            & 7624           \\\\\n",
       "\t Texas           & Lubbock         & 7624           \\\\\n",
       "\t Texas           & Corpus Christi  & 7624           \\\\\n",
       "\t Texas           & Midland Odessa  & 7624           \\\\\n",
       "\t Texas           & Brownsville     & 7624           \\\\\n",
       "\t Texas           & San Angelo      & 7624           \\\\\n",
       "\t Texas           & El Paso         & 7624           \\\\\n",
       "\t Texas           & Amarillo        & 7624           \\\\\n",
       "\t Texas           & Austin          & 7624           \\\\\n",
       "\t Texas           & Houston         & 7624           \\\\\n",
       "\t Utah            & Salt Lake City  & 7624           \\\\\n",
       "\t Vermont         & Burlington      & 7624           \\\\\n",
       "\t Virginia        & Roanoke         & 7624           \\\\\n",
       "\t Virginia        & Norfolk         & 7624           \\\\\n",
       "\t Virginia        & Richmond        & 7624           \\\\\n",
       "\t Washington      & Spokane         & 7624           \\\\\n",
       "\t Washington      & Seattle         & 7624           \\\\\n",
       "\t Washington      & Yakima          & 7624           \\\\\n",
       "\t West Virginia   & Charleston      & 7624           \\\\\n",
       "\t West Virginia   & Elkins          & 7624           \\\\\n",
       "\t Wisconsin       & Madison         & 7624           \\\\\n",
       "\t Wisconsin       & Milwaukee       & 7624           \\\\\n",
       "\t Wisconsin       & Green Bay       & 7624           \\\\\n",
       "\t Wyoming         & Cheyenne        & 7624           \\\\\n",
       "\t Wyoming         & Casper          & 7624           \\\\\n",
       "\\end{tabular}\n"
      ],
      "text/plain": [
       "    state         city                 count\n",
       "1   Alabama       Huntsville           7624 \n",
       "2   Alabama       Birmingham           7624 \n",
       "3   Alabama       Montgomery           7624 \n",
       "4   Alabama       Mobile               7624 \n",
       "5   Alaska        Fairbanks            7624 \n",
       "6   Alaska        Anchorage            7624 \n",
       "7   Alaska        Juneau               7624 \n",
       "8   Arizona       Tucson               7624 \n",
       "9   Arizona       Phoenix              7624 \n",
       "10  Arizona       Yuma                 4380 \n",
       "11  Arizona       Flagstaff            3574 \n",
       "12  Arkansas      Fort Smith           7624 \n",
       "13  Arkansas      Little Rock          7624 \n",
       "14  California    San Francisco        7624 \n",
       "15  California    Fresno               7624 \n",
       "16  California    San Diego            7624 \n",
       "17  California    Los Angeles          7624 \n",
       "18  California    Sacramento           7624 \n",
       "19  Colorado      Pueblo               7624 \n",
       "20  Colorado      Colorado Springs     7624 \n",
       "21  Colorado      Denver               7624 \n",
       "22  Colorado      Grand Junction       7624 \n",
       "23  Connecticut   Hartford Springfield 7624 \n",
       "24  Connecticut   Bridgeport           7624 \n",
       "25  Delaware      Wilmington           5751 \n",
       "26  Florida       Tallahassee          7624 \n",
       "27  Florida       Orlando              7624 \n",
       "28  Florida       Daytona Beach        5751 \n",
       "29  Florida       Jacksonville         7624 \n",
       "30  Florida       Miami Beach          7624 \n",
       "⋮   ⋮             ⋮                    ⋮    \n",
       "127 Tennessee     Knoxville            7624 \n",
       "128 Texas         San Antonio          7624 \n",
       "129 Texas         Wichita Falls        7624 \n",
       "130 Texas         Abilene              7624 \n",
       "131 Texas         Dallas Ft Worth      7624 \n",
       "132 Texas         Waco                 7624 \n",
       "133 Texas         Lubbock              7624 \n",
       "134 Texas         Corpus Christi       7624 \n",
       "135 Texas         Midland Odessa       7624 \n",
       "136 Texas         Brownsville          7624 \n",
       "137 Texas         San Angelo           7624 \n",
       "138 Texas         El Paso              7624 \n",
       "139 Texas         Amarillo             7624 \n",
       "140 Texas         Austin               7624 \n",
       "141 Texas         Houston              7624 \n",
       "142 Utah          Salt Lake City       7624 \n",
       "143 Vermont       Burlington           7624 \n",
       "144 Virginia      Roanoke              7624 \n",
       "145 Virginia      Norfolk              7624 \n",
       "146 Virginia      Richmond             7624 \n",
       "147 Washington    Spokane              7624 \n",
       "148 Washington    Seattle              7624 \n",
       "149 Washington    Yakima               7624 \n",
       "150 West Virginia Charleston           7624 \n",
       "151 West Virginia Elkins               7624 \n",
       "152 Wisconsin     Madison              7624 \n",
       "153 Wisconsin     Milwaukee            7624 \n",
       "154 Wisconsin     Green Bay            7624 \n",
       "155 Wyoming       Cheyenne             7624 \n",
       "156 Wyoming       Casper               7624 "
      ]
     },
     "metadata": {},
     "output_type": "display_data"
    }
   ],
   "source": [
    "collect(arrange(stateCityCounts, asc(stateCityCounts$state)))"
   ]
  },
  {
   "cell_type": "code",
   "execution_count": 32,
   "metadata": {
    "collapsed": false
   },
   "outputs": [
    {
     "data": {
      "text/html": [
       "<table>\n",
       "<thead><tr><th scope=col>state</th><th scope=col>city</th><th scope=col>count</th></tr></thead>\n",
       "<tbody>\n",
       "\t<tr><td>Alabama             </td><td>Birmingham          </td><td>7624                </td></tr>\n",
       "\t<tr><td>Alabama             </td><td>Huntsville          </td><td>7624                </td></tr>\n",
       "\t<tr><td>Alabama             </td><td>Mobile              </td><td>7624                </td></tr>\n",
       "\t<tr><td>Alabama             </td><td>Montgomery          </td><td>7624                </td></tr>\n",
       "\t<tr><td>Alaska              </td><td>Anchorage           </td><td>7624                </td></tr>\n",
       "\t<tr><td>Alaska              </td><td>Fairbanks           </td><td>7624                </td></tr>\n",
       "\t<tr><td>Alaska              </td><td>Juneau              </td><td>7624                </td></tr>\n",
       "\t<tr><td>Arizona             </td><td>Flagstaff           </td><td>3574                </td></tr>\n",
       "\t<tr><td>Arizona             </td><td>Phoenix             </td><td>7624                </td></tr>\n",
       "\t<tr><td>Arizona             </td><td>Tucson              </td><td>7624                </td></tr>\n",
       "\t<tr><td>Arizona             </td><td>Yuma                </td><td>4380                </td></tr>\n",
       "\t<tr><td>Arkansas            </td><td>Fort Smith          </td><td>7624                </td></tr>\n",
       "\t<tr><td>Arkansas            </td><td>Little Rock         </td><td>7624                </td></tr>\n",
       "\t<tr><td>California          </td><td>Fresno              </td><td>7624                </td></tr>\n",
       "\t<tr><td>California          </td><td>Los Angeles         </td><td>7624                </td></tr>\n",
       "\t<tr><td>California          </td><td>Sacramento          </td><td>7624                </td></tr>\n",
       "\t<tr><td>California          </td><td>San Diego           </td><td>7624                </td></tr>\n",
       "\t<tr><td>California          </td><td>San Francisco       </td><td>7624                </td></tr>\n",
       "\t<tr><td>Colorado            </td><td>Colorado Springs    </td><td>7624                </td></tr>\n",
       "\t<tr><td>Colorado            </td><td>Denver              </td><td>7624                </td></tr>\n",
       "\t<tr><td>Colorado            </td><td>Grand Junction      </td><td>7624                </td></tr>\n",
       "\t<tr><td>Colorado            </td><td>Pueblo              </td><td>7624                </td></tr>\n",
       "\t<tr><td>Connecticut         </td><td>Bridgeport          </td><td>7624                </td></tr>\n",
       "\t<tr><td>Connecticut         </td><td>Hartford Springfield</td><td>7624                </td></tr>\n",
       "\t<tr><td>Delaware            </td><td>Wilmington          </td><td>5751                </td></tr>\n",
       "\t<tr><td>Florida             </td><td>Daytona Beach       </td><td>5751                </td></tr>\n",
       "\t<tr><td>Florida             </td><td>Jacksonville        </td><td>7624                </td></tr>\n",
       "\t<tr><td>Florida             </td><td>Miami Beach         </td><td>7624                </td></tr>\n",
       "\t<tr><td>Florida             </td><td>Orlando             </td><td>7624                </td></tr>\n",
       "\t<tr><td>Florida             </td><td>Tallahassee         </td><td>7624                </td></tr>\n",
       "\t<tr><td>⋮</td><td>⋮</td><td>⋮</td></tr>\n",
       "\t<tr><td>Tennessee      </td><td>Nashville      </td><td>7624           </td></tr>\n",
       "\t<tr><td>Texas          </td><td>Abilene        </td><td>7624           </td></tr>\n",
       "\t<tr><td>Texas          </td><td>Amarillo       </td><td>7624           </td></tr>\n",
       "\t<tr><td>Texas          </td><td>Austin         </td><td>7624           </td></tr>\n",
       "\t<tr><td>Texas          </td><td>Brownsville    </td><td>7624           </td></tr>\n",
       "\t<tr><td>Texas          </td><td>Corpus Christi </td><td>7624           </td></tr>\n",
       "\t<tr><td>Texas          </td><td>Dallas Ft Worth</td><td>7624           </td></tr>\n",
       "\t<tr><td>Texas          </td><td>El Paso        </td><td>7624           </td></tr>\n",
       "\t<tr><td>Texas          </td><td>Houston        </td><td>7624           </td></tr>\n",
       "\t<tr><td>Texas          </td><td>Lubbock        </td><td>7624           </td></tr>\n",
       "\t<tr><td>Texas          </td><td>Midland Odessa </td><td>7624           </td></tr>\n",
       "\t<tr><td>Texas          </td><td>San Angelo     </td><td>7624           </td></tr>\n",
       "\t<tr><td>Texas          </td><td>San Antonio    </td><td>7624           </td></tr>\n",
       "\t<tr><td>Texas          </td><td>Waco           </td><td>7624           </td></tr>\n",
       "\t<tr><td>Texas          </td><td>Wichita Falls  </td><td>7624           </td></tr>\n",
       "\t<tr><td>Utah           </td><td>Salt Lake City </td><td>7624           </td></tr>\n",
       "\t<tr><td>Vermont        </td><td>Burlington     </td><td>7624           </td></tr>\n",
       "\t<tr><td>Virginia       </td><td>Norfolk        </td><td>7624           </td></tr>\n",
       "\t<tr><td>Virginia       </td><td>Richmond       </td><td>7624           </td></tr>\n",
       "\t<tr><td>Virginia       </td><td>Roanoke        </td><td>7624           </td></tr>\n",
       "\t<tr><td>Washington     </td><td>Seattle        </td><td>7624           </td></tr>\n",
       "\t<tr><td>Washington     </td><td>Spokane        </td><td>7624           </td></tr>\n",
       "\t<tr><td>Washington     </td><td>Yakima         </td><td>7624           </td></tr>\n",
       "\t<tr><td>West Virginia  </td><td>Charleston     </td><td>7624           </td></tr>\n",
       "\t<tr><td>West Virginia  </td><td>Elkins         </td><td>7624           </td></tr>\n",
       "\t<tr><td>Wisconsin      </td><td>Green Bay      </td><td>7624           </td></tr>\n",
       "\t<tr><td>Wisconsin      </td><td>Madison        </td><td>7624           </td></tr>\n",
       "\t<tr><td>Wisconsin      </td><td>Milwaukee      </td><td>7624           </td></tr>\n",
       "\t<tr><td>Wyoming        </td><td>Casper         </td><td>7624           </td></tr>\n",
       "\t<tr><td>Wyoming        </td><td>Cheyenne       </td><td>7624           </td></tr>\n",
       "</tbody>\n",
       "</table>\n"
      ],
      "text/latex": [
       "\\begin{tabular}{r|lll}\n",
       " state & city & count\\\\\n",
       "\\hline\n",
       "\t Alabama              & Birmingham           & 7624                \\\\\n",
       "\t Alabama              & Huntsville           & 7624                \\\\\n",
       "\t Alabama              & Mobile               & 7624                \\\\\n",
       "\t Alabama              & Montgomery           & 7624                \\\\\n",
       "\t Alaska               & Anchorage            & 7624                \\\\\n",
       "\t Alaska               & Fairbanks            & 7624                \\\\\n",
       "\t Alaska               & Juneau               & 7624                \\\\\n",
       "\t Arizona              & Flagstaff            & 3574                \\\\\n",
       "\t Arizona              & Phoenix              & 7624                \\\\\n",
       "\t Arizona              & Tucson               & 7624                \\\\\n",
       "\t Arizona              & Yuma                 & 4380                \\\\\n",
       "\t Arkansas             & Fort Smith           & 7624                \\\\\n",
       "\t Arkansas             & Little Rock          & 7624                \\\\\n",
       "\t California           & Fresno               & 7624                \\\\\n",
       "\t California           & Los Angeles          & 7624                \\\\\n",
       "\t California           & Sacramento           & 7624                \\\\\n",
       "\t California           & San Diego            & 7624                \\\\\n",
       "\t California           & San Francisco        & 7624                \\\\\n",
       "\t Colorado             & Colorado Springs     & 7624                \\\\\n",
       "\t Colorado             & Denver               & 7624                \\\\\n",
       "\t Colorado             & Grand Junction       & 7624                \\\\\n",
       "\t Colorado             & Pueblo               & 7624                \\\\\n",
       "\t Connecticut          & Bridgeport           & 7624                \\\\\n",
       "\t Connecticut          & Hartford Springfield & 7624                \\\\\n",
       "\t Delaware             & Wilmington           & 5751                \\\\\n",
       "\t Florida              & Daytona Beach        & 5751                \\\\\n",
       "\t Florida              & Jacksonville         & 7624                \\\\\n",
       "\t Florida              & Miami Beach          & 7624                \\\\\n",
       "\t Florida              & Orlando              & 7624                \\\\\n",
       "\t Florida              & Tallahassee          & 7624                \\\\\n",
       "\t ⋮ & ⋮ & ⋮\\\\\n",
       "\t Tennessee       & Nashville       & 7624           \\\\\n",
       "\t Texas           & Abilene         & 7624           \\\\\n",
       "\t Texas           & Amarillo        & 7624           \\\\\n",
       "\t Texas           & Austin          & 7624           \\\\\n",
       "\t Texas           & Brownsville     & 7624           \\\\\n",
       "\t Texas           & Corpus Christi  & 7624           \\\\\n",
       "\t Texas           & Dallas Ft Worth & 7624           \\\\\n",
       "\t Texas           & El Paso         & 7624           \\\\\n",
       "\t Texas           & Houston         & 7624           \\\\\n",
       "\t Texas           & Lubbock         & 7624           \\\\\n",
       "\t Texas           & Midland Odessa  & 7624           \\\\\n",
       "\t Texas           & San Angelo      & 7624           \\\\\n",
       "\t Texas           & San Antonio     & 7624           \\\\\n",
       "\t Texas           & Waco            & 7624           \\\\\n",
       "\t Texas           & Wichita Falls   & 7624           \\\\\n",
       "\t Utah            & Salt Lake City  & 7624           \\\\\n",
       "\t Vermont         & Burlington      & 7624           \\\\\n",
       "\t Virginia        & Norfolk         & 7624           \\\\\n",
       "\t Virginia        & Richmond        & 7624           \\\\\n",
       "\t Virginia        & Roanoke         & 7624           \\\\\n",
       "\t Washington      & Seattle         & 7624           \\\\\n",
       "\t Washington      & Spokane         & 7624           \\\\\n",
       "\t Washington      & Yakima          & 7624           \\\\\n",
       "\t West Virginia   & Charleston      & 7624           \\\\\n",
       "\t West Virginia   & Elkins          & 7624           \\\\\n",
       "\t Wisconsin       & Green Bay       & 7624           \\\\\n",
       "\t Wisconsin       & Madison         & 7624           \\\\\n",
       "\t Wisconsin       & Milwaukee       & 7624           \\\\\n",
       "\t Wyoming         & Casper          & 7624           \\\\\n",
       "\t Wyoming         & Cheyenne        & 7624           \\\\\n",
       "\\end{tabular}\n"
      ],
      "text/plain": [
       "    state         city                 count\n",
       "1   Alabama       Birmingham           7624 \n",
       "2   Alabama       Huntsville           7624 \n",
       "3   Alabama       Mobile               7624 \n",
       "4   Alabama       Montgomery           7624 \n",
       "5   Alaska        Anchorage            7624 \n",
       "6   Alaska        Fairbanks            7624 \n",
       "7   Alaska        Juneau               7624 \n",
       "8   Arizona       Flagstaff            3574 \n",
       "9   Arizona       Phoenix              7624 \n",
       "10  Arizona       Tucson               7624 \n",
       "11  Arizona       Yuma                 4380 \n",
       "12  Arkansas      Fort Smith           7624 \n",
       "13  Arkansas      Little Rock          7624 \n",
       "14  California    Fresno               7624 \n",
       "15  California    Los Angeles          7624 \n",
       "16  California    Sacramento           7624 \n",
       "17  California    San Diego            7624 \n",
       "18  California    San Francisco        7624 \n",
       "19  Colorado      Colorado Springs     7624 \n",
       "20  Colorado      Denver               7624 \n",
       "21  Colorado      Grand Junction       7624 \n",
       "22  Colorado      Pueblo               7624 \n",
       "23  Connecticut   Bridgeport           7624 \n",
       "24  Connecticut   Hartford Springfield 7624 \n",
       "25  Delaware      Wilmington           5751 \n",
       "26  Florida       Daytona Beach        5751 \n",
       "27  Florida       Jacksonville         7624 \n",
       "28  Florida       Miami Beach          7624 \n",
       "29  Florida       Orlando              7624 \n",
       "30  Florida       Tallahassee          7624 \n",
       "⋮   ⋮             ⋮                    ⋮    \n",
       "127 Tennessee     Nashville            7624 \n",
       "128 Texas         Abilene              7624 \n",
       "129 Texas         Amarillo             7624 \n",
       "130 Texas         Austin               7624 \n",
       "131 Texas         Brownsville          7624 \n",
       "132 Texas         Corpus Christi       7624 \n",
       "133 Texas         Dallas Ft Worth      7624 \n",
       "134 Texas         El Paso              7624 \n",
       "135 Texas         Houston              7624 \n",
       "136 Texas         Lubbock              7624 \n",
       "137 Texas         Midland Odessa       7624 \n",
       "138 Texas         San Angelo           7624 \n",
       "139 Texas         San Antonio          7624 \n",
       "140 Texas         Waco                 7624 \n",
       "141 Texas         Wichita Falls        7624 \n",
       "142 Utah          Salt Lake City       7624 \n",
       "143 Vermont       Burlington           7624 \n",
       "144 Virginia      Norfolk              7624 \n",
       "145 Virginia      Richmond             7624 \n",
       "146 Virginia      Roanoke              7624 \n",
       "147 Washington    Seattle              7624 \n",
       "148 Washington    Spokane              7624 \n",
       "149 Washington    Yakima               7624 \n",
       "150 West Virginia Charleston           7624 \n",
       "151 West Virginia Elkins               7624 \n",
       "152 Wisconsin     Green Bay            7624 \n",
       "153 Wisconsin     Madison              7624 \n",
       "154 Wisconsin     Milwaukee            7624 \n",
       "155 Wyoming       Casper               7624 \n",
       "156 Wyoming       Cheyenne             7624 "
      ]
     },
     "metadata": {},
     "output_type": "display_data"
    }
   ],
   "source": [
    "collect(arrange(stateCityCounts, asc(stateCityCounts$state),\n",
    "                asc(stateCityCounts$city)))"
   ]
  },
  {
   "cell_type": "markdown",
   "metadata": {
    "collapsed": true
   },
   "source": [
    "### Number of cities for each state in the dataset"
   ]
  },
  {
   "cell_type": "code",
   "execution_count": 33,
   "metadata": {
    "collapsed": false
   },
   "outputs": [
    {
     "data": {
      "text/html": [
       "<table>\n",
       "<thead><tr><th scope=col>state</th><th scope=col>count</th></tr></thead>\n",
       "<tbody>\n",
       "\t<tr><td>Utah          </td><td> 1            </td></tr>\n",
       "\t<tr><td>Hawaii        </td><td> 1            </td></tr>\n",
       "\t<tr><td>Minnesota     </td><td> 2            </td></tr>\n",
       "\t<tr><td>Ohio          </td><td> 7            </td></tr>\n",
       "\t<tr><td>Oregon        </td><td> 4            </td></tr>\n",
       "\t<tr><td>Arkansas      </td><td> 2            </td></tr>\n",
       "\t<tr><td>Texas         </td><td>14            </td></tr>\n",
       "\t<tr><td>North Dakota  </td><td> 2            </td></tr>\n",
       "\t<tr><td>Pennsylvania  </td><td> 6            </td></tr>\n",
       "\t<tr><td>Connecticut   </td><td> 2            </td></tr>\n",
       "\t<tr><td>Nebraska      </td><td> 3            </td></tr>\n",
       "\t<tr><td>Vermont       </td><td> 1            </td></tr>\n",
       "\t<tr><td>Nevada        </td><td> 2            </td></tr>\n",
       "\t<tr><td>Washington    </td><td> 3            </td></tr>\n",
       "\t<tr><td>Illinois      </td><td> 4            </td></tr>\n",
       "\t<tr><td>Oklahoma      </td><td> 2            </td></tr>\n",
       "\t<tr><td>Delaware      </td><td> 1            </td></tr>\n",
       "\t<tr><td>Alaska        </td><td> 3            </td></tr>\n",
       "\t<tr><td>New Mexico    </td><td> 1            </td></tr>\n",
       "\t<tr><td>West Virginia </td><td> 2            </td></tr>\n",
       "\t<tr><td>Missouri      </td><td> 3            </td></tr>\n",
       "\t<tr><td>Rhode Island  </td><td> 1            </td></tr>\n",
       "\t<tr><td>Georgia       </td><td> 4            </td></tr>\n",
       "\t<tr><td>Montana       </td><td> 3            </td></tr>\n",
       "\t<tr><td>Virginia      </td><td> 3            </td></tr>\n",
       "\t<tr><td>Michigan      </td><td> 5            </td></tr>\n",
       "\t<tr><td>North Carolina</td><td> 4            </td></tr>\n",
       "\t<tr><td>Wyoming       </td><td> 2            </td></tr>\n",
       "\t<tr><td>Kansas        </td><td> 3            </td></tr>\n",
       "\t<tr><td>New Jersey    </td><td> 2            </td></tr>\n",
       "\t<tr><td>Maryland      </td><td> 2            </td></tr>\n",
       "\t<tr><td>Alabama       </td><td> 4            </td></tr>\n",
       "\t<tr><td>Arizona       </td><td> 4            </td></tr>\n",
       "\t<tr><td>Iowa          </td><td> 2            </td></tr>\n",
       "\t<tr><td>Massachusetts </td><td> 1            </td></tr>\n",
       "\t<tr><td>Kentucky      </td><td> 3            </td></tr>\n",
       "\t<tr><td>Louisiana     </td><td> 4            </td></tr>\n",
       "\t<tr><td>Mississippi   </td><td> 2            </td></tr>\n",
       "\t<tr><td>Tennessee     </td><td> 4            </td></tr>\n",
       "\t<tr><td>New Hampshire </td><td> 1            </td></tr>\n",
       "\t<tr><td>Florida       </td><td> 7            </td></tr>\n",
       "\t<tr><td>Indiana       </td><td> 4            </td></tr>\n",
       "\t<tr><td>Idaho         </td><td> 2            </td></tr>\n",
       "\t<tr><td>South Carolina</td><td> 2            </td></tr>\n",
       "\t<tr><td>South Dakota  </td><td> 2            </td></tr>\n",
       "\t<tr><td>California    </td><td> 5            </td></tr>\n",
       "\t<tr><td>New York      </td><td> 5            </td></tr>\n",
       "\t<tr><td>Wisconsin     </td><td> 3            </td></tr>\n",
       "\t<tr><td>Colorado      </td><td> 4            </td></tr>\n",
       "\t<tr><td>Maine         </td><td> 2            </td></tr>\n",
       "</tbody>\n",
       "</table>\n"
      ],
      "text/latex": [
       "\\begin{tabular}{r|ll}\n",
       " state & count\\\\\n",
       "\\hline\n",
       "\t Utah           &  1            \\\\\n",
       "\t Hawaii         &  1            \\\\\n",
       "\t Minnesota      &  2            \\\\\n",
       "\t Ohio           &  7            \\\\\n",
       "\t Oregon         &  4            \\\\\n",
       "\t Arkansas       &  2            \\\\\n",
       "\t Texas          & 14            \\\\\n",
       "\t North Dakota   &  2            \\\\\n",
       "\t Pennsylvania   &  6            \\\\\n",
       "\t Connecticut    &  2            \\\\\n",
       "\t Nebraska       &  3            \\\\\n",
       "\t Vermont        &  1            \\\\\n",
       "\t Nevada         &  2            \\\\\n",
       "\t Washington     &  3            \\\\\n",
       "\t Illinois       &  4            \\\\\n",
       "\t Oklahoma       &  2            \\\\\n",
       "\t Delaware       &  1            \\\\\n",
       "\t Alaska         &  3            \\\\\n",
       "\t New Mexico     &  1            \\\\\n",
       "\t West Virginia  &  2            \\\\\n",
       "\t Missouri       &  3            \\\\\n",
       "\t Rhode Island   &  1            \\\\\n",
       "\t Georgia        &  4            \\\\\n",
       "\t Montana        &  3            \\\\\n",
       "\t Virginia       &  3            \\\\\n",
       "\t Michigan       &  5            \\\\\n",
       "\t North Carolina &  4            \\\\\n",
       "\t Wyoming        &  2            \\\\\n",
       "\t Kansas         &  3            \\\\\n",
       "\t New Jersey     &  2            \\\\\n",
       "\t Maryland       &  2            \\\\\n",
       "\t Alabama        &  4            \\\\\n",
       "\t Arizona        &  4            \\\\\n",
       "\t Iowa           &  2            \\\\\n",
       "\t Massachusetts  &  1            \\\\\n",
       "\t Kentucky       &  3            \\\\\n",
       "\t Louisiana      &  4            \\\\\n",
       "\t Mississippi    &  2            \\\\\n",
       "\t Tennessee      &  4            \\\\\n",
       "\t New Hampshire  &  1            \\\\\n",
       "\t Florida        &  7            \\\\\n",
       "\t Indiana        &  4            \\\\\n",
       "\t Idaho          &  2            \\\\\n",
       "\t South Carolina &  2            \\\\\n",
       "\t South Dakota   &  2            \\\\\n",
       "\t California     &  5            \\\\\n",
       "\t New York       &  5            \\\\\n",
       "\t Wisconsin      &  3            \\\\\n",
       "\t Colorado       &  4            \\\\\n",
       "\t Maine          &  2            \\\\\n",
       "\\end{tabular}\n"
      ],
      "text/plain": [
       "   state          count\n",
       "1  Utah            1   \n",
       "2  Hawaii          1   \n",
       "3  Minnesota       2   \n",
       "4  Ohio            7   \n",
       "5  Oregon          4   \n",
       "6  Arkansas        2   \n",
       "7  Texas          14   \n",
       "8  North Dakota    2   \n",
       "9  Pennsylvania    6   \n",
       "10 Connecticut     2   \n",
       "11 Nebraska        3   \n",
       "12 Vermont         1   \n",
       "13 Nevada          2   \n",
       "14 Washington      3   \n",
       "15 Illinois        4   \n",
       "16 Oklahoma        2   \n",
       "17 Delaware        1   \n",
       "18 Alaska          3   \n",
       "19 New Mexico      1   \n",
       "20 West Virginia   2   \n",
       "21 Missouri        3   \n",
       "22 Rhode Island    1   \n",
       "23 Georgia         4   \n",
       "24 Montana         3   \n",
       "25 Virginia        3   \n",
       "26 Michigan        5   \n",
       "27 North Carolina  4   \n",
       "28 Wyoming         2   \n",
       "29 Kansas          3   \n",
       "30 New Jersey      2   \n",
       "31 Maryland        2   \n",
       "32 Alabama         4   \n",
       "33 Arizona         4   \n",
       "34 Iowa            2   \n",
       "35 Massachusetts   1   \n",
       "36 Kentucky        3   \n",
       "37 Louisiana       4   \n",
       "38 Mississippi     2   \n",
       "39 Tennessee       4   \n",
       "40 New Hampshire   1   \n",
       "41 Florida         7   \n",
       "42 Indiana         4   \n",
       "43 Idaho           2   \n",
       "44 South Carolina  2   \n",
       "45 South Dakota    2   \n",
       "46 California      5   \n",
       "47 New York        5   \n",
       "48 Wisconsin       3   \n",
       "49 Colorado        4   \n",
       "50 Maine           2   "
      ]
     },
     "metadata": {},
     "output_type": "display_data"
    }
   ],
   "source": [
    "collect(summarize(groupBy(stateCityCounts, stateCityCounts$state), \n",
    "                  count = n(stateCityCounts$state)))"
   ]
  },
  {
   "cell_type": "markdown",
   "metadata": {
    "collapsed": true
   },
   "source": [
    "### Create a subset SparkDataFrame for Boston"
   ]
  },
  {
   "cell_type": "code",
   "execution_count": 34,
   "metadata": {
    "collapsed": false
   },
   "outputs": [
    {
     "data": {
      "text/plain": [
       "SparkDataFrame[state:string, city:string, month:int, day:int, year:int, avgtemp:double]"
      ]
     },
     "metadata": {},
     "output_type": "display_data"
    }
   ],
   "source": [
    "bostonDailyTemps <- subset(usaDailyTemps, usaDailyTemps$city == 'Boston')\n",
    "bostonDailyTemps"
   ]
  },
  {
   "cell_type": "code",
   "execution_count": 35,
   "metadata": {
    "collapsed": false
   },
   "outputs": [
    {
     "data": {
      "text/html": [
       "7624"
      ],
      "text/latex": [
       "7624"
      ],
      "text/markdown": [
       "7624"
      ],
      "text/plain": [
       "[1] 7624"
      ]
     },
     "metadata": {},
     "output_type": "display_data"
    }
   ],
   "source": [
    "count(bostonDailyTemps)"
   ]
  },
  {
   "cell_type": "code",
   "execution_count": 36,
   "metadata": {
    "collapsed": false
   },
   "outputs": [
    {
     "data": {
      "text/plain": [
       "SparkDataFrame[Year:int, Average:double]"
      ]
     },
     "metadata": {},
     "output_type": "display_data"
    }
   ],
   "source": [
    "bostonAvgTempsByYear <- summarize(groupBy(bostonDailyTemps, bostonDailyTemps$Year), \n",
    "                               Average = avg(bostonDailyTemps$avgtemp))\n",
    "bostonAvgTempsByYear"
   ]
  },
  {
   "cell_type": "code",
   "execution_count": 37,
   "metadata": {
    "collapsed": false
   },
   "outputs": [
    {
     "data": {
      "text/html": [
       "<table>\n",
       "<thead><tr><th scope=col>Year</th><th scope=col>Average</th></tr></thead>\n",
       "<tbody>\n",
       "\t<tr><td>1995    </td><td>51.32027</td></tr>\n",
       "\t<tr><td>1996    </td><td>47.71749</td></tr>\n",
       "\t<tr><td>1997    </td><td>50.83863</td></tr>\n",
       "\t<tr><td>1998    </td><td>51.51562</td></tr>\n",
       "\t<tr><td>1999    </td><td>52.33945</td></tr>\n",
       "\t<tr><td>2000    </td><td>50.36148</td></tr>\n",
       "\t<tr><td>2001    </td><td>52.42822</td></tr>\n",
       "\t<tr><td>2002    </td><td>50.41205</td></tr>\n",
       "\t<tr><td>2003    </td><td>49.73014</td></tr>\n",
       "\t<tr><td>2004    </td><td>50.52514</td></tr>\n",
       "\t<tr><td>2005    </td><td>50.97726</td></tr>\n",
       "\t<tr><td>2006    </td><td>53.02055</td></tr>\n",
       "\t<tr><td>2007    </td><td>51.12219</td></tr>\n",
       "\t<tr><td>2008    </td><td>50.95355</td></tr>\n",
       "\t<tr><td>2009    </td><td>50.32247</td></tr>\n",
       "\t<tr><td>2010    </td><td>53.47205</td></tr>\n",
       "\t<tr><td>2011    </td><td>53.22384</td></tr>\n",
       "\t<tr><td>2012    </td><td>53.86749</td></tr>\n",
       "\t<tr><td>2013    </td><td>51.69753</td></tr>\n",
       "\t<tr><td>2014    </td><td>50.95452</td></tr>\n",
       "\t<tr><td>2015    </td><td>52.46959</td></tr>\n",
       "</tbody>\n",
       "</table>\n"
      ],
      "text/latex": [
       "\\begin{tabular}{r|ll}\n",
       " Year & Average\\\\\n",
       "\\hline\n",
       "\t 1995     & 51.32027\\\\\n",
       "\t 1996     & 47.71749\\\\\n",
       "\t 1997     & 50.83863\\\\\n",
       "\t 1998     & 51.51562\\\\\n",
       "\t 1999     & 52.33945\\\\\n",
       "\t 2000     & 50.36148\\\\\n",
       "\t 2001     & 52.42822\\\\\n",
       "\t 2002     & 50.41205\\\\\n",
       "\t 2003     & 49.73014\\\\\n",
       "\t 2004     & 50.52514\\\\\n",
       "\t 2005     & 50.97726\\\\\n",
       "\t 2006     & 53.02055\\\\\n",
       "\t 2007     & 51.12219\\\\\n",
       "\t 2008     & 50.95355\\\\\n",
       "\t 2009     & 50.32247\\\\\n",
       "\t 2010     & 53.47205\\\\\n",
       "\t 2011     & 53.22384\\\\\n",
       "\t 2012     & 53.86749\\\\\n",
       "\t 2013     & 51.69753\\\\\n",
       "\t 2014     & 50.95452\\\\\n",
       "\t 2015     & 52.46959\\\\\n",
       "\\end{tabular}\n"
      ],
      "text/plain": [
       "   Year Average \n",
       "1  1995 51.32027\n",
       "2  1996 47.71749\n",
       "3  1997 50.83863\n",
       "4  1998 51.51562\n",
       "5  1999 52.33945\n",
       "6  2000 50.36148\n",
       "7  2001 52.42822\n",
       "8  2002 50.41205\n",
       "9  2003 49.73014\n",
       "10 2004 50.52514\n",
       "11 2005 50.97726\n",
       "12 2006 53.02055\n",
       "13 2007 51.12219\n",
       "14 2008 50.95355\n",
       "15 2009 50.32247\n",
       "16 2010 53.47205\n",
       "17 2011 53.22384\n",
       "18 2012 53.86749\n",
       "19 2013 51.69753\n",
       "20 2014 50.95452\n",
       "21 2015 52.46959"
      ]
     },
     "metadata": {},
     "output_type": "display_data"
    }
   ],
   "source": [
    "collect(\n",
    "  arrange(bostonAvgTempsByYear, bostonAvgTempsByYear$Year)\n",
    "  )"
   ]
  },
  {
   "cell_type": "code",
   "execution_count": 38,
   "metadata": {
    "collapsed": false
   },
   "outputs": [
    {
     "data": {
      "text/plain": [
       "SparkDataFrame[Month:int, Average:double]"
      ]
     },
     "metadata": {},
     "output_type": "display_data"
    }
   ],
   "source": [
    "bostonAvgTempsByMonth <- summarize(groupBy(bostonDailyTemps, bostonDailyTemps$Month), \n",
    "                                  Average = avg(bostonDailyTemps$avgtemp))\n",
    "bostonAvgTempsByMonth"
   ]
  },
  {
   "cell_type": "code",
   "execution_count": 39,
   "metadata": {
    "collapsed": false
   },
   "outputs": [
    {
     "data": {
      "text/html": [
       "<table>\n",
       "<thead><tr><th scope=col>Month</th><th scope=col>Average</th></tr></thead>\n",
       "<tbody>\n",
       "\t<tr><td> 1      </td><td>29.76667</td></tr>\n",
       "\t<tr><td> 2      </td><td>31.47032</td></tr>\n",
       "\t<tr><td> 3      </td><td>37.57604</td></tr>\n",
       "\t<tr><td> 4      </td><td>47.08413</td></tr>\n",
       "\t<tr><td> 5      </td><td>57.57803</td></tr>\n",
       "\t<tr><td> 6      </td><td>66.10714</td></tr>\n",
       "\t<tr><td> 7      </td><td>73.55038</td></tr>\n",
       "\t<tr><td> 8      </td><td>71.68909</td></tr>\n",
       "\t<tr><td> 9      </td><td>65.05762</td></tr>\n",
       "\t<tr><td>10      </td><td>54.73456</td></tr>\n",
       "\t<tr><td>11      </td><td>44.89366</td></tr>\n",
       "\t<tr><td>12      </td><td>34.99742</td></tr>\n",
       "</tbody>\n",
       "</table>\n"
      ],
      "text/latex": [
       "\\begin{tabular}{r|ll}\n",
       " Month & Average\\\\\n",
       "\\hline\n",
       "\t  1       & 29.76667\\\\\n",
       "\t  2       & 31.47032\\\\\n",
       "\t  3       & 37.57604\\\\\n",
       "\t  4       & 47.08413\\\\\n",
       "\t  5       & 57.57803\\\\\n",
       "\t  6       & 66.10714\\\\\n",
       "\t  7       & 73.55038\\\\\n",
       "\t  8       & 71.68909\\\\\n",
       "\t  9       & 65.05762\\\\\n",
       "\t 10       & 54.73456\\\\\n",
       "\t 11       & 44.89366\\\\\n",
       "\t 12       & 34.99742\\\\\n",
       "\\end{tabular}\n"
      ],
      "text/plain": [
       "   Month Average \n",
       "1   1    29.76667\n",
       "2   2    31.47032\n",
       "3   3    37.57604\n",
       "4   4    47.08413\n",
       "5   5    57.57803\n",
       "6   6    66.10714\n",
       "7   7    73.55038\n",
       "8   8    71.68909\n",
       "9   9    65.05762\n",
       "10 10    54.73456\n",
       "11 11    44.89366\n",
       "12 12    34.99742"
      ]
     },
     "metadata": {},
     "output_type": "display_data"
    }
   ],
   "source": [
    "collect(\n",
    "  arrange(bostonAvgTempsByMonth, bostonAvgTempsByMonth$Month)\n",
    ")"
   ]
  },
  {
   "cell_type": "code",
   "execution_count": 40,
   "metadata": {
    "collapsed": false
   },
   "outputs": [
    {
     "data": {
      "text/plain": [
       "SparkDataFrame[Year:int, Month:int, Average:double]"
      ]
     },
     "metadata": {},
     "output_type": "display_data"
    }
   ],
   "source": [
    "bostonAvgTempsByYearAndMonth <- summarize(groupBy(bostonDailyTemps, bostonDailyTemps$Year, bostonDailyTemps$Month), \n",
    "                                  Average = avg(bostonDailyTemps$avgtemp))\n",
    "bostonAvgTempsByYearAndMonth"
   ]
  },
  {
   "cell_type": "code",
   "execution_count": 41,
   "metadata": {
    "collapsed": false
   },
   "outputs": [
    {
     "data": {
      "text/html": [
       "<table>\n",
       "<thead><tr><th scope=col>Year</th><th scope=col>Month</th><th scope=col>Average</th></tr></thead>\n",
       "<tbody>\n",
       "\t<tr><td>1995    </td><td> 1      </td><td>34.51935</td></tr>\n",
       "\t<tr><td>1995    </td><td> 2      </td><td>28.57500</td></tr>\n",
       "\t<tr><td>1995    </td><td> 3      </td><td>38.03871</td></tr>\n",
       "\t<tr><td>1995    </td><td> 4      </td><td>45.42000</td></tr>\n",
       "\t<tr><td>1995    </td><td> 5      </td><td>56.69677</td></tr>\n",
       "\t<tr><td>1995    </td><td> 6      </td><td>68.47667</td></tr>\n",
       "\t<tr><td>1995    </td><td> 7      </td><td>75.57419</td></tr>\n",
       "\t<tr><td>1995    </td><td> 8      </td><td>72.52581</td></tr>\n",
       "\t<tr><td>1995    </td><td> 9      </td><td>62.93667</td></tr>\n",
       "\t<tr><td>1995    </td><td>10      </td><td>58.07742</td></tr>\n",
       "\t<tr><td>1995    </td><td>11      </td><td>42.20333</td></tr>\n",
       "\t<tr><td>1995    </td><td>12      </td><td>31.04194</td></tr>\n",
       "\t<tr><td>1996    </td><td> 1      </td><td>30.04516</td></tr>\n",
       "\t<tr><td>1996    </td><td> 2      </td><td>30.71034</td></tr>\n",
       "\t<tr><td>1996    </td><td> 3      </td><td>26.99355</td></tr>\n",
       "\t<tr><td>1996    </td><td> 4      </td><td>27.20000</td></tr>\n",
       "\t<tr><td>1996    </td><td> 5      </td><td>51.57419</td></tr>\n",
       "\t<tr><td>1996    </td><td> 6      </td><td>66.72667</td></tr>\n",
       "\t<tr><td>1996    </td><td> 7      </td><td>71.46452</td></tr>\n",
       "\t<tr><td>1996    </td><td> 8      </td><td>70.37419</td></tr>\n",
       "\t<tr><td>1996    </td><td> 9      </td><td>63.72667</td></tr>\n",
       "\t<tr><td>1996    </td><td>10      </td><td>53.51613</td></tr>\n",
       "\t<tr><td>1996    </td><td>11      </td><td>40.15000</td></tr>\n",
       "\t<tr><td>1996    </td><td>12      </td><td>39.25484</td></tr>\n",
       "\t<tr><td>1997    </td><td> 1      </td><td>29.02258</td></tr>\n",
       "\t<tr><td>1997    </td><td> 2      </td><td>36.32500</td></tr>\n",
       "\t<tr><td>1997    </td><td> 3      </td><td>36.59032</td></tr>\n",
       "\t<tr><td>1997    </td><td> 4      </td><td>45.82333</td></tr>\n",
       "\t<tr><td>1997    </td><td> 5      </td><td>55.48710</td></tr>\n",
       "\t<tr><td>1997    </td><td> 6      </td><td>67.87333</td></tr>\n",
       "\t<tr><td>⋮</td><td>⋮</td><td>⋮</td></tr>\n",
       "\t<tr><td>2013    </td><td> 6      </td><td>68.80000</td></tr>\n",
       "\t<tr><td>2013    </td><td> 7      </td><td>76.05161</td></tr>\n",
       "\t<tr><td>2013    </td><td> 8      </td><td>71.67419</td></tr>\n",
       "\t<tr><td>2013    </td><td> 9      </td><td>64.59667</td></tr>\n",
       "\t<tr><td>2013    </td><td>10      </td><td>56.28065</td></tr>\n",
       "\t<tr><td>2013    </td><td>11      </td><td>42.61000</td></tr>\n",
       "\t<tr><td>2013    </td><td>12      </td><td>33.29355</td></tr>\n",
       "\t<tr><td>2014    </td><td> 1      </td><td>26.78710</td></tr>\n",
       "\t<tr><td>2014    </td><td> 2      </td><td>29.05714</td></tr>\n",
       "\t<tr><td>2014    </td><td> 3      </td><td>33.06129</td></tr>\n",
       "\t<tr><td>2014    </td><td> 4      </td><td>47.81000</td></tr>\n",
       "\t<tr><td>2014    </td><td> 5      </td><td>58.10645</td></tr>\n",
       "\t<tr><td>2014    </td><td> 6      </td><td>68.11333</td></tr>\n",
       "\t<tr><td>2014    </td><td> 7      </td><td>73.54516</td></tr>\n",
       "\t<tr><td>2014    </td><td> 8      </td><td>70.27097</td></tr>\n",
       "\t<tr><td>2014    </td><td> 9      </td><td>65.94000</td></tr>\n",
       "\t<tr><td>2014    </td><td>10      </td><td>56.24194</td></tr>\n",
       "\t<tr><td>2014    </td><td>11      </td><td>42.64333</td></tr>\n",
       "\t<tr><td>2014    </td><td>12      </td><td>38.42581</td></tr>\n",
       "\t<tr><td>2015    </td><td> 1      </td><td>26.41613</td></tr>\n",
       "\t<tr><td>2015    </td><td> 2      </td><td>19.50357</td></tr>\n",
       "\t<tr><td>2015    </td><td> 3      </td><td>32.83871</td></tr>\n",
       "\t<tr><td>2015    </td><td> 4      </td><td>47.81667</td></tr>\n",
       "\t<tr><td>2015    </td><td> 5      </td><td>61.81935</td></tr>\n",
       "\t<tr><td>2015    </td><td> 6      </td><td>63.80333</td></tr>\n",
       "\t<tr><td>2015    </td><td> 7      </td><td>73.16129</td></tr>\n",
       "\t<tr><td>2015    </td><td> 8      </td><td>73.84516</td></tr>\n",
       "\t<tr><td>2015    </td><td> 9      </td><td>68.78333</td></tr>\n",
       "\t<tr><td>2015    </td><td>10      </td><td>53.93548</td></tr>\n",
       "\t<tr><td>2015    </td><td>11      </td><td>53.14000</td></tr>\n",
       "</tbody>\n",
       "</table>\n"
      ],
      "text/latex": [
       "\\begin{tabular}{r|lll}\n",
       " Year & Month & Average\\\\\n",
       "\\hline\n",
       "\t 1995     &  1       & 34.51935\\\\\n",
       "\t 1995     &  2       & 28.57500\\\\\n",
       "\t 1995     &  3       & 38.03871\\\\\n",
       "\t 1995     &  4       & 45.42000\\\\\n",
       "\t 1995     &  5       & 56.69677\\\\\n",
       "\t 1995     &  6       & 68.47667\\\\\n",
       "\t 1995     &  7       & 75.57419\\\\\n",
       "\t 1995     &  8       & 72.52581\\\\\n",
       "\t 1995     &  9       & 62.93667\\\\\n",
       "\t 1995     & 10       & 58.07742\\\\\n",
       "\t 1995     & 11       & 42.20333\\\\\n",
       "\t 1995     & 12       & 31.04194\\\\\n",
       "\t 1996     &  1       & 30.04516\\\\\n",
       "\t 1996     &  2       & 30.71034\\\\\n",
       "\t 1996     &  3       & 26.99355\\\\\n",
       "\t 1996     &  4       & 27.20000\\\\\n",
       "\t 1996     &  5       & 51.57419\\\\\n",
       "\t 1996     &  6       & 66.72667\\\\\n",
       "\t 1996     &  7       & 71.46452\\\\\n",
       "\t 1996     &  8       & 70.37419\\\\\n",
       "\t 1996     &  9       & 63.72667\\\\\n",
       "\t 1996     & 10       & 53.51613\\\\\n",
       "\t 1996     & 11       & 40.15000\\\\\n",
       "\t 1996     & 12       & 39.25484\\\\\n",
       "\t 1997     &  1       & 29.02258\\\\\n",
       "\t 1997     &  2       & 36.32500\\\\\n",
       "\t 1997     &  3       & 36.59032\\\\\n",
       "\t 1997     &  4       & 45.82333\\\\\n",
       "\t 1997     &  5       & 55.48710\\\\\n",
       "\t 1997     &  6       & 67.87333\\\\\n",
       "\t ⋮ & ⋮ & ⋮\\\\\n",
       "\t 2013     &  6       & 68.80000\\\\\n",
       "\t 2013     &  7       & 76.05161\\\\\n",
       "\t 2013     &  8       & 71.67419\\\\\n",
       "\t 2013     &  9       & 64.59667\\\\\n",
       "\t 2013     & 10       & 56.28065\\\\\n",
       "\t 2013     & 11       & 42.61000\\\\\n",
       "\t 2013     & 12       & 33.29355\\\\\n",
       "\t 2014     &  1       & 26.78710\\\\\n",
       "\t 2014     &  2       & 29.05714\\\\\n",
       "\t 2014     &  3       & 33.06129\\\\\n",
       "\t 2014     &  4       & 47.81000\\\\\n",
       "\t 2014     &  5       & 58.10645\\\\\n",
       "\t 2014     &  6       & 68.11333\\\\\n",
       "\t 2014     &  7       & 73.54516\\\\\n",
       "\t 2014     &  8       & 70.27097\\\\\n",
       "\t 2014     &  9       & 65.94000\\\\\n",
       "\t 2014     & 10       & 56.24194\\\\\n",
       "\t 2014     & 11       & 42.64333\\\\\n",
       "\t 2014     & 12       & 38.42581\\\\\n",
       "\t 2015     &  1       & 26.41613\\\\\n",
       "\t 2015     &  2       & 19.50357\\\\\n",
       "\t 2015     &  3       & 32.83871\\\\\n",
       "\t 2015     &  4       & 47.81667\\\\\n",
       "\t 2015     &  5       & 61.81935\\\\\n",
       "\t 2015     &  6       & 63.80333\\\\\n",
       "\t 2015     &  7       & 73.16129\\\\\n",
       "\t 2015     &  8       & 73.84516\\\\\n",
       "\t 2015     &  9       & 68.78333\\\\\n",
       "\t 2015     & 10       & 53.93548\\\\\n",
       "\t 2015     & 11       & 53.14000\\\\\n",
       "\\end{tabular}\n"
      ],
      "text/plain": [
       "    Year Month Average \n",
       "1   1995  1    34.51935\n",
       "2   1995  2    28.57500\n",
       "3   1995  3    38.03871\n",
       "4   1995  4    45.42000\n",
       "5   1995  5    56.69677\n",
       "6   1995  6    68.47667\n",
       "7   1995  7    75.57419\n",
       "8   1995  8    72.52581\n",
       "9   1995  9    62.93667\n",
       "10  1995 10    58.07742\n",
       "11  1995 11    42.20333\n",
       "12  1995 12    31.04194\n",
       "13  1996  1    30.04516\n",
       "14  1996  2    30.71034\n",
       "15  1996  3    26.99355\n",
       "16  1996  4    27.20000\n",
       "17  1996  5    51.57419\n",
       "18  1996  6    66.72667\n",
       "19  1996  7    71.46452\n",
       "20  1996  8    70.37419\n",
       "21  1996  9    63.72667\n",
       "22  1996 10    53.51613\n",
       "23  1996 11    40.15000\n",
       "24  1996 12    39.25484\n",
       "25  1997  1    29.02258\n",
       "26  1997  2    36.32500\n",
       "27  1997  3    36.59032\n",
       "28  1997  4    45.82333\n",
       "29  1997  5    55.48710\n",
       "30  1997  6    67.87333\n",
       "⋮   ⋮    ⋮     ⋮       \n",
       "222 2013  6    68.80000\n",
       "223 2013  7    76.05161\n",
       "224 2013  8    71.67419\n",
       "225 2013  9    64.59667\n",
       "226 2013 10    56.28065\n",
       "227 2013 11    42.61000\n",
       "228 2013 12    33.29355\n",
       "229 2014  1    26.78710\n",
       "230 2014  2    29.05714\n",
       "231 2014  3    33.06129\n",
       "232 2014  4    47.81000\n",
       "233 2014  5    58.10645\n",
       "234 2014  6    68.11333\n",
       "235 2014  7    73.54516\n",
       "236 2014  8    70.27097\n",
       "237 2014  9    65.94000\n",
       "238 2014 10    56.24194\n",
       "239 2014 11    42.64333\n",
       "240 2014 12    38.42581\n",
       "241 2015  1    26.41613\n",
       "242 2015  2    19.50357\n",
       "243 2015  3    32.83871\n",
       "244 2015  4    47.81667\n",
       "245 2015  5    61.81935\n",
       "246 2015  6    63.80333\n",
       "247 2015  7    73.16129\n",
       "248 2015  8    73.84516\n",
       "249 2015  9    68.78333\n",
       "250 2015 10    53.93548\n",
       "251 2015 11    53.14000"
      ]
     },
     "metadata": {},
     "output_type": "display_data"
    }
   ],
   "source": [
    "collect(\n",
    "  arrange(bostonAvgTempsByYearAndMonth, bostonAvgTempsByYearAndMonth$Year, bostonAvgTempsByYearAndMonth$Month)\n",
    ")"
   ]
  },
  {
   "cell_type": "code",
   "execution_count": 42,
   "metadata": {
    "collapsed": false
   },
   "outputs": [
    {
     "data": {
      "text/plain": [
       "SparkDataFrame[year:int]"
      ]
     },
     "metadata": {},
     "output_type": "display_data"
    }
   ],
   "source": [
    "bostonYears <- select(bostonDailyTemps, 'year')\n",
    "bostonYears"
   ]
  },
  {
   "cell_type": "code",
   "execution_count": 43,
   "metadata": {
    "collapsed": false
   },
   "outputs": [
    {
     "data": {
      "text/plain": [
       "SparkDataFrame[year:int]"
      ]
     },
     "metadata": {},
     "output_type": "display_data"
    }
   ],
   "source": [
    "distinctBostonYears <- distinct(bostonYears)\n",
    "distinctBostonYears"
   ]
  },
  {
   "cell_type": "code",
   "execution_count": 44,
   "metadata": {
    "collapsed": false
   },
   "outputs": [
    {
     "data": {
      "text/html": [
       "<table>\n",
       "<thead><tr><th scope=col>year</th></tr></thead>\n",
       "<tbody>\n",
       "\t<tr><td>2003</td></tr>\n",
       "\t<tr><td>2007</td></tr>\n",
       "\t<tr><td>2015</td></tr>\n",
       "\t<tr><td>2006</td></tr>\n",
       "\t<tr><td>2013</td></tr>\n",
       "\t<tr><td>1997</td></tr>\n",
       "\t<tr><td>2014</td></tr>\n",
       "\t<tr><td>2004</td></tr>\n",
       "\t<tr><td>1996</td></tr>\n",
       "\t<tr><td>1998</td></tr>\n",
       "\t<tr><td>2012</td></tr>\n",
       "\t<tr><td>2009</td></tr>\n",
       "\t<tr><td>1995</td></tr>\n",
       "\t<tr><td>2001</td></tr>\n",
       "\t<tr><td>2005</td></tr>\n",
       "\t<tr><td>2000</td></tr>\n",
       "\t<tr><td>2010</td></tr>\n",
       "\t<tr><td>2011</td></tr>\n",
       "\t<tr><td>2008</td></tr>\n",
       "\t<tr><td>1999</td></tr>\n",
       "\t<tr><td>2002</td></tr>\n",
       "</tbody>\n",
       "</table>\n"
      ],
      "text/latex": [
       "\\begin{tabular}{r|l}\n",
       " year\\\\\n",
       "\\hline\n",
       "\t 2003\\\\\n",
       "\t 2007\\\\\n",
       "\t 2015\\\\\n",
       "\t 2006\\\\\n",
       "\t 2013\\\\\n",
       "\t 1997\\\\\n",
       "\t 2014\\\\\n",
       "\t 2004\\\\\n",
       "\t 1996\\\\\n",
       "\t 1998\\\\\n",
       "\t 2012\\\\\n",
       "\t 2009\\\\\n",
       "\t 1995\\\\\n",
       "\t 2001\\\\\n",
       "\t 2005\\\\\n",
       "\t 2000\\\\\n",
       "\t 2010\\\\\n",
       "\t 2011\\\\\n",
       "\t 2008\\\\\n",
       "\t 1999\\\\\n",
       "\t 2002\\\\\n",
       "\\end{tabular}\n"
      ],
      "text/plain": [
       "   year\n",
       "1  2003\n",
       "2  2007\n",
       "3  2015\n",
       "4  2006\n",
       "5  2013\n",
       "6  1997\n",
       "7  2014\n",
       "8  2004\n",
       "9  1996\n",
       "10 1998\n",
       "11 2012\n",
       "12 2009\n",
       "13 1995\n",
       "14 2001\n",
       "15 2005\n",
       "16 2000\n",
       "17 2010\n",
       "18 2011\n",
       "19 2008\n",
       "20 1999\n",
       "21 2002"
      ]
     },
     "metadata": {},
     "output_type": "display_data"
    }
   ],
   "source": [
    "yearsDF <- collect(distinct(bostonYears))\n",
    "yearsDF"
   ]
  },
  {
   "cell_type": "code",
   "execution_count": 45,
   "metadata": {
    "collapsed": false
   },
   "outputs": [
    {
     "data": {
      "text/html": [
       "<ol class=list-inline>\n",
       "\t<li>1995</li>\n",
       "\t<li>1996</li>\n",
       "\t<li>1997</li>\n",
       "\t<li>1998</li>\n",
       "\t<li>1999</li>\n",
       "\t<li>2000</li>\n",
       "\t<li>2001</li>\n",
       "\t<li>2002</li>\n",
       "\t<li>2003</li>\n",
       "\t<li>2004</li>\n",
       "\t<li>2005</li>\n",
       "\t<li>2006</li>\n",
       "\t<li>2007</li>\n",
       "\t<li>2008</li>\n",
       "\t<li>2009</li>\n",
       "\t<li>2010</li>\n",
       "\t<li>2011</li>\n",
       "\t<li>2012</li>\n",
       "\t<li>2013</li>\n",
       "\t<li>2014</li>\n",
       "\t<li>2015</li>\n",
       "</ol>\n"
      ],
      "text/latex": [
       "\\begin{enumerate*}\n",
       "\\item 1995\n",
       "\\item 1996\n",
       "\\item 1997\n",
       "\\item 1998\n",
       "\\item 1999\n",
       "\\item 2000\n",
       "\\item 2001\n",
       "\\item 2002\n",
       "\\item 2003\n",
       "\\item 2004\n",
       "\\item 2005\n",
       "\\item 2006\n",
       "\\item 2007\n",
       "\\item 2008\n",
       "\\item 2009\n",
       "\\item 2010\n",
       "\\item 2011\n",
       "\\item 2012\n",
       "\\item 2013\n",
       "\\item 2014\n",
       "\\item 2015\n",
       "\\end{enumerate*}\n"
      ],
      "text/markdown": [
       "1. 1995\n",
       "2. 1996\n",
       "3. 1997\n",
       "4. 1998\n",
       "5. 1999\n",
       "6. 2000\n",
       "7. 2001\n",
       "8. 2002\n",
       "9. 2003\n",
       "10. 2004\n",
       "11. 2005\n",
       "12. 2006\n",
       "13. 2007\n",
       "14. 2008\n",
       "15. 2009\n",
       "16. 2010\n",
       "17. 2011\n",
       "18. 2012\n",
       "19. 2013\n",
       "20. 2014\n",
       "21. 2015\n",
       "\n",
       "\n"
      ],
      "text/plain": [
       " [1] 1995 1996 1997 1998 1999 2000 2001 2002 2003 2004 2005 2006 2007 2008 2009\n",
       "[16] 2010 2011 2012 2013 2014 2015"
      ]
     },
     "metadata": {},
     "output_type": "display_data"
    }
   ],
   "source": [
    "yearsDF[order(yearsDF$year), ]"
   ]
  },
  {
   "cell_type": "code",
   "execution_count": 46,
   "metadata": {
    "collapsed": false
   },
   "outputs": [],
   "source": [
    "# Stop the SparkSession now\n",
    "sparkR.session.stop()"
   ]
  }
 ],
 "metadata": {
  "anaconda-cloud": {},
  "kernelspec": {
   "display_name": "R",
   "language": "R",
   "name": "ir"
  },
  "language_info": {
   "codemirror_mode": "r",
   "file_extension": ".r",
   "mimetype": "text/x-r-source",
   "name": "R",
   "pygments_lexer": "r",
   "version": "3.4.0"
  }
 },
 "nbformat": 4,
 "nbformat_minor": 1
}
