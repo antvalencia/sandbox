{
 "cells": [
  {
   "cell_type": "markdown",
   "metadata": {},
   "source": [
    "# CS544 Module5 Samples"
   ]
  },
  {
   "cell_type": "markdown",
   "metadata": {},
   "source": [
    "## 2. Central Limit Theorem"
   ]
  },
  {
   "cell_type": "markdown",
   "metadata": {},
   "source": [
    "### 2.1. Introduction"
   ]
  },
  {
   "cell_type": "code",
   "execution_count": null,
   "metadata": {
    "collapsed": true
   },
   "outputs": [],
   "source": [
    "library(repr)\n",
    "options(repr.plot.height=4)"
   ]
  },
  {
   "cell_type": "code",
   "execution_count": null,
   "metadata": {
    "collapsed": false
   },
   "outputs": [],
   "source": [
    "library(prob)\n",
    "options(digits=4)"
   ]
  },
  {
   "cell_type": "code",
   "execution_count": null,
   "metadata": {
    "collapsed": false
   },
   "outputs": [],
   "source": [
    "x <- c(69,70,72,75,79)\n",
    "samples <- urnsamples(x, 2)\n",
    "samples"
   ]
  },
  {
   "cell_type": "code",
   "execution_count": null,
   "metadata": {
    "collapsed": false
   },
   "outputs": [],
   "source": [
    "xbar <- (samples$X1 + samples$X2)/2\n",
    "xbar"
   ]
  },
  {
   "cell_type": "code",
   "execution_count": null,
   "metadata": {
    "collapsed": false
   },
   "outputs": [],
   "source": [
    "hist(xbar, prob = TRUE)"
   ]
  },
  {
   "cell_type": "code",
   "execution_count": null,
   "metadata": {
    "collapsed": false
   },
   "outputs": [],
   "source": [
    "# Alternative approach (no need for prob library)\n",
    "\n",
    "x <- c(69,70,72,75,79)\n",
    "samples <- combn(x,2)\n",
    "samples"
   ]
  },
  {
   "cell_type": "code",
   "execution_count": null,
   "metadata": {
    "collapsed": false
   },
   "outputs": [],
   "source": [
    "xbar <- apply(samples, 2, FUN = mean) \n",
    "xbar"
   ]
  },
  {
   "cell_type": "code",
   "execution_count": null,
   "metadata": {
    "collapsed": false
   },
   "outputs": [],
   "source": [
    "hist(xbar, prob = TRUE)"
   ]
  },
  {
   "cell_type": "markdown",
   "metadata": {},
   "source": [
    "### 2.2. Data from Normal Distribution"
   ]
  },
  {
   "cell_type": "code",
   "execution_count": null,
   "metadata": {
    "collapsed": true
   },
   "outputs": [],
   "source": [
    "set.seed(100)"
   ]
  },
  {
   "cell_type": "code",
   "execution_count": null,
   "metadata": {
    "collapsed": true
   },
   "outputs": [],
   "source": [
    "x <- rnorm(1000, mean = 60, sd = 10)"
   ]
  },
  {
   "cell_type": "code",
   "execution_count": null,
   "metadata": {
    "collapsed": false
   },
   "outputs": [],
   "source": [
    "hist(x, prob = TRUE, \n",
    "  xlim=c(30,90), ylim = c(0, 0.05))\n",
    "\n",
    "curve(dnorm(x, mean = 60, sd = 10), \n",
    "      add = TRUE, col = \"red\")"
   ]
  },
  {
   "cell_type": "code",
   "execution_count": null,
   "metadata": {
    "collapsed": false
   },
   "outputs": [],
   "source": [
    "options(digits=2)\n",
    "mean(x)\n",
    "sd(x)"
   ]
  },
  {
   "cell_type": "code",
   "execution_count": null,
   "metadata": {
    "collapsed": true
   },
   "outputs": [],
   "source": [
    "samples <- 10000\n",
    "sample.size <- 5\n",
    "\n",
    "xbar <- numeric(samples)\n",
    "\n",
    "for (i in 1: samples) {\n",
    "\txbar[i] <- mean(rnorm(sample.size, \n",
    "\t                mean = 60, sd = 10))\n",
    "}"
   ]
  },
  {
   "cell_type": "code",
   "execution_count": null,
   "metadata": {
    "collapsed": false
   },
   "outputs": [],
   "source": [
    "hist(xbar, prob = TRUE, \n",
    "     breaks = 15, xlim=c(30,90), \n",
    "     ylim = c(0, 0.1))"
   ]
  },
  {
   "cell_type": "code",
   "execution_count": null,
   "metadata": {
    "collapsed": false
   },
   "outputs": [],
   "source": [
    "mean(xbar)\n",
    "sd(xbar)"
   ]
  },
  {
   "cell_type": "code",
   "execution_count": null,
   "metadata": {
    "collapsed": false
   },
   "outputs": [],
   "source": [
    "par(mfrow = c(2,2))\n",
    "\n",
    "for (size in c(10, 20, 30, 40)) {\n",
    "\tfor (i in 1:samples) {\n",
    "\t  xbar[i] <- mean(rnorm(size, \n",
    "\t                  mean = 60, sd = 10))\n",
    "    }\n",
    "\n",
    "   hist(xbar, prob = TRUE, \n",
    "     breaks = 15, xlim=c(50,70), ylim = c(0, 0.3),\n",
    "     main = paste(\"Sample Size =\", size))\n",
    "     \n",
    "   cat(\"Sample Size = \", size, \" Mean = \", mean(xbar),\n",
    "        \" SD = \", sd(xbar), \"\\n\")\n",
    "}\n",
    "\n",
    "par(mfrow = c(1,1))"
   ]
  },
  {
   "cell_type": "code",
   "execution_count": null,
   "metadata": {
    "collapsed": false
   },
   "outputs": [],
   "source": [
    "10 / sqrt(c(10,20,30,40))"
   ]
  },
  {
   "cell_type": "markdown",
   "metadata": {},
   "source": [
    "### 2.3. Data from Exponential Distribution"
   ]
  },
  {
   "cell_type": "code",
   "execution_count": null,
   "metadata": {
    "collapsed": true
   },
   "outputs": [],
   "source": [
    "set.seed(100)"
   ]
  },
  {
   "cell_type": "code",
   "execution_count": null,
   "metadata": {
    "collapsed": false
   },
   "outputs": [],
   "source": [
    "curve(dexp(x, rate = 2), 0, 5, \n",
    "      col = \"red\")"
   ]
  },
  {
   "cell_type": "code",
   "execution_count": null,
   "metadata": {
    "collapsed": true
   },
   "outputs": [],
   "source": [
    "x <- rexp(1000, rate = 2)"
   ]
  },
  {
   "cell_type": "code",
   "execution_count": null,
   "metadata": {
    "collapsed": false
   },
   "outputs": [],
   "source": [
    "hist(x, prob = TRUE, \n",
    "  breaks = 15, ylim = c(0,2), \n",
    "  xlim = c(0,5))"
   ]
  },
  {
   "cell_type": "code",
   "execution_count": null,
   "metadata": {
    "collapsed": false
   },
   "outputs": [],
   "source": [
    "options(digits=2)\n",
    "mean(x)\n",
    "sd(x)"
   ]
  },
  {
   "cell_type": "code",
   "execution_count": null,
   "metadata": {
    "collapsed": true
   },
   "outputs": [],
   "source": [
    "samples <- 10000\n",
    "sample.size <- 5\n",
    "\n",
    "xbar <- numeric(samples)"
   ]
  },
  {
   "cell_type": "code",
   "execution_count": null,
   "metadata": {
    "collapsed": true
   },
   "outputs": [],
   "source": [
    "for (i in 1:samples) {\n",
    "\txbar[i] <- mean(rexp(sample.size, \n",
    "\t                rate = 2))\n",
    "}"
   ]
  },
  {
   "cell_type": "code",
   "execution_count": null,
   "metadata": {
    "collapsed": false
   },
   "outputs": [],
   "source": [
    "hist(xbar, prob = TRUE, \n",
    "     breaks = 15, xlim=c(0,3), \n",
    "     ylim = c(0, 2),\n",
    "     main = \"Sample Size = 5\")"
   ]
  },
  {
   "cell_type": "code",
   "execution_count": null,
   "metadata": {
    "collapsed": false
   },
   "outputs": [],
   "source": [
    "mean(xbar)\n",
    "sd(xbar)"
   ]
  },
  {
   "cell_type": "code",
   "execution_count": null,
   "metadata": {
    "collapsed": false
   },
   "outputs": [],
   "source": [
    "par(mfrow = c(2,3))\n",
    "\n",
    " for (size in c(10, 20, 30, 40, 50, 60)) {\n",
    "\tfor (i in 1:samples) {\n",
    "\t  xbar[i] <- mean(rexp(size, rate = 2))\n",
    "    }\n",
    "\n",
    "    hist(xbar, prob = TRUE, \n",
    "     breaks = 15, xlim=c(0,2), ylim = c(0, 6),\n",
    "     main = paste(\"Sample Size =\", size))\n",
    "     \n",
    "    cat(\"Sample Size = \", size, \" Mean = \", mean(xbar),\n",
    "        \" SD = \", sd(xbar), \"\\n\")\n",
    " }\n",
    "\n",
    " par(mfrow = c(1,1))"
   ]
  },
  {
   "cell_type": "code",
   "execution_count": null,
   "metadata": {
    "collapsed": false
   },
   "outputs": [],
   "source": [
    "0.5 / sqrt(c(10,20,30,40,50,60))"
   ]
  },
  {
   "cell_type": "markdown",
   "metadata": {},
   "source": [
    "### 2.4. Data from Discrete Uniform Distribution"
   ]
  },
  {
   "cell_type": "code",
   "execution_count": null,
   "metadata": {
    "collapsed": true
   },
   "outputs": [],
   "source": [
    "set.seed(150)"
   ]
  },
  {
   "cell_type": "code",
   "execution_count": null,
   "metadata": {
    "collapsed": false
   },
   "outputs": [],
   "source": [
    "x <- 1:6\n",
    "\n",
    "x.sample <- sample(x, size = 1000, \n",
    "              replace = TRUE)\n",
    "\n",
    "table(x.sample)"
   ]
  },
  {
   "cell_type": "code",
   "execution_count": null,
   "metadata": {
    "collapsed": false
   },
   "outputs": [],
   "source": [
    "prop.table(table(x.sample))"
   ]
  },
  {
   "cell_type": "code",
   "execution_count": null,
   "metadata": {
    "collapsed": false
   },
   "outputs": [],
   "source": [
    "barplot(prop.table(table(x.sample)),\n",
    "  xlab = \"x\", ylab = \"Proportion\")\n",
    "  "
   ]
  },
  {
   "cell_type": "code",
   "execution_count": null,
   "metadata": {
    "collapsed": false
   },
   "outputs": [],
   "source": [
    "mean(x.sample)\n",
    "sd(x.sample)"
   ]
  },
  {
   "cell_type": "code",
   "execution_count": null,
   "metadata": {
    "collapsed": true
   },
   "outputs": [],
   "source": [
    "samples <- 10000\n",
    "sample.size <- 5\n",
    "\n",
    "xbar <- numeric(samples)"
   ]
  },
  {
   "cell_type": "code",
   "execution_count": null,
   "metadata": {
    "collapsed": true
   },
   "outputs": [],
   "source": [
    "for (i in 1:samples) {\n",
    "\txbar[i] <- mean(sample(x, size = sample.size, \n",
    "              replace = TRUE))\n",
    "}"
   ]
  },
  {
   "cell_type": "code",
   "execution_count": null,
   "metadata": {
    "collapsed": false
   },
   "outputs": [],
   "source": [
    "hist(xbar, prob = TRUE, \n",
    "     breaks = 15, xlim=c(0,6), \n",
    "     ylim = c(0, 0.6),\n",
    "     main = \"Sample Size = 5\")"
   ]
  },
  {
   "cell_type": "code",
   "execution_count": null,
   "metadata": {
    "collapsed": false
   },
   "outputs": [],
   "source": [
    "mean(xbar)\n",
    "sd(xbar)"
   ]
  },
  {
   "cell_type": "code",
   "execution_count": null,
   "metadata": {
    "collapsed": false
   },
   "outputs": [],
   "source": [
    "par(mfrow = c(2,2))\n",
    "\n",
    " for (size in c(10, 20, 30, 40)) {\n",
    "\tfor (i in 1:samples) {\n",
    "\t  xbar[i] <- mean(sample(x, size = size, \n",
    "              replace = TRUE))\n",
    "\n",
    "    }\n",
    "\n",
    "    hist(xbar, prob = TRUE, \n",
    "     breaks = 15, xlim=c(0,6), ylim = c(0, 1.5),\n",
    "     main = paste(\"Sample Size =\", size))\n",
    "     \n",
    "    cat(\"Sample Size = \", size, \" Mean = \", mean(xbar),\n",
    "        \" SD = \", sd(xbar), \"\\n\")\n",
    " }\n",
    "\n",
    "par(mfrow = c(1,1))"
   ]
  },
  {
   "cell_type": "code",
   "execution_count": null,
   "metadata": {
    "collapsed": false
   },
   "outputs": [],
   "source": [
    "1.7 / sqrt(c(10,20,30,40))"
   ]
  },
  {
   "cell_type": "markdown",
   "metadata": {},
   "source": [
    "## 3. Sampling Methods"
   ]
  },
  {
   "cell_type": "markdown",
   "metadata": {},
   "source": [
    "### 3.2. Simple Random Sampling"
   ]
  },
  {
   "cell_type": "code",
   "execution_count": null,
   "metadata": {
    "collapsed": false
   },
   "outputs": [],
   "source": [
    "if (!is.element(\"sampling\", installed.packages()[,\"Package\"]))\n",
    "  install.packages(\"sampling\", \n",
    "                   repos=\"http://cran.us.r-project.org\", \n",
    "                   dependencies = TRUE)\n"
   ]
  },
  {
   "cell_type": "code",
   "execution_count": null,
   "metadata": {
    "collapsed": false
   },
   "outputs": [],
   "source": [
    "library(sampling)"
   ]
  },
  {
   "cell_type": "markdown",
   "metadata": {},
   "source": [
    "#### SRSWR - Equal Probability"
   ]
  },
  {
   "cell_type": "code",
   "execution_count": null,
   "metadata": {
    "collapsed": true
   },
   "outputs": [],
   "source": [
    "set.seed(123)"
   ]
  },
  {
   "cell_type": "code",
   "execution_count": null,
   "metadata": {
    "collapsed": false
   },
   "outputs": [],
   "source": [
    "s <- srswr(10, 26)\n",
    "s"
   ]
  },
  {
   "cell_type": "code",
   "execution_count": null,
   "metadata": {
    "collapsed": false
   },
   "outputs": [],
   "source": [
    "LETTERS[s != 0]"
   ]
  },
  {
   "cell_type": "code",
   "execution_count": null,
   "metadata": {
    "collapsed": false
   },
   "outputs": [],
   "source": [
    "s[s != 0]"
   ]
  },
  {
   "cell_type": "code",
   "execution_count": null,
   "metadata": {
    "collapsed": false
   },
   "outputs": [],
   "source": [
    "rep(LETTERS[s != 0], s[s != 0])"
   ]
  },
  {
   "cell_type": "markdown",
   "metadata": {},
   "source": [
    "#### SRSWOR -  Equal Probability"
   ]
  },
  {
   "cell_type": "code",
   "execution_count": null,
   "metadata": {
    "collapsed": false
   },
   "outputs": [],
   "source": [
    "s <- srswor(10, 26)\n",
    "s"
   ]
  },
  {
   "cell_type": "code",
   "execution_count": null,
   "metadata": {
    "collapsed": false
   },
   "outputs": [],
   "source": [
    "LETTERS[s != 0]"
   ]
  },
  {
   "cell_type": "code",
   "execution_count": null,
   "metadata": {
    "collapsed": false
   },
   "outputs": [],
   "source": [
    "s[s != 0]"
   ]
  },
  {
   "cell_type": "markdown",
   "metadata": {},
   "source": [
    "### 3.3. Example – Simple Random Sampling"
   ]
  },
  {
   "cell_type": "code",
   "execution_count": null,
   "metadata": {
    "collapsed": false
   },
   "outputs": [],
   "source": [
    "data(swissmunicipalities)\n",
    "names(swissmunicipalities)"
   ]
  },
  {
   "cell_type": "code",
   "execution_count": null,
   "metadata": {
    "collapsed": false
   },
   "outputs": [],
   "source": [
    "head(swissmunicipalities[c(2,4,14,17,22)])"
   ]
  },
  {
   "cell_type": "code",
   "execution_count": null,
   "metadata": {
    "collapsed": false
   },
   "outputs": [],
   "source": [
    "table(swissmunicipalities$REG)"
   ]
  },
  {
   "cell_type": "code",
   "execution_count": null,
   "metadata": {
    "collapsed": true
   },
   "outputs": [],
   "source": [
    "# srswr\n",
    "set.seed(153)"
   ]
  },
  {
   "cell_type": "code",
   "execution_count": null,
   "metadata": {
    "collapsed": false
   },
   "outputs": [],
   "source": [
    "s <- srswr(70, nrow(swissmunicipalities))\n",
    "s[s != 0]"
   ]
  },
  {
   "cell_type": "code",
   "execution_count": null,
   "metadata": {
    "collapsed": false
   },
   "outputs": [],
   "source": [
    "rows <- (1:nrow(swissmunicipalities))[s!=0]\n",
    "rows <- rep(rows, s[s != 0])\n",
    "rows"
   ]
  },
  {
   "cell_type": "code",
   "execution_count": null,
   "metadata": {
    "collapsed": false
   },
   "outputs": [],
   "source": [
    "sample.1 <- swissmunicipalities[rows, ]\n",
    "head(sample.1[c(2,4,14,17,22)])"
   ]
  },
  {
   "cell_type": "code",
   "execution_count": null,
   "metadata": {
    "collapsed": false
   },
   "outputs": [],
   "source": [
    "table(sample.1$REG)"
   ]
  },
  {
   "cell_type": "code",
   "execution_count": null,
   "metadata": {
    "collapsed": true
   },
   "outputs": [],
   "source": [
    "# srswor\n",
    "set.seed(153)"
   ]
  },
  {
   "cell_type": "code",
   "execution_count": null,
   "metadata": {
    "collapsed": true
   },
   "outputs": [],
   "source": [
    "s <- srswor(70, nrow(swissmunicipalities))"
   ]
  },
  {
   "cell_type": "code",
   "execution_count": null,
   "metadata": {
    "collapsed": false
   },
   "outputs": [],
   "source": [
    "sample.2 <- swissmunicipalities[s != 0, ]\n",
    "head(sample.2[c(2,4,14,17,22)])"
   ]
  },
  {
   "cell_type": "code",
   "execution_count": null,
   "metadata": {
    "collapsed": false
   },
   "outputs": [],
   "source": [
    "table(sample.2$REG)"
   ]
  },
  {
   "cell_type": "markdown",
   "metadata": {},
   "source": [
    "### 3.4. Systematic Sampling"
   ]
  },
  {
   "cell_type": "code",
   "execution_count": null,
   "metadata": {
    "collapsed": true
   },
   "outputs": [],
   "source": [
    "set.seed(113)"
   ]
  },
  {
   "cell_type": "code",
   "execution_count": null,
   "metadata": {
    "collapsed": false
   },
   "outputs": [],
   "source": [
    "#\n",
    "N <- 1000\n",
    "n <- 50\n",
    "\n",
    "# items in each group\n",
    "k <- ceiling(N / n)\n",
    "k"
   ]
  },
  {
   "cell_type": "code",
   "execution_count": null,
   "metadata": {
    "collapsed": false
   },
   "outputs": [],
   "source": [
    "# random item from first group\n",
    "r <- sample(k, 1)\n",
    "r"
   ]
  },
  {
   "cell_type": "code",
   "execution_count": null,
   "metadata": {
    "collapsed": false
   },
   "outputs": [],
   "source": [
    "# select every kth item\n",
    "\n",
    "seq(r, by = k, length = n)"
   ]
  },
  {
   "cell_type": "markdown",
   "metadata": {},
   "source": [
    "### 3.5. Example – Systematic Sampling"
   ]
  },
  {
   "cell_type": "code",
   "execution_count": null,
   "metadata": {
    "collapsed": true
   },
   "outputs": [],
   "source": [
    "set.seed(113)"
   ]
  },
  {
   "cell_type": "code",
   "execution_count": null,
   "metadata": {
    "collapsed": false
   },
   "outputs": [],
   "source": [
    "#\n",
    "\n",
    "N <- nrow(swissmunicipalities)\n",
    "n <- 70\n",
    "\n",
    "k <- ceiling(N / n)\n",
    "k"
   ]
  },
  {
   "cell_type": "code",
   "execution_count": null,
   "metadata": {
    "collapsed": false
   },
   "outputs": [],
   "source": [
    "r <- sample(k, 1)\n",
    "r"
   ]
  },
  {
   "cell_type": "code",
   "execution_count": null,
   "metadata": {
    "collapsed": true
   },
   "outputs": [],
   "source": [
    "# select every kth item\n",
    "\n",
    "s <- seq(r, by = k, length = n)"
   ]
  },
  {
   "cell_type": "code",
   "execution_count": null,
   "metadata": {
    "collapsed": false
   },
   "outputs": [],
   "source": [
    "sample.3 <- swissmunicipalities[s, ]\n",
    "head(sample.3[c(2,4,14,17,22)])"
   ]
  },
  {
   "cell_type": "code",
   "execution_count": null,
   "metadata": {
    "collapsed": false
   },
   "outputs": [],
   "source": [
    "table(sample.3$REG)"
   ]
  },
  {
   "cell_type": "markdown",
   "metadata": {},
   "source": [
    "### 3.6. Unequal Probabilities"
   ]
  },
  {
   "cell_type": "code",
   "execution_count": null,
   "metadata": {
    "collapsed": true
   },
   "outputs": [],
   "source": [
    "set.seed(113)"
   ]
  },
  {
   "cell_type": "code",
   "execution_count": null,
   "metadata": {
    "collapsed": false
   },
   "outputs": [],
   "source": [
    "# UPsystematic\n",
    "\n",
    "pik <- inclusionprobabilities(\n",
    "  swissmunicipalities$POPTOT, 70)\n",
    "length(pik)\n",
    "\n",
    "sum(pik)"
   ]
  },
  {
   "cell_type": "code",
   "execution_count": null,
   "metadata": {
    "collapsed": true
   },
   "outputs": [],
   "source": [
    "s <- UPsystematic(pik)"
   ]
  },
  {
   "cell_type": "code",
   "execution_count": null,
   "metadata": {
    "collapsed": false
   },
   "outputs": [],
   "source": [
    "sample.4 <- swissmunicipalities[s != 0, ]\n",
    "head(sample.4[c(2,4,14,17,22)])"
   ]
  },
  {
   "cell_type": "code",
   "execution_count": null,
   "metadata": {
    "collapsed": false
   },
   "outputs": [],
   "source": [
    "table(sample.4$REG)"
   ]
  },
  {
   "cell_type": "markdown",
   "metadata": {},
   "source": [
    "### 3.7. Stratified Sampling"
   ]
  },
  {
   "cell_type": "code",
   "execution_count": null,
   "metadata": {
    "collapsed": true
   },
   "outputs": [],
   "source": [
    "set.seed(123)"
   ]
  },
  {
   "cell_type": "code",
   "execution_count": null,
   "metadata": {
    "collapsed": true
   },
   "outputs": [],
   "source": [
    "# Stratified, equal sized strata\n",
    "\n",
    "section.ids <- rep(LETTERS[1:4], each = 25)\n",
    "\n",
    "section.scores <- round(runif(100, 60, 80))\n",
    "\n",
    "data <- data.frame(\n",
    "  Section = section.ids, \n",
    "  Score = section.scores)"
   ]
  },
  {
   "cell_type": "code",
   "execution_count": null,
   "metadata": {
    "collapsed": false
   },
   "outputs": [],
   "source": [
    "head(data)"
   ]
  },
  {
   "cell_type": "code",
   "execution_count": null,
   "metadata": {
    "collapsed": false
   },
   "outputs": [],
   "source": [
    "table(data$Section)"
   ]
  },
  {
   "cell_type": "code",
   "execution_count": null,
   "metadata": {
    "collapsed": false
   },
   "outputs": [],
   "source": [
    "st.1 <- strata(data, stratanames = c(\"Section\"),\n",
    "               size = rep(3, 4), method = \"srswor\",\n",
    "               description = TRUE)\n",
    "\n",
    "st.1"
   ]
  },
  {
   "cell_type": "code",
   "execution_count": null,
   "metadata": {
    "collapsed": false
   },
   "outputs": [],
   "source": [
    "st.sample1 <- getdata(data, st.1)\n",
    "\n",
    "st.sample1"
   ]
  },
  {
   "cell_type": "markdown",
   "metadata": {},
   "source": [
    "### 3.8. Example – Unequal Strata"
   ]
  },
  {
   "cell_type": "code",
   "execution_count": null,
   "metadata": {
    "collapsed": true
   },
   "outputs": [],
   "source": [
    "set.seed(123)"
   ]
  },
  {
   "cell_type": "code",
   "execution_count": null,
   "metadata": {
    "collapsed": false
   },
   "outputs": [],
   "source": [
    "# Stratified, unequal sized strata\n",
    "\n",
    "section.ids <- rep(LETTERS[1:4], c(10, 20, 30, 40))\n",
    "\n",
    "section.scores <- round(runif(100, 60, 80))\n",
    "\n",
    "data <- data.frame(\n",
    "  Section = section.ids, \n",
    "  Score = section.scores)\n",
    "\n",
    "head(data)"
   ]
  },
  {
   "cell_type": "code",
   "execution_count": null,
   "metadata": {
    "collapsed": false
   },
   "outputs": [],
   "source": [
    "freq <- table(data$Section)\n",
    "freq"
   ]
  },
  {
   "cell_type": "code",
   "execution_count": null,
   "metadata": {
    "collapsed": false
   },
   "outputs": [],
   "source": [
    "st.sizes <- 20 * freq / sum(freq)\n",
    "st.sizes"
   ]
  },
  {
   "cell_type": "code",
   "execution_count": null,
   "metadata": {
    "collapsed": false
   },
   "outputs": [],
   "source": [
    "st.2 <- strata(data, stratanames = c(\"Section\"),\n",
    "               size = st.sizes, method = \"srswor\",\n",
    "               description = TRUE)\n",
    "\n",
    "st.2"
   ]
  },
  {
   "cell_type": "code",
   "execution_count": null,
   "metadata": {
    "collapsed": false
   },
   "outputs": [],
   "source": [
    "st.sample2 <- getdata(data, st.2)\n",
    "\n",
    "st.sample2"
   ]
  },
  {
   "cell_type": "code",
   "execution_count": null,
   "metadata": {
    "collapsed": false
   },
   "outputs": [],
   "source": [
    "strata(data, stratanames = c(\"Section\"),\n",
    "       size = rep(5, 4), method = \"srswor\",\n",
    "       description = TRUE)"
   ]
  },
  {
   "cell_type": "markdown",
   "metadata": {},
   "source": [
    "### 3.9. Example – Strata with Two Variables"
   ]
  },
  {
   "cell_type": "code",
   "execution_count": null,
   "metadata": {
    "collapsed": true
   },
   "outputs": [],
   "source": [
    "set.seed(123)"
   ]
  },
  {
   "cell_type": "code",
   "execution_count": null,
   "metadata": {
    "collapsed": false
   },
   "outputs": [],
   "source": [
    "# two variables\n",
    "\n",
    "# Stratified, unequal sized strata\n",
    "\n",
    "section.ids <- rep(LETTERS[1:4], c(10, 20, 30, 40))\n",
    "section.genders <- \n",
    "  rep(rep(c(\"F\", \"M\"), 4), \n",
    "      c(10, 0, 5, 15, 20, 10, 15, 25))\n",
    "section.scores <- round(runif(100, 60, 80))\n",
    "\n",
    "data <- data.frame(\n",
    "  Section = section.ids, \n",
    "  Gender = section.genders,\n",
    "  Score = section.scores)\n",
    "\n",
    "head(data)"
   ]
  },
  {
   "cell_type": "code",
   "execution_count": null,
   "metadata": {
    "collapsed": true
   },
   "outputs": [],
   "source": [
    "data <- data[order(data$Section, data$Gender), ]"
   ]
  },
  {
   "cell_type": "code",
   "execution_count": null,
   "metadata": {
    "collapsed": false
   },
   "outputs": [],
   "source": [
    "freq <- table(data$Section, data$Gender)\n",
    "freq"
   ]
  },
  {
   "cell_type": "code",
   "execution_count": null,
   "metadata": {
    "collapsed": false
   },
   "outputs": [],
   "source": [
    "st.sizes <- 20 * freq / sum(freq)\n",
    "st.sizes"
   ]
  },
  {
   "cell_type": "code",
   "execution_count": null,
   "metadata": {
    "collapsed": false
   },
   "outputs": [],
   "source": [
    "as.vector(st.sizes)"
   ]
  },
  {
   "cell_type": "code",
   "execution_count": null,
   "metadata": {
    "collapsed": false
   },
   "outputs": [],
   "source": [
    "as.vector(t(st.sizes))"
   ]
  },
  {
   "cell_type": "code",
   "execution_count": null,
   "metadata": {
    "collapsed": false
   },
   "outputs": [],
   "source": [
    "st.sizes <- as.vector(t(st.sizes))\n",
    "st.sizes <- st.sizes[st.sizes != 0]\n",
    "\n",
    "st.sizes"
   ]
  },
  {
   "cell_type": "code",
   "execution_count": null,
   "metadata": {
    "collapsed": false
   },
   "outputs": [],
   "source": [
    "st.3 <- strata(data, \n",
    "               stratanames = c(\"Section\", \"Gender\"),\n",
    "               size = st.sizes, method = \"srswor\",\n",
    "               description = TRUE)\n",
    "\n",
    "st.3"
   ]
  },
  {
   "cell_type": "code",
   "execution_count": null,
   "metadata": {
    "collapsed": false
   },
   "outputs": [],
   "source": [
    "st.sample3 <- getdata(data, st.3)\n",
    "\n",
    "st.sample3"
   ]
  },
  {
   "cell_type": "markdown",
   "metadata": {},
   "source": [
    "### 3.10. Ordering Data   "
   ]
  },
  {
   "cell_type": "code",
   "execution_count": null,
   "metadata": {
    "collapsed": true
   },
   "outputs": [],
   "source": [
    "set.seed(113)"
   ]
  },
  {
   "cell_type": "code",
   "execution_count": null,
   "metadata": {
    "collapsed": true
   },
   "outputs": [],
   "source": [
    "#\n",
    "order.index <- order(swissmunicipalities$REG)\n",
    "data <- swissmunicipalities[order.index, ]"
   ]
  },
  {
   "cell_type": "code",
   "execution_count": null,
   "metadata": {
    "collapsed": false
   },
   "outputs": [],
   "source": [
    "head(data[c(2,4,14,17,22)])"
   ]
  },
  {
   "cell_type": "code",
   "execution_count": null,
   "metadata": {
    "collapsed": true
   },
   "outputs": [],
   "source": [
    "st <- strata(data, stratanames = c(\"REG\"),\n",
    "             size = c(14,22,8,4,11,5,6) , \n",
    "             method = \"srswor\")"
   ]
  },
  {
   "cell_type": "code",
   "execution_count": null,
   "metadata": {
    "collapsed": false
   },
   "outputs": [],
   "source": [
    "sample.5 <- getdata(data, st)\n",
    "table(sample.5$REG)"
   ]
  },
  {
   "cell_type": "code",
   "execution_count": null,
   "metadata": {
    "collapsed": false
   },
   "outputs": [],
   "source": [
    "# Proportion\n",
    "\n",
    "freq <- table(swissmunicipalities$REG)\n",
    "freq\n",
    "\n",
    "sizes <- round(70 * freq / sum(freq))\n",
    "sizes\n",
    "sum(sizes)"
   ]
  },
  {
   "cell_type": "code",
   "execution_count": null,
   "metadata": {
    "collapsed": false
   },
   "outputs": [],
   "source": [
    "st <- strata(data, stratanames = c(\"REG\"),\n",
    "             size = sizes, method = \"srswor\")\n",
    "\n",
    "head(st)"
   ]
  },
  {
   "cell_type": "code",
   "execution_count": null,
   "metadata": {
    "collapsed": false
   },
   "outputs": [],
   "source": [
    "sample <- getdata(data, st)\n",
    "head(sample[1:5])"
   ]
  },
  {
   "cell_type": "markdown",
   "metadata": {},
   "source": [
    "#### Cluster"
   ]
  },
  {
   "cell_type": "code",
   "execution_count": null,
   "metadata": {
    "collapsed": true
   },
   "outputs": [],
   "source": [
    "set.seed(123)"
   ]
  },
  {
   "cell_type": "code",
   "execution_count": null,
   "metadata": {
    "collapsed": false
   },
   "outputs": [],
   "source": [
    "section.ids <- rep(LETTERS[1:4], c(10, 20, 30, 40))\n",
    "\n",
    "section.scores <- round(runif(100, 60, 80))\n",
    "\n",
    "data <- data.frame(\n",
    "  Section = section.ids, \n",
    "  Score = section.scores)\n",
    "\n",
    "table(data$Section)"
   ]
  },
  {
   "cell_type": "code",
   "execution_count": null,
   "metadata": {
    "collapsed": false,
    "scrolled": true
   },
   "outputs": [],
   "source": [
    "cl <- cluster(data, c(\"Section\"), size = 2, \n",
    "              method=\"srswor\")\n",
    "\n",
    "cl.sample <- getdata(data, cl)\n",
    "\n",
    "table(cl.sample$Section)"
   ]
  },
  {
   "cell_type": "code",
   "execution_count": null,
   "metadata": {
    "collapsed": false
   },
   "outputs": [],
   "source": [
    "#\n",
    "set.seed(113)\n",
    "\n",
    "table(swissmunicipalities$REG)\n",
    "\n",
    "cl <- cluster(swissmunicipalities, c(\"REG\"), \n",
    "              size = 4, method=\"srswr\")\n",
    "\n",
    "sample.6 <- getdata(swissmunicipalities, cl)\n",
    "\n",
    "table(sample.6$REG)\n"
   ]
  }
 ],
 "metadata": {
  "anaconda-cloud": {},
  "kernelspec": {
   "display_name": "R",
   "language": "R",
   "name": "ir"
  },
  "language_info": {
   "codemirror_mode": "r",
   "file_extension": ".r",
   "mimetype": "text/x-r-source",
   "name": "R",
   "pygments_lexer": "r",
   "version": "3.3.1"
  }
 },
 "nbformat": 4,
 "nbformat_minor": 1
}
