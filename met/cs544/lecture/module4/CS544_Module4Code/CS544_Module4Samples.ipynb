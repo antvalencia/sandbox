{
 "cells": [
  {
   "cell_type": "markdown",
   "metadata": {},
   "source": [
    "# CS544 Module4 Samples"
   ]
  },
  {
   "cell_type": "markdown",
   "metadata": {},
   "source": [
    "## 2. Discrete Distributions"
   ]
  },
  {
   "cell_type": "markdown",
   "metadata": {},
   "source": [
    "### 2.2. Random Variable Example—Number of Heads"
   ]
  },
  {
   "cell_type": "code",
   "execution_count": null,
   "metadata": {
    "collapsed": true
   },
   "outputs": [],
   "source": [
    "library(repr)"
   ]
  },
  {
   "cell_type": "code",
   "execution_count": null,
   "metadata": {
    "collapsed": true
   },
   "outputs": [],
   "source": [
    "options(repr.plot.height=4)"
   ]
  },
  {
   "cell_type": "code",
   "execution_count": null,
   "metadata": {
    "collapsed": false
   },
   "outputs": [],
   "source": [
    "x <- c(0, 1, 2, 3)\n",
    "# same as x <- 0:3\n",
    "\n",
    "f <- c(1/8, 3/8, 3/8, 1/8)\n",
    "\n",
    "mu <- sum(x * f)\n",
    "mu\n",
    "\n",
    "sigmaSquare <- sum((x - mu)^2 * f)\n",
    "sigmaSquare\n",
    "\n",
    "sigma <- sqrt(sigmaSquare)\n",
    "sigma\n",
    "\n",
    "F <- cumsum(f)\n",
    "F"
   ]
  },
  {
   "cell_type": "markdown",
   "metadata": {},
   "source": [
    "### 2.3. Random Variable Example—Age of Students"
   ]
  },
  {
   "cell_type": "code",
   "execution_count": null,
   "metadata": {
    "collapsed": false
   },
   "outputs": [],
   "source": [
    "ages <- c(21,25,27,23,21,21,25,25,21,27)\n",
    "ctable <- table(ages)\n",
    "ctable\n",
    "\n",
    "dframe <- as.data.frame(ctable)\n",
    "dframe\n",
    "\n",
    "x <- as.numeric(as.character(dframe$ages))\n",
    "x\n",
    "\n",
    "f <- dframe$Freq / (sum(dframe$Freq))\n",
    "f"
   ]
  },
  {
   "cell_type": "markdown",
   "metadata": {},
   "source": [
    "### 2.4. Discrete Uniform Distribution"
   ]
  },
  {
   "cell_type": "code",
   "execution_count": null,
   "metadata": {
    "collapsed": false
   },
   "outputs": [],
   "source": [
    "# Single Die\n",
    "x <- 1:6\n",
    "f <- rep(1/6, 6)\n",
    "\n",
    "mu <- sum(x * f)\n",
    "mu\n",
    "\n",
    "sigmaSquare <- sum((x - mu)^2 * f)\n",
    "sigmaSquare"
   ]
  },
  {
   "cell_type": "code",
   "execution_count": null,
   "metadata": {
    "collapsed": false
   },
   "outputs": [],
   "source": [
    "# PMF and CDF example\n",
    "m <- 6\n",
    "dunif(1, max = m)"
   ]
  },
  {
   "cell_type": "code",
   "execution_count": null,
   "metadata": {
    "collapsed": false
   },
   "outputs": [],
   "source": [
    "pmf <- dunif(1:m, max = m)\n",
    "pmf"
   ]
  },
  {
   "cell_type": "code",
   "execution_count": null,
   "metadata": {
    "collapsed": false
   },
   "outputs": [],
   "source": [
    "cdf <- punif(1:m, max = m)\n",
    "cdf"
   ]
  },
  {
   "cell_type": "code",
   "execution_count": null,
   "metadata": {
    "collapsed": false
   },
   "outputs": [],
   "source": [
    "#Plot PMF\n",
    "plot(1:m, pmf, type=\"h\",\n",
    "  xlab=\"x\",ylab=\"PMF\", ylim = c(0, 0.2))\n",
    "abline(h=0, col=\"red\")"
   ]
  },
  {
   "cell_type": "code",
   "execution_count": null,
   "metadata": {
    "collapsed": false
   },
   "outputs": [],
   "source": [
    "# Quantile\n",
    "qunif(0.5, max=6)"
   ]
  },
  {
   "cell_type": "code",
   "execution_count": null,
   "metadata": {
    "collapsed": false
   },
   "outputs": [],
   "source": [
    "# Generate Uniform Data\n",
    "\n",
    "sample(6, size = 20, replace = TRUE)"
   ]
  },
  {
   "cell_type": "code",
   "execution_count": null,
   "metadata": {
    "collapsed": false
   },
   "outputs": [],
   "source": [
    "sample(10:20, size = 5, replace = TRUE)"
   ]
  },
  {
   "cell_type": "code",
   "execution_count": null,
   "metadata": {
    "collapsed": false
   },
   "outputs": [],
   "source": [
    "sample(c(\"H\", \"T\"), size = 10, replace = TRUE)"
   ]
  },
  {
   "cell_type": "markdown",
   "metadata": {},
   "source": [
    "### 2.7. Bernoulli Trials"
   ]
  },
  {
   "cell_type": "code",
   "execution_count": null,
   "metadata": {
    "collapsed": false
   },
   "outputs": [],
   "source": [
    "p <- 1/4\n",
    "sample(0:1, size = 10, replace = TRUE, \n",
    "  prob = c(1 - p, p))"
   ]
  },
  {
   "cell_type": "code",
   "execution_count": null,
   "metadata": {
    "collapsed": false
   },
   "outputs": [],
   "source": [
    "p <- 3/4\n",
    "sample(0:1, size = 10, replace = TRUE, \n",
    "  prob = c(1 - p, p))"
   ]
  },
  {
   "cell_type": "markdown",
   "metadata": {},
   "source": [
    "### 2.10. Example Using R—Tossing 5 Coins"
   ]
  },
  {
   "cell_type": "code",
   "execution_count": null,
   "metadata": {
    "collapsed": false
   },
   "outputs": [],
   "source": [
    "n <- 5; p <- 1/2\n",
    "\n",
    "choose(n,3) * p^3 * (1 - p)^2\n",
    "\n",
    "dbinom(3, size = n, prob = p)"
   ]
  },
  {
   "cell_type": "code",
   "execution_count": null,
   "metadata": {
    "collapsed": false
   },
   "outputs": [],
   "source": [
    "dbinom(0:n, size = n, prob = p)"
   ]
  },
  {
   "cell_type": "code",
   "execution_count": null,
   "metadata": {
    "collapsed": false
   },
   "outputs": [],
   "source": [
    "dbinom(c(1,5), size = n, prob = p)"
   ]
  },
  {
   "cell_type": "code",
   "execution_count": null,
   "metadata": {
    "collapsed": false
   },
   "outputs": [],
   "source": [
    "sum(dbinom(0:3, size = n, prob = p))"
   ]
  },
  {
   "cell_type": "code",
   "execution_count": null,
   "metadata": {
    "collapsed": false
   },
   "outputs": [],
   "source": [
    "pbinom(3, size = n, prob = p)"
   ]
  },
  {
   "cell_type": "code",
   "execution_count": null,
   "metadata": {
    "collapsed": false
   },
   "outputs": [],
   "source": [
    "sum(dbinom(4:n, size = n, prob = p))"
   ]
  },
  {
   "cell_type": "code",
   "execution_count": null,
   "metadata": {
    "collapsed": false
   },
   "outputs": [],
   "source": [
    "1 - pbinom(3, size = n, prob = p)"
   ]
  },
  {
   "cell_type": "code",
   "execution_count": null,
   "metadata": {
    "collapsed": false
   },
   "outputs": [],
   "source": [
    "pbinom(3, size = n, prob = p, lower.tail = FALSE)"
   ]
  },
  {
   "cell_type": "code",
   "execution_count": null,
   "metadata": {
    "collapsed": false
   },
   "outputs": [],
   "source": [
    "# PMF & CDF Example\n",
    "n = 3; p = 0.8;\n",
    "pmf = dbinom(0:n, size = n, prob = p)\n",
    "pmf"
   ]
  },
  {
   "cell_type": "code",
   "execution_count": null,
   "metadata": {
    "collapsed": false
   },
   "outputs": [],
   "source": [
    "plot(0:n, pmf, type = \"h\", xaxt = \"n\",\n",
    "   main = \"\", xlab = \"x\", ylab = \"PMF\")\n",
    "points(0:n, pmf, pch = 16)   \n",
    "axis(side = 1, at = 0:n, labels = TRUE)\n",
    "abline(h = 0, col=\"red\")"
   ]
  },
  {
   "cell_type": "code",
   "execution_count": null,
   "metadata": {
    "collapsed": false
   },
   "outputs": [],
   "source": [
    "cdf = c(0, cumsum(pmf))\n",
    "cdf"
   ]
  },
  {
   "cell_type": "code",
   "execution_count": null,
   "metadata": {
    "collapsed": false
   },
   "outputs": [],
   "source": [
    "cdfplot = stepfun(0:n, cdf)\n",
    "plot(cdfplot, verticals = FALSE, pch = 16,\n",
    "  main = \"\", xlab = \"x\", ylab = \"CDF\")"
   ]
  },
  {
   "cell_type": "code",
   "execution_count": null,
   "metadata": {
    "collapsed": false
   },
   "outputs": [],
   "source": [
    "# Plot PMF\n",
    "n = 5; p = 0.5;\n",
    "heights <- dbinom(0:n, size = n, prob = p)\n",
    "plot(0:n, heights, type = \"h\",\n",
    "  main = \"Spike plot of X\", xlab = \"x\", ylab = \"PMF\")\n",
    "points(0:n, heights, pch = 16)   "
   ]
  },
  {
   "cell_type": "markdown",
   "metadata": {},
   "source": [
    "Repeat above plot with n = 50; p = 1/2\n",
    "Repeat above plot with n = 50; p = 0.7\n",
    "Repeat above plot with n = 50; p = 0.3"
   ]
  },
  {
   "cell_type": "markdown",
   "metadata": {},
   "source": [
    "### 2.11. Plotting the CDF"
   ]
  },
  {
   "cell_type": "code",
   "execution_count": null,
   "metadata": {
    "collapsed": false
   },
   "outputs": [],
   "source": [
    "n <- 5; p <- 1/2;\n",
    "pmf <- dbinom(0:n, size = n, prob = p)\n",
    "cdf <- c(0, cumsum(pmf))\n",
    "cdfplot <- stepfun(0:n, cdf)\n",
    "plot(cdfplot, verticals = FALSE, pch = 16,\n",
    "  main = \"Step plot\", xlab = \"x\", ylab = \"CDF\")"
   ]
  },
  {
   "cell_type": "markdown",
   "metadata": {},
   "source": [
    "Repeat above plot with n = 50; p = 1/2\n",
    "Repeat above plot with n = 50; p = 0.7\n",
    "Repeat above plot with n = 50; p = 0.3"
   ]
  },
  {
   "cell_type": "code",
   "execution_count": null,
   "metadata": {
    "collapsed": false
   },
   "outputs": [],
   "source": [
    "# Quantile\n",
    "qbinom(0.8125, size=5, prob=1/2)"
   ]
  },
  {
   "cell_type": "code",
   "execution_count": null,
   "metadata": {
    "collapsed": false
   },
   "outputs": [],
   "source": [
    "# Random numbers\n",
    "\n",
    "rbinom(10, size=5, prob=1/2)"
   ]
  },
  {
   "cell_type": "code",
   "execution_count": null,
   "metadata": {
    "collapsed": false
   },
   "outputs": [],
   "source": [
    "y <- rbinom(1000, size=5, prob=1/2)\n",
    "table(y)"
   ]
  },
  {
   "cell_type": "code",
   "execution_count": null,
   "metadata": {
    "collapsed": false
   },
   "outputs": [],
   "source": [
    "plot(table(y), type=\"h\", col=\"red\")"
   ]
  },
  {
   "cell_type": "markdown",
   "metadata": {},
   "source": [
    "### 2.12. Hypergeometric Distribution"
   ]
  },
  {
   "cell_type": "code",
   "execution_count": null,
   "metadata": {
    "collapsed": false
   },
   "outputs": [],
   "source": [
    "# PMF & CDF Example\n",
    "M <- 5; N <- 3; K <- 2\n",
    "pmf <- dhyper(0:K, m = M, n = N, k = K)\n",
    "pmf"
   ]
  },
  {
   "cell_type": "code",
   "execution_count": null,
   "metadata": {
    "collapsed": false
   },
   "outputs": [],
   "source": [
    "cdf <- phyper(0:K, m = M, n = N, k = K)\n",
    "cdf\n",
    "# same as  cdf <- cumsum(pmf)"
   ]
  },
  {
   "cell_type": "code",
   "execution_count": null,
   "metadata": {
    "collapsed": false
   },
   "outputs": [],
   "source": [
    "# Quantile\n",
    "qhyper(0.64, m = M, n = N, k = K)"
   ]
  },
  {
   "cell_type": "code",
   "execution_count": null,
   "metadata": {
    "collapsed": false
   },
   "outputs": [],
   "source": [
    "# random numbers\n",
    "\n",
    "rhyper(10,m = M, n = N, k = K )"
   ]
  },
  {
   "cell_type": "markdown",
   "metadata": {},
   "source": [
    "### 2.13. Example Using R—Faulty Chips"
   ]
  },
  {
   "cell_type": "code",
   "execution_count": null,
   "metadata": {
    "collapsed": false
   },
   "outputs": [],
   "source": [
    "M <- 20; N <- 980; K <- 50\n",
    "dhyper(2, m = M, n = N, k = K)"
   ]
  },
  {
   "cell_type": "code",
   "execution_count": null,
   "metadata": {
    "collapsed": false
   },
   "outputs": [],
   "source": [
    "sum(dhyper(0:2, m = M, n = N, k = K))"
   ]
  },
  {
   "cell_type": "code",
   "execution_count": null,
   "metadata": {
    "collapsed": false
   },
   "outputs": [],
   "source": [
    "phyper(2, m = M, n = N, k = K)"
   ]
  },
  {
   "cell_type": "code",
   "execution_count": null,
   "metadata": {
    "collapsed": false
   },
   "outputs": [],
   "source": [
    "phyper(2, m = M, n = N, k = K, lower.tail = FALSE)"
   ]
  },
  {
   "cell_type": "code",
   "execution_count": null,
   "metadata": {
    "collapsed": false
   },
   "outputs": [],
   "source": [
    "# Plot PMF\n",
    "pmf <- dhyper(0:K, m = M, n = N, k = K)\n",
    "plot(0:K,pmf,type=\"h\",\n",
    "  xlab=\"x\",ylab=\"PMF\",ylim=c(0,0.5))\n",
    "abline(h=0)"
   ]
  },
  {
   "cell_type": "code",
   "execution_count": null,
   "metadata": {
    "collapsed": false
   },
   "outputs": [],
   "source": [
    "# Plot CDF\n",
    "cdf <- c(0, cumsum(pmf))\n",
    "cdfplot <- stepfun(0:K, cdf)\n",
    "plot(cdfplot, verticals = FALSE, pch = 16,\n",
    "  main = \"\", xlab = \"x\", ylab = \"CDF\")"
   ]
  },
  {
   "cell_type": "markdown",
   "metadata": {},
   "source": [
    "### 2.14. Geometric Distribution"
   ]
  },
  {
   "cell_type": "code",
   "execution_count": null,
   "metadata": {
    "collapsed": false
   },
   "outputs": [],
   "source": [
    "p <- 0.5\n",
    "dgeom(2, prob = p)"
   ]
  },
  {
   "cell_type": "code",
   "execution_count": null,
   "metadata": {
    "collapsed": false
   },
   "outputs": [],
   "source": [
    "pmf <- dgeom(0:10, prob = p)\n",
    "pmf"
   ]
  },
  {
   "cell_type": "code",
   "execution_count": null,
   "metadata": {
    "collapsed": false
   },
   "outputs": [],
   "source": [
    "#Plot PMF\n",
    "plot(0:10,pmf,type=\"h\",\n",
    "  xlab=\"x\",ylab=\"PMF\")\n",
    "abline(h=0, col=\"red\")"
   ]
  },
  {
   "cell_type": "markdown",
   "metadata": {},
   "source": [
    "### 2.15. Negative Binomial Distribution"
   ]
  },
  {
   "cell_type": "code",
   "execution_count": null,
   "metadata": {
    "collapsed": false
   },
   "outputs": [],
   "source": [
    "r <- 3; p <- 0.5\n",
    "dnbinom(5, size = r, prob = p)"
   ]
  },
  {
   "cell_type": "code",
   "execution_count": null,
   "metadata": {
    "collapsed": false
   },
   "outputs": [],
   "source": [
    "pmf <- dnbinom(0:10, size = r, prob = p)\n",
    "pmf"
   ]
  },
  {
   "cell_type": "code",
   "execution_count": null,
   "metadata": {
    "collapsed": false
   },
   "outputs": [],
   "source": [
    "#Plot PMF\n",
    "plot(0:10,pmf,type=\"h\",\n",
    "  xlab=\"x\",ylab=\"PMF\", ylim = c(0, 0.1))\n",
    "abline(h=0, col=\"red\")"
   ]
  },
  {
   "cell_type": "code",
   "execution_count": null,
   "metadata": {
    "collapsed": false
   },
   "outputs": [],
   "source": [
    "pnbinom(5, size = r, prob = p)"
   ]
  },
  {
   "cell_type": "code",
   "execution_count": null,
   "metadata": {
    "collapsed": false
   },
   "outputs": [],
   "source": [
    "cdf <- c(0, cumsum(pmf))\n",
    "cdf"
   ]
  },
  {
   "cell_type": "code",
   "execution_count": null,
   "metadata": {
    "collapsed": false
   },
   "outputs": [],
   "source": [
    "cdfplot <- stepfun(0:10, cdf)\n",
    "plot(cdfplot, verticals = FALSE, pch = 16,\n",
    "  main = \"\", xlab = \"x\", ylab = \"CDF\")"
   ]
  },
  {
   "cell_type": "markdown",
   "metadata": {},
   "source": [
    "### 2.16. Poisson Distribution"
   ]
  },
  {
   "cell_type": "code",
   "execution_count": null,
   "metadata": {
    "collapsed": false
   },
   "outputs": [],
   "source": [
    "dpois(6, lambda=8)"
   ]
  },
  {
   "cell_type": "code",
   "execution_count": null,
   "metadata": {
    "collapsed": false
   },
   "outputs": [],
   "source": [
    "ppois(2, lambda=8)"
   ]
  },
  {
   "cell_type": "code",
   "execution_count": null,
   "metadata": {
    "collapsed": false
   },
   "outputs": [],
   "source": [
    "sum(dpois(5:10, lambda=8))"
   ]
  },
  {
   "cell_type": "code",
   "execution_count": null,
   "metadata": {
    "collapsed": false
   },
   "outputs": [],
   "source": [
    "ppois(10, lambda=8) - ppois(4, lambda=8)"
   ]
  },
  {
   "cell_type": "code",
   "execution_count": null,
   "metadata": {
    "collapsed": false
   },
   "outputs": [],
   "source": [
    "diff(ppois(c(4,10), lambda=8))"
   ]
  },
  {
   "cell_type": "code",
   "execution_count": null,
   "metadata": {
    "collapsed": false
   },
   "outputs": [],
   "source": [
    "pmf <- dpois(0:40, lambda=16)\n",
    "pmf"
   ]
  },
  {
   "cell_type": "code",
   "execution_count": null,
   "metadata": {
    "collapsed": false
   },
   "outputs": [],
   "source": [
    "#Plot PMF\n",
    "plot(0:40,pmf,type=\"h\",\n",
    "  xlab=\"x\",ylab=\"PMF\", ylim = c(0, 0.25))\n",
    "abline(h=0)"
   ]
  },
  {
   "cell_type": "markdown",
   "metadata": {},
   "source": [
    "## 3. Continuous Distributions"
   ]
  },
  {
   "cell_type": "markdown",
   "metadata": {},
   "source": [
    "### 3.1. Figure plot"
   ]
  },
  {
   "cell_type": "code",
   "execution_count": null,
   "metadata": {
    "collapsed": false
   },
   "outputs": [],
   "source": [
    "par(mfrow=c(1,3))\n",
    "\n",
    "x <- seq(-10,10,0.01)\n",
    "pdf = dnorm(x,0,2)\n",
    "plot(x, pdf, type=\"h\", main=\"Normal Distribution\",\n",
    "  col=\"lightblue\", xaxt=\"n\", yaxt=\"n\")\n",
    "\n",
    "x <- seq(0,10,0.01)\n",
    "pdf = dunif(x,0,10)\n",
    "plot(x, pdf, type=\"h\", main=\"Uniform Distribution\",\n",
    " col=\"lightblue\", xaxt=\"n\", yaxt=\"n\")\n",
    "\n",
    "x <- seq(0,12,0.001)\n",
    "pdf = dexp(x,0.4)\n",
    "# Plot PDF\n",
    "plot(x,pdf,type=\"h\", main=\"Exponential Distribution\",\n",
    "  col=\"lightblue\", xaxt=\"n\", yaxt=\"n\")\n",
    "abline(h=0)\n",
    "\n",
    "par(mfrow=c(1,1))"
   ]
  },
  {
   "cell_type": "markdown",
   "metadata": {},
   "source": [
    "### 3.3. Example 1—Uniform Distribution"
   ]
  },
  {
   "cell_type": "code",
   "execution_count": null,
   "metadata": {
    "collapsed": true
   },
   "outputs": [],
   "source": [
    "# Plot\n",
    "\n",
    "x <- seq(0,1, 0.001)\n",
    "pdf = dunif(x,0,1)\n",
    "plot(x, pdf, type=\"h\", main=\"Uniform Distribution\",\n",
    " col=\"lightblue\", xaxt=\"n\", yaxt=\"n\", ylim=c(0,1.5))\n",
    "axis(side = 1, at = seq(0,1,by=0.1), labels = TRUE)\n",
    "axis(side = 2, at = c(0,1), labels = TRUE)"
   ]
  },
  {
   "cell_type": "code",
   "execution_count": null,
   "metadata": {
    "collapsed": false
   },
   "outputs": [],
   "source": [
    "punif(0.4, min=0, max=1) - punif(0.2, min=0, max=1)"
   ]
  },
  {
   "cell_type": "markdown",
   "metadata": {},
   "source": [
    "### 3.4. Example 2—Uniform Distribution"
   ]
  },
  {
   "cell_type": "code",
   "execution_count": null,
   "metadata": {
    "collapsed": true
   },
   "outputs": [],
   "source": [
    "1 - punif(5, min=2.5, max=6.5)"
   ]
  },
  {
   "cell_type": "code",
   "execution_count": null,
   "metadata": {
    "collapsed": true
   },
   "outputs": [],
   "source": [
    "punif(5, min=2.5, max=6.5, lower.tail=FALSE)"
   ]
  },
  {
   "cell_type": "markdown",
   "metadata": {},
   "source": [
    "### 3.5. Normal Distribution"
   ]
  },
  {
   "cell_type": "code",
   "execution_count": null,
   "metadata": {
    "collapsed": false
   },
   "outputs": [],
   "source": [
    "# Plots\n",
    "x <- seq(-6,6,0.1)\n",
    "pdf.1 = dnorm(x, mean = 0, sd = 0.5)\n",
    "pdf.2 = dnorm(x, mean = 0, sd = 1)\n",
    "pdf.3 = dnorm(x, mean = 0, sd = 2)\n",
    "\n",
    "plot(x, pdf.1, type=\"l\", col=\"green\", xlim=c(-6,6))\n",
    "lines(x, pdf.2, col=\"red\")\n",
    "lines(x, pdf.3, col=\"blue\")\n",
    "\n",
    "\n",
    "x1 <- seq(-7,1,0.1)\n",
    "pdf.1 = dnorm(x1, mean = -3, sd = 1)\n",
    "\n",
    "x2 <- seq(-4,4,0.1)\n",
    "pdf.2 = dnorm(x2, mean = 0, sd = 1)\n",
    "\n",
    "x3 <- seq(2,10,0.1)\n",
    "pdf.3 = dnorm(x3, mean = 6, sd = 1)\n",
    "\n",
    "plot(x1, pdf.1, type=\"l\", col=\"green\", xaxt=\"n\", xlim=c(-8,12))\n",
    "lines(x2, pdf.2, col=\"red\")\n",
    "lines(x3, pdf.3, col=\"blue\")\n",
    "axis(side = 1, at = seq(-8,12,by=2), labels = TRUE)"
   ]
  },
  {
   "cell_type": "markdown",
   "metadata": {},
   "source": [
    "### 3.6. Example—Normal Distribution"
   ]
  },
  {
   "cell_type": "code",
   "execution_count": null,
   "metadata": {
    "collapsed": true
   },
   "outputs": [],
   "source": [
    "# Gestation example\n",
    "\n",
    "x <- seq(212,320)\n",
    "pdf <- dnorm(x, mean = 266, sd = 16)\n",
    "\n",
    "plot(x, pdf, type=\"l\", col=\"red\", \n",
    "  xlim=c(212,320), ylim=c(0,0.03),\n",
    "  xaxt=\"n\", yaxt=\"n\",\n",
    "  main=\"Gestation Period\", xlab=\"Days\", ylab=\"PDF\")\n",
    "axis(side = 1, at = c(218,234,250,266,282,298,314), \n",
    "  labels = TRUE) \n",
    "axis(side = 2, at = c(0,0.01,0.02,0.03), \n",
    "  labels = TRUE) "
   ]
  },
  {
   "cell_type": "code",
   "execution_count": null,
   "metadata": {
    "collapsed": true
   },
   "outputs": [],
   "source": [
    "mu <- 266; sigma <- 16\n",
    "\n",
    "pnorm(mu, mean = mu, sd = sigma)"
   ]
  },
  {
   "cell_type": "code",
   "execution_count": null,
   "metadata": {
    "collapsed": true
   },
   "outputs": [],
   "source": [
    "pnorm(mu - 3*sigma, mean = mu, sd = sigma)"
   ]
  },
  {
   "cell_type": "code",
   "execution_count": null,
   "metadata": {
    "collapsed": true
   },
   "outputs": [],
   "source": [
    "pnorm(mu + 3*sigma, mean = mu, sd = sigma) -\n",
    " pnorm(mu - 3*sigma, mean = mu, sd = sigma)\n",
    " "
   ]
  },
  {
   "cell_type": "code",
   "execution_count": null,
   "metadata": {
    "collapsed": true
   },
   "outputs": [],
   "source": [
    "pnorm(mu + 2*sigma, mean = mu, sd = sigma) -\n",
    " pnorm(mu - 2*sigma, mean = mu, sd = sigma)"
   ]
  },
  {
   "cell_type": "code",
   "execution_count": null,
   "metadata": {
    "collapsed": true
   },
   "outputs": [],
   "source": [
    "pnorm(mu + sigma, mean = mu, sd = sigma) -\n",
    " pnorm(mu - sigma, mean = mu, sd = sigma)"
   ]
  },
  {
   "cell_type": "code",
   "execution_count": null,
   "metadata": {
    "collapsed": true
   },
   "outputs": [],
   "source": [
    "#CDF\n",
    "\n",
    "x <- seq(212,320)\n",
    "cdf <- pnorm(x, mean = 266, sd = 16)\n",
    "plot(x, cdf, type=\"l\", col=\"red\", \n",
    "  xlim=c(212,320), ylim=c(0,1),\n",
    "  xaxt=\"n\",\n",
    "  main=\"Gestation Period CDF\", xlab=\"Days\", ylab=\"CDF\")\n",
    "abline(h=0)\n",
    "axis(side = 1, at = c(218,234,250,266,282,298,314), \n",
    "  labels = TRUE) \n",
    "  "
   ]
  },
  {
   "cell_type": "markdown",
   "metadata": {},
   "source": [
    "### 3.7. Standard Normal Distribution"
   ]
  },
  {
   "cell_type": "code",
   "execution_count": null,
   "metadata": {
    "collapsed": true
   },
   "outputs": [],
   "source": [
    "x <- seq(-4,4,0.1)\n",
    "pdf <- dnorm(x, mean = 0, sd = 1)\n",
    "\n",
    "plot(x, pdf, type=\"l\", col=\"red\", xlim=c(-3,3))"
   ]
  },
  {
   "cell_type": "code",
   "execution_count": null,
   "metadata": {
    "collapsed": true
   },
   "outputs": [],
   "source": [
    "cdf <- pnorm(x, mean = 0, sd = 1)\n",
    "plot(x, cdf, type=\"l\", col=\"red\", xlim=c(-3,3))"
   ]
  },
  {
   "cell_type": "code",
   "execution_count": null,
   "metadata": {
    "collapsed": true
   },
   "outputs": [],
   "source": [
    "100*(pnorm(c(1,2,3)) - pnorm(c(-1,-2,-3)))"
   ]
  },
  {
   "cell_type": "markdown",
   "metadata": {},
   "source": [
    "### 3.8. Normal Quantiles"
   ]
  },
  {
   "cell_type": "code",
   "execution_count": null,
   "metadata": {
    "collapsed": true
   },
   "outputs": [],
   "source": [
    "qnorm(0.5, mean=0, sd=1)"
   ]
  },
  {
   "cell_type": "code",
   "execution_count": null,
   "metadata": {
    "collapsed": true
   },
   "outputs": [],
   "source": [
    "qnorm(0.95, mean=80, sd=5)"
   ]
  },
  {
   "cell_type": "code",
   "execution_count": null,
   "metadata": {
    "collapsed": true
   },
   "outputs": [],
   "source": [
    "qnorm(0.99, mean=80, sd=5)"
   ]
  },
  {
   "cell_type": "markdown",
   "metadata": {},
   "source": [
    "### 3.9. Generating Random Numbers with Normal Distribution"
   ]
  },
  {
   "cell_type": "code",
   "execution_count": null,
   "metadata": {
    "collapsed": true
   },
   "outputs": [],
   "source": [
    "y <- rnorm(20, mean = 80, sd = 5)"
   ]
  },
  {
   "cell_type": "code",
   "execution_count": null,
   "metadata": {
    "collapsed": false
   },
   "outputs": [],
   "source": [
    "y <- rnorm(1000, mean = 80, sd = 5)\n",
    "y <- round(y)\n",
    "table(y)"
   ]
  },
  {
   "cell_type": "code",
   "execution_count": null,
   "metadata": {
    "collapsed": false
   },
   "outputs": [],
   "source": [
    "plot(table(y), type=\"h\")"
   ]
  },
  {
   "cell_type": "markdown",
   "metadata": {},
   "source": [
    "### 3.11. Example—Exponential Distribution"
   ]
  },
  {
   "cell_type": "code",
   "execution_count": null,
   "metadata": {
    "collapsed": true
   },
   "outputs": [],
   "source": [
    "pexp(1/60, rate=20)"
   ]
  },
  {
   "cell_type": "code",
   "execution_count": null,
   "metadata": {
    "collapsed": true
   },
   "outputs": [],
   "source": [
    "x <- seq(0,1, by=1/60)\n",
    "pdf <- dexp(x, rate=20)\n",
    "\n",
    "plot(x, pdf, type=\"l\", col=\"red\", \n",
    "   xlim=c(0,0.4))\n",
    "abline(h=0)"
   ]
  },
  {
   "cell_type": "code",
   "execution_count": null,
   "metadata": {
    "collapsed": true
   },
   "outputs": [],
   "source": [
    "cdf <- pexp(x, rate=20)\n",
    "plot(x, cdf, type=\"l\", col=\"red\", \n",
    "   xlim=c(0,0.4))"
   ]
  }
 ],
 "metadata": {
  "anaconda-cloud": {},
  "kernelspec": {
   "display_name": "R",
   "language": "R",
   "name": "ir"
  },
  "language_info": {
   "codemirror_mode": "r",
   "file_extension": ".r",
   "mimetype": "text/x-r-source",
   "name": "R",
   "pygments_lexer": "r",
   "version": "3.3.1"
  }
 },
 "nbformat": 4,
 "nbformat_minor": 1
}
