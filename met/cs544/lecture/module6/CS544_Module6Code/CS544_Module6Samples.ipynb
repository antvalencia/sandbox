{
 "cells": [
  {
   "cell_type": "markdown",
   "metadata": {},
   "source": [
    "# CS544 Module6 Samples"
   ]
  },
  {
   "cell_type": "markdown",
   "metadata": {},
   "source": [
    "### 2.1. Confidence Intervals with known Population Standard Deviation σ"
   ]
  },
  {
   "cell_type": "code",
   "execution_count": null,
   "metadata": {
    "collapsed": true
   },
   "outputs": [],
   "source": [
    "library(repr)\n",
    "options(repr.plot.height=4)"
   ]
  },
  {
   "cell_type": "code",
   "execution_count": null,
   "metadata": {
    "collapsed": true
   },
   "outputs": [],
   "source": [
    "set.seed(100)"
   ]
  },
  {
   "cell_type": "code",
   "execution_count": null,
   "metadata": {
    "collapsed": true
   },
   "outputs": [],
   "source": [
    "plot.confidence <- function (conf = 95) {\n",
    " alpha <- 1 - conf/100\n",
    " z <- qnorm(1 - alpha/2)\n",
    " print(z, digits=4)\n",
    " \n",
    " f1 <- curve(dnorm(x), from=-3, to=3, \n",
    "         xaxt=\"n\", yaxt=\"n\",\n",
    "         xlab = \"z\")\n",
    " \n",
    " title(paste(\"Confidence =\", conf, \"%\"))\n",
    " \n",
    " axis(side=1, at=c(-z, 0, z), las=0,\n",
    "       labels=formatC(c(-z, 0, z), digits=3))\n",
    "       \n",
    " polygon(f1$x, f1$y, col=\"lightblue\")\n",
    "\n",
    " x.1 <- seq(-3, -z, by = 0.05)\n",
    " y.1 <- dnorm(x.1)\n",
    " x.1 <- c(x.1, -z, -z)\n",
    " y.1 <- c(y.1, dnorm(-z), dnorm(-3))\n",
    "\n",
    " polygon(x.1, y.1, col=\"white\")\n",
    "\n",
    " x.2 <- seq(3, z, by = -0.05)\n",
    " y.2 <- dnorm(x.2)\n",
    "\n",
    " x.2 <- c(x.2, z, z)\n",
    " y.2 <- c(y.2, dnorm(z), dnorm(3))\n",
    "\n",
    " polygon(x.2, y.2, col=\"white\")\n",
    "\n",
    " # lines(c(0,0), c(dnorm(-3), dnorm(0)), lty=2)\n",
    "\n",
    " text(0, 0.2, 1-alpha)\n",
    " text(-2.6, 0.2, alpha/2)\n",
    " text(2.6, 0.2, alpha/2)\n",
    "\n",
    "  return (z)\n",
    "}"
   ]
  },
  {
   "cell_type": "code",
   "execution_count": null,
   "metadata": {
    "collapsed": false
   },
   "outputs": [],
   "source": [
    "plot.confidence(95.44)"
   ]
  },
  {
   "cell_type": "markdown",
   "metadata": {},
   "source": [
    "### 2.2. Example—95.44% Confidence Interval"
   ]
  },
  {
   "cell_type": "code",
   "execution_count": null,
   "metadata": {
    "collapsed": true
   },
   "outputs": [],
   "source": [
    "options(digits=4)"
   ]
  },
  {
   "cell_type": "code",
   "execution_count": null,
   "metadata": {
    "collapsed": true
   },
   "outputs": [],
   "source": [
    "set.seed(150)"
   ]
  },
  {
   "cell_type": "code",
   "execution_count": null,
   "metadata": {
    "collapsed": false
   },
   "outputs": [],
   "source": [
    "pop.mean <- 60\n",
    "pop.sd <- 10\n",
    "\n",
    "x <- rnorm(10000, mean = pop.mean, sd = pop.sd)\n",
    "x <- as.integer(x)\n",
    "\n",
    "sample.size <- 30\n",
    "\n",
    "sd.sample.means <- pop.sd/sqrt(sample.size)\n",
    "sd.sample.means"
   ]
  },
  {
   "cell_type": "code",
   "execution_count": null,
   "metadata": {
    "collapsed": false
   },
   "outputs": [],
   "source": [
    "sample.data <- sample(x, size=sample.size)\n",
    "sample.data"
   ]
  },
  {
   "cell_type": "code",
   "execution_count": null,
   "metadata": {
    "collapsed": false
   },
   "outputs": [],
   "source": [
    "xbar <- mean(sample.data)\n",
    "xbar"
   ]
  },
  {
   "cell_type": "code",
   "execution_count": null,
   "metadata": {
    "collapsed": false
   },
   "outputs": [],
   "source": [
    "cat(\"95.44% Conf Interval = \",\n",
    "      xbar - 2*sd.sample.means, \"-\", \n",
    "      xbar + 2*sd.sample.means, \"\\n\")"
   ]
  },
  {
   "cell_type": "code",
   "execution_count": null,
   "metadata": {
    "collapsed": false
   },
   "outputs": [],
   "source": [
    "samples <- 20\n",
    "\n",
    "xbar2 <- numeric(samples)\n",
    "\n",
    "for (i in 1: samples) {\n",
    "\tsample.data.1 <- sample(x, size=sample.size)\n",
    "\txbar2[i] <- mean(sample.data.1)\n",
    "\tstr <- sprintf(\"%2d: xbar = %.2f, CI = %.2f - %.2f\",\n",
    "\t        i, xbar2[i], xbar2[i] - 2*sd.sample.means,\n",
    "\t        xbar2[i] + 2*sd.sample.means)\n",
    "\tcat(str,\"\\n\")\n",
    "}\n",
    "\n",
    "xbar2"
   ]
  },
  {
   "cell_type": "code",
   "execution_count": null,
   "metadata": {
    "collapsed": false
   },
   "outputs": [],
   "source": [
    "# number outside the range\n",
    "sum(abs(xbar2-pop.mean) > 2*sd.sample.means)"
   ]
  },
  {
   "cell_type": "code",
   "execution_count": null,
   "metadata": {
    "collapsed": false
   },
   "outputs": [],
   "source": [
    "matplot(rbind(xbar2 - 2*sd.sample.means, xbar2 + 2*sd.sample.means),\n",
    "        rbind(1:samples, 1:samples), type=\"l\", lty=1)\n",
    "abline(v = pop.mean)"
   ]
  },
  {
   "cell_type": "markdown",
   "metadata": {},
   "source": [
    "### 2.3. Confidence Interval—z-Interval Procedure"
   ]
  },
  {
   "cell_type": "code",
   "execution_count": null,
   "metadata": {
    "collapsed": false
   },
   "outputs": [],
   "source": [
    "conf <- 90\n",
    "\n",
    "alpha <- 1 - conf/100\n",
    "alpha"
   ]
  },
  {
   "cell_type": "code",
   "execution_count": null,
   "metadata": {
    "collapsed": false
   },
   "outputs": [],
   "source": [
    "c(qnorm(alpha/2), qnorm(1 - alpha/2))"
   ]
  },
  {
   "cell_type": "code",
   "execution_count": null,
   "metadata": {
    "collapsed": false
   },
   "outputs": [],
   "source": [
    "conf <- c(75, 85, 95, 99)\n",
    "conf"
   ]
  },
  {
   "cell_type": "code",
   "execution_count": null,
   "metadata": {
    "collapsed": false
   },
   "outputs": [],
   "source": [
    "alpha <- 1 - conf/100\n",
    "alpha"
   ]
  },
  {
   "cell_type": "code",
   "execution_count": null,
   "metadata": {
    "collapsed": false
   },
   "outputs": [],
   "source": [
    "qnorm(alpha/2)"
   ]
  },
  {
   "cell_type": "code",
   "execution_count": null,
   "metadata": {
    "collapsed": false
   },
   "outputs": [],
   "source": [
    "qnorm(1 - alpha/2)"
   ]
  },
  {
   "cell_type": "code",
   "execution_count": null,
   "metadata": {
    "collapsed": false
   },
   "outputs": [],
   "source": [
    "for (i in alpha) {\n",
    "  \tstr <- sprintf(\"%2d%% Conf Level (alpha = %.2f), z: %.2f , %.2f\",\n",
    "\t        100*(1-i), i, \n",
    "\t        qnorm(i/2),\n",
    "\t        qnorm(1-i/2))\n",
    "\tcat(str,\"\\n\")\n",
    "}"
   ]
  },
  {
   "cell_type": "code",
   "execution_count": null,
   "metadata": {
    "collapsed": false
   },
   "outputs": [],
   "source": [
    "par(mfrow = c(2,2))\n",
    "for (i in conf) plot.confidence(i)\n",
    "par(mfrow = c(1,1))"
   ]
  },
  {
   "cell_type": "code",
   "execution_count": null,
   "metadata": {
    "collapsed": false
   },
   "outputs": [],
   "source": [
    "sample.data"
   ]
  },
  {
   "cell_type": "code",
   "execution_count": null,
   "metadata": {
    "collapsed": false
   },
   "outputs": [],
   "source": [
    "sd.sample.means <- pop.sd/sqrt(sample.size)\n",
    "sd.sample.means"
   ]
  },
  {
   "cell_type": "code",
   "execution_count": null,
   "metadata": {
    "collapsed": false
   },
   "outputs": [],
   "source": [
    "xbar <- mean(sample.data)\n",
    "xbar"
   ]
  },
  {
   "cell_type": "code",
   "execution_count": null,
   "metadata": {
    "collapsed": false
   },
   "outputs": [],
   "source": [
    "for (i in alpha) {\n",
    "  \tstr <- sprintf(\"%2d%% Conf Level (alpha = %.2f), CI = %.2f - %.2f\",\n",
    "\t        100*(1-i), i, \n",
    "\t        xbar - qnorm(1-i/2) * sd.sample.means,\n",
    "\t        xbar + qnorm(1-i/2) * sd.sample.means)\n",
    "\tcat(str,\"\\n\")\n",
    "}"
   ]
  },
  {
   "cell_type": "code",
   "execution_count": null,
   "metadata": {
    "collapsed": false
   },
   "outputs": [],
   "source": [
    "for (i in alpha) {\n",
    "  \tstr <- sprintf(\"%2d%% Conf Level (alpha = %.2f), Precision = %.2f\",\n",
    "\t        100*(1-i), i, \n",
    "\t        2* qnorm(1-i/2) * sd.sample.means)\n",
    "\tcat(str,\"\\n\")\n",
    "}"
   ]
  },
  {
   "cell_type": "markdown",
   "metadata": {},
   "source": [
    "### 2.4. Margin of Error"
   ]
  },
  {
   "cell_type": "code",
   "execution_count": null,
   "metadata": {
    "collapsed": false
   },
   "outputs": [],
   "source": [
    "conf <- 95\n",
    "\n",
    "alpha <- 1 - conf/100\n",
    "alpha"
   ]
  },
  {
   "cell_type": "code",
   "execution_count": null,
   "metadata": {
    "collapsed": false
   },
   "outputs": [],
   "source": [
    "pop.sd"
   ]
  },
  {
   "cell_type": "code",
   "execution_count": null,
   "metadata": {
    "collapsed": false
   },
   "outputs": [],
   "source": [
    "sample.size"
   ]
  },
  {
   "cell_type": "code",
   "execution_count": null,
   "metadata": {
    "collapsed": false
   },
   "outputs": [],
   "source": [
    "sd.sample.means <- pop.sd/sqrt(sample.size)\n",
    "sd.sample.means"
   ]
  },
  {
   "cell_type": "code",
   "execution_count": null,
   "metadata": {
    "collapsed": false
   },
   "outputs": [],
   "source": [
    "qnorm(alpha/2)\n",
    "\n",
    "qnorm(1 - alpha/2)"
   ]
  },
  {
   "cell_type": "code",
   "execution_count": null,
   "metadata": {
    "collapsed": false
   },
   "outputs": [],
   "source": [
    "error <- qnorm(1 - alpha/2) * sd.sample.means\n",
    "error"
   ]
  },
  {
   "cell_type": "code",
   "execution_count": null,
   "metadata": {
    "collapsed": false
   },
   "outputs": [],
   "source": [
    "for (error in  c(2.0, 1.0, 0.5, 0.25)) {\n",
    "  required.size <- (qnorm(1 - alpha/2) * pop.sd/error)^2\n",
    "  required.size <- round(required.size)\n",
    "  str <- sprintf(\"Error = %.2f, Required sample size = %d\", \n",
    "            error, required.size)\n",
    "  cat(str, \"\\n\")\n",
    "}"
   ]
  },
  {
   "cell_type": "markdown",
   "metadata": {},
   "source": [
    "### 2.5. Confidence Intervals for One Population Mean When Population Standard Deviation Is Not Known"
   ]
  },
  {
   "cell_type": "code",
   "execution_count": null,
   "metadata": {
    "collapsed": false
   },
   "outputs": [],
   "source": [
    "### t curves\n",
    "\n",
    "options(repr.plot.height=5)\n",
    "\n",
    "x <- seq(-3.2,3.2,0.1)\n",
    "pdf.1 = dnorm(x)\n",
    "pdf.2 = dt(x, df = 1)\n",
    "pdf.3 = dt(x, df = 3)\n",
    "pdf.4 = dt(x, df = 6)\n",
    "\n",
    "plot(x, pdf.1, type=\"l\", col=\"red\", xlim=c(-3,3))\n",
    "lines(x, pdf.2, col=\"green\")\n",
    "lines(x, pdf.3, col=\"blue\")\n",
    "lines(x, pdf.4, col=\"orange\")\n",
    "\n",
    "legend(1.5, 0.4, c(\"t, df=1\", \"t, df=3\", \"t, df=6\", \"Standard\"),\n",
    "   lty=1, lwd=2, col=c(\"green\", \"blue\", \"orange\", \"red\"))\n",
    "\n",
    "options(repr.plot.height=4)"
   ]
  },
  {
   "cell_type": "code",
   "execution_count": null,
   "metadata": {
    "collapsed": false
   },
   "outputs": [],
   "source": [
    "#\n",
    "sample.data\n",
    "n <- length(sample.data)\n",
    "\n",
    "sd.sample.means <- sd(sample.data)/sqrt(n)\n",
    "sd.sample.means"
   ]
  },
  {
   "cell_type": "code",
   "execution_count": null,
   "metadata": {
    "collapsed": false
   },
   "outputs": [],
   "source": [
    "xbar <- mean(sample.data)\n",
    "xbar"
   ]
  },
  {
   "cell_type": "code",
   "execution_count": null,
   "metadata": {
    "collapsed": false
   },
   "outputs": [],
   "source": [
    "conf <- 90\n",
    "\n",
    "alpha <- 1 - conf/100\n",
    "alpha"
   ]
  },
  {
   "cell_type": "code",
   "execution_count": null,
   "metadata": {
    "collapsed": false
   },
   "outputs": [],
   "source": [
    "c(qt(alpha/2, df = n-1), \n",
    "  qt(1 - alpha/2, df = n-1))"
   ]
  },
  {
   "cell_type": "code",
   "execution_count": null,
   "metadata": {
    "collapsed": false
   },
   "outputs": [],
   "source": [
    "c(xbar - qt(1 - alpha/2, df = n-1) * sd.sample.means,\n",
    "  xbar + qt(1 - alpha/2, df = n-1) * sd.sample.means)\n",
    "  "
   ]
  },
  {
   "cell_type": "code",
   "execution_count": null,
   "metadata": {
    "collapsed": false
   },
   "outputs": [],
   "source": [
    "conf <- c(75, 85, 95, 99)\n",
    "conf\n",
    "\n",
    "alpha <- 1 - conf/100\n",
    "alpha"
   ]
  },
  {
   "cell_type": "code",
   "execution_count": null,
   "metadata": {
    "collapsed": false
   },
   "outputs": [],
   "source": [
    "qt(alpha/2, df = n-1)\n",
    "\n",
    "qt(1 - alpha/2, df = n-1)"
   ]
  },
  {
   "cell_type": "code",
   "execution_count": null,
   "metadata": {
    "collapsed": false
   },
   "outputs": [],
   "source": [
    "for (i in alpha) {\n",
    "  \tstr <- sprintf(\"%2d%% Conf Level (alpha = %.2f), t: %.2f , %.2f\",\n",
    "\t        100*(1-i), i, \n",
    "\t        qt(i/2, df = n-1),\n",
    "\t        qt(1 - i/2, df = n-1))\n",
    "\tcat(str,\"\\n\")\n",
    "}\n",
    "  "
   ]
  },
  {
   "cell_type": "code",
   "execution_count": null,
   "metadata": {
    "collapsed": false
   },
   "outputs": [],
   "source": [
    "for (i in alpha) {\n",
    "  \tstr <- sprintf(\"%2d%% Conf Level (alpha = %.2f), CI = %.2f - %.2f\",\n",
    "\t        100*(1-i), i, \n",
    "\t        xbar - qt(1 - i/2, df = n-1) * sd.sample.means,\n",
    "\t        xbar + qt(1 - i/2, df = n-1) * sd.sample.means)\n",
    "\tcat(str,\"\\n\")\n",
    "}"
   ]
  },
  {
   "cell_type": "code",
   "execution_count": null,
   "metadata": {
    "collapsed": false
   },
   "outputs": [],
   "source": [
    "for (i in alpha) {\n",
    "  \tstr <- sprintf(\"%2d%% Conf Level (alpha = %.2f), Precision = %.2f\",\n",
    "\t        100*(1-i), i, \n",
    "\t        2* qt(1-i/2, df = n-1) * sd.sample.means)\n",
    "\tcat(str,\"\\n\")\n",
    "}"
   ]
  },
  {
   "cell_type": "markdown",
   "metadata": {},
   "source": [
    "### 2.6. Confidence Interval of Population Proportion"
   ]
  },
  {
   "cell_type": "code",
   "execution_count": null,
   "metadata": {
    "collapsed": true
   },
   "outputs": [],
   "source": [
    "library(MASS)"
   ]
  },
  {
   "cell_type": "code",
   "execution_count": null,
   "metadata": {
    "collapsed": false
   },
   "outputs": [],
   "source": [
    "n <- length(survey$Exer)\n",
    "n"
   ]
  },
  {
   "cell_type": "code",
   "execution_count": null,
   "metadata": {
    "collapsed": false
   },
   "outputs": [],
   "source": [
    "k <- sum(survey$Exer == \"Freq\")\n",
    "k"
   ]
  },
  {
   "cell_type": "code",
   "execution_count": null,
   "metadata": {
    "collapsed": false
   },
   "outputs": [],
   "source": [
    "pbar <- k/n\n",
    "pbar"
   ]
  },
  {
   "cell_type": "code",
   "execution_count": null,
   "metadata": {
    "collapsed": false
   },
   "outputs": [],
   "source": [
    "standard.error <- sqrt(pbar * (1 - pbar) / n)\n",
    "standard.error"
   ]
  },
  {
   "cell_type": "code",
   "execution_count": null,
   "metadata": {
    "collapsed": false
   },
   "outputs": [],
   "source": [
    "conf <- c(75, 85, 95, 99)\n",
    "conf\n",
    "\n",
    "alpha <- 1 - conf/100\n",
    "alpha"
   ]
  },
  {
   "cell_type": "code",
   "execution_count": null,
   "metadata": {
    "collapsed": false
   },
   "outputs": [],
   "source": [
    "qnorm(alpha/2)\n",
    "\n",
    "qnorm(1 - alpha/2)"
   ]
  },
  {
   "cell_type": "code",
   "execution_count": null,
   "metadata": {
    "collapsed": false
   },
   "outputs": [],
   "source": [
    "for (i in alpha) {\n",
    "  \tstr <- sprintf(\"%2d%% Conf Level (alpha = %.2f), CI = %.2f - %.2f\",\n",
    "\t        100*(1-i), i, \n",
    "\t        pbar - qnorm(1-i/2) * standard.error,\n",
    "\t        pbar + qnorm(1-i/2) * standard.error)\n",
    "\tcat(str,\"\\n\")\n",
    "}"
   ]
  },
  {
   "cell_type": "markdown",
   "metadata": {},
   "source": [
    "### 2.7. Example—Population Proportion-Binomial Distribution"
   ]
  },
  {
   "cell_type": "code",
   "execution_count": null,
   "metadata": {
    "collapsed": true
   },
   "outputs": [],
   "source": [
    "set.seed(120)"
   ]
  },
  {
   "cell_type": "code",
   "execution_count": null,
   "metadata": {
    "collapsed": false
   },
   "outputs": [],
   "source": [
    "n <- 25\n",
    "outcomes <- rbinom(100, size = n, prob = 0.5)\n",
    "length(outcomes)\n",
    "head(outcomes)"
   ]
  },
  {
   "cell_type": "code",
   "execution_count": null,
   "metadata": {
    "collapsed": false
   },
   "outputs": [],
   "source": [
    "pbar <- outcomes/n\n",
    "head(pbar)"
   ]
  },
  {
   "cell_type": "code",
   "execution_count": null,
   "metadata": {
    "collapsed": false
   },
   "outputs": [],
   "source": [
    "standard.error <- sqrt(pbar * (1 - pbar) / n)\n",
    "head(standard.error)"
   ]
  },
  {
   "cell_type": "code",
   "execution_count": null,
   "metadata": {
    "collapsed": false
   },
   "outputs": [],
   "source": [
    "conf <- 90\n",
    "\n",
    "alpha <- 1 - conf/100\n",
    "alpha\n",
    "\n",
    "c(qnorm(alpha/2), qnorm(1 - alpha/2))"
   ]
  },
  {
   "cell_type": "code",
   "execution_count": null,
   "metadata": {
    "collapsed": false
   },
   "outputs": [],
   "source": [
    "ci.lower <- pbar - qnorm(1-alpha/2) * standard.error\n",
    "ci.upper <- pbar + qnorm(1-alpha/2) * standard.error\n",
    "\n",
    "head(ci.lower)\n",
    "head(ci.upper)"
   ]
  },
  {
   "cell_type": "code",
   "execution_count": null,
   "metadata": {
    "collapsed": false
   },
   "outputs": [],
   "source": [
    "matplot(rbind(ci.lower, ci.upper),\n",
    "         rbind(1:100, 1:100),\n",
    "         type=\"l\", lty=1)\n",
    "abline(v = 0.5)"
   ]
  },
  {
   "cell_type": "code",
   "execution_count": null,
   "metadata": {
    "collapsed": true
   },
   "outputs": [],
   "source": [
    "#####\n",
    "\n",
    "plot.confidence.symbolic.z <- function (conf = 85) {\n",
    " alpha <- 1 - conf/100\n",
    " z <- qnorm(1 - alpha/2)\n",
    " print(z, digits=4)\n",
    " \n",
    " f1 <- curve(dnorm(x), from=-3, to=3, \n",
    "         xaxt=\"n\", yaxt=\"n\",\n",
    "         xlab = \"z\",\n",
    "         main = \"\")\n",
    "         \n",
    " title(expression(paste(\"Confidence = 100*(1-\", alpha, \")%\")))\n",
    " \n",
    " axis(side=1, at=c(-z, 0, z), las=0,\n",
    "       labels=c(expression(-z[alpha/2], 0, z[alpha/2])))\n",
    "       \n",
    " polygon(f1$x, f1$y, col=\"lightblue\")\n",
    "\n",
    " x.1 <- seq(-3, -z, by = 0.05)\n",
    " y.1 <- dnorm(x.1)\n",
    " x.1 <- c(x.1, -z, -z)\n",
    " y.1 <- c(y.1, dnorm(-z), dnorm(-3))\n",
    "\n",
    " polygon(x.1, y.1, col=\"white\")\n",
    "\n",
    " x.2 <- seq(3, z, by = -0.05)\n",
    " y.2 <- dnorm(x.2)\n",
    "\n",
    " x.2 <- c(x.2, z, z)\n",
    " y.2 <- c(y.2, dnorm(z), dnorm(3))\n",
    "\n",
    " polygon(x.2, y.2, col=\"white\")\n",
    "\n",
    "# lines(c(0,0), c(dnorm(-3), dnorm(0)), lty=2)\n",
    "\n",
    " text(0, 0.1, expression(1-alpha))\n",
    " text(-2.6, 0.1, expression(alpha/2))\n",
    " text(2.6, 0.1, expression(alpha/2))\n",
    "\n",
    "  return (z)\n",
    "}"
   ]
  },
  {
   "cell_type": "code",
   "execution_count": null,
   "metadata": {
    "collapsed": false
   },
   "outputs": [],
   "source": [
    "plot.confidence.symbolic.z()"
   ]
  },
  {
   "cell_type": "code",
   "execution_count": null,
   "metadata": {
    "collapsed": true
   },
   "outputs": [],
   "source": [
    "plot.confidence.symbolic.t <- function (conf = 85) {\n",
    " alpha <- 1 - conf/100\n",
    " t <- qt(1 - alpha/2, df=13)\n",
    " print(t, digits=4)\n",
    " \n",
    " f1 <- curve(dt(x, df=13), from=-3, to=3, \n",
    "         xaxt=\"n\", yaxt=\"n\",\n",
    "         xlab = \"t\",\n",
    "         main = \"\")\n",
    "         \n",
    " title(expression(paste(\"Confidence = 100*(1-\", alpha, \")%\")))\n",
    " \n",
    " axis(side=1, at=c(-t, 0, t), las=0,\n",
    "       labels=c(expression(-t[alpha/2], 0, t[alpha/2])))\n",
    "       \n",
    " polygon(f1$x, f1$y, col=\"lightblue\")\n",
    "\n",
    " x.1 <- seq(-3, -t, by = 0.05)\n",
    " y.1 <- dt(x.1, df=13)\n",
    " x.1 <- c(x.1, -t, -t)\n",
    " y.1 <- c(y.1, dt(-t, df=13), dt(-3, df=13))\n",
    "\n",
    " polygon(x.1, y.1, col=\"white\")\n",
    "\n",
    " x.2 <- seq(3, t, by = -0.05)\n",
    " y.2 <- dt(x.2, df=13)\n",
    "\n",
    " x.2 <- c(x.2, t, t)\n",
    " y.2 <- c(y.2, dt(t, df=13), dt(3, df=13))\n",
    "\n",
    " polygon(x.2, y.2, col=\"white\")\n",
    "\n",
    "# lines(c(0,0), c(dnorm(-3), dnorm(0)), lty=2)\n",
    "\n",
    " text(0, 0.1, expression(1-alpha))\n",
    " text(-2.6, 0.1, expression(alpha/2))\n",
    " text(2.6, 0.1, expression(alpha/2))\n",
    "\n",
    "  return (t)\n",
    "}"
   ]
  },
  {
   "cell_type": "code",
   "execution_count": null,
   "metadata": {
    "collapsed": false
   },
   "outputs": [],
   "source": [
    "plot.confidence.symbolic.t()"
   ]
  },
  {
   "cell_type": "markdown",
   "metadata": {},
   "source": [
    "### 3.2. Critical-Value Approach"
   ]
  },
  {
   "cell_type": "code",
   "execution_count": null,
   "metadata": {
    "collapsed": true
   },
   "outputs": [],
   "source": [
    "set.seed(150)"
   ]
  },
  {
   "cell_type": "code",
   "execution_count": null,
   "metadata": {
    "collapsed": false
   },
   "outputs": [],
   "source": [
    "pop.mean <- 60\n",
    "pop.sd <- 10\n",
    "\n",
    "x <- rnorm(10000, mean = pop.mean, sd = pop.sd)\n",
    "x <- as.integer(x)\n",
    "\n",
    "sample.size <- 30\n",
    "\n",
    "sample.data <- sample(x, size=sample.size)\n",
    "sample.data"
   ]
  },
  {
   "cell_type": "code",
   "execution_count": null,
   "metadata": {
    "collapsed": false
   },
   "outputs": [],
   "source": [
    "xbar <- mean(sample.data)\n",
    "xbar"
   ]
  },
  {
   "cell_type": "code",
   "execution_count": null,
   "metadata": {
    "collapsed": false
   },
   "outputs": [],
   "source": [
    "mu0 <- pop.mean\n",
    "sigma <- pop.sd\n",
    "n <- sample.size\n",
    "\n",
    "z <- (xbar - mu0) / (sigma / sqrt(n))\n",
    "z"
   ]
  },
  {
   "cell_type": "code",
   "execution_count": null,
   "metadata": {
    "collapsed": false
   },
   "outputs": [],
   "source": [
    "alpha <- 0.10\n",
    "c(qnorm(alpha/2), qnorm(1 - alpha/2))"
   ]
  },
  {
   "cell_type": "code",
   "execution_count": null,
   "metadata": {
    "collapsed": false
   },
   "outputs": [],
   "source": [
    "alpha <- 0.05\n",
    "c(qnorm(alpha/2), qnorm(1 - alpha/2))"
   ]
  },
  {
   "cell_type": "code",
   "execution_count": null,
   "metadata": {
    "collapsed": false
   },
   "outputs": [],
   "source": [
    "alpha <- 0.01\n",
    "c(qnorm(alpha/2), qnorm(1 - alpha/2))"
   ]
  },
  {
   "cell_type": "markdown",
   "metadata": {},
   "source": [
    "### 3.3. P-Value Approach"
   ]
  },
  {
   "cell_type": "code",
   "execution_count": null,
   "metadata": {
    "collapsed": false
   },
   "outputs": [],
   "source": [
    "xbar <- mean(sample.data)\n",
    "xbar"
   ]
  },
  {
   "cell_type": "code",
   "execution_count": null,
   "metadata": {
    "collapsed": false
   },
   "outputs": [],
   "source": [
    "mu0 <- pop.mean\n",
    "sigma <- pop.sd\n",
    "n <- sample.size\n",
    "\n",
    "z <- (xbar - mu0) / (sigma / sqrt(n))\n",
    "z"
   ]
  },
  {
   "cell_type": "code",
   "execution_count": null,
   "metadata": {
    "collapsed": false
   },
   "outputs": [],
   "source": [
    "2*pnorm(-(abs(z)))"
   ]
  },
  {
   "cell_type": "markdown",
   "metadata": {},
   "source": [
    "### 3.4. Power of a Hypothesis Test"
   ]
  },
  {
   "cell_type": "code",
   "execution_count": null,
   "metadata": {
    "collapsed": false
   },
   "outputs": [],
   "source": [
    "xbar <- mean(sample.data)\n",
    "xbar"
   ]
  },
  {
   "cell_type": "code",
   "execution_count": null,
   "metadata": {
    "collapsed": false
   },
   "outputs": [],
   "source": [
    "mu0 <- pop.mean\n",
    "sigma <- pop.sd\n",
    "n <- sample.size\n",
    "\n",
    "z <- (xbar - mu0) / (sigma / sqrt(n))\n",
    "z"
   ]
  },
  {
   "cell_type": "code",
   "execution_count": null,
   "metadata": {
    "collapsed": false
   },
   "outputs": [],
   "source": [
    "alpha <- 0.05\n",
    "c(qnorm(alpha/2), qnorm(1 - alpha/2))"
   ]
  },
  {
   "cell_type": "code",
   "execution_count": null,
   "metadata": {
    "collapsed": true
   },
   "outputs": [],
   "source": [
    "##############\n",
    "\n",
    "plot.hyptest.2t.z <- function (conf = 85) {\n",
    "  alpha <- 1 - conf/100\n",
    "  z <- qnorm(1 - alpha/2)\n",
    "  print(z, digits=4)\n",
    "  \n",
    "  f1 <- curve(dnorm(x), from=-3, to=3, \n",
    "              xaxt=\"n\", yaxt=\"n\", ylim=c(0, 0.6),\n",
    "              xlab = \"z\",\n",
    "              main = \"\")\n",
    "  \n",
    "  title(expression(paste(\"Confidence = (1-\", alpha, \")\")))\n",
    "  \n",
    "  axis(side=1, at=c(-z, 0, z), las=0,\n",
    "       labels=c(expression(-z[alpha/2], 0, z[alpha/2])))\n",
    "  \n",
    "  # polygon(f1$x, f1$y, col=\"lightblue\")\n",
    "  \n",
    "  x.1 <- seq(-3, -z, by = 0.05)\n",
    "  y.1 <- dnorm(x.1)\n",
    "  x.1 <- c(x.1, -z, -z)\n",
    "  y.1 <- c(y.1, dnorm(-z), dnorm(-3))\n",
    "  \n",
    "  polygon(x.1, y.1, col=\"lightblue\")\n",
    "  \n",
    "  x.2 <- seq(3, z, by = -0.05)\n",
    "  y.2 <- dnorm(x.2)\n",
    "  \n",
    "  x.2 <- c(x.2, z, z)\n",
    "  y.2 <- c(y.2, dnorm(z), dnorm(3))\n",
    "  \n",
    "  polygon(x.2, y.2, col=\"lightblue\")\n",
    "  \n",
    "  lines(c(-z,-z), c(0, 0.55), lty=2)\n",
    "  lines(c(z, z), c(0, 0.55), lty=2)\n",
    "  \n",
    "  text(0, 0.1, expression(1-alpha))\n",
    "  text(-2.6, 0.1, expression(alpha/2))\n",
    "  text(2.6, 0.1, expression(alpha/2))\n",
    "  \n",
    "  text(0, 0.5, expression(paste(\"Do not reject \", H[0])))\n",
    "  text(-2.2, 0.5, expression(paste(\"Reject \", H[0])))\n",
    "  text(2.2, 0.5, expression(paste(\"Reject \", H[0])))\n",
    "  \n",
    "  \n",
    "  return (z)\n",
    "}"
   ]
  },
  {
   "cell_type": "code",
   "execution_count": null,
   "metadata": {
    "collapsed": false
   },
   "outputs": [],
   "source": [
    "plot.hyptest.2t.z()"
   ]
  },
  {
   "cell_type": "code",
   "execution_count": null,
   "metadata": {
    "collapsed": true
   },
   "outputs": [],
   "source": [
    "plot.hyptest.lt.z <- function (conf = 85) {\n",
    "  alpha <- 1 - conf/100\n",
    "  z <- qnorm(1 - alpha)\n",
    "  print(z, digits=4)\n",
    "  \n",
    "  f1 <- curve(dnorm(x), from=-3, to=3, \n",
    "              xaxt=\"n\", yaxt=\"n\", ylim=c(0, 0.6),\n",
    "              xlab = \"z\",\n",
    "              main = \"\")\n",
    "  \n",
    "  title(expression(paste(\"Confidence = (1-\", alpha, \")\")))\n",
    "  \n",
    "  axis(side=1, at=c(-z, 0), las=0,\n",
    "       labels=c(expression(-z[alpha], 0)))\n",
    "  \n",
    "  # polygon(f1$x, f1$y, col=\"lightblue\")\n",
    "  \n",
    "  x.1 <- seq(-3, -z, by = 0.05)\n",
    "  y.1 <- dnorm(x.1)\n",
    "  x.1 <- c(x.1, -z, -z)\n",
    "  y.1 <- c(y.1, dnorm(-z), dnorm(-3))\n",
    "  \n",
    "  polygon(x.1, y.1, col=\"lightblue\")\n",
    "  \n",
    "  \n",
    "  lines(c(-z,-z), c(0, 0.55), lty=2)\n",
    "  \n",
    "  text(0, 0.1, expression(1-alpha))\n",
    "  text(-2.4, 0.1, expression(alpha))\n",
    "  \n",
    "  text(0.2, 0.5, expression(paste(\"Do not reject \", H[0])))\n",
    "  text(-2.2, 0.5, expression(paste(\"Reject \", H[0])))\n",
    "  \n",
    "  \n",
    "  return (z)\n",
    "}"
   ]
  },
  {
   "cell_type": "code",
   "execution_count": null,
   "metadata": {
    "collapsed": false
   },
   "outputs": [],
   "source": [
    "plot.hyptest.lt.z()"
   ]
  },
  {
   "cell_type": "code",
   "execution_count": null,
   "metadata": {
    "collapsed": true
   },
   "outputs": [],
   "source": [
    "plot.hyptest.rt.z <- function (conf = 85) {\n",
    "  alpha <- 1 - conf/100\n",
    "  z <- qnorm(1 - alpha)\n",
    "  print(z, digits=4)\n",
    "  \n",
    "  f1 <- curve(dnorm(x), from=-3, to=3, \n",
    "              xaxt=\"n\", yaxt=\"n\", ylim=c(0, 0.6),\n",
    "              xlab = \"z\",\n",
    "              main = \"\")\n",
    "  \n",
    "  title(expression(paste(\"Confidence = (1-\", alpha, \")\")))\n",
    "  \n",
    "  axis(side=1, at=c(0, z), las=0,\n",
    "       labels=c(0, expression(z[alpha])))\n",
    "  \n",
    "  # polygon(f1$x, f1$y, col=\"lightblue\")\n",
    "  \n",
    "  x.2 <- seq(3, z, by = -0.05)\n",
    "  y.2 <- dnorm(x.2)\n",
    "  \n",
    "  x.2 <- c(x.2, z, z)\n",
    "  y.2 <- c(y.2, dnorm(z), dnorm(3))\n",
    "  \n",
    "  polygon(x.2, y.2, col=\"lightblue\")\n",
    "  \n",
    "  lines(c(z,z), c(0, 0.55), lty=2)\n",
    "  \n",
    "  text(0, 0.1, expression(1-alpha))\n",
    "  text(2.2, 0.15, expression(alpha))\n",
    "  \n",
    "  text(-1, 0.5, expression(paste(\"Do not reject \", H[0])))\n",
    "  text(2.2, 0.5, expression(paste(\"Reject \", H[0])))\n",
    "  \n",
    "  \n",
    "  return (z)\n",
    "}"
   ]
  },
  {
   "cell_type": "code",
   "execution_count": null,
   "metadata": {
    "collapsed": false
   },
   "outputs": [],
   "source": [
    "plot.hyptest.rt.z()"
   ]
  },
  {
   "cell_type": "code",
   "execution_count": null,
   "metadata": {
    "collapsed": true
   },
   "outputs": [],
   "source": [
    "#####\n",
    "\n",
    "plot.hyptest.2t.p <- function (conf = 85) {\n",
    "  alpha <- 1 - conf/100\n",
    "  z <- qnorm(1 - alpha/2)\n",
    "  print(z, digits=4)\n",
    "  \n",
    "  f1 <- curve(dnorm(x), from=-3, to=3, \n",
    "              xaxt=\"n\", yaxt=\"n\", ylim=c(0, 0.6),\n",
    "              xlab = \"z\",\n",
    "              main = \"\")\n",
    "  \n",
    "  # title(expression(paste(\"Confidence = (1-\", alpha, \")\")))\n",
    "  \n",
    "  axis(side=1, at=c(-z, 0, z), las=0,\n",
    "       labels=c(expression(-abs(z[0]), 0, abs(z[0]))))\n",
    "  \n",
    "  # polygon(f1$x, f1$y, col=\"lightblue\")\n",
    "  \n",
    "  x.1 <- seq(-3, -z, by = 0.05)\n",
    "  y.1 <- dnorm(x.1)\n",
    "  x.1 <- c(x.1, -z, -z)\n",
    "  y.1 <- c(y.1, dnorm(-z), dnorm(-3))\n",
    "  \n",
    "  polygon(x.1, y.1, col=\"lightblue\")\n",
    "  \n",
    "  x.2 <- seq(3, z, by = -0.05)\n",
    "  y.2 <- dnorm(x.2)\n",
    "  \n",
    "  x.2 <- c(x.2, z, z)\n",
    "  y.2 <- c(y.2, dnorm(z), dnorm(3))\n",
    "  \n",
    "  polygon(x.2, y.2, col=\"lightblue\")\n",
    "  \n",
    "  lines(c(-z,-z), c(0, dnorm(-z)), lty=2)\n",
    "  lines(c(z, z), c(0, dnorm(z)), lty=2)\n",
    "  \n",
    "  text(0, 0.5, \"P-value\")\n",
    "  \n",
    "  \n",
    "  return (z)\n",
    "}"
   ]
  },
  {
   "cell_type": "code",
   "execution_count": null,
   "metadata": {
    "collapsed": false
   },
   "outputs": [],
   "source": [
    "plot.hyptest.2t.p()"
   ]
  },
  {
   "cell_type": "code",
   "execution_count": null,
   "metadata": {
    "collapsed": true
   },
   "outputs": [],
   "source": [
    "plot.hyptest.lt.p <- function (conf = 85) {\n",
    "  alpha <- 1 - conf/100\n",
    "  z <- qnorm(1 - alpha)\n",
    "  print(z, digits=4)\n",
    "  \n",
    "  f1 <- curve(dnorm(x), from=-3, to=3, \n",
    "              xaxt=\"n\", yaxt=\"n\", ylim=c(0, 0.6),\n",
    "              xlab = \"z\",\n",
    "              main = \"\")\n",
    "  \n",
    "  # title(expression(paste(\"Confidence = (1-\", alpha, \")\")))\n",
    "  \n",
    "  axis(side=1, at=c(-z, 0), las=0,\n",
    "       labels=c(expression(-z[0], 0)))\n",
    "  \n",
    "  # polygon(f1$x, f1$y, col=\"lightblue\")\n",
    "  \n",
    "  x.1 <- seq(-3, -z, by = 0.05)\n",
    "  y.1 <- dnorm(x.1)\n",
    "  x.1 <- c(x.1, -z, -z)\n",
    "  y.1 <- c(y.1, dnorm(-z), dnorm(-3))\n",
    "  \n",
    "  polygon(x.1, y.1, col=\"lightblue\")\n",
    "  \n",
    "  \n",
    "  lines(c(-z,-z), c(0, dnorm(-z)), lty=2)\n",
    "  \n",
    "  text(-2.2, 0.2, \"P-value\")\n",
    "  \n",
    "  \n",
    "  return (z)\n",
    "}"
   ]
  },
  {
   "cell_type": "code",
   "execution_count": null,
   "metadata": {
    "collapsed": false
   },
   "outputs": [],
   "source": [
    "plot.hyptest.lt.p()"
   ]
  },
  {
   "cell_type": "code",
   "execution_count": null,
   "metadata": {
    "collapsed": true
   },
   "outputs": [],
   "source": [
    "plot.hyptest.rt.p <- function (conf = 85) {\n",
    "  alpha <- 1 - conf/100\n",
    "  z <- qnorm(1 - alpha)\n",
    "  print(z, digits=4)\n",
    "  \n",
    "  f1 <- curve(dnorm(x), from=-3, to=3, \n",
    "              xaxt=\"n\", yaxt=\"n\", ylim=c(0, 0.6),\n",
    "              xlab = \"z\",\n",
    "              main = \"\")\n",
    "  \n",
    "  # title(expression(paste(\"Confidence = (1-\", alpha, \")\")))\n",
    "  \n",
    "  axis(side=1, at=c(0, z), las=0,\n",
    "       labels=c(0, expression(z[0])))\n",
    "  \n",
    "  # polygon(f1$x, f1$y, col=\"lightblue\")\n",
    "  \n",
    "  x.2 <- seq(3, z, by = -0.05)\n",
    "  y.2 <- dnorm(x.2)\n",
    "  \n",
    "  x.2 <- c(x.2, z, z)\n",
    "  y.2 <- c(y.2, dnorm(z), dnorm(3))\n",
    "  \n",
    "  polygon(x.2, y.2, col=\"lightblue\")\n",
    "  \n",
    "  lines(c(z,z), c(0, dnorm(z)), lty=2)\n",
    "  \n",
    "  text(2.3, 0.15, \"P-value\")\n",
    "  \n",
    "  \n",
    "  return (z)\n",
    "}"
   ]
  },
  {
   "cell_type": "code",
   "execution_count": null,
   "metadata": {
    "collapsed": false
   },
   "outputs": [],
   "source": [
    "plot.hyptest.rt.p()"
   ]
  },
  {
   "cell_type": "markdown",
   "metadata": {},
   "source": [
    "### 4.2. The replicate Function"
   ]
  },
  {
   "cell_type": "code",
   "execution_count": null,
   "metadata": {
    "collapsed": true
   },
   "outputs": [],
   "source": [
    "set.seed(100)"
   ]
  },
  {
   "cell_type": "code",
   "execution_count": null,
   "metadata": {
    "collapsed": false
   },
   "outputs": [],
   "source": [
    "x <- 1:5\n",
    "\n",
    "sample(x, replace = TRUE)"
   ]
  },
  {
   "cell_type": "code",
   "execution_count": null,
   "metadata": {
    "collapsed": false
   },
   "outputs": [],
   "source": [
    "sample(x, replace = TRUE)"
   ]
  },
  {
   "cell_type": "code",
   "execution_count": null,
   "metadata": {
    "collapsed": false
   },
   "outputs": [],
   "source": [
    "replicate(10, sample(x, replace = TRUE))"
   ]
  },
  {
   "cell_type": "code",
   "execution_count": null,
   "metadata": {
    "collapsed": false
   },
   "outputs": [],
   "source": [
    "y <- replicate(10, sample(x, replace = TRUE),\n",
    "               simplify = FALSE)\n",
    "y"
   ]
  },
  {
   "cell_type": "code",
   "execution_count": null,
   "metadata": {
    "collapsed": false
   },
   "outputs": [],
   "source": [
    "sapply(y, mean, simplify = TRUE)"
   ]
  },
  {
   "cell_type": "markdown",
   "metadata": {},
   "source": [
    "### 4.3. Bootstrap Distribution—Standard Error of the Mean"
   ]
  },
  {
   "cell_type": "code",
   "execution_count": null,
   "metadata": {
    "collapsed": true
   },
   "outputs": [],
   "source": [
    "set.seed(120)"
   ]
  },
  {
   "cell_type": "code",
   "execution_count": null,
   "metadata": {
    "collapsed": false
   },
   "outputs": [],
   "source": [
    "pop.mean <- 60\n",
    "pop.sd <- 10\n",
    "\n",
    "sample.size <- 30\n",
    "\n",
    "x <- rnorm(sample.size, mean = pop.mean, sd = pop.sd)\n",
    "x <- as.integer(x)\n",
    "x"
   ]
  },
  {
   "cell_type": "code",
   "execution_count": null,
   "metadata": {
    "collapsed": false
   },
   "outputs": [],
   "source": [
    "resamples.1 <- replicate(1000, \n",
    "                         sample(x, replace = TRUE),\n",
    "                         simplify = FALSE)\n",
    "\n",
    "head(resamples.1, n = 2)"
   ]
  },
  {
   "cell_type": "code",
   "execution_count": null,
   "metadata": {
    "collapsed": false
   },
   "outputs": [],
   "source": [
    "xbar.star <- sapply(resamples.1, mean, simplify = TRUE)\n",
    "\n",
    "length(xbar.star)"
   ]
  },
  {
   "cell_type": "code",
   "execution_count": null,
   "metadata": {
    "collapsed": false
   },
   "outputs": [],
   "source": [
    "head(xbar.star, n = 6)"
   ]
  },
  {
   "cell_type": "code",
   "execution_count": null,
   "metadata": {
    "collapsed": false
   },
   "outputs": [],
   "source": [
    "hist(xbar.star, breaks=40, prob = TRUE, \n",
    "     xlim=c(50,70), ylim=c(0, 0.3))"
   ]
  },
  {
   "cell_type": "code",
   "execution_count": null,
   "metadata": {
    "collapsed": false
   },
   "outputs": [],
   "source": [
    "sd.sample.means <- pop.sd/sqrt(sample.size)\n",
    "sd.sample.means"
   ]
  },
  {
   "cell_type": "code",
   "execution_count": null,
   "metadata": {
    "collapsed": false
   },
   "outputs": [],
   "source": [
    "hist(xbar.star, breaks=40, prob = TRUE, \n",
    "     xlim=c(50,70), ylim=c(0, 0.3))\n",
    "curve(dnorm(x, mean = pop.mean, sd = sd.sample.means), \n",
    "      from = 50, to = 70, add = TRUE)"
   ]
  },
  {
   "cell_type": "code",
   "execution_count": null,
   "metadata": {
    "collapsed": false
   },
   "outputs": [],
   "source": [
    "mean(xbar.star)"
   ]
  },
  {
   "cell_type": "code",
   "execution_count": null,
   "metadata": {
    "collapsed": false
   },
   "outputs": [],
   "source": [
    "mean(x)"
   ]
  },
  {
   "cell_type": "code",
   "execution_count": null,
   "metadata": {
    "collapsed": false
   },
   "outputs": [],
   "source": [
    "mean(xbar.star) - mean(x)"
   ]
  },
  {
   "cell_type": "code",
   "execution_count": null,
   "metadata": {
    "collapsed": false
   },
   "outputs": [],
   "source": [
    "sd(xbar.star)"
   ]
  },
  {
   "cell_type": "code",
   "execution_count": null,
   "metadata": {
    "collapsed": false
   },
   "outputs": [],
   "source": [
    "sd.sample.means"
   ]
  },
  {
   "cell_type": "code",
   "execution_count": null,
   "metadata": {
    "collapsed": true
   },
   "outputs": [],
   "source": [
    "#\n",
    "\n",
    "library(boot)"
   ]
  },
  {
   "cell_type": "code",
   "execution_count": null,
   "metadata": {
    "collapsed": true
   },
   "outputs": [],
   "source": [
    "set.seed(120)"
   ]
  },
  {
   "cell_type": "code",
   "execution_count": null,
   "metadata": {
    "collapsed": false
   },
   "outputs": [],
   "source": [
    "samplemean <- function(x, indices) { \n",
    "  return (mean(x[indices]))\n",
    "}\n",
    "boot(data = x, statistic = samplemean, R = 1000)"
   ]
  },
  {
   "cell_type": "markdown",
   "metadata": {},
   "source": [
    "### 4.4. Bootstrap Distribution—Standard Error of the Median"
   ]
  },
  {
   "cell_type": "code",
   "execution_count": null,
   "metadata": {
    "collapsed": true
   },
   "outputs": [],
   "source": [
    "set.seed(120)"
   ]
  },
  {
   "cell_type": "code",
   "execution_count": null,
   "metadata": {
    "collapsed": false
   },
   "outputs": [],
   "source": [
    "length(rivers)"
   ]
  },
  {
   "cell_type": "code",
   "execution_count": null,
   "metadata": {
    "collapsed": false
   },
   "outputs": [],
   "source": [
    "hist(rivers, breaks = 20)"
   ]
  },
  {
   "cell_type": "code",
   "execution_count": null,
   "metadata": {
    "collapsed": false
   },
   "outputs": [],
   "source": [
    "mean(rivers)"
   ]
  },
  {
   "cell_type": "code",
   "execution_count": null,
   "metadata": {
    "collapsed": false
   },
   "outputs": [],
   "source": [
    "median(rivers)"
   ]
  },
  {
   "cell_type": "code",
   "execution_count": null,
   "metadata": {
    "collapsed": false
   },
   "outputs": [],
   "source": [
    "resamples.2 <- replicate(1000, \n",
    "                         sample(rivers, replace = TRUE),\n",
    "                         simplify = FALSE)\n",
    "\n",
    "medians.star <- sapply(resamples.2, median, \n",
    "                       simplify = TRUE)\n",
    "\n",
    "length(medians.star)"
   ]
  },
  {
   "cell_type": "code",
   "execution_count": null,
   "metadata": {
    "collapsed": false
   },
   "outputs": [],
   "source": [
    "hist(medians.star, breaks=30, prob = TRUE)"
   ]
  },
  {
   "cell_type": "code",
   "execution_count": null,
   "metadata": {
    "collapsed": false
   },
   "outputs": [],
   "source": [
    "median(rivers)"
   ]
  },
  {
   "cell_type": "code",
   "execution_count": null,
   "metadata": {
    "collapsed": false
   },
   "outputs": [],
   "source": [
    "mean(medians.star)"
   ]
  },
  {
   "cell_type": "code",
   "execution_count": null,
   "metadata": {
    "collapsed": false
   },
   "outputs": [],
   "source": [
    "mean(medians.star) - median(rivers)"
   ]
  },
  {
   "cell_type": "code",
   "execution_count": null,
   "metadata": {
    "collapsed": false
   },
   "outputs": [],
   "source": [
    "sd(medians.star)"
   ]
  },
  {
   "cell_type": "code",
   "execution_count": null,
   "metadata": {
    "collapsed": false
   },
   "outputs": [],
   "source": [
    "set.seed(120)\n",
    "\n",
    "samplemedian <- function(x, indices) { \n",
    "  return (median(x[indices]))\n",
    "}\n",
    "\n",
    "\n",
    "boot(data = rivers, \n",
    "     statistic = samplemedian, R = 1000)"
   ]
  },
  {
   "cell_type": "markdown",
   "metadata": {},
   "source": [
    "### 4.5. Bootstrap Confidence Intervals"
   ]
  },
  {
   "cell_type": "code",
   "execution_count": null,
   "metadata": {
    "collapsed": false
   },
   "outputs": [],
   "source": [
    "quantile(medians.star, c(0.025, 0.975))"
   ]
  },
  {
   "cell_type": "code",
   "execution_count": null,
   "metadata": {
    "collapsed": false
   },
   "outputs": [],
   "source": [
    "set.seed(120)\n",
    "\n",
    "samplemedian <- function(x, indices) { \n",
    "  return (median(x[indices]))\n",
    "}\n",
    "\n",
    "boot.data <- boot(data = rivers, \n",
    "                  statistic = samplemedian, R = 1000)\n",
    "\n",
    "boot.ci(boot.data, conf = 0.95, type=\"perc\")"
   ]
  },
  {
   "cell_type": "code",
   "execution_count": null,
   "metadata": {
    "collapsed": true
   },
   "outputs": [],
   "source": []
  }
 ],
 "metadata": {
  "anaconda-cloud": {},
  "kernelspec": {
   "display_name": "R",
   "language": "R",
   "name": "ir"
  },
  "language_info": {
   "codemirror_mode": "r",
   "file_extension": ".r",
   "mimetype": "text/x-r-source",
   "name": "R",
   "pygments_lexer": "r",
   "version": "3.3.1"
  }
 },
 "nbformat": 4,
 "nbformat_minor": 1
}
